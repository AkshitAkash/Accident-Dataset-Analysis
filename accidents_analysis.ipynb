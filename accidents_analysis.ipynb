{
  "cells": [
    {
      "cell_type": "code",
      "execution_count": 60,
      "metadata": {
        "colab": {
          "base_uri": "https://localhost:8080/"
        },
        "id": "BSzeNfFfEJ4f",
        "outputId": "a07626ba-0009-46b5-8ec0-efc3b6c5131a"
      },
      "outputs": [
        {
          "output_type": "stream",
          "name": "stdout",
          "text": [
            "\u001b[?25l\r\u001b[K     |████▊                           | 10 kB 17.3 MB/s eta 0:00:01\r\u001b[K     |█████████▌                      | 20 kB 12.9 MB/s eta 0:00:01\r\u001b[K     |██████████████▎                 | 30 kB 9.3 MB/s eta 0:00:01\r\u001b[K     |███████████████████             | 40 kB 8.0 MB/s eta 0:00:01\r\u001b[K     |███████████████████████▉        | 51 kB 5.4 MB/s eta 0:00:01\r\u001b[K     |████████████████████████████▋   | 61 kB 5.5 MB/s eta 0:00:01\r\u001b[K     |████████████████████████████████| 68 kB 2.8 MB/s \n",
            "\u001b[?25h  Building wheel for uuid (setup.py) ... \u001b[?25l\u001b[?25hdone\n"
          ]
        }
      ],
      "source": [
        "# Jovian Commit Essentials\n",
        "# Please retain and execute this cell without modifying the contents for `jovian.commit` to work\n",
        "!pip install jovian --upgrade -q\n",
        "import jovian\n",
        "jovian.set_project('us-accidents-analysis')\n",
        "jovian.set_colab_id('13cLlJ5eQ0be7kGpJ2tdbZ7RZgvLzrkPl')"
      ]
    },
    {
      "cell_type": "markdown",
      "metadata": {
        "id": "tGMSC_7pEJ4n"
      },
      "source": [
        "# us-accidents-analysis\n",
        "\n",
        "Use the \"Run\" button to execute the code."
      ]
    },
    {
      "cell_type": "code",
      "execution_count": 61,
      "metadata": {
        "id": "IdHAe92nEJ4r"
      },
      "outputs": [],
      "source": [
        "!pip install jovian --upgrade --quiet"
      ]
    },
    {
      "cell_type": "code",
      "execution_count": 62,
      "metadata": {
        "id": "iMlN9PEJEJ4s"
      },
      "outputs": [],
      "source": [
        "import jovian"
      ]
    },
    {
      "cell_type": "code",
      "execution_count": 63,
      "metadata": {
        "colab": {
          "base_uri": "https://localhost:8080/",
          "height": 122
        },
        "id": "r4WWlJ6uEJ4t",
        "outputId": "5742df91-b2db-414e-9687-277f1ad988b4"
      },
      "outputs": [
        {
          "output_type": "stream",
          "name": "stdout",
          "text": [
            "[jovian] Detected Colab notebook...\u001b[0m\n",
            "[jovian] Please enter your API key ( from https://jovian.ai/ ):\u001b[0m\n",
            "API KEY: ··········\n",
            "[jovian] Uploading colab notebook to Jovian...\u001b[0m\n",
            "Committed successfully! https://jovian.ai/akshitakash/us-accidents-analysis\n"
          ]
        },
        {
          "output_type": "execute_result",
          "data": {
            "application/vnd.google.colaboratory.intrinsic+json": {
              "type": "string"
            },
            "text/plain": [
              "'https://jovian.ai/akshitakash/us-accidents-analysis'"
            ]
          },
          "metadata": {},
          "execution_count": 63
        }
      ],
      "source": [
        "# Execute this to save new versions of the notebook\n",
        "jovian.commit(project=\"us-accidents-analysis\")"
      ]
    },
    {
      "cell_type": "code",
      "execution_count": null,
      "metadata": {
        "id": "vH130eImEJ4v"
      },
      "outputs": [],
      "source": [
        ""
      ]
    },
    {
      "cell_type": "markdown",
      "source": [
        "#US accidents Exploratory Data Analysis\n",
        "###Download the dataset "
      ],
      "metadata": {
        "id": "gb-Rx2GXF_zl"
      }
    },
    {
      "cell_type": "code",
      "source": [
        "pip install opendatasets --upgrade --quiet"
      ],
      "metadata": {
        "id": "tQCveXkUGTnG"
      },
      "execution_count": 1,
      "outputs": []
    },
    {
      "cell_type": "code",
      "source": [
        "import opendatasets as od\n",
        "\n",
        "download_url = 'https://www.kaggle.com/sobhanmoosavi/us-accidents'\n",
        "\n",
        "od.download(download_url)"
      ],
      "metadata": {
        "colab": {
          "base_uri": "https://localhost:8080/"
        },
        "id": "3H9lIO_VGTjy",
        "outputId": "8c9501f6-8f12-4730-c80f-19ad454c91c8"
      },
      "execution_count": 2,
      "outputs": [
        {
          "output_type": "stream",
          "name": "stdout",
          "text": [
            "Please provide your Kaggle credentials to download this dataset. Learn more: http://bit.ly/kaggle-creds\n",
            "Your Kaggle username: akshitakash\n",
            "Your Kaggle Key: ··········\n",
            "Downloading us-accidents.zip to ./us-accidents\n"
          ]
        },
        {
          "output_type": "stream",
          "name": "stderr",
          "text": [
            "100%|██████████| 117M/117M [00:00<00:00, 175MB/s]\n"
          ]
        },
        {
          "output_type": "stream",
          "name": "stdout",
          "text": [
            "\n"
          ]
        }
      ]
    },
    {
      "cell_type": "code",
      "source": [
        "data_filename = './us-accidents/US_Accidents_Dec20_updated.csv'"
      ],
      "metadata": {
        "id": "qBuWUSPbGTct"
      },
      "execution_count": 3,
      "outputs": []
    },
    {
      "cell_type": "code",
      "source": [
        ""
      ],
      "metadata": {
        "id": "xL5lclQUGc-q"
      },
      "execution_count": 3,
      "outputs": []
    },
    {
      "cell_type": "markdown",
      "source": [
        "##Data Preparation and Cleaning\n",
        "- loading file using pandas\n",
        "- we look at some information about the data\n",
        "- fix any missing or incorrect values"
      ],
      "metadata": {
        "id": "AlwfKfcYGeHN"
      }
    },
    {
      "cell_type": "markdown",
      "source": [
        ""
      ],
      "metadata": {
        "id": "9VylFMR5rWJl"
      }
    },
    {
      "cell_type": "markdown",
      "source": [
        "##Importing Required Libraries"
      ],
      "metadata": {
        "id": "-eZfN4FJqzzL"
      }
    },
    {
      "cell_type": "code",
      "source": [
        "import pandas as pd\n",
        "import numpy as np\n",
        "import matplotlib.pyplot as plt\n",
        "import seaborn as sns\n",
        "import missingno as mn\n",
        "import plotly.graph_objects as go"
      ],
      "metadata": {
        "id": "852iRr2oGsK1"
      },
      "execution_count": 48,
      "outputs": []
    },
    {
      "cell_type": "markdown",
      "source": [
        "##Data Handeling\n",
        "###Loading Dataset into Pandas Dataframe"
      ],
      "metadata": {
        "id": "gWNPaea8rOBa"
      }
    },
    {
      "cell_type": "code",
      "source": [
        "df = pd.read_csv(data_filename)"
      ],
      "metadata": {
        "id": "RuGmqcgqGyg5"
      },
      "execution_count": 5,
      "outputs": []
    },
    {
      "cell_type": "code",
      "source": [
        "df"
      ],
      "metadata": {
        "colab": {
          "base_uri": "https://localhost:8080/",
          "height": 939
        },
        "id": "rTqaSHXsGscE",
        "outputId": "5c79fefa-4b92-4b49-f27b-d2fbf882d1c2"
      },
      "execution_count": 6,
      "outputs": [
        {
          "output_type": "execute_result",
          "data": {
            "text/html": [
              "\n",
              "  <div id=\"df-794f2be9-02f8-4b4f-9230-854cca23b162\">\n",
              "    <div class=\"colab-df-container\">\n",
              "      <div>\n",
              "<style scoped>\n",
              "    .dataframe tbody tr th:only-of-type {\n",
              "        vertical-align: middle;\n",
              "    }\n",
              "\n",
              "    .dataframe tbody tr th {\n",
              "        vertical-align: top;\n",
              "    }\n",
              "\n",
              "    .dataframe thead th {\n",
              "        text-align: right;\n",
              "    }\n",
              "</style>\n",
              "<table border=\"1\" class=\"dataframe\">\n",
              "  <thead>\n",
              "    <tr style=\"text-align: right;\">\n",
              "      <th></th>\n",
              "      <th>ID</th>\n",
              "      <th>Severity</th>\n",
              "      <th>Start_Time</th>\n",
              "      <th>End_Time</th>\n",
              "      <th>Start_Lat</th>\n",
              "      <th>Start_Lng</th>\n",
              "      <th>End_Lat</th>\n",
              "      <th>End_Lng</th>\n",
              "      <th>Distance(mi)</th>\n",
              "      <th>Description</th>\n",
              "      <th>Number</th>\n",
              "      <th>Street</th>\n",
              "      <th>Side</th>\n",
              "      <th>City</th>\n",
              "      <th>County</th>\n",
              "      <th>State</th>\n",
              "      <th>Zipcode</th>\n",
              "      <th>Country</th>\n",
              "      <th>Timezone</th>\n",
              "      <th>Airport_Code</th>\n",
              "      <th>Weather_Timestamp</th>\n",
              "      <th>Temperature(F)</th>\n",
              "      <th>Wind_Chill(F)</th>\n",
              "      <th>Humidity(%)</th>\n",
              "      <th>Pressure(in)</th>\n",
              "      <th>Visibility(mi)</th>\n",
              "      <th>Wind_Direction</th>\n",
              "      <th>Wind_Speed(mph)</th>\n",
              "      <th>Precipitation(in)</th>\n",
              "      <th>Weather_Condition</th>\n",
              "      <th>Amenity</th>\n",
              "      <th>Bump</th>\n",
              "      <th>Crossing</th>\n",
              "      <th>Give_Way</th>\n",
              "      <th>Junction</th>\n",
              "      <th>No_Exit</th>\n",
              "      <th>Railway</th>\n",
              "      <th>Roundabout</th>\n",
              "      <th>Station</th>\n",
              "      <th>Stop</th>\n",
              "      <th>Traffic_Calming</th>\n",
              "      <th>Traffic_Signal</th>\n",
              "      <th>Turning_Loop</th>\n",
              "      <th>Sunrise_Sunset</th>\n",
              "      <th>Civil_Twilight</th>\n",
              "      <th>Nautical_Twilight</th>\n",
              "      <th>Astronomical_Twilight</th>\n",
              "    </tr>\n",
              "  </thead>\n",
              "  <tbody>\n",
              "    <tr>\n",
              "      <th>0</th>\n",
              "      <td>A-2716600</td>\n",
              "      <td>3</td>\n",
              "      <td>2016-02-08 00:37:08</td>\n",
              "      <td>2016-02-08 06:37:08</td>\n",
              "      <td>40.10891</td>\n",
              "      <td>-83.09286</td>\n",
              "      <td>40.11206</td>\n",
              "      <td>-83.03187</td>\n",
              "      <td>3.230</td>\n",
              "      <td>Between Sawmill Rd/Exit 20 and OH-315/Olentang...</td>\n",
              "      <td>NaN</td>\n",
              "      <td>Outerbelt E</td>\n",
              "      <td>R</td>\n",
              "      <td>Dublin</td>\n",
              "      <td>Franklin</td>\n",
              "      <td>OH</td>\n",
              "      <td>43017</td>\n",
              "      <td>US</td>\n",
              "      <td>US/Eastern</td>\n",
              "      <td>KOSU</td>\n",
              "      <td>2016-02-08 00:53:00</td>\n",
              "      <td>42.1</td>\n",
              "      <td>36.1</td>\n",
              "      <td>58.0</td>\n",
              "      <td>29.76</td>\n",
              "      <td>10.0</td>\n",
              "      <td>SW</td>\n",
              "      <td>10.4</td>\n",
              "      <td>0.00</td>\n",
              "      <td>Light Rain</td>\n",
              "      <td>False</td>\n",
              "      <td>False</td>\n",
              "      <td>False</td>\n",
              "      <td>False</td>\n",
              "      <td>False</td>\n",
              "      <td>False</td>\n",
              "      <td>False</td>\n",
              "      <td>False</td>\n",
              "      <td>False</td>\n",
              "      <td>False</td>\n",
              "      <td>False</td>\n",
              "      <td>False</td>\n",
              "      <td>False</td>\n",
              "      <td>Night</td>\n",
              "      <td>Night</td>\n",
              "      <td>Night</td>\n",
              "      <td>Night</td>\n",
              "    </tr>\n",
              "    <tr>\n",
              "      <th>1</th>\n",
              "      <td>A-2716601</td>\n",
              "      <td>2</td>\n",
              "      <td>2016-02-08 05:56:20</td>\n",
              "      <td>2016-02-08 11:56:20</td>\n",
              "      <td>39.86542</td>\n",
              "      <td>-84.06280</td>\n",
              "      <td>39.86501</td>\n",
              "      <td>-84.04873</td>\n",
              "      <td>0.747</td>\n",
              "      <td>At OH-4/OH-235/Exit 41 - Accident.</td>\n",
              "      <td>NaN</td>\n",
              "      <td>I-70 E</td>\n",
              "      <td>R</td>\n",
              "      <td>Dayton</td>\n",
              "      <td>Montgomery</td>\n",
              "      <td>OH</td>\n",
              "      <td>45424</td>\n",
              "      <td>US</td>\n",
              "      <td>US/Eastern</td>\n",
              "      <td>KFFO</td>\n",
              "      <td>2016-02-08 05:58:00</td>\n",
              "      <td>36.9</td>\n",
              "      <td>NaN</td>\n",
              "      <td>91.0</td>\n",
              "      <td>29.68</td>\n",
              "      <td>10.0</td>\n",
              "      <td>Calm</td>\n",
              "      <td>NaN</td>\n",
              "      <td>0.02</td>\n",
              "      <td>Light Rain</td>\n",
              "      <td>False</td>\n",
              "      <td>False</td>\n",
              "      <td>False</td>\n",
              "      <td>False</td>\n",
              "      <td>False</td>\n",
              "      <td>False</td>\n",
              "      <td>False</td>\n",
              "      <td>False</td>\n",
              "      <td>False</td>\n",
              "      <td>False</td>\n",
              "      <td>False</td>\n",
              "      <td>False</td>\n",
              "      <td>False</td>\n",
              "      <td>Night</td>\n",
              "      <td>Night</td>\n",
              "      <td>Night</td>\n",
              "      <td>Night</td>\n",
              "    </tr>\n",
              "    <tr>\n",
              "      <th>2</th>\n",
              "      <td>A-2716602</td>\n",
              "      <td>2</td>\n",
              "      <td>2016-02-08 06:15:39</td>\n",
              "      <td>2016-02-08 12:15:39</td>\n",
              "      <td>39.10266</td>\n",
              "      <td>-84.52468</td>\n",
              "      <td>39.10209</td>\n",
              "      <td>-84.52396</td>\n",
              "      <td>0.055</td>\n",
              "      <td>At I-71/US-50/Exit 1 - Accident.</td>\n",
              "      <td>NaN</td>\n",
              "      <td>I-75 S</td>\n",
              "      <td>R</td>\n",
              "      <td>Cincinnati</td>\n",
              "      <td>Hamilton</td>\n",
              "      <td>OH</td>\n",
              "      <td>45203</td>\n",
              "      <td>US</td>\n",
              "      <td>US/Eastern</td>\n",
              "      <td>KLUK</td>\n",
              "      <td>2016-02-08 05:53:00</td>\n",
              "      <td>36.0</td>\n",
              "      <td>NaN</td>\n",
              "      <td>97.0</td>\n",
              "      <td>29.70</td>\n",
              "      <td>10.0</td>\n",
              "      <td>Calm</td>\n",
              "      <td>NaN</td>\n",
              "      <td>0.02</td>\n",
              "      <td>Overcast</td>\n",
              "      <td>False</td>\n",
              "      <td>False</td>\n",
              "      <td>False</td>\n",
              "      <td>False</td>\n",
              "      <td>True</td>\n",
              "      <td>False</td>\n",
              "      <td>False</td>\n",
              "      <td>False</td>\n",
              "      <td>False</td>\n",
              "      <td>False</td>\n",
              "      <td>False</td>\n",
              "      <td>False</td>\n",
              "      <td>False</td>\n",
              "      <td>Night</td>\n",
              "      <td>Night</td>\n",
              "      <td>Night</td>\n",
              "      <td>Day</td>\n",
              "    </tr>\n",
              "    <tr>\n",
              "      <th>3</th>\n",
              "      <td>A-2716603</td>\n",
              "      <td>2</td>\n",
              "      <td>2016-02-08 06:15:39</td>\n",
              "      <td>2016-02-08 12:15:39</td>\n",
              "      <td>39.10148</td>\n",
              "      <td>-84.52341</td>\n",
              "      <td>39.09841</td>\n",
              "      <td>-84.52241</td>\n",
              "      <td>0.219</td>\n",
              "      <td>At I-71/US-50/Exit 1 - Accident.</td>\n",
              "      <td>NaN</td>\n",
              "      <td>US-50 E</td>\n",
              "      <td>R</td>\n",
              "      <td>Cincinnati</td>\n",
              "      <td>Hamilton</td>\n",
              "      <td>OH</td>\n",
              "      <td>45202</td>\n",
              "      <td>US</td>\n",
              "      <td>US/Eastern</td>\n",
              "      <td>KLUK</td>\n",
              "      <td>2016-02-08 05:53:00</td>\n",
              "      <td>36.0</td>\n",
              "      <td>NaN</td>\n",
              "      <td>97.0</td>\n",
              "      <td>29.70</td>\n",
              "      <td>10.0</td>\n",
              "      <td>Calm</td>\n",
              "      <td>NaN</td>\n",
              "      <td>0.02</td>\n",
              "      <td>Overcast</td>\n",
              "      <td>False</td>\n",
              "      <td>False</td>\n",
              "      <td>False</td>\n",
              "      <td>False</td>\n",
              "      <td>True</td>\n",
              "      <td>False</td>\n",
              "      <td>False</td>\n",
              "      <td>False</td>\n",
              "      <td>False</td>\n",
              "      <td>False</td>\n",
              "      <td>False</td>\n",
              "      <td>False</td>\n",
              "      <td>False</td>\n",
              "      <td>Night</td>\n",
              "      <td>Night</td>\n",
              "      <td>Night</td>\n",
              "      <td>Day</td>\n",
              "    </tr>\n",
              "    <tr>\n",
              "      <th>4</th>\n",
              "      <td>A-2716604</td>\n",
              "      <td>2</td>\n",
              "      <td>2016-02-08 06:51:45</td>\n",
              "      <td>2016-02-08 12:51:45</td>\n",
              "      <td>41.06213</td>\n",
              "      <td>-81.53784</td>\n",
              "      <td>41.06217</td>\n",
              "      <td>-81.53547</td>\n",
              "      <td>0.123</td>\n",
              "      <td>At Dart Ave/Exit 21 - Accident.</td>\n",
              "      <td>NaN</td>\n",
              "      <td>I-77 N</td>\n",
              "      <td>R</td>\n",
              "      <td>Akron</td>\n",
              "      <td>Summit</td>\n",
              "      <td>OH</td>\n",
              "      <td>44311</td>\n",
              "      <td>US</td>\n",
              "      <td>US/Eastern</td>\n",
              "      <td>KAKR</td>\n",
              "      <td>2016-02-08 06:54:00</td>\n",
              "      <td>39.0</td>\n",
              "      <td>NaN</td>\n",
              "      <td>55.0</td>\n",
              "      <td>29.65</td>\n",
              "      <td>10.0</td>\n",
              "      <td>Calm</td>\n",
              "      <td>NaN</td>\n",
              "      <td>NaN</td>\n",
              "      <td>Overcast</td>\n",
              "      <td>False</td>\n",
              "      <td>False</td>\n",
              "      <td>False</td>\n",
              "      <td>False</td>\n",
              "      <td>False</td>\n",
              "      <td>False</td>\n",
              "      <td>False</td>\n",
              "      <td>False</td>\n",
              "      <td>False</td>\n",
              "      <td>False</td>\n",
              "      <td>False</td>\n",
              "      <td>False</td>\n",
              "      <td>False</td>\n",
              "      <td>Night</td>\n",
              "      <td>Night</td>\n",
              "      <td>Day</td>\n",
              "      <td>Day</td>\n",
              "    </tr>\n",
              "    <tr>\n",
              "      <th>...</th>\n",
              "      <td>...</td>\n",
              "      <td>...</td>\n",
              "      <td>...</td>\n",
              "      <td>...</td>\n",
              "      <td>...</td>\n",
              "      <td>...</td>\n",
              "      <td>...</td>\n",
              "      <td>...</td>\n",
              "      <td>...</td>\n",
              "      <td>...</td>\n",
              "      <td>...</td>\n",
              "      <td>...</td>\n",
              "      <td>...</td>\n",
              "      <td>...</td>\n",
              "      <td>...</td>\n",
              "      <td>...</td>\n",
              "      <td>...</td>\n",
              "      <td>...</td>\n",
              "      <td>...</td>\n",
              "      <td>...</td>\n",
              "      <td>...</td>\n",
              "      <td>...</td>\n",
              "      <td>...</td>\n",
              "      <td>...</td>\n",
              "      <td>...</td>\n",
              "      <td>...</td>\n",
              "      <td>...</td>\n",
              "      <td>...</td>\n",
              "      <td>...</td>\n",
              "      <td>...</td>\n",
              "      <td>...</td>\n",
              "      <td>...</td>\n",
              "      <td>...</td>\n",
              "      <td>...</td>\n",
              "      <td>...</td>\n",
              "      <td>...</td>\n",
              "      <td>...</td>\n",
              "      <td>...</td>\n",
              "      <td>...</td>\n",
              "      <td>...</td>\n",
              "      <td>...</td>\n",
              "      <td>...</td>\n",
              "      <td>...</td>\n",
              "      <td>...</td>\n",
              "      <td>...</td>\n",
              "      <td>...</td>\n",
              "      <td>...</td>\n",
              "    </tr>\n",
              "    <tr>\n",
              "      <th>1516059</th>\n",
              "      <td>A-4239402</td>\n",
              "      <td>2</td>\n",
              "      <td>2019-08-23 18:03:25</td>\n",
              "      <td>2019-08-23 18:32:01</td>\n",
              "      <td>34.00248</td>\n",
              "      <td>-117.37936</td>\n",
              "      <td>33.99888</td>\n",
              "      <td>-117.37094</td>\n",
              "      <td>0.543</td>\n",
              "      <td>At Market St - Accident.</td>\n",
              "      <td>NaN</td>\n",
              "      <td>Pomona Fwy E</td>\n",
              "      <td>R</td>\n",
              "      <td>Riverside</td>\n",
              "      <td>Riverside</td>\n",
              "      <td>CA</td>\n",
              "      <td>92501</td>\n",
              "      <td>US</td>\n",
              "      <td>US/Pacific</td>\n",
              "      <td>KRAL</td>\n",
              "      <td>2019-08-23 17:53:00</td>\n",
              "      <td>86.0</td>\n",
              "      <td>86.0</td>\n",
              "      <td>40.0</td>\n",
              "      <td>28.92</td>\n",
              "      <td>10.0</td>\n",
              "      <td>W</td>\n",
              "      <td>13.0</td>\n",
              "      <td>0.00</td>\n",
              "      <td>Fair</td>\n",
              "      <td>False</td>\n",
              "      <td>False</td>\n",
              "      <td>False</td>\n",
              "      <td>False</td>\n",
              "      <td>False</td>\n",
              "      <td>False</td>\n",
              "      <td>False</td>\n",
              "      <td>False</td>\n",
              "      <td>False</td>\n",
              "      <td>False</td>\n",
              "      <td>False</td>\n",
              "      <td>False</td>\n",
              "      <td>False</td>\n",
              "      <td>Day</td>\n",
              "      <td>Day</td>\n",
              "      <td>Day</td>\n",
              "      <td>Day</td>\n",
              "    </tr>\n",
              "    <tr>\n",
              "      <th>1516060</th>\n",
              "      <td>A-4239403</td>\n",
              "      <td>2</td>\n",
              "      <td>2019-08-23 19:11:30</td>\n",
              "      <td>2019-08-23 19:38:23</td>\n",
              "      <td>32.76696</td>\n",
              "      <td>-117.14806</td>\n",
              "      <td>32.76555</td>\n",
              "      <td>-117.15363</td>\n",
              "      <td>0.338</td>\n",
              "      <td>At Camino Del Rio/Mission Center Rd - Accident.</td>\n",
              "      <td>NaN</td>\n",
              "      <td>I-8 W</td>\n",
              "      <td>R</td>\n",
              "      <td>San Diego</td>\n",
              "      <td>San Diego</td>\n",
              "      <td>CA</td>\n",
              "      <td>92108</td>\n",
              "      <td>US</td>\n",
              "      <td>US/Pacific</td>\n",
              "      <td>KMYF</td>\n",
              "      <td>2019-08-23 18:53:00</td>\n",
              "      <td>70.0</td>\n",
              "      <td>70.0</td>\n",
              "      <td>73.0</td>\n",
              "      <td>29.39</td>\n",
              "      <td>10.0</td>\n",
              "      <td>SW</td>\n",
              "      <td>6.0</td>\n",
              "      <td>0.00</td>\n",
              "      <td>Fair</td>\n",
              "      <td>False</td>\n",
              "      <td>False</td>\n",
              "      <td>False</td>\n",
              "      <td>False</td>\n",
              "      <td>False</td>\n",
              "      <td>False</td>\n",
              "      <td>False</td>\n",
              "      <td>False</td>\n",
              "      <td>False</td>\n",
              "      <td>False</td>\n",
              "      <td>False</td>\n",
              "      <td>False</td>\n",
              "      <td>False</td>\n",
              "      <td>Day</td>\n",
              "      <td>Day</td>\n",
              "      <td>Day</td>\n",
              "      <td>Day</td>\n",
              "    </tr>\n",
              "    <tr>\n",
              "      <th>1516061</th>\n",
              "      <td>A-4239404</td>\n",
              "      <td>2</td>\n",
              "      <td>2019-08-23 19:00:21</td>\n",
              "      <td>2019-08-23 19:28:49</td>\n",
              "      <td>33.77545</td>\n",
              "      <td>-117.84779</td>\n",
              "      <td>33.77740</td>\n",
              "      <td>-117.85727</td>\n",
              "      <td>0.561</td>\n",
              "      <td>At Glassell St/Grand Ave - Accident. in the ri...</td>\n",
              "      <td>NaN</td>\n",
              "      <td>Garden Grove Fwy</td>\n",
              "      <td>R</td>\n",
              "      <td>Orange</td>\n",
              "      <td>Orange</td>\n",
              "      <td>CA</td>\n",
              "      <td>92866</td>\n",
              "      <td>US</td>\n",
              "      <td>US/Pacific</td>\n",
              "      <td>KSNA</td>\n",
              "      <td>2019-08-23 18:53:00</td>\n",
              "      <td>73.0</td>\n",
              "      <td>73.0</td>\n",
              "      <td>64.0</td>\n",
              "      <td>29.74</td>\n",
              "      <td>10.0</td>\n",
              "      <td>SSW</td>\n",
              "      <td>10.0</td>\n",
              "      <td>0.00</td>\n",
              "      <td>Partly Cloudy</td>\n",
              "      <td>False</td>\n",
              "      <td>False</td>\n",
              "      <td>False</td>\n",
              "      <td>False</td>\n",
              "      <td>True</td>\n",
              "      <td>False</td>\n",
              "      <td>False</td>\n",
              "      <td>False</td>\n",
              "      <td>False</td>\n",
              "      <td>False</td>\n",
              "      <td>False</td>\n",
              "      <td>False</td>\n",
              "      <td>False</td>\n",
              "      <td>Day</td>\n",
              "      <td>Day</td>\n",
              "      <td>Day</td>\n",
              "      <td>Day</td>\n",
              "    </tr>\n",
              "    <tr>\n",
              "      <th>1516062</th>\n",
              "      <td>A-4239405</td>\n",
              "      <td>2</td>\n",
              "      <td>2019-08-23 19:00:21</td>\n",
              "      <td>2019-08-23 19:29:42</td>\n",
              "      <td>33.99246</td>\n",
              "      <td>-118.40302</td>\n",
              "      <td>33.98311</td>\n",
              "      <td>-118.39565</td>\n",
              "      <td>0.772</td>\n",
              "      <td>At CA-90/Marina Fwy/Jefferson Blvd - Accident.</td>\n",
              "      <td>NaN</td>\n",
              "      <td>San Diego Fwy S</td>\n",
              "      <td>R</td>\n",
              "      <td>Culver City</td>\n",
              "      <td>Los Angeles</td>\n",
              "      <td>CA</td>\n",
              "      <td>90230</td>\n",
              "      <td>US</td>\n",
              "      <td>US/Pacific</td>\n",
              "      <td>KSMO</td>\n",
              "      <td>2019-08-23 18:51:00</td>\n",
              "      <td>71.0</td>\n",
              "      <td>71.0</td>\n",
              "      <td>81.0</td>\n",
              "      <td>29.62</td>\n",
              "      <td>10.0</td>\n",
              "      <td>SW</td>\n",
              "      <td>8.0</td>\n",
              "      <td>0.00</td>\n",
              "      <td>Fair</td>\n",
              "      <td>False</td>\n",
              "      <td>False</td>\n",
              "      <td>False</td>\n",
              "      <td>False</td>\n",
              "      <td>False</td>\n",
              "      <td>False</td>\n",
              "      <td>False</td>\n",
              "      <td>False</td>\n",
              "      <td>False</td>\n",
              "      <td>False</td>\n",
              "      <td>False</td>\n",
              "      <td>False</td>\n",
              "      <td>False</td>\n",
              "      <td>Day</td>\n",
              "      <td>Day</td>\n",
              "      <td>Day</td>\n",
              "      <td>Day</td>\n",
              "    </tr>\n",
              "    <tr>\n",
              "      <th>1516063</th>\n",
              "      <td>A-4239406</td>\n",
              "      <td>2</td>\n",
              "      <td>2019-08-23 18:52:06</td>\n",
              "      <td>2019-08-23 19:21:31</td>\n",
              "      <td>34.13393</td>\n",
              "      <td>-117.23092</td>\n",
              "      <td>34.13736</td>\n",
              "      <td>-117.23934</td>\n",
              "      <td>0.537</td>\n",
              "      <td>At Highland Ave/Arden Ave - Accident.</td>\n",
              "      <td>NaN</td>\n",
              "      <td>CA-210 W</td>\n",
              "      <td>R</td>\n",
              "      <td>Highland</td>\n",
              "      <td>San Bernardino</td>\n",
              "      <td>CA</td>\n",
              "      <td>92346</td>\n",
              "      <td>US</td>\n",
              "      <td>US/Pacific</td>\n",
              "      <td>KSBD</td>\n",
              "      <td>2019-08-23 20:50:00</td>\n",
              "      <td>79.0</td>\n",
              "      <td>79.0</td>\n",
              "      <td>47.0</td>\n",
              "      <td>28.63</td>\n",
              "      <td>7.0</td>\n",
              "      <td>SW</td>\n",
              "      <td>7.0</td>\n",
              "      <td>0.00</td>\n",
              "      <td>Fair</td>\n",
              "      <td>False</td>\n",
              "      <td>False</td>\n",
              "      <td>False</td>\n",
              "      <td>False</td>\n",
              "      <td>False</td>\n",
              "      <td>False</td>\n",
              "      <td>False</td>\n",
              "      <td>False</td>\n",
              "      <td>False</td>\n",
              "      <td>False</td>\n",
              "      <td>False</td>\n",
              "      <td>False</td>\n",
              "      <td>False</td>\n",
              "      <td>Day</td>\n",
              "      <td>Day</td>\n",
              "      <td>Day</td>\n",
              "      <td>Day</td>\n",
              "    </tr>\n",
              "  </tbody>\n",
              "</table>\n",
              "<p>1516064 rows × 47 columns</p>\n",
              "</div>\n",
              "      <button class=\"colab-df-convert\" onclick=\"convertToInteractive('df-794f2be9-02f8-4b4f-9230-854cca23b162')\"\n",
              "              title=\"Convert this dataframe to an interactive table.\"\n",
              "              style=\"display:none;\">\n",
              "        \n",
              "  <svg xmlns=\"http://www.w3.org/2000/svg\" height=\"24px\"viewBox=\"0 0 24 24\"\n",
              "       width=\"24px\">\n",
              "    <path d=\"M0 0h24v24H0V0z\" fill=\"none\"/>\n",
              "    <path d=\"M18.56 5.44l.94 2.06.94-2.06 2.06-.94-2.06-.94-.94-2.06-.94 2.06-2.06.94zm-11 1L8.5 8.5l.94-2.06 2.06-.94-2.06-.94L8.5 2.5l-.94 2.06-2.06.94zm10 10l.94 2.06.94-2.06 2.06-.94-2.06-.94-.94-2.06-.94 2.06-2.06.94z\"/><path d=\"M17.41 7.96l-1.37-1.37c-.4-.4-.92-.59-1.43-.59-.52 0-1.04.2-1.43.59L10.3 9.45l-7.72 7.72c-.78.78-.78 2.05 0 2.83L4 21.41c.39.39.9.59 1.41.59.51 0 1.02-.2 1.41-.59l7.78-7.78 2.81-2.81c.8-.78.8-2.07 0-2.86zM5.41 20L4 18.59l7.72-7.72 1.47 1.35L5.41 20z\"/>\n",
              "  </svg>\n",
              "      </button>\n",
              "      \n",
              "  <style>\n",
              "    .colab-df-container {\n",
              "      display:flex;\n",
              "      flex-wrap:wrap;\n",
              "      gap: 12px;\n",
              "    }\n",
              "\n",
              "    .colab-df-convert {\n",
              "      background-color: #E8F0FE;\n",
              "      border: none;\n",
              "      border-radius: 50%;\n",
              "      cursor: pointer;\n",
              "      display: none;\n",
              "      fill: #1967D2;\n",
              "      height: 32px;\n",
              "      padding: 0 0 0 0;\n",
              "      width: 32px;\n",
              "    }\n",
              "\n",
              "    .colab-df-convert:hover {\n",
              "      background-color: #E2EBFA;\n",
              "      box-shadow: 0px 1px 2px rgba(60, 64, 67, 0.3), 0px 1px 3px 1px rgba(60, 64, 67, 0.15);\n",
              "      fill: #174EA6;\n",
              "    }\n",
              "\n",
              "    [theme=dark] .colab-df-convert {\n",
              "      background-color: #3B4455;\n",
              "      fill: #D2E3FC;\n",
              "    }\n",
              "\n",
              "    [theme=dark] .colab-df-convert:hover {\n",
              "      background-color: #434B5C;\n",
              "      box-shadow: 0px 1px 3px 1px rgba(0, 0, 0, 0.15);\n",
              "      filter: drop-shadow(0px 1px 2px rgba(0, 0, 0, 0.3));\n",
              "      fill: #FFFFFF;\n",
              "    }\n",
              "  </style>\n",
              "\n",
              "      <script>\n",
              "        const buttonEl =\n",
              "          document.querySelector('#df-794f2be9-02f8-4b4f-9230-854cca23b162 button.colab-df-convert');\n",
              "        buttonEl.style.display =\n",
              "          google.colab.kernel.accessAllowed ? 'block' : 'none';\n",
              "\n",
              "        async function convertToInteractive(key) {\n",
              "          const element = document.querySelector('#df-794f2be9-02f8-4b4f-9230-854cca23b162');\n",
              "          const dataTable =\n",
              "            await google.colab.kernel.invokeFunction('convertToInteractive',\n",
              "                                                     [key], {});\n",
              "          if (!dataTable) return;\n",
              "\n",
              "          const docLinkHtml = 'Like what you see? Visit the ' +\n",
              "            '<a target=\"_blank\" href=https://colab.research.google.com/notebooks/data_table.ipynb>data table notebook</a>'\n",
              "            + ' to learn more about interactive tables.';\n",
              "          element.innerHTML = '';\n",
              "          dataTable['output_type'] = 'display_data';\n",
              "          await google.colab.output.renderOutput(dataTable, element);\n",
              "          const docLink = document.createElement('div');\n",
              "          docLink.innerHTML = docLinkHtml;\n",
              "          element.appendChild(docLink);\n",
              "        }\n",
              "      </script>\n",
              "    </div>\n",
              "  </div>\n",
              "  "
            ],
            "text/plain": [
              "                ID  Severity  ... Nautical_Twilight Astronomical_Twilight\n",
              "0        A-2716600         3  ...             Night                 Night\n",
              "1        A-2716601         2  ...             Night                 Night\n",
              "2        A-2716602         2  ...             Night                   Day\n",
              "3        A-2716603         2  ...             Night                   Day\n",
              "4        A-2716604         2  ...               Day                   Day\n",
              "...            ...       ...  ...               ...                   ...\n",
              "1516059  A-4239402         2  ...               Day                   Day\n",
              "1516060  A-4239403         2  ...               Day                   Day\n",
              "1516061  A-4239404         2  ...               Day                   Day\n",
              "1516062  A-4239405         2  ...               Day                   Day\n",
              "1516063  A-4239406         2  ...               Day                   Day\n",
              "\n",
              "[1516064 rows x 47 columns]"
            ]
          },
          "metadata": {},
          "execution_count": 6
        }
      ]
    },
    {
      "cell_type": "markdown",
      "source": [
        "###Seeking information about the dataset"
      ],
      "metadata": {
        "id": "zY9qLFA_rYsy"
      }
    },
    {
      "cell_type": "code",
      "source": [
        "df.info()"
      ],
      "metadata": {
        "colab": {
          "base_uri": "https://localhost:8080/"
        },
        "id": "fsHIUca1s_mr",
        "outputId": "fe107168-1b29-400a-87a9-c7471f9c92cc"
      },
      "execution_count": 7,
      "outputs": [
        {
          "output_type": "stream",
          "name": "stdout",
          "text": [
            "<class 'pandas.core.frame.DataFrame'>\n",
            "RangeIndex: 1516064 entries, 0 to 1516063\n",
            "Data columns (total 47 columns):\n",
            " #   Column                 Non-Null Count    Dtype  \n",
            "---  ------                 --------------    -----  \n",
            " 0   ID                     1516064 non-null  object \n",
            " 1   Severity               1516064 non-null  int64  \n",
            " 2   Start_Time             1516064 non-null  object \n",
            " 3   End_Time               1516064 non-null  object \n",
            " 4   Start_Lat              1516064 non-null  float64\n",
            " 5   Start_Lng              1516064 non-null  float64\n",
            " 6   End_Lat                1516064 non-null  float64\n",
            " 7   End_Lng                1516064 non-null  float64\n",
            " 8   Distance(mi)           1516064 non-null  float64\n",
            " 9   Description            1516064 non-null  object \n",
            " 10  Number                 469969 non-null   float64\n",
            " 11  Street                 1516064 non-null  object \n",
            " 12  Side                   1516064 non-null  object \n",
            " 13  City                   1515981 non-null  object \n",
            " 14  County                 1516064 non-null  object \n",
            " 15  State                  1516064 non-null  object \n",
            " 16  Zipcode                1515129 non-null  object \n",
            " 17  Country                1516064 non-null  object \n",
            " 18  Timezone               1513762 non-null  object \n",
            " 19  Airport_Code           1511816 non-null  object \n",
            " 20  Weather_Timestamp      1485800 non-null  object \n",
            " 21  Temperature(F)         1473031 non-null  float64\n",
            " 22  Wind_Chill(F)          1066748 non-null  float64\n",
            " 23  Humidity(%)            1470555 non-null  float64\n",
            " 24  Pressure(in)           1479790 non-null  float64\n",
            " 25  Visibility(mi)         1471853 non-null  float64\n",
            " 26  Wind_Direction         1474206 non-null  object \n",
            " 27  Wind_Speed(mph)        1387202 non-null  float64\n",
            " 28  Precipitation(in)      1005515 non-null  float64\n",
            " 29  Weather_Condition      1472057 non-null  object \n",
            " 30  Amenity                1516064 non-null  bool   \n",
            " 31  Bump                   1516064 non-null  bool   \n",
            " 32  Crossing               1516064 non-null  bool   \n",
            " 33  Give_Way               1516064 non-null  bool   \n",
            " 34  Junction               1516064 non-null  bool   \n",
            " 35  No_Exit                1516064 non-null  bool   \n",
            " 36  Railway                1516064 non-null  bool   \n",
            " 37  Roundabout             1516064 non-null  bool   \n",
            " 38  Station                1516064 non-null  bool   \n",
            " 39  Stop                   1516064 non-null  bool   \n",
            " 40  Traffic_Calming        1516064 non-null  bool   \n",
            " 41  Traffic_Signal         1516064 non-null  bool   \n",
            " 42  Turning_Loop           1516064 non-null  bool   \n",
            " 43  Sunrise_Sunset         1515981 non-null  object \n",
            " 44  Civil_Twilight         1515981 non-null  object \n",
            " 45  Nautical_Twilight      1515981 non-null  object \n",
            " 46  Astronomical_Twilight  1515981 non-null  object \n",
            "dtypes: bool(13), float64(13), int64(1), object(20)\n",
            "memory usage: 412.1+ MB\n"
          ]
        }
      ]
    },
    {
      "cell_type": "markdown",
      "source": [
        "###Columns in the dataframe"
      ],
      "metadata": {
        "id": "xN6ZdSZdretE"
      }
    },
    {
      "cell_type": "code",
      "source": [
        "df.columns\n"
      ],
      "metadata": {
        "colab": {
          "base_uri": "https://localhost:8080/"
        },
        "id": "JGGPZaqEGsYE",
        "outputId": "7c3919d1-24e6-4e26-a8dd-e57a47672a73"
      },
      "execution_count": 8,
      "outputs": [
        {
          "output_type": "execute_result",
          "data": {
            "text/plain": [
              "Index(['ID', 'Severity', 'Start_Time', 'End_Time', 'Start_Lat', 'Start_Lng',\n",
              "       'End_Lat', 'End_Lng', 'Distance(mi)', 'Description', 'Number', 'Street',\n",
              "       'Side', 'City', 'County', 'State', 'Zipcode', 'Country', 'Timezone',\n",
              "       'Airport_Code', 'Weather_Timestamp', 'Temperature(F)', 'Wind_Chill(F)',\n",
              "       'Humidity(%)', 'Pressure(in)', 'Visibility(mi)', 'Wind_Direction',\n",
              "       'Wind_Speed(mph)', 'Precipitation(in)', 'Weather_Condition', 'Amenity',\n",
              "       'Bump', 'Crossing', 'Give_Way', 'Junction', 'No_Exit', 'Railway',\n",
              "       'Roundabout', 'Station', 'Stop', 'Traffic_Calming', 'Traffic_Signal',\n",
              "       'Turning_Loop', 'Sunrise_Sunset', 'Civil_Twilight', 'Nautical_Twilight',\n",
              "       'Astronomical_Twilight'],\n",
              "      dtype='object')"
            ]
          },
          "metadata": {},
          "execution_count": 8
        }
      ]
    },
    {
      "cell_type": "markdown",
      "source": [
        "###Seeking description of each column in the dataset"
      ],
      "metadata": {
        "id": "VtwP835KrqPz"
      }
    },
    {
      "cell_type": "code",
      "source": [
        "df.describe()"
      ],
      "metadata": {
        "colab": {
          "base_uri": "https://localhost:8080/",
          "height": 364
        },
        "id": "3PzIRUrehztf",
        "outputId": "3ebda6b3-ddf6-4d4d-8922-818cfcd4680a"
      },
      "execution_count": 9,
      "outputs": [
        {
          "output_type": "execute_result",
          "data": {
            "text/html": [
              "\n",
              "  <div id=\"df-1dcb12f5-01e3-4091-8858-e3421f211879\">\n",
              "    <div class=\"colab-df-container\">\n",
              "      <div>\n",
              "<style scoped>\n",
              "    .dataframe tbody tr th:only-of-type {\n",
              "        vertical-align: middle;\n",
              "    }\n",
              "\n",
              "    .dataframe tbody tr th {\n",
              "        vertical-align: top;\n",
              "    }\n",
              "\n",
              "    .dataframe thead th {\n",
              "        text-align: right;\n",
              "    }\n",
              "</style>\n",
              "<table border=\"1\" class=\"dataframe\">\n",
              "  <thead>\n",
              "    <tr style=\"text-align: right;\">\n",
              "      <th></th>\n",
              "      <th>Severity</th>\n",
              "      <th>Start_Lat</th>\n",
              "      <th>Start_Lng</th>\n",
              "      <th>End_Lat</th>\n",
              "      <th>End_Lng</th>\n",
              "      <th>Distance(mi)</th>\n",
              "      <th>Number</th>\n",
              "      <th>Temperature(F)</th>\n",
              "      <th>Wind_Chill(F)</th>\n",
              "      <th>Humidity(%)</th>\n",
              "      <th>Pressure(in)</th>\n",
              "      <th>Visibility(mi)</th>\n",
              "      <th>Wind_Speed(mph)</th>\n",
              "      <th>Precipitation(in)</th>\n",
              "    </tr>\n",
              "  </thead>\n",
              "  <tbody>\n",
              "    <tr>\n",
              "      <th>count</th>\n",
              "      <td>1.516064e+06</td>\n",
              "      <td>1.516064e+06</td>\n",
              "      <td>1.516064e+06</td>\n",
              "      <td>1.516064e+06</td>\n",
              "      <td>1.516064e+06</td>\n",
              "      <td>1.516064e+06</td>\n",
              "      <td>4.699690e+05</td>\n",
              "      <td>1.473031e+06</td>\n",
              "      <td>1.066748e+06</td>\n",
              "      <td>1.470555e+06</td>\n",
              "      <td>1.479790e+06</td>\n",
              "      <td>1.471853e+06</td>\n",
              "      <td>1.387202e+06</td>\n",
              "      <td>1.005515e+06</td>\n",
              "    </tr>\n",
              "    <tr>\n",
              "      <th>mean</th>\n",
              "      <td>2.238630e+00</td>\n",
              "      <td>3.690056e+01</td>\n",
              "      <td>-9.859919e+01</td>\n",
              "      <td>3.690061e+01</td>\n",
              "      <td>-9.859901e+01</td>\n",
              "      <td>5.872617e-01</td>\n",
              "      <td>8.907533e+03</td>\n",
              "      <td>5.958460e+01</td>\n",
              "      <td>5.510976e+01</td>\n",
              "      <td>6.465960e+01</td>\n",
              "      <td>2.955495e+01</td>\n",
              "      <td>9.131755e+00</td>\n",
              "      <td>7.630812e+00</td>\n",
              "      <td>8.477855e-03</td>\n",
              "    </tr>\n",
              "    <tr>\n",
              "      <th>std</th>\n",
              "      <td>6.081481e-01</td>\n",
              "      <td>5.165653e+00</td>\n",
              "      <td>1.849602e+01</td>\n",
              "      <td>5.165629e+00</td>\n",
              "      <td>1.849590e+01</td>\n",
              "      <td>1.632659e+00</td>\n",
              "      <td>2.242190e+04</td>\n",
              "      <td>1.827316e+01</td>\n",
              "      <td>2.112735e+01</td>\n",
              "      <td>2.325986e+01</td>\n",
              "      <td>1.016756e+00</td>\n",
              "      <td>2.889112e+00</td>\n",
              "      <td>5.637364e+00</td>\n",
              "      <td>1.293168e-01</td>\n",
              "    </tr>\n",
              "    <tr>\n",
              "      <th>min</th>\n",
              "      <td>1.000000e+00</td>\n",
              "      <td>2.457022e+01</td>\n",
              "      <td>-1.244976e+02</td>\n",
              "      <td>2.457011e+01</td>\n",
              "      <td>-1.244978e+02</td>\n",
              "      <td>0.000000e+00</td>\n",
              "      <td>0.000000e+00</td>\n",
              "      <td>-8.900000e+01</td>\n",
              "      <td>-8.900000e+01</td>\n",
              "      <td>1.000000e+00</td>\n",
              "      <td>0.000000e+00</td>\n",
              "      <td>0.000000e+00</td>\n",
              "      <td>0.000000e+00</td>\n",
              "      <td>0.000000e+00</td>\n",
              "    </tr>\n",
              "    <tr>\n",
              "      <th>25%</th>\n",
              "      <td>2.000000e+00</td>\n",
              "      <td>3.385422e+01</td>\n",
              "      <td>-1.182076e+02</td>\n",
              "      <td>3.385420e+01</td>\n",
              "      <td>-1.182077e+02</td>\n",
              "      <td>0.000000e+00</td>\n",
              "      <td>1.212000e+03</td>\n",
              "      <td>4.700000e+01</td>\n",
              "      <td>4.080000e+01</td>\n",
              "      <td>4.800000e+01</td>\n",
              "      <td>2.944000e+01</td>\n",
              "      <td>1.000000e+01</td>\n",
              "      <td>4.600000e+00</td>\n",
              "      <td>0.000000e+00</td>\n",
              "    </tr>\n",
              "    <tr>\n",
              "      <th>50%</th>\n",
              "      <td>2.000000e+00</td>\n",
              "      <td>3.735113e+01</td>\n",
              "      <td>-9.438100e+01</td>\n",
              "      <td>3.735134e+01</td>\n",
              "      <td>-9.437987e+01</td>\n",
              "      <td>1.780000e-01</td>\n",
              "      <td>4.000000e+03</td>\n",
              "      <td>6.100000e+01</td>\n",
              "      <td>5.700000e+01</td>\n",
              "      <td>6.800000e+01</td>\n",
              "      <td>2.988000e+01</td>\n",
              "      <td>1.000000e+01</td>\n",
              "      <td>7.000000e+00</td>\n",
              "      <td>0.000000e+00</td>\n",
              "    </tr>\n",
              "    <tr>\n",
              "      <th>75%</th>\n",
              "      <td>2.000000e+00</td>\n",
              "      <td>4.072593e+01</td>\n",
              "      <td>-8.087469e+01</td>\n",
              "      <td>4.072593e+01</td>\n",
              "      <td>-8.087449e+01</td>\n",
              "      <td>5.940000e-01</td>\n",
              "      <td>1.010000e+04</td>\n",
              "      <td>7.300000e+01</td>\n",
              "      <td>7.100000e+01</td>\n",
              "      <td>8.400000e+01</td>\n",
              "      <td>3.004000e+01</td>\n",
              "      <td>1.000000e+01</td>\n",
              "      <td>1.040000e+01</td>\n",
              "      <td>0.000000e+00</td>\n",
              "    </tr>\n",
              "    <tr>\n",
              "      <th>max</th>\n",
              "      <td>4.000000e+00</td>\n",
              "      <td>4.900058e+01</td>\n",
              "      <td>-6.711317e+01</td>\n",
              "      <td>4.907500e+01</td>\n",
              "      <td>-6.710924e+01</td>\n",
              "      <td>1.551860e+02</td>\n",
              "      <td>9.999997e+06</td>\n",
              "      <td>1.706000e+02</td>\n",
              "      <td>1.130000e+02</td>\n",
              "      <td>1.000000e+02</td>\n",
              "      <td>5.804000e+01</td>\n",
              "      <td>1.400000e+02</td>\n",
              "      <td>9.840000e+02</td>\n",
              "      <td>2.400000e+01</td>\n",
              "    </tr>\n",
              "  </tbody>\n",
              "</table>\n",
              "</div>\n",
              "      <button class=\"colab-df-convert\" onclick=\"convertToInteractive('df-1dcb12f5-01e3-4091-8858-e3421f211879')\"\n",
              "              title=\"Convert this dataframe to an interactive table.\"\n",
              "              style=\"display:none;\">\n",
              "        \n",
              "  <svg xmlns=\"http://www.w3.org/2000/svg\" height=\"24px\"viewBox=\"0 0 24 24\"\n",
              "       width=\"24px\">\n",
              "    <path d=\"M0 0h24v24H0V0z\" fill=\"none\"/>\n",
              "    <path d=\"M18.56 5.44l.94 2.06.94-2.06 2.06-.94-2.06-.94-.94-2.06-.94 2.06-2.06.94zm-11 1L8.5 8.5l.94-2.06 2.06-.94-2.06-.94L8.5 2.5l-.94 2.06-2.06.94zm10 10l.94 2.06.94-2.06 2.06-.94-2.06-.94-.94-2.06-.94 2.06-2.06.94z\"/><path d=\"M17.41 7.96l-1.37-1.37c-.4-.4-.92-.59-1.43-.59-.52 0-1.04.2-1.43.59L10.3 9.45l-7.72 7.72c-.78.78-.78 2.05 0 2.83L4 21.41c.39.39.9.59 1.41.59.51 0 1.02-.2 1.41-.59l7.78-7.78 2.81-2.81c.8-.78.8-2.07 0-2.86zM5.41 20L4 18.59l7.72-7.72 1.47 1.35L5.41 20z\"/>\n",
              "  </svg>\n",
              "      </button>\n",
              "      \n",
              "  <style>\n",
              "    .colab-df-container {\n",
              "      display:flex;\n",
              "      flex-wrap:wrap;\n",
              "      gap: 12px;\n",
              "    }\n",
              "\n",
              "    .colab-df-convert {\n",
              "      background-color: #E8F0FE;\n",
              "      border: none;\n",
              "      border-radius: 50%;\n",
              "      cursor: pointer;\n",
              "      display: none;\n",
              "      fill: #1967D2;\n",
              "      height: 32px;\n",
              "      padding: 0 0 0 0;\n",
              "      width: 32px;\n",
              "    }\n",
              "\n",
              "    .colab-df-convert:hover {\n",
              "      background-color: #E2EBFA;\n",
              "      box-shadow: 0px 1px 2px rgba(60, 64, 67, 0.3), 0px 1px 3px 1px rgba(60, 64, 67, 0.15);\n",
              "      fill: #174EA6;\n",
              "    }\n",
              "\n",
              "    [theme=dark] .colab-df-convert {\n",
              "      background-color: #3B4455;\n",
              "      fill: #D2E3FC;\n",
              "    }\n",
              "\n",
              "    [theme=dark] .colab-df-convert:hover {\n",
              "      background-color: #434B5C;\n",
              "      box-shadow: 0px 1px 3px 1px rgba(0, 0, 0, 0.15);\n",
              "      filter: drop-shadow(0px 1px 2px rgba(0, 0, 0, 0.3));\n",
              "      fill: #FFFFFF;\n",
              "    }\n",
              "  </style>\n",
              "\n",
              "      <script>\n",
              "        const buttonEl =\n",
              "          document.querySelector('#df-1dcb12f5-01e3-4091-8858-e3421f211879 button.colab-df-convert');\n",
              "        buttonEl.style.display =\n",
              "          google.colab.kernel.accessAllowed ? 'block' : 'none';\n",
              "\n",
              "        async function convertToInteractive(key) {\n",
              "          const element = document.querySelector('#df-1dcb12f5-01e3-4091-8858-e3421f211879');\n",
              "          const dataTable =\n",
              "            await google.colab.kernel.invokeFunction('convertToInteractive',\n",
              "                                                     [key], {});\n",
              "          if (!dataTable) return;\n",
              "\n",
              "          const docLinkHtml = 'Like what you see? Visit the ' +\n",
              "            '<a target=\"_blank\" href=https://colab.research.google.com/notebooks/data_table.ipynb>data table notebook</a>'\n",
              "            + ' to learn more about interactive tables.';\n",
              "          element.innerHTML = '';\n",
              "          dataTable['output_type'] = 'display_data';\n",
              "          await google.colab.output.renderOutput(dataTable, element);\n",
              "          const docLink = document.createElement('div');\n",
              "          docLink.innerHTML = docLinkHtml;\n",
              "          element.appendChild(docLink);\n",
              "        }\n",
              "      </script>\n",
              "    </div>\n",
              "  </div>\n",
              "  "
            ],
            "text/plain": [
              "           Severity     Start_Lat  ...  Wind_Speed(mph)  Precipitation(in)\n",
              "count  1.516064e+06  1.516064e+06  ...     1.387202e+06       1.005515e+06\n",
              "mean   2.238630e+00  3.690056e+01  ...     7.630812e+00       8.477855e-03\n",
              "std    6.081481e-01  5.165653e+00  ...     5.637364e+00       1.293168e-01\n",
              "min    1.000000e+00  2.457022e+01  ...     0.000000e+00       0.000000e+00\n",
              "25%    2.000000e+00  3.385422e+01  ...     4.600000e+00       0.000000e+00\n",
              "50%    2.000000e+00  3.735113e+01  ...     7.000000e+00       0.000000e+00\n",
              "75%    2.000000e+00  4.072593e+01  ...     1.040000e+01       0.000000e+00\n",
              "max    4.000000e+00  4.900058e+01  ...     9.840000e+02       2.400000e+01\n",
              "\n",
              "[8 rows x 14 columns]"
            ]
          },
          "metadata": {},
          "execution_count": 9
        }
      ]
    },
    {
      "cell_type": "markdown",
      "source": [
        "###Columns with numerical values"
      ],
      "metadata": {
        "id": "HdYnFnThsLsR"
      }
    },
    {
      "cell_type": "code",
      "source": [
        "numerics = ['int16', 'int32', 'int64', 'float16', 'float32', 'float64']\n",
        "\n",
        "numeric_df = df.select_dtypes(include=numerics)\n",
        "len(numeric_df.columns)"
      ],
      "metadata": {
        "colab": {
          "base_uri": "https://localhost:8080/"
        },
        "id": "pK2IitMphzq7",
        "outputId": "803963cf-394c-43c8-abf4-64fe194981aa"
      },
      "execution_count": 10,
      "outputs": [
        {
          "output_type": "execute_result",
          "data": {
            "text/plain": [
              "14"
            ]
          },
          "metadata": {},
          "execution_count": 10
        }
      ]
    },
    {
      "cell_type": "markdown",
      "source": [
        "### Percentage of missing values per column"
      ],
      "metadata": {
        "id": "YkfjXT6QlRk9"
      }
    },
    {
      "cell_type": "code",
      "source": [
        "missing_percentages = df.isna().sum().sort_values(ascending = False) / len(df) * 100\n",
        "missing_percentages"
      ],
      "metadata": {
        "colab": {
          "base_uri": "https://localhost:8080/"
        },
        "id": "eKjqedRuhzjf",
        "outputId": "8239818b-e697-4caf-f1f2-336793c4e046"
      },
      "execution_count": 11,
      "outputs": [
        {
          "output_type": "execute_result",
          "data": {
            "text/plain": [
              "Number                   69.000715\n",
              "Precipitation(in)        33.675953\n",
              "Wind_Chill(F)            29.637007\n",
              "Wind_Speed(mph)           8.499773\n",
              "Humidity(%)               3.001786\n",
              "Visibility(mi)            2.916170\n",
              "Weather_Condition         2.902714\n",
              "Temperature(F)            2.838469\n",
              "Wind_Direction            2.760965\n",
              "Pressure(in)              2.392643\n",
              "Weather_Timestamp         1.996222\n",
              "Airport_Code              0.280199\n",
              "Timezone                  0.151841\n",
              "Zipcode                   0.061673\n",
              "City                      0.005475\n",
              "Nautical_Twilight         0.005475\n",
              "Astronomical_Twilight     0.005475\n",
              "Civil_Twilight            0.005475\n",
              "Sunrise_Sunset            0.005475\n",
              "Amenity                   0.000000\n",
              "Bump                      0.000000\n",
              "Severity                  0.000000\n",
              "Start_Time                0.000000\n",
              "End_Time                  0.000000\n",
              "Start_Lat                 0.000000\n",
              "Start_Lng                 0.000000\n",
              "End_Lat                   0.000000\n",
              "End_Lng                   0.000000\n",
              "Distance(mi)              0.000000\n",
              "Description               0.000000\n",
              "Street                    0.000000\n",
              "Side                      0.000000\n",
              "County                    0.000000\n",
              "State                     0.000000\n",
              "Turning_Loop              0.000000\n",
              "Country                   0.000000\n",
              "Traffic_Signal            0.000000\n",
              "Traffic_Calming           0.000000\n",
              "Stop                      0.000000\n",
              "Station                   0.000000\n",
              "Roundabout                0.000000\n",
              "Railway                   0.000000\n",
              "No_Exit                   0.000000\n",
              "Junction                  0.000000\n",
              "Give_Way                  0.000000\n",
              "Crossing                  0.000000\n",
              "ID                        0.000000\n",
              "dtype: float64"
            ]
          },
          "metadata": {},
          "execution_count": 11
        }
      ]
    },
    {
      "cell_type": "code",
      "source": [
        "missing_percentages[missing_percentages !=0]"
      ],
      "metadata": {
        "colab": {
          "base_uri": "https://localhost:8080/"
        },
        "id": "FQcOn-FBmdtp",
        "outputId": "0245171e-6864-4f26-a016-abf15489f08f"
      },
      "execution_count": 12,
      "outputs": [
        {
          "output_type": "execute_result",
          "data": {
            "text/plain": [
              "Number                   69.000715\n",
              "Precipitation(in)        33.675953\n",
              "Wind_Chill(F)            29.637007\n",
              "Wind_Speed(mph)           8.499773\n",
              "Humidity(%)               3.001786\n",
              "Visibility(mi)            2.916170\n",
              "Weather_Condition         2.902714\n",
              "Temperature(F)            2.838469\n",
              "Wind_Direction            2.760965\n",
              "Pressure(in)              2.392643\n",
              "Weather_Timestamp         1.996222\n",
              "Airport_Code              0.280199\n",
              "Timezone                  0.151841\n",
              "Zipcode                   0.061673\n",
              "City                      0.005475\n",
              "Nautical_Twilight         0.005475\n",
              "Astronomical_Twilight     0.005475\n",
              "Civil_Twilight            0.005475\n",
              "Sunrise_Sunset            0.005475\n",
              "dtype: float64"
            ]
          },
          "metadata": {},
          "execution_count": 12
        }
      ]
    },
    {
      "cell_type": "code",
      "source": [
        "type(missing_percentages)"
      ],
      "metadata": {
        "colab": {
          "base_uri": "https://localhost:8080/"
        },
        "id": "sPQFHwaOl8i4",
        "outputId": "6197d5e7-e594-41f3-c3a4-cf5788a34cdb"
      },
      "execution_count": 13,
      "outputs": [
        {
          "output_type": "execute_result",
          "data": {
            "text/plain": [
              "pandas.core.series.Series"
            ]
          },
          "metadata": {},
          "execution_count": 13
        }
      ]
    },
    {
      "cell_type": "code",
      "source": [
        "missing_percentages[missing_percentages !=0].plot(kind= 'barh')"
      ],
      "metadata": {
        "colab": {
          "base_uri": "https://localhost:8080/",
          "height": 282
        },
        "id": "EL4Kgak8l8a2",
        "outputId": "35094f8a-3fd9-49c1-aafb-fb03762c66cb"
      },
      "execution_count": 14,
      "outputs": [
        {
          "output_type": "execute_result",
          "data": {
            "text/plain": [
              "<matplotlib.axes._subplots.AxesSubplot at 0x7fe84db94a10>"
            ]
          },
          "metadata": {},
          "execution_count": 14
        },
        {
          "output_type": "display_data",
          "data": {
            "image/png": "[encoded data removed]",
            "text/plain": [
              "<Figure size 432x288 with 1 Axes>"
            ]
          },
          "metadata": {
            "needs_background": "light"
          }
        }
      ]
    },
    {
      "cell_type": "markdown",
      "source": [
        "### We Remove Columns that we don't want to use"
      ],
      "metadata": {
        "id": "XD9KXaagnP5i"
      }
    },
    {
      "cell_type": "code",
      "source": [
        "df.columns"
      ],
      "metadata": {
        "colab": {
          "base_uri": "https://localhost:8080/"
        },
        "id": "s-WICpBdl8Ny",
        "outputId": "425bb514-b9d9-4ad9-bd42-a9d67bec416d"
      },
      "execution_count": 15,
      "outputs": [
        {
          "output_type": "execute_result",
          "data": {
            "text/plain": [
              "Index(['ID', 'Severity', 'Start_Time', 'End_Time', 'Start_Lat', 'Start_Lng',\n",
              "       'End_Lat', 'End_Lng', 'Distance(mi)', 'Description', 'Number', 'Street',\n",
              "       'Side', 'City', 'County', 'State', 'Zipcode', 'Country', 'Timezone',\n",
              "       'Airport_Code', 'Weather_Timestamp', 'Temperature(F)', 'Wind_Chill(F)',\n",
              "       'Humidity(%)', 'Pressure(in)', 'Visibility(mi)', 'Wind_Direction',\n",
              "       'Wind_Speed(mph)', 'Precipitation(in)', 'Weather_Condition', 'Amenity',\n",
              "       'Bump', 'Crossing', 'Give_Way', 'Junction', 'No_Exit', 'Railway',\n",
              "       'Roundabout', 'Station', 'Stop', 'Traffic_Calming', 'Traffic_Signal',\n",
              "       'Turning_Loop', 'Sunrise_Sunset', 'Civil_Twilight', 'Nautical_Twilight',\n",
              "       'Astronomical_Twilight'],\n",
              "      dtype='object')"
            ]
          },
          "metadata": {},
          "execution_count": 15
        }
      ]
    },
    {
      "cell_type": "markdown",
      "source": [
        "###Getting List of Columns Having Null Values"
      ],
      "metadata": {
        "id": "ysYLPfFW88dv"
      }
    },
    {
      "cell_type": "code",
      "source": [
        "empty_col = [i for i in df.columns if df[i].isnull().any()]\n",
        "empty_col"
      ],
      "metadata": {
        "colab": {
          "base_uri": "https://localhost:8080/"
        },
        "id": "MKMVXMcL2oHY",
        "outputId": "80e5486f-8d37-4e19-f762-5b1f20974d86"
      },
      "execution_count": 16,
      "outputs": [
        {
          "output_type": "execute_result",
          "data": {
            "text/plain": [
              "['Number',\n",
              " 'City',\n",
              " 'Zipcode',\n",
              " 'Timezone',\n",
              " 'Airport_Code',\n",
              " 'Weather_Timestamp',\n",
              " 'Temperature(F)',\n",
              " 'Wind_Chill(F)',\n",
              " 'Humidity(%)',\n",
              " 'Pressure(in)',\n",
              " 'Visibility(mi)',\n",
              " 'Wind_Direction',\n",
              " 'Wind_Speed(mph)',\n",
              " 'Precipitation(in)',\n",
              " 'Weather_Condition',\n",
              " 'Sunrise_Sunset',\n",
              " 'Civil_Twilight',\n",
              " 'Nautical_Twilight',\n",
              " 'Astronomical_Twilight']"
            ]
          },
          "metadata": {},
          "execution_count": 16
        }
      ]
    },
    {
      "cell_type": "markdown",
      "source": [
        "###Checking Missing Values Pattern in Dataframe"
      ],
      "metadata": {
        "id": "WYPhA6BA3PDs"
      }
    },
    {
      "cell_type": "code",
      "source": [
        "mn.matrix(df[empty_col]);"
      ],
      "metadata": {
        "colab": {
          "base_uri": "https://localhost:8080/",
          "height": 598
        },
        "id": "494rNq6j2Qg_",
        "outputId": "87eb356d-8284-4dc5-9ae0-bafce805cc84"
      },
      "execution_count": 17,
      "outputs": [
        {
          "output_type": "display_data",
          "data": {
            "image/png": "[encoded data removed]",
            "text/plain": [
              "<Figure size 1800x720 with 2 Axes>"
            ]
          },
          "metadata": {
            "needs_background": "light"
          }
        }
      ]
    },
    {
      "cell_type": "markdown",
      "source": [
        "##Exploratory Analysis and Visualisation\n",
        "Columns we will analyze\n",
        "1. State\n",
        "2. City\n",
        "3. Start Time\n",
        "4. Start Lat, Start Lng\n"
      ],
      "metadata": {
        "id": "yiAmqB0db4v1"
      }
    },
    {
      "cell_type": "code",
      "source": [
        "state_counts = df[\"State\"].value_counts()\n",
        "fig = go.Figure(data=go.Choropleth(locations=state_counts.index, z=state_counts.values.astype(float), locationmode=\"USA-states\",colorscale=\"turbo\" ))\n",
        "fig.update_layout(title_text=\"Number of Accidents for each State\", geo_scope=\"usa\")\n",
        "fig.show()\n"
      ],
      "metadata": {
        "colab": {
          "base_uri": "https://localhost:8080/",
          "height": 542
        },
        "id": "LliV4UVQUiyt",
        "outputId": "5605626f-1492-4d03-8773-01c88fb35ae2"
      },
      "execution_count": 50,
      "outputs": [
        {
          "output_type": "display_data",
          "data": {
            "text/html": [
              "<html>\n",
              "<head><meta charset=\"utf-8\" /></head>\n",
              "<body>\n",
              "    <div>            <script src=\"https://cdnjs.cloudflare.com/ajax/libs/mathjax/2.7.5/MathJax.js?config=TeX-AMS-MML_SVG\"></script><script type=\"text/javascript\">if (window.MathJax) {MathJax.Hub.Config({SVG: {font: \"STIX-Web\"}});}</script>                <script type=\"text/javascript\">window.PlotlyConfig = {MathJaxConfig: 'local'};</script>\n",
              "        <script src=\"https://cdn.plot.ly/plotly-2.8.3.min.js\"></script>                <div id=\"7ae4c17b-b74f-4829-9b32-328f8d354b76\" class=\"plotly-graph-div\" style=\"height:525px; width:100%;\"></div>            <script type=\"text/javascript\">                                    window.PLOTLYENV=window.PLOTLYENV || {};                                    if (document.getElementById(\"7ae4c17b-b74f-4829-9b32-328f8d354b76\")) {                    Plotly.newPlot(                        \"7ae4c17b-b74f-4829-9b32-328f8d354b76\",                        [{\"colorscale\":[[0.0,\"#30123b\"],[0.07142857142857142,\"#4145ab\"],[0.14285714285714285,\"#4675ed\"],[0.21428571428571427,\"#39a2fc\"],[0.2857142857142857,\"#1bcfd4\"],[0.35714285714285715,\"#24eca6\"],[0.42857142857142855,\"#61fc6c\"],[0.5,\"#a4fc3b\"],[0.5714285714285714,\"#d1e834\"],[0.6428571428571429,\"#f3c63a\"],[0.7142857142857143,\"#fe9b2d\"],[0.7857142857142857,\"#f36315\"],[0.8571428571428571,\"#d93806\"],[0.9285714285714286,\"#b11901\"],[1.0,\"#7a0402\"]],\"locationmode\":\"USA-states\",\"locations\":[\"CA\",\"FL\",\"OR\",\"TX\",\"NY\",\"MN\",\"VA\",\"NC\",\"PA\",\"IL\",\"MD\",\"UT\",\"GA\",\"AZ\",\"NJ\",\"SC\",\"MI\",\"WA\",\"OH\",\"TN\",\"CO\",\"LA\",\"MO\",\"CT\",\"IN\",\"AL\",\"WI\",\"MA\",\"KY\",\"OK\",\"KS\",\"IA\",\"AR\",\"ID\",\"NH\",\"DC\",\"RI\",\"NV\",\"MT\",\"WV\",\"MS\",\"DE\",\"ME\",\"NE\",\"NM\",\"ND\",\"VT\",\"WY\",\"SD\"],\"z\":[448833.0,153007.0,87484.0,75142.0,60974.0,52345.0,51198.0,50159.0,42844.0,41709.0,35320.0,33218.0,31111.0,30185.0,29850.0,28090.0,27775.0,22999.0,22044.0,21874.0,19809.0,19250.0,16949.0,15194.0,11736.0,9375.0,7919.0,6121.0,5671.0,5592.0,5146.0,4780.0,4373.0,4061.0,3826.0,3788.0,3766.0,3681.0,3306.0,3242.0,2790.0,2331.0,2202.0,2178.0,1467.0,455.0,352.0,330.0,213.0],\"type\":\"choropleth\"}],                        {\"template\":{\"data\":{\"bar\":[{\"error_x\":{\"color\":\"#2a3f5f\"},\"error_y\":{\"color\":\"#2a3f5f\"},\"marker\":{\"line\":{\"color\":\"#E5ECF6\",\"width\":0.5},\"pattern\":{\"fillmode\":\"overlay\",\"size\":10,\"solidity\":0.2}},\"type\":\"bar\"}],\"barpolar\":[{\"marker\":{\"line\":{\"color\":\"#E5ECF6\",\"width\":0.5},\"pattern\":{\"fillmode\":\"overlay\",\"size\":10,\"solidity\":0.2}},\"type\":\"barpolar\"}],\"carpet\":[{\"aaxis\":{\"endlinecolor\":\"#2a3f5f\",\"gridcolor\":\"white\",\"linecolor\":\"white\",\"minorgridcolor\":\"white\",\"startlinecolor\":\"#2a3f5f\"},\"baxis\":{\"endlinecolor\":\"#2a3f5f\",\"gridcolor\":\"white\",\"linecolor\":\"white\",\"minorgridcolor\":\"white\",\"startlinecolor\":\"#2a3f5f\"},\"type\":\"carpet\"}],\"choropleth\":[{\"colorbar\":{\"outlinewidth\":0,\"ticks\":\"\"},\"type\":\"choropleth\"}],\"contour\":[{\"colorbar\":{\"outlinewidth\":0,\"ticks\":\"\"},\"colorscale\":[[0.0,\"#0d0887\"],[0.1111111111111111,\"#46039f\"],[0.2222222222222222,\"#7201a8\"],[0.3333333333333333,\"#9c179e\"],[0.4444444444444444,\"#bd3786\"],[0.5555555555555556,\"#d8576b\"],[0.6666666666666666,\"#ed7953\"],[0.7777777777777778,\"#fb9f3a\"],[0.8888888888888888,\"#fdca26\"],[1.0,\"#f0f921\"]],\"type\":\"contour\"}],\"contourcarpet\":[{\"colorbar\":{\"outlinewidth\":0,\"ticks\":\"\"},\"type\":\"contourcarpet\"}],\"heatmap\":[{\"colorbar\":{\"outlinewidth\":0,\"ticks\":\"\"},\"colorscale\":[[0.0,\"#0d0887\"],[0.1111111111111111,\"#46039f\"],[0.2222222222222222,\"#7201a8\"],[0.3333333333333333,\"#9c179e\"],[0.4444444444444444,\"#bd3786\"],[0.5555555555555556,\"#d8576b\"],[0.6666666666666666,\"#ed7953\"],[0.7777777777777778,\"#fb9f3a\"],[0.8888888888888888,\"#fdca26\"],[1.0,\"#f0f921\"]],\"type\":\"heatmap\"}],\"heatmapgl\":[{\"colorbar\":{\"outlinewidth\":0,\"ticks\":\"\"},\"colorscale\":[[0.0,\"#0d0887\"],[0.1111111111111111,\"#46039f\"],[0.2222222222222222,\"#7201a8\"],[0.3333333333333333,\"#9c179e\"],[0.4444444444444444,\"#bd3786\"],[0.5555555555555556,\"#d8576b\"],[0.6666666666666666,\"#ed7953\"],[0.7777777777777778,\"#fb9f3a\"],[0.8888888888888888,\"#fdca26\"],[1.0,\"#f0f921\"]],\"type\":\"heatmapgl\"}],\"histogram\":[{\"marker\":{\"pattern\":{\"fillmode\":\"overlay\",\"size\":10,\"solidity\":0.2}},\"type\":\"histogram\"}],\"histogram2d\":[{\"colorbar\":{\"outlinewidth\":0,\"ticks\":\"\"},\"colorscale\":[[0.0,\"#0d0887\"],[0.1111111111111111,\"#46039f\"],[0.2222222222222222,\"#7201a8\"],[0.3333333333333333,\"#9c179e\"],[0.4444444444444444,\"#bd3786\"],[0.5555555555555556,\"#d8576b\"],[0.6666666666666666,\"#ed7953\"],[0.7777777777777778,\"#fb9f3a\"],[0.8888888888888888,\"#fdca26\"],[1.0,\"#f0f921\"]],\"type\":\"histogram2d\"}],\"histogram2dcontour\":[{\"colorbar\":{\"outlinewidth\":0,\"ticks\":\"\"},\"colorscale\":[[0.0,\"#0d0887\"],[0.1111111111111111,\"#46039f\"],[0.2222222222222222,\"#7201a8\"],[0.3333333333333333,\"#9c179e\"],[0.4444444444444444,\"#bd3786\"],[0.5555555555555556,\"#d8576b\"],[0.6666666666666666,\"#ed7953\"],[0.7777777777777778,\"#fb9f3a\"],[0.8888888888888888,\"#fdca26\"],[1.0,\"#f0f921\"]],\"type\":\"histogram2dcontour\"}],\"mesh3d\":[{\"colorbar\":{\"outlinewidth\":0,\"ticks\":\"\"},\"type\":\"mesh3d\"}],\"parcoords\":[{\"line\":{\"colorbar\":{\"outlinewidth\":0,\"ticks\":\"\"}},\"type\":\"parcoords\"}],\"pie\":[{\"automargin\":true,\"type\":\"pie\"}],\"scatter\":[{\"marker\":{\"colorbar\":{\"outlinewidth\":0,\"ticks\":\"\"}},\"type\":\"scatter\"}],\"scatter3d\":[{\"line\":{\"colorbar\":{\"outlinewidth\":0,\"ticks\":\"\"}},\"marker\":{\"colorbar\":{\"outlinewidth\":0,\"ticks\":\"\"}},\"type\":\"scatter3d\"}],\"scattercarpet\":[{\"marker\":{\"colorbar\":{\"outlinewidth\":0,\"ticks\":\"\"}},\"type\":\"scattercarpet\"}],\"scattergeo\":[{\"marker\":{\"colorbar\":{\"outlinewidth\":0,\"ticks\":\"\"}},\"type\":\"scattergeo\"}],\"scattergl\":[{\"marker\":{\"colorbar\":{\"outlinewidth\":0,\"ticks\":\"\"}},\"type\":\"scattergl\"}],\"scattermapbox\":[{\"marker\":{\"colorbar\":{\"outlinewidth\":0,\"ticks\":\"\"}},\"type\":\"scattermapbox\"}],\"scatterpolar\":[{\"marker\":{\"colorbar\":{\"outlinewidth\":0,\"ticks\":\"\"}},\"type\":\"scatterpolar\"}],\"scatterpolargl\":[{\"marker\":{\"colorbar\":{\"outlinewidth\":0,\"ticks\":\"\"}},\"type\":\"scatterpolargl\"}],\"scatterternary\":[{\"marker\":{\"colorbar\":{\"outlinewidth\":0,\"ticks\":\"\"}},\"type\":\"scatterternary\"}],\"surface\":[{\"colorbar\":{\"outlinewidth\":0,\"ticks\":\"\"},\"colorscale\":[[0.0,\"#0d0887\"],[0.1111111111111111,\"#46039f\"],[0.2222222222222222,\"#7201a8\"],[0.3333333333333333,\"#9c179e\"],[0.4444444444444444,\"#bd3786\"],[0.5555555555555556,\"#d8576b\"],[0.6666666666666666,\"#ed7953\"],[0.7777777777777778,\"#fb9f3a\"],[0.8888888888888888,\"#fdca26\"],[1.0,\"#f0f921\"]],\"type\":\"surface\"}],\"table\":[{\"cells\":{\"fill\":{\"color\":\"#EBF0F8\"},\"line\":{\"color\":\"white\"}},\"header\":{\"fill\":{\"color\":\"#C8D4E3\"},\"line\":{\"color\":\"white\"}},\"type\":\"table\"}]},\"layout\":{\"annotationdefaults\":{\"arrowcolor\":\"#2a3f5f\",\"arrowhead\":0,\"arrowwidth\":1},\"autotypenumbers\":\"strict\",\"coloraxis\":{\"colorbar\":{\"outlinewidth\":0,\"ticks\":\"\"}},\"colorscale\":{\"diverging\":[[0,\"#8e0152\"],[0.1,\"#c51b7d\"],[0.2,\"#de77ae\"],[0.3,\"#f1b6da\"],[0.4,\"#fde0ef\"],[0.5,\"#f7f7f7\"],[0.6,\"#e6f5d0\"],[0.7,\"#b8e186\"],[0.8,\"#7fbc41\"],[0.9,\"#4d9221\"],[1,\"#276419\"]],\"sequential\":[[0.0,\"#0d0887\"],[0.1111111111111111,\"#46039f\"],[0.2222222222222222,\"#7201a8\"],[0.3333333333333333,\"#9c179e\"],[0.4444444444444444,\"#bd3786\"],[0.5555555555555556,\"#d8576b\"],[0.6666666666666666,\"#ed7953\"],[0.7777777777777778,\"#fb9f3a\"],[0.8888888888888888,\"#fdca26\"],[1.0,\"#f0f921\"]],\"sequentialminus\":[[0.0,\"#0d0887\"],[0.1111111111111111,\"#46039f\"],[0.2222222222222222,\"#7201a8\"],[0.3333333333333333,\"#9c179e\"],[0.4444444444444444,\"#bd3786\"],[0.5555555555555556,\"#d8576b\"],[0.6666666666666666,\"#ed7953\"],[0.7777777777777778,\"#fb9f3a\"],[0.8888888888888888,\"#fdca26\"],[1.0,\"#f0f921\"]]},\"colorway\":[\"#636efa\",\"#EF553B\",\"#00cc96\",\"#ab63fa\",\"#FFA15A\",\"#19d3f3\",\"#FF6692\",\"#B6E880\",\"#FF97FF\",\"#FECB52\"],\"font\":{\"color\":\"#2a3f5f\"},\"geo\":{\"bgcolor\":\"white\",\"lakecolor\":\"white\",\"landcolor\":\"#E5ECF6\",\"showlakes\":true,\"showland\":true,\"subunitcolor\":\"white\"},\"hoverlabel\":{\"align\":\"left\"},\"hovermode\":\"closest\",\"mapbox\":{\"style\":\"light\"},\"paper_bgcolor\":\"white\",\"plot_bgcolor\":\"#E5ECF6\",\"polar\":{\"angularaxis\":{\"gridcolor\":\"white\",\"linecolor\":\"white\",\"ticks\":\"\"},\"bgcolor\":\"#E5ECF6\",\"radialaxis\":{\"gridcolor\":\"white\",\"linecolor\":\"white\",\"ticks\":\"\"}},\"scene\":{\"xaxis\":{\"backgroundcolor\":\"#E5ECF6\",\"gridcolor\":\"white\",\"gridwidth\":2,\"linecolor\":\"white\",\"showbackground\":true,\"ticks\":\"\",\"zerolinecolor\":\"white\"},\"yaxis\":{\"backgroundcolor\":\"#E5ECF6\",\"gridcolor\":\"white\",\"gridwidth\":2,\"linecolor\":\"white\",\"showbackground\":true,\"ticks\":\"\",\"zerolinecolor\":\"white\"},\"zaxis\":{\"backgroundcolor\":\"#E5ECF6\",\"gridcolor\":\"white\",\"gridwidth\":2,\"linecolor\":\"white\",\"showbackground\":true,\"ticks\":\"\",\"zerolinecolor\":\"white\"}},\"shapedefaults\":{\"line\":{\"color\":\"#2a3f5f\"}},\"ternary\":{\"aaxis\":{\"gridcolor\":\"white\",\"linecolor\":\"white\",\"ticks\":\"\"},\"baxis\":{\"gridcolor\":\"white\",\"linecolor\":\"white\",\"ticks\":\"\"},\"bgcolor\":\"#E5ECF6\",\"caxis\":{\"gridcolor\":\"white\",\"linecolor\":\"white\",\"ticks\":\"\"}},\"title\":{\"x\":0.05},\"xaxis\":{\"automargin\":true,\"gridcolor\":\"white\",\"linecolor\":\"white\",\"ticks\":\"\",\"title\":{\"standoff\":15},\"zerolinecolor\":\"white\",\"zerolinewidth\":2},\"yaxis\":{\"automargin\":true,\"gridcolor\":\"white\",\"linecolor\":\"white\",\"ticks\":\"\",\"title\":{\"standoff\":15},\"zerolinecolor\":\"white\",\"zerolinewidth\":2}}},\"title\":{\"text\":\"Number of Accidents for each State\"},\"geo\":{\"scope\":\"usa\"}},                        {\"responsive\": true}                    ).then(function(){\n",
              "                            \n",
              "var gd = document.getElementById('7ae4c17b-b74f-4829-9b32-328f8d354b76');\n",
              "var x = new MutationObserver(function (mutations, observer) {{\n",
              "        var display = window.getComputedStyle(gd).display;\n",
              "        if (!display || display === 'none') {{\n",
              "            console.log([gd, 'removed!']);\n",
              "            Plotly.purge(gd);\n",
              "            observer.disconnect();\n",
              "        }}\n",
              "}});\n",
              "\n",
              "// Listen for the removal of the full notebook cells\n",
              "var notebookContainer = gd.closest('#notebook-container');\n",
              "if (notebookContainer) {{\n",
              "    x.observe(notebookContainer, {childList: true});\n",
              "}}\n",
              "\n",
              "// Listen for the clearing of the current output cell\n",
              "var outputEl = gd.closest('.output');\n",
              "if (outputEl) {{\n",
              "    x.observe(outputEl, {childList: true});\n",
              "}}\n",
              "\n",
              "                        })                };                            </script>        </div>\n",
              "</body>\n",
              "</html>"
            ]
          },
          "metadata": {}
        }
      ]
    },
    {
      "cell_type": "code",
      "source": [
        "print(\"State Code: \", df.State.unique())\n",
        "print(\"Total No. of State in Dataset: \", len(df.State.unique()))"
      ],
      "metadata": {
        "colab": {
          "base_uri": "https://localhost:8080/"
        },
        "id": "RsxD895GUivm",
        "outputId": "13366019-4d96-4064-d79b-d56a044fb31a"
      },
      "execution_count": 52,
      "outputs": [
        {
          "output_type": "stream",
          "name": "stdout",
          "text": [
            "State Code:  ['OH' 'IN' 'KY' 'WV' 'MI' 'PA' 'CA' 'NV' 'MN' 'TX' 'MO' 'CO' 'OK' 'LA'\n",
            " 'KS' 'WI' 'IA' 'MS' 'NE' 'ND' 'WY' 'SD' 'MT' 'NM' 'AR' 'IL' 'NJ' 'GA'\n",
            " 'FL' 'NY' 'CT' 'RI' 'SC' 'NC' 'MD' 'MA' 'TN' 'VA' 'DE' 'DC' 'ME' 'AL'\n",
            " 'NH' 'VT' 'AZ' 'UT' 'ID' 'OR' 'WA']\n",
            "Total No. of State in Dataset:  49\n"
          ]
        }
      ]
    },
    {
      "cell_type": "markdown",
      "source": [
        "- Total No. of State in Dataset: 49\n",
        "- There are 50 states in US\n",
        "- New York is not in the dataset"
      ],
      "metadata": {
        "id": "DafoHoiEWjHn"
      }
    },
    {
      "cell_type": "code",
      "source": [
        "fig, ax = plt.subplots(figsize = (15,5))\n",
        "c = sns.countplot(x=\"State\", data=df, orient = 'v', order = df['State'].value_counts().index)\n",
        "c.set_title(\"States with No. of Accidents\");"
      ],
      "metadata": {
        "colab": {
          "base_uri": "https://localhost:8080/",
          "height": 350
        },
        "id": "uS0wEIxsWvAM",
        "outputId": "51442d79-eb73-4abd-ab8c-89d256cb3a55"
      },
      "execution_count": 58,
      "outputs": [
        {
          "output_type": "display_data",
          "data": {
            "image/png": "[encoded data removed]",
            "text/plain": [
              "<Figure size 1080x360 with 1 Axes>"
            ]
          },
          "metadata": {}
        }
      ]
    },
    {
      "cell_type": "markdown",
      "source": [
        "\n",
        "\n",
        "- California is the state with highest accidents followed by Florida and Orlando\n",
        "\n",
        "\n",
        "\n",
        "---\n",
        "\n",
        "- California (CA) is the 3rd most largest state of US after Texas (TX) and Alaska( AL)\n",
        "- Also California (CA) is the most populated among all, followed by Texas (TX)\n",
        "- Alaska (AL) is the largest state but least populated state at 48th rank\n",
        "\n",
        "\n",
        "\n",
        "\n"
      ],
      "metadata": {
        "id": "AVXYF4VKXFgI"
      }
    },
    {
      "cell_type": "code",
      "source": [
        ""
      ],
      "metadata": {
        "id": "WSiRaeXPUin6"
      },
      "execution_count": null,
      "outputs": []
    },
    {
      "cell_type": "markdown",
      "source": [
        "### City"
      ],
      "metadata": {
        "id": "hSjYv5uCovxZ"
      }
    },
    {
      "cell_type": "code",
      "source": [
        "df.City"
      ],
      "metadata": {
        "colab": {
          "base_uri": "https://localhost:8080/"
        },
        "id": "1aZWG6uKb939",
        "outputId": "fd1cb166-ddff-4105-9147-06506182c6e6"
      },
      "execution_count": 18,
      "outputs": [
        {
          "output_type": "execute_result",
          "data": {
            "text/plain": [
              "0               Dublin\n",
              "1               Dayton\n",
              "2           Cincinnati\n",
              "3           Cincinnati\n",
              "4                Akron\n",
              "              ...     \n",
              "1516059      Riverside\n",
              "1516060      San Diego\n",
              "1516061         Orange\n",
              "1516062    Culver City\n",
              "1516063       Highland\n",
              "Name: City, Length: 1516064, dtype: object"
            ]
          },
          "metadata": {},
          "execution_count": 18
        }
      ]
    },
    {
      "cell_type": "code",
      "source": [
        "cities= df.City.unique()\n",
        "len(cities)"
      ],
      "metadata": {
        "colab": {
          "base_uri": "https://localhost:8080/"
        },
        "id": "ihGT6pUYb-YX",
        "outputId": "18eb1c83-604a-4114-d825-4dc3d3ad6833"
      },
      "execution_count": 19,
      "outputs": [
        {
          "output_type": "execute_result",
          "data": {
            "text/plain": [
              "10658"
            ]
          },
          "metadata": {},
          "execution_count": 19
        }
      ]
    },
    {
      "cell_type": "code",
      "source": [
        "cities_by_accident = df.City.value_counts()\n",
        "cities_by_accident"
      ],
      "metadata": {
        "colab": {
          "base_uri": "https://localhost:8080/"
        },
        "id": "VxFpYuNkb-NW",
        "outputId": "a3bac36d-2cb6-47d8-da68-a63ba676095d"
      },
      "execution_count": 20,
      "outputs": [
        {
          "output_type": "execute_result",
          "data": {
            "text/plain": [
              "Los Angeles    39984\n",
              "Miami          36233\n",
              "Charlotte      22203\n",
              "Houston        20843\n",
              "Dallas         19497\n",
              "               ...  \n",
              "Higden             1\n",
              "Lavaca             1\n",
              "Hotevilla          1\n",
              "Fort Scott         1\n",
              "Gerry              1\n",
              "Name: City, Length: 10657, dtype: int64"
            ]
          },
          "metadata": {},
          "execution_count": 20
        }
      ]
    },
    {
      "cell_type": "code",
      "source": [
        "cities_by_accident[:20]"
      ],
      "metadata": {
        "colab": {
          "base_uri": "https://localhost:8080/"
        },
        "id": "_4nrZ65OcGBe",
        "outputId": "2b1e28de-0331-4175-9f54-cca1f1c5e679"
      },
      "execution_count": 21,
      "outputs": [
        {
          "output_type": "execute_result",
          "data": {
            "text/plain": [
              "Los Angeles     39984\n",
              "Miami           36233\n",
              "Charlotte       22203\n",
              "Houston         20843\n",
              "Dallas          19497\n",
              "Sacramento      18431\n",
              "Orlando         16169\n",
              "Portland        14805\n",
              "San Diego       14090\n",
              "Minneapolis     12653\n",
              "Atlanta         11854\n",
              "Chicago         11507\n",
              "Saint Paul      10084\n",
              "Phoenix          9934\n",
              "Raleigh          9516\n",
              "San Jose         9362\n",
              "Richmond         8472\n",
              "Nashville        8381\n",
              "Riverside        8201\n",
              "Jacksonville     7815\n",
              "Name: City, dtype: int64"
            ]
          },
          "metadata": {},
          "execution_count": 21
        }
      ]
    },
    {
      "cell_type": "code",
      "source": [
        "cities_by_accident[:20].plot(kind='barh')"
      ],
      "metadata": {
        "colab": {
          "base_uri": "https://localhost:8080/",
          "height": 282
        },
        "id": "DG9wNcDvaykg",
        "outputId": "dbae4bbd-f265-4d9d-a311-803935c9c0c8"
      },
      "execution_count": 22,
      "outputs": [
        {
          "output_type": "execute_result",
          "data": {
            "text/plain": [
              "<matplotlib.axes._subplots.AxesSubplot at 0x7fe83ef82c10>"
            ]
          },
          "metadata": {},
          "execution_count": 22
        },
        {
          "output_type": "display_data",
          "data": {
            "image/png": "[encoded data removed]",
            "text/plain": [
              "<Figure size 432x288 with 1 Axes>"
            ]
          },
          "metadata": {
            "needs_background": "light"
          }
        }
      ]
    },
    {
      "cell_type": "code",
      "source": [
        "import seaborn as sns\n",
        "sns.set_style(\"darkgrid\")"
      ],
      "metadata": {
        "id": "4f-E0UPuayg9"
      },
      "execution_count": 23,
      "outputs": []
    },
    {
      "cell_type": "code",
      "source": [
        "sns.distplot(cities_by_accident)"
      ],
      "metadata": {
        "colab": {
          "base_uri": "https://localhost:8080/",
          "height": 351
        },
        "id": "wUwVP8SgayeT",
        "outputId": "fdf61d83-2214-4b68-f7f1-cdcbb38d0572"
      },
      "execution_count": 24,
      "outputs": [
        {
          "output_type": "stream",
          "name": "stderr",
          "text": [
            "/usr/local/lib/python3.7/dist-packages/seaborn/distributions.py:2619: FutureWarning: `distplot` is a deprecated function and will be removed in a future version. Please adapt your code to use either `displot` (a figure-level function with similar flexibility) or `histplot` (an axes-level function for histograms).\n",
            "  warnings.warn(msg, FutureWarning)\n"
          ]
        },
        {
          "output_type": "execute_result",
          "data": {
            "text/plain": [
              "<matplotlib.axes._subplots.AxesSubplot at 0x7fe8435145d0>"
            ]
          },
          "metadata": {},
          "execution_count": 24
        },
        {
          "output_type": "display_data",
          "data": {
            "image/png": "[encoded data removed]",
            "text/plain": [
              "<Figure size 432x288 with 1 Axes>"
            ]
          },
          "metadata": {}
        }
      ]
    },
    {
      "cell_type": "code",
      "source": [
        "high_accident_cities = cities_by_accident[cities_by_accident>=1000]\n",
        "low_accident_cities = cities_by_accident[cities_by_accident<1000]\n"
      ],
      "metadata": {
        "id": "AJlARbnBayUs"
      },
      "execution_count": 25,
      "outputs": []
    },
    {
      "cell_type": "code",
      "source": [
        "len(high_accident_cities)/ len(cities) *100"
      ],
      "metadata": {
        "colab": {
          "base_uri": "https://localhost:8080/"
        },
        "id": "vg1BAVWqfeqc",
        "outputId": "17fa1a21-340f-4b0b-bb74-654a1a7fba6e"
      },
      "execution_count": 26,
      "outputs": [
        {
          "output_type": "execute_result",
          "data": {
            "text/plain": [
              "2.3550384687558643"
            ]
          },
          "metadata": {},
          "execution_count": 26
        }
      ]
    },
    {
      "cell_type": "code",
      "source": [
        "sns.histplot(high_accident_cities,log_scale= True)"
      ],
      "metadata": {
        "colab": {
          "base_uri": "https://localhost:8080/",
          "height": 300
        },
        "id": "-U3c1haPh7ko",
        "outputId": "9929dd14-0618-45d8-e0f2-e6a99b81b625"
      },
      "execution_count": 27,
      "outputs": [
        {
          "output_type": "execute_result",
          "data": {
            "text/plain": [
              "<matplotlib.axes._subplots.AxesSubplot at 0x7fe8433b5d90>"
            ]
          },
          "metadata": {},
          "execution_count": 27
        },
        {
          "output_type": "display_data",
          "data": {
            "image/png": "[encoded data removed]",
            "text/plain": [
              "<Figure size 432x288 with 1 Axes>"
            ]
          },
          "metadata": {}
        }
      ]
    },
    {
      "cell_type": "code",
      "source": [
        "sns.histplot(low_accident_cities, log_scale = True)"
      ],
      "metadata": {
        "colab": {
          "base_uri": "https://localhost:8080/",
          "height": 300
        },
        "id": "mmkjyBfXh7Zb",
        "outputId": "fd73dc5d-6390-4a46-e8c8-230be7bdda48"
      },
      "execution_count": 28,
      "outputs": [
        {
          "output_type": "execute_result",
          "data": {
            "text/plain": [
              "<matplotlib.axes._subplots.AxesSubplot at 0x7fe843218a90>"
            ]
          },
          "metadata": {},
          "execution_count": 28
        },
        {
          "output_type": "display_data",
          "data": {
            "image/png": "[encoded data removed]",
            "text/plain": [
              "<Figure size 432x288 with 1 Axes>"
            ]
          },
          "metadata": {}
        }
      ]
    },
    {
      "cell_type": "code",
      "source": [
        "cities_by_accident[cities_by_accident == 1]"
      ],
      "metadata": {
        "colab": {
          "base_uri": "https://localhost:8080/"
        },
        "id": "N2_p87ADqsg2",
        "outputId": "d9659981-d441-4888-91af-0ad5c462a019"
      },
      "execution_count": 29,
      "outputs": [
        {
          "output_type": "execute_result",
          "data": {
            "text/plain": [
              "Gracemont        1\n",
              "Kinsley          1\n",
              "Cochranton       1\n",
              "West Kingston    1\n",
              "Trotwood         1\n",
              "                ..\n",
              "Higden           1\n",
              "Lavaca           1\n",
              "Hotevilla        1\n",
              "Fort Scott       1\n",
              "Gerry            1\n",
              "Name: City, Length: 1167, dtype: int64"
            ]
          },
          "metadata": {},
          "execution_count": 29
        }
      ]
    },
    {
      "cell_type": "markdown",
      "source": [
        "### Start Time"
      ],
      "metadata": {
        "id": "OMMdI615oo8L"
      }
    },
    {
      "cell_type": "code",
      "source": [
        "df.Start_Time= pd.to_datetime(df.Start_Time)"
      ],
      "metadata": {
        "id": "VAa1dANiqsMC"
      },
      "execution_count": 30,
      "outputs": []
    },
    {
      "cell_type": "code",
      "source": [
        "sns.distplot(df.Start_Time.dt.hour,bins=24, kde=False, norm_hist = True)"
      ],
      "metadata": {
        "colab": {
          "base_uri": "https://localhost:8080/",
          "height": 352
        },
        "id": "-hCxQ40ZqsJi",
        "outputId": "752ad6fa-2d46-488d-f6aa-47f5113cb4d1"
      },
      "execution_count": 31,
      "outputs": [
        {
          "output_type": "stream",
          "name": "stderr",
          "text": [
            "/usr/local/lib/python3.7/dist-packages/seaborn/distributions.py:2619: FutureWarning: `distplot` is a deprecated function and will be removed in a future version. Please adapt your code to use either `displot` (a figure-level function with similar flexibility) or `histplot` (an axes-level function for histograms).\n",
            "  warnings.warn(msg, FutureWarning)\n"
          ]
        },
        {
          "output_type": "execute_result",
          "data": {
            "text/plain": [
              "<matplotlib.axes._subplots.AxesSubplot at 0x7fe84318c8d0>"
            ]
          },
          "metadata": {},
          "execution_count": 31
        },
        {
          "output_type": "display_data",
          "data": {
            "image/png": "[encoded data removed]",
            "text/plain": [
              "<Figure size 432x288 with 1 Axes>"
            ]
          },
          "metadata": {}
        }
      ]
    },
    {
      "cell_type": "markdown",
      "source": [
        "- A high Percentage of accidents  occur between 6 AM to 9 AM ( probably the traffic is higher during the day as it is the work commute time and people are in a hurry.)\n",
        "\n",
        "- The highest percentage of accidents occur in 1 PM to 6 PM "
      ],
      "metadata": {
        "id": "ly8V2Ztu2JHF"
      }
    },
    {
      "cell_type": "code",
      "source": [
        "sns.distplot(df.Start_Time.dt.dayofweek,bins=7, kde=False, norm_hist = True)"
      ],
      "metadata": {
        "colab": {
          "base_uri": "https://localhost:8080/",
          "height": 352
        },
        "id": "iig7EsrCzGs1",
        "outputId": "68a8bf18-530f-4fad-e596-788856457dd2"
      },
      "execution_count": 32,
      "outputs": [
        {
          "output_type": "stream",
          "name": "stderr",
          "text": [
            "/usr/local/lib/python3.7/dist-packages/seaborn/distributions.py:2619: FutureWarning: `distplot` is a deprecated function and will be removed in a future version. Please adapt your code to use either `displot` (a figure-level function with similar flexibility) or `histplot` (an axes-level function for histograms).\n",
            "  warnings.warn(msg, FutureWarning)\n"
          ]
        },
        {
          "output_type": "execute_result",
          "data": {
            "text/plain": [
              "<matplotlib.axes._subplots.AxesSubplot at 0x7fe84dace550>"
            ]
          },
          "metadata": {},
          "execution_count": 32
        },
        {
          "output_type": "display_data",
          "data": {
            "image/png": "[encoded data removed]",
            "text/plain": [
              "<Figure size 432x288 with 1 Axes>"
            ]
          },
          "metadata": {}
        }
      ]
    },
    {
      "cell_type": "markdown",
      "source": [
        "On Weekend ie 5 and 6 there are fewer accidents as compared to weekday as less people travel for work \n"
      ],
      "metadata": {
        "id": "Qyx7Fuc64-t5"
      }
    },
    {
      "cell_type": "markdown",
      "source": [
        "####Is the distribution of work by hour the same on weekends as on weekdays?"
      ],
      "metadata": {
        "id": "fNQFm95a5M_h"
      }
    },
    {
      "cell_type": "code",
      "source": [
        "sundays_start_time = df.Start_Time[df.Start_Time.dt.dayofweek == 6 ]\n",
        "sns.distplot(sundays_start_time.dt.hour,bins=24, kde=False, norm_hist = True)"
      ],
      "metadata": {
        "colab": {
          "base_uri": "https://localhost:8080/",
          "height": 352
        },
        "id": "ufEHZG_O58qH",
        "outputId": "2b25f022-127e-461b-b508-299ba7050571"
      },
      "execution_count": 33,
      "outputs": [
        {
          "output_type": "stream",
          "name": "stderr",
          "text": [
            "/usr/local/lib/python3.7/dist-packages/seaborn/distributions.py:2619: FutureWarning: `distplot` is a deprecated function and will be removed in a future version. Please adapt your code to use either `displot` (a figure-level function with similar flexibility) or `histplot` (an axes-level function for histograms).\n",
            "  warnings.warn(msg, FutureWarning)\n"
          ]
        },
        {
          "output_type": "execute_result",
          "data": {
            "text/plain": [
              "<matplotlib.axes._subplots.AxesSubplot at 0x7fe84d5f7b10>"
            ]
          },
          "metadata": {},
          "execution_count": 33
        },
        {
          "output_type": "display_data",
          "data": {
            "image/png": "[encoded data removed]",
            "text/plain": [
              "<Figure size 432x288 with 1 Axes>"
            ]
          },
          "metadata": {}
        }
      ]
    },
    {
      "cell_type": "code",
      "source": [
        "mondays_start_time = df.Start_Time[df.Start_Time.dt.dayofweek == 0 ]\n",
        "sns.distplot(mondays_start_time.dt.hour,bins=24, kde=False, norm_hist = True)"
      ],
      "metadata": {
        "colab": {
          "base_uri": "https://localhost:8080/",
          "height": 354
        },
        "id": "qcVszCni58ff",
        "outputId": "d1d7e638-ee45-4ada-d64a-13659e1ffd6e"
      },
      "execution_count": 34,
      "outputs": [
        {
          "output_type": "stream",
          "name": "stderr",
          "text": [
            "/usr/local/lib/python3.7/dist-packages/seaborn/distributions.py:2619: FutureWarning: `distplot` is a deprecated function and will be removed in a future version. Please adapt your code to use either `displot` (a figure-level function with similar flexibility) or `histplot` (an axes-level function for histograms).\n",
            "  warnings.warn(msg, FutureWarning)\n"
          ]
        },
        {
          "output_type": "execute_result",
          "data": {
            "text/plain": [
              "<matplotlib.axes._subplots.AxesSubplot at 0x7fe842fb7090>"
            ]
          },
          "metadata": {},
          "execution_count": 34
        },
        {
          "output_type": "display_data",
          "data": {
            "image/png": "[encoded data removed]",
            "text/plain": [
              "<Figure size 432x288 with 1 Axes>"
            ]
          },
          "metadata": {}
        }
      ]
    },
    {
      "cell_type": "markdown",
      "source": [
        "- On Sundays,  the peak occurs between 2 PM to 8 PM unlike weekdays. Maybe because people go for recreation on Sundays at this time. \n"
      ],
      "metadata": {
        "id": "CuFPFz5l69y6"
      }
    },
    {
      "cell_type": "code",
      "source": [
        "df_2018 = df[df.Start_Time.dt.year == 2018]\n",
        "sns.distplot(df_2018.Start_Time.dt.month,bins=12, kde=False, norm_hist = True)"
      ],
      "metadata": {
        "colab": {
          "base_uri": "https://localhost:8080/",
          "height": 352
        },
        "id": "k-eUfIcp8WXB",
        "outputId": "59f53ad6-7c0c-4a53-c24b-522b0e487d3f"
      },
      "execution_count": 35,
      "outputs": [
        {
          "output_type": "stream",
          "name": "stderr",
          "text": [
            "/usr/local/lib/python3.7/dist-packages/seaborn/distributions.py:2619: FutureWarning: `distplot` is a deprecated function and will be removed in a future version. Please adapt your code to use either `displot` (a figure-level function with similar flexibility) or `histplot` (an axes-level function for histograms).\n",
            "  warnings.warn(msg, FutureWarning)\n"
          ]
        },
        {
          "output_type": "execute_result",
          "data": {
            "text/plain": [
              "<matplotlib.axes._subplots.AxesSubplot at 0x7fe843078050>"
            ]
          },
          "metadata": {},
          "execution_count": 35
        },
        {
          "output_type": "display_data",
          "data": {
            "image/png": "[encoded data removed]",
            "text/plain": [
              "<Figure size 432x288 with 1 Axes>"
            ]
          },
          "metadata": {}
        }
      ]
    },
    {
      "cell_type": "markdown",
      "source": [
        "- 2018:  In summer months the accidents are low, but during the winters by the start of September to December the accident rate is higher. "
      ],
      "metadata": {
        "id": "YWubkRgS9ff-"
      }
    },
    {
      "cell_type": "code",
      "source": [
        "df_2016 = df[df.Start_Time.dt.year == 2016]\n",
        "sns.distplot(df_2016.Start_Time.dt.month,bins=12, kde=False, norm_hist = True)"
      ],
      "metadata": {
        "colab": {
          "base_uri": "https://localhost:8080/",
          "height": 352
        },
        "id": "pmQKztw98VaH",
        "outputId": "3f298a34-7b12-4425-b77a-3dd4d416906e"
      },
      "execution_count": 36,
      "outputs": [
        {
          "output_type": "stream",
          "name": "stderr",
          "text": [
            "/usr/local/lib/python3.7/dist-packages/seaborn/distributions.py:2619: FutureWarning: `distplot` is a deprecated function and will be removed in a future version. Please adapt your code to use either `displot` (a figure-level function with similar flexibility) or `histplot` (an axes-level function for histograms).\n",
            "  warnings.warn(msg, FutureWarning)\n"
          ]
        },
        {
          "output_type": "execute_result",
          "data": {
            "text/plain": [
              "<matplotlib.axes._subplots.AxesSubplot at 0x7fe842f57a90>"
            ]
          },
          "metadata": {},
          "execution_count": 36
        },
        {
          "output_type": "display_data",
          "data": {
            "image/png": "[encoded data removed]",
            "text/plain": [
              "<Figure size 432x288 with 1 Axes>"
            ]
          },
          "metadata": {}
        }
      ]
    },
    {
      "cell_type": "markdown",
      "source": [
        "2016 : Here the dataset we are working on starts from 2016, so many data is missing for 2016"
      ],
      "metadata": {
        "id": "Ye1MLUQ2BAv2"
      }
    },
    {
      "cell_type": "markdown",
      "source": [
        "### Start Latitude and Longitude"
      ],
      "metadata": {
        "id": "RtT2Yg5WUnC4"
      }
    },
    {
      "cell_type": "code",
      "source": [
        "df.Start_Lat"
      ],
      "metadata": {
        "colab": {
          "base_uri": "https://localhost:8080/"
        },
        "id": "J1KuBRkjBtUC",
        "outputId": "6c552b59-bf27-4946-c2a4-85ca11905ce5"
      },
      "execution_count": 37,
      "outputs": [
        {
          "output_type": "execute_result",
          "data": {
            "text/plain": [
              "0          40.10891\n",
              "1          39.86542\n",
              "2          39.10266\n",
              "3          39.10148\n",
              "4          41.06213\n",
              "             ...   \n",
              "1516059    34.00248\n",
              "1516060    32.76696\n",
              "1516061    33.77545\n",
              "1516062    33.99246\n",
              "1516063    34.13393\n",
              "Name: Start_Lat, Length: 1516064, dtype: float64"
            ]
          },
          "metadata": {},
          "execution_count": 37
        }
      ]
    },
    {
      "cell_type": "code",
      "source": [
        "df.Start_Lng"
      ],
      "metadata": {
        "colab": {
          "base_uri": "https://localhost:8080/"
        },
        "id": "qywHaUtCBtQC",
        "outputId": "caac35c8-7590-4d2c-bd7a-dc924c044c1c"
      },
      "execution_count": 38,
      "outputs": [
        {
          "output_type": "execute_result",
          "data": {
            "text/plain": [
              "0          -83.09286\n",
              "1          -84.06280\n",
              "2          -84.52468\n",
              "3          -84.52341\n",
              "4          -81.53784\n",
              "             ...    \n",
              "1516059   -117.37936\n",
              "1516060   -117.14806\n",
              "1516061   -117.84779\n",
              "1516062   -118.40302\n",
              "1516063   -117.23092\n",
              "Name: Start_Lng, Length: 1516064, dtype: float64"
            ]
          },
          "metadata": {},
          "execution_count": 38
        }
      ]
    },
    {
      "cell_type": "code",
      "source": [
        "sns.scatterplot(x=df.Start_Lng, y= df.Start_Lat, size =)"
      ],
      "metadata": {
        "colab": {
          "base_uri": "https://localhost:8080/",
          "height": 299
        },
        "id": "y4DiqTErBtFG",
        "outputId": "18fe8f2c-cf63-4c1f-92a8-1f55b226a87c"
      },
      "execution_count": 59,
      "outputs": [
        {
          "output_type": "execute_result",
          "data": {
            "text/plain": [
              "<matplotlib.axes._subplots.AxesSubplot at 0x7fe832582cd0>"
            ]
          },
          "metadata": {},
          "execution_count": 59
        },
        {
          "output_type": "display_data",
          "data": {
            "image/png": "[encoded data removed]",
            "text/plain": [
              "<Figure size 432x288 with 1 Axes>"
            ]
          },
          "metadata": {}
        }
      ]
    },
    {
      "cell_type": "code",
      "source": [
        ""
      ],
      "metadata": {
        "id": "jh6VEYqX8VQ6"
      },
      "execution_count": null,
      "outputs": []
    },
    {
      "cell_type": "code",
      "source": [
        "import folium"
      ],
      "metadata": {
        "id": "ciRTGLNiWQqA"
      },
      "execution_count": 41,
      "outputs": []
    },
    {
      "cell_type": "code",
      "source": [
        "lat, lon = df.Start_Lat[0], df.Start_Lng[0]\n",
        "lat, lon"
      ],
      "metadata": {
        "colab": {
          "base_uri": "https://localhost:8080/"
        },
        "id": "-SOTivkiWcsH",
        "outputId": "964f1878-c3bf-490d-9072-5183f201a2f6"
      },
      "execution_count": 42,
      "outputs": [
        {
          "output_type": "execute_result",
          "data": {
            "text/plain": [
              "(40.108909999999995, -83.09286)"
            ]
          },
          "metadata": {},
          "execution_count": 42
        }
      ]
    },
    {
      "cell_type": "markdown",
      "source": [
        "now we ill put latitudes and longitudes into pairs for plotting the heatmap"
      ],
      "metadata": {
        "id": "Ezl2uLXfYoiK"
      }
    },
    {
      "cell_type": "code",
      "source": [
        "list(zip(list(df.Start_Lat), list(df.Start_Lng)))"
      ],
      "metadata": {
        "colab": {
          "base_uri": "https://localhost:8080/"
        },
        "id": "tjTHAqhZXPrN",
        "outputId": "966aacab-57cd-4346-aacd-1bf2b79d9c41"
      },
      "execution_count": 43,
      "outputs": [
        {
          "output_type": "execute_result",
          "data": {
            "text/plain": [
              "[(40.108909999999995, -83.09286),\n",
              " (39.86542, -84.0628),\n",
              " (39.10266, -84.52468),\n",
              " (39.10148, -84.52341),\n",
              " (41.062129999999996, -81.53784),\n",
              " (39.172393, -84.49279200000001),\n",
              " (39.06324, -84.03243),\n",
              " (39.06708, -84.05855),\n",
              " (39.77565, -84.18603),\n",
              " (41.37531, -81.82016999999999),\n",
              " (40.702247, -84.075887),\n",
              " (40.10931, -82.96849),\n",
              " (39.19288, -84.47723),\n",
              " (39.13877, -84.53394),\n",
              " (41.4739, -81.704233),\n",
              " (39.582242, -83.677814),\n",
              " (40.151785, -81.312635),\n",
              " (40.151747, -81.312682),\n",
              " (39.972409999999996, -82.84695),\n",
              " (39.9838, -82.85656999999999),\n",
              " (40.02664, -82.9944),\n",
              " (41.679361, -83.573037),\n",
              " (40.99613, -85.26613),\n",
              " (39.0381, -84.59243000000001),\n",
              " (40.03386, -82.99601),\n",
              " (39.85798, -84.28181),\n",
              " (39.15267, -84.5395),\n",
              " (39.307320000000004, -85.95982),\n",
              " (39.77572, -84.04815),\n",
              " (39.97643, -83.12306),\n",
              " (39.58595, -85.82518),\n",
              " (39.3638, -85.51659000000001),\n",
              " (39.45132, -85.62516),\n",
              " (39.75067, -84.14148),\n",
              " (39.2675, -81.49929),\n",
              " (39.86025, -85.96623000000001),\n",
              " (41.95677, -83.67214),\n",
              " (38.27401, -85.74844),\n",
              " (41.95677, -83.67214),\n",
              " (40.52225, -80.06666),\n",
              " (40.487814, -80.009439),\n",
              " (40.156298, -83.018431),\n",
              " (41.47461, -81.71181999999999),\n",
              " (41.0618, -81.54608),\n",
              " (40.45112, -85.15048),\n",
              " (40.35429, -85.14993),\n",
              " (39.75855, -85.13715),\n",
              " (39.74408, -85.13749),\n",
              " (39.965148, -83.020499),\n",
              " (40.72813, -84.78965),\n",
              " (39.85223, -85.25846999999999),\n",
              " (41.46747, -81.75909),\n",
              " (41.83193, -80.10143000000001),\n",
              " (39.744287, -84.204939),\n",
              " (39.71548, -84.22033),\n",
              " (39.7504, -84.20561),\n",
              " (41.72316, -84.96444),\n",
              " (40.04376, -82.99708000000001),\n",
              " (38.1781, -85.71946),\n",
              " (38.18577, -85.80678),\n",
              " (38.27191, -85.80838),\n",
              " (39.923905, -82.87008),\n",
              " (41.035565999999996, -81.569917),\n",
              " (39.9239, -83.68767),\n",
              " (41.851914, -80.175232),\n",
              " (39.93849, -82.84849),\n",
              " (38.969429999999996, -80.1096),\n",
              " (39.00248, -80.22624),\n",
              " (41.66805, -83.57063000000001),\n",
              " (41.48339, -81.66297),\n",
              " (41.50127, -81.4804),\n",
              " (39.789093, -82.989106),\n",
              " (41.67073, -81.24561),\n",
              " (41.708459999999995, -81.17636),\n",
              " (41.44246, -81.78485),\n",
              " (39.77128, -84.1923),\n",
              " (41.50499, -81.47417),\n",
              " (40.109653, -80.2029),\n",
              " (38.38852, -81.7687),\n",
              " (41.03572, -81.57809),\n",
              " (41.47487, -81.72095),\n",
              " (41.62845, -84.80559000000001),\n",
              " (41.62894, -84.80373),\n",
              " (41.16102, -81.78573),\n",
              " (41.628232000000004, -84.808858),\n",
              " (41.62986, -84.76619000000001),\n",
              " (39.74729, -84.21426),\n",
              " (41.42099, -81.69051999999999),\n",
              " (41.42318, -81.84674),\n",
              " (38.79691, -84.48273),\n",
              " (38.80878, -84.49638),\n",
              " (38.30155, -85.85499),\n",
              " (38.33667, -81.65623000000001),\n",
              " (38.33614, -81.65623000000001),\n",
              " (41.0961, -81.58593),\n",
              " (41.12155, -85.18715999999999),\n",
              " (38.829993, -80.667067),\n",
              " (40.05642, -83.03097),\n",
              " (41.37717, -81.5139),\n",
              " (39.173970000000004, -84.49031),\n",
              " (39.75513, -84.16614),\n",
              " (39.173970000000004, -84.49031),\n",
              " (41.12624, -81.65299),\n",
              " (38.33667, -81.65623000000001),\n",
              " (41.10389, -81.5),\n",
              " (39.16417, -84.45275),\n",
              " (40.11184, -83.00883),\n",
              " (38.31922, -85.75301999999999),\n",
              " (39.09881, -84.50801),\n",
              " (41.473859000000004, -81.708409),\n",
              " (41.039988, -81.565332),\n",
              " (41.73565, -84.99082),\n",
              " (39.26566, -84.43965),\n",
              " (41.469809999999995, -81.81104),\n",
              " (41.25666, -81.63157),\n",
              " (40.58919, -80.09885),\n",
              " (41.063559999999995, -81.49078),\n",
              " (41.06218, -81.50595),\n",
              " (39.17736, -84.4873),\n",
              " (38.33956, -81.60991999999999),\n",
              " (41.47889, -81.6934),\n",
              " (40.58919, -80.09885),\n",
              " (41.411190000000005, -81.64414000000001),\n",
              " (39.24907, -84.44561999999999),\n",
              " (39.28775, -84.40073000000001),\n",
              " (41.47379, -81.89631),\n",
              " (41.549409999999995, -81.60676),\n",
              " (39.03347, -84.603),\n",
              " (39.74903, -84.20106),\n",
              " (39.894729999999996, -83.044),\n",
              " (39.19641, -84.47331),\n",
              " (39.22461, -84.45364000000001),\n",
              " (39.153059999999996, -84.44283),\n",
              " (39.97262, -82.98368),\n",
              " (40.535447, -80.03596),\n",
              " (40.529455, -80.03506999999999),\n",
              " (41.49647, -81.67733),\n",
              " (41.0634, -81.49079),\n",
              " (39.74284, -84.20479),\n",
              " (41.46822, -81.9476),\n",
              " (41.92479, -83.36026),\n",
              " (41.184738, -80.432713),\n",
              " (40.27317, -85.5577),\n",
              " (39.98264, -85.14301999999999),\n",
              " (40.27317, -85.5577),\n",
              " (40.42667, -85.54968000000001),\n",
              " (39.97527, -85.14018),\n",
              " (39.098890000000004, -84.52118),\n",
              " (38.88012, -84.62527),\n",
              " (38.792559999999995, -84.60423),\n",
              " (39.74284, -84.20479),\n",
              " (40.484221999999995, -80.13755400000001),\n",
              " (41.20104, -80.06859),\n",
              " (39.055279999999996, -84.39072),\n",
              " (41.623325, -83.692226),\n",
              " (40.53024, -80.00957),\n",
              " (40.53024, -80.00957),\n",
              " (40.06527, -82.99591),\n",
              " (40.43954, -80.00971),\n",
              " (41.422004, -81.730092),\n",
              " (39.3638, -85.51659000000001),\n",
              " (39.82083, -85.7749),\n",
              " (40.0366, -85.72561999999999),\n",
              " (39.855691, -84.29079200000001),\n",
              " (40.049152, -85.682047),\n",
              " (39.83939, -85.55752),\n",
              " (40.13386, -80.00666),\n",
              " (40.43954, -80.00971),\n",
              " (40.13386, -80.00666),\n",
              " (40.13386, -80.00666),\n",
              " (39.978590000000004, -82.9763),\n",
              " (39.95459, -83.04255),\n",
              " (39.68291, -85.97372),\n",
              " (38.49304, -85.77156),\n",
              " (38.33428, -85.82177),\n",
              " (39.99921, -83.02875),\n",
              " (38.53844, -85.77702),\n",
              " (38.1781, -85.71946),\n",
              " (39.87433, -82.99882),\n",
              " (41.39546, -85.32855),\n",
              " (41.394690000000004, -85.28893000000001),\n",
              " (41.90473, -83.36986),\n",
              " (40.771370000000005, -84.62203000000001),\n",
              " (40.80059, -84.61374),\n",
              " (39.87433, -82.99882),\n",
              " (40.78593, -84.61787),\n",
              " (40.80059, -84.61374),\n",
              " (41.67487, -83.57266),\n",
              " (41.47376, -81.86113),\n",
              " (38.33465, -85.75389),\n",
              " (39.14014, -84.53495),\n",
              " (41.801429999999996, -85.34888000000001),\n",
              " (41.81755, -85.32291),\n",
              " (41.35761, -81.81988),\n",
              " (39.343920000000004, -84.39043000000001),\n",
              " (39.816154, -83.18010500000001),\n",
              " (38.824929, -85.47449499999999),\n",
              " (38.82415, -85.63794),\n",
              " (40.593244, -85.150017),\n",
              " (40.600487, -85.150502),\n",
              " (41.19362, -80.2374),\n",
              " (40.55267, -85.14974000000001),\n",
              " (40.567440000000005, -85.14993),\n",
              " (40.14212, -81.55153),\n",
              " (39.94397, -82.41127),\n",
              " (39.96893, -83.11922),\n",
              " (40.6126, -80.09494000000001),\n",
              " (40.11184, -83.00883),\n",
              " (41.06347, -81.50372),\n",
              " (39.972931, -85.965783),\n",
              " (39.95459, -83.04255),\n",
              " (40.11184, -83.00883),\n",
              " (39.972409999999996, -82.84695),\n",
              " (39.9912, -85.9188),\n",
              " (41.34965, -81.51146),\n",
              " (41.11987, -80.69004),\n",
              " (41.11851, -80.69242),\n",
              " (40.05642, -83.03097),\n",
              " (41.123412, -80.68202600000001),\n",
              " (38.117487, -85.760397),\n",
              " (41.441340000000004, -81.65055),\n",
              " (38.61531, -80.76034),\n",
              " (41.124052, -80.677589),\n",
              " (39.95085, -82.94428),\n",
              " (41.06257, -81.52228000000001),\n",
              " (40.112120000000004, -83.03905999999999),\n",
              " (39.887033, -83.043909),\n",
              " (40.04916, -83.03336),\n",
              " (41.129059999999996, -85.1612),\n",
              " (41.17798, -85.10323000000001),\n",
              " (38.08783, -83.90263),\n",
              " (41.63316, -83.54203000000001),\n",
              " (39.149639, -84.539381),\n",
              " (40.9605, -85.3528),\n",
              " (40.96051, -85.34522),\n",
              " (41.08204, -80.64846999999999),\n",
              " (41.617909999999995, -83.54106999999999),\n",
              " (38.41592, -82.3465),\n",
              " (41.675709999999995, -83.69385),\n",
              " (39.08272, -84.52264),\n",
              " (39.280947, -80.278075),\n",
              " (38.36387, -81.73867),\n",
              " (40.0187, -82.90465999999999),\n",
              " (41.53757, -81.64083000000001),\n",
              " (41.16522, -81.47454),\n",
              " (39.52352, -82.02360999999999),\n",
              " (39.517216, -82.025802),\n",
              " (40.322818, -83.071034),\n",
              " (41.73565, -84.99082),\n",
              " (39.14648, -84.45455),\n",
              " (39.821220000000004, -85.76482),\n",
              " (41.11889, -81.65406999999999),\n",
              " (40.121557, -83.151457),\n",
              " (40.110170000000004, -83.15876999999999),\n",
              " (41.57777, -81.54987),\n",
              " (40.121557, -83.151457),\n",
              " (40.110170000000004, -83.15876999999999),\n",
              " (41.04592, -81.69463),\n",
              " (41.42099, -81.69051999999999),\n",
              " (39.27486, -84.346),\n",
              " (39.28266, -84.56742),\n",
              " (39.9467, -82.22232),\n",
              " (39.173970000000004, -84.49031),\n",
              " (39.17736, -84.4873),\n",
              " (39.9467, -82.22232),\n",
              " (39.9467, -82.22232),\n",
              " (41.685179999999995, -83.5678),\n",
              " (41.66572, -83.5652),\n",
              " (39.27125, -84.35176),\n",
              " (41.47395, -81.69931),\n",
              " (39.98505, -80.74006),\n",
              " (39.95813, -80.76219),\n",
              " (41.56544, -81.5835),\n",
              " (38.32587, -83.11389),\n",
              " (38.25869, -85.7622),\n",
              " (38.29322, -85.654625),\n",
              " (39.78609, -83.24606999999999),\n",
              " (41.53968, -81.62795),\n",
              " (39.08927, -84.5227),\n",
              " (38.25922, -85.76632),\n",
              " (41.552640000000004, -81.60032),\n",
              " (39.02187, -84.50492),\n",
              " (41.06755, -81.57421),\n",
              " (40.49223, -80.01029),\n",
              " (41.48836, -81.66471),\n",
              " (39.95085, -82.94428),\n",
              " (41.420629999999996, -81.80859),\n",
              " (41.06755, -81.57421),\n",
              " (40.82949, -81.39732),\n",
              " (41.400909999999996, -81.81724),\n",
              " (41.13355, -85.13584),\n",
              " (41.14226, -85.13611),\n",
              " (38.870385999999996, -84.624429),\n",
              " (41.47974, -81.6667),\n",
              " (40.30095, -80.16651999999999),\n",
              " (39.115429999999996, -84.50003000000001),\n",
              " (41.1419, -81.47694),\n",
              " (39.14917, -84.44711),\n",
              " (39.819790000000005, -84.18908),\n",
              " (39.84509, -84.1899),\n",
              " (41.47461, -81.71181999999999),\n",
              " (39.17304, -84.47589),\n",
              " (39.1021, -84.49754),\n",
              " (41.49873, -81.67260999999999),\n",
              " (39.12627, -84.53509),\n",
              " (41.473946000000005, -81.699011),\n",
              " (39.9745, -83.09654),\n",
              " (39.85911, -84.2808),\n",
              " (39.24943, -84.36541),\n",
              " (38.31179, -85.58773000000001),\n",
              " (39.27486, -84.346),\n",
              " (39.29287, -84.31981),\n",
              " (39.15267, -84.5395),\n",
              " (41.4675, -81.49014),\n",
              " (39.26661, -84.35605),\n",
              " (39.27125, -84.35176),\n",
              " (38.20674, -85.74846),\n",
              " (40.138040000000004, -82.97112),\n",
              " (41.47965, -81.66758),\n",
              " (39.08887, -84.52271),\n",
              " (41.6882, -83.64064),\n",
              " (40.06527, -82.99591),\n",
              " (39.865359999999995, -84.05238),\n",
              " (38.420223, -82.293065),\n",
              " (41.474140000000006, -81.69893),\n",
              " (41.47542, -81.68721),\n",
              " (40.07297, -83.1347),\n",
              " (40.056090000000005, -80.679211),\n",
              " (38.19105, -85.71902),\n",
              " (38.254540000000006, -85.71969),\n",
              " (39.171694, -84.494399),\n",
              " (41.06239, -81.52229),\n",
              " (39.259254, -84.440978),\n",
              " (39.905178, -82.895471),\n",
              " (40.0988, -83.13331),\n",
              " (41.339909999999996, -81.81739),\n",
              " (40.0999, -82.92089),\n",
              " (39.4728, -80.11963),\n",
              " (41.46631, -81.77065999999999),\n",
              " (38.34109, -81.70017),\n",
              " (41.160072, -85.232647),\n",
              " (41.163626, -85.24482900000001),\n",
              " (39.14014, -84.53495),\n",
              " (40.945370000000004, -81.15473),\n",
              " (41.68591, -83.911307),\n",
              " (41.704522999999995, -83.9136),\n",
              " (40.945772, -81.17219399999999),\n",
              " (38.82445, -82.98299),\n",
              " (38.84111, -82.98432),\n",
              " (39.00079, -84.42043000000001),\n",
              " (39.96071, -85.35383),\n",
              " (39.2675, -81.49929),\n",
              " (40.27317, -85.5577),\n",
              " (40.42667, -85.54968000000001),\n",
              " (38.130782, -81.388878),\n",
              " (38.545195, -85.778613),\n",
              " (38.362427000000004, -81.714434),\n",
              " (38.39115, -81.58664),\n",
              " (40.08978, -82.98725999999999),\n",
              " (40.0122, -82.99188000000001),\n",
              " (41.68918, -83.53681999999999),\n",
              " (39.3781, -84.365),\n",
              " (39.11919, -84.53539),\n",
              " (39.050290000000004, -83.77673),\n",
              " (39.04827, -83.77199),\n",
              " (40.0717, -82.90821),\n",
              " (39.09655, -84.48312),\n",
              " (40.43077, -80.02638),\n",
              " (41.443708, -85.19285),\n",
              " (41.438119, -85.15969399999999),\n",
              " (41.46747, -81.75909),\n",
              " (39.044435, -84.465864),\n",
              " (39.22461, -84.45364000000001),\n",
              " (41.104217, -81.499987),\n",
              " (41.1003, -81.4999),\n",
              " (39.1021, -84.49754),\n",
              " (41.46375, -81.69353000000001),\n",
              " (41.52134, -83.45642),\n",
              " (41.525490000000005, -83.46344),\n",
              " (41.43166, -81.68160999999999),\n",
              " (38.22363, -85.50532),\n",
              " (40.854659999999996, -81.41646999999999),\n",
              " (38.22272, -85.50111),\n",
              " (39.12424, -84.53501),\n",
              " (39.09858, -84.51974),\n",
              " (39.63551, -84.19519),\n",
              " (40.39715, -80.10368000000001),\n",
              " (41.56709, -81.57816),\n",
              " (41.18225, -84.94275999999999),\n",
              " (41.18225, -84.94275999999999),\n",
              " (39.10148, -84.52341),\n",
              " (39.10266, -84.52468),\n",
              " (41.55245, -83.60061999999999),\n",
              " (38.52006, -81.35221),\n",
              " (41.3513, -83.62276),\n",
              " (39.25015, -81.30566),\n",
              " (41.345031, -82.285379),\n",
              " (41.351335, -82.26144599999999),\n",
              " (38.384570000000004, -81.804429),\n",
              " (40.415279999999996, -80.01234000000001),\n",
              " (40.03598, -83.12479),\n",
              " (41.03669, -81.50492),\n",
              " (41.68971, -83.53045999999999),\n",
              " (39.587784, -83.723939),\n",
              " (39.626236999999996, -83.73105),\n",
              " (41.06243, -81.49904000000001),\n",
              " (41.06218, -81.50595),\n",
              " (39.97262, -82.98368),\n",
              " (39.93658, -83.00941999999999),\n",
              " (41.208579, -82.807829),\n",
              " (41.4051, -81.8184),\n",
              " (39.29035, -84.39078),\n",
              " (39.90524, -82.89541),\n",
              " (40.04376, -82.99708000000001),\n",
              " (39.98793, -82.98568),\n",
              " (41.874915, -85.409527),\n",
              " (41.890234, -85.409642),\n",
              " (39.9335, -82.78939),\n",
              " (40.04916, -83.03336),\n",
              " (39.99493, -82.93332),\n",
              " (39.837270000000004, -83.09326999999999),\n",
              " (40.989540000000005, -81.49372),\n",
              " (38.53844, -85.77702),\n",
              " (41.10389, -81.5),\n",
              " (38.577894, -85.77896),\n",
              " (41.42099, -81.69051999999999),\n",
              " (38.580546000000005, -85.77866),\n",
              " (39.833935, -84.061832),\n",
              " (38.30344, -85.88893),\n",
              " (39.93654, -83.40048),\n",
              " (39.95612, -83.37499),\n",
              " (39.177659999999996, -84.39780999999999),\n",
              " (40.02155, -83.0354),\n",
              " (39.97518, -85.63374),\n",
              " (39.94576, -85.63454),\n",
              " (40.277440000000006, -85.72518000000001),\n",
              " (40.2777, -85.67459000000001),\n",
              " (39.17304, -84.47589),\n",
              " (41.686479999999996, -83.5669),\n",
              " (41.66267, -85.03312),\n",
              " (41.68976, -83.666),\n",
              " (39.94594, -82.9432),\n",
              " (41.4758, -81.66036),\n",
              " (41.628312, -84.812135),\n",
              " (39.967240000000004, -83.02459),\n",
              " (41.964290000000005, -83.35018000000001),\n",
              " (41.282993, -83.638931),\n",
              " (41.63126, -83.48336),\n",
              " (41.427584, -85.8495),\n",
              " (41.471378, -85.839527),\n",
              " (41.46747, -81.75909),\n",
              " (39.183640000000004, -84.48373000000001),\n",
              " (41.94495, -80.40234),\n",
              " (39.53078, -84.310264),\n",
              " (41.438774, -81.80341999999999),\n",
              " (39.9838, -82.85656999999999),\n",
              " (40.444134000000005, -80.028261),\n",
              " (39.977270000000004, -83.15445),\n",
              " (39.9745, -83.09654),\n",
              " (39.97865, -83.11698),\n",
              " (39.97327, -83.12002),\n",
              " (39.22571, -84.36832),\n",
              " (39.986342, -83.118881),\n",
              " (39.736290000000004, -84.20489),\n",
              " (41.4051, -81.8184),\n",
              " (41.41101, -81.66634),\n",
              " (39.244640000000004, -84.44835),\n",
              " (40.112120000000004, -83.03905999999999),\n",
              " (40.30095, -80.16651999999999),\n",
              " (40.29739, -80.16798),\n",
              " (41.49243, -81.67554),\n",
              " (40.1827, -80.26148),\n",
              " (39.95459, -83.04255),\n",
              " (39.97527, -85.14018),\n",
              " (39.98511, -85.14406),\n",
              " (38.29514, -85.75655),\n",
              " (39.93654, -83.40048),\n",
              " (39.94143, -83.39224),\n",
              " (39.115429999999996, -84.50003000000001),\n",
              " (41.030684, -81.885739),\n",
              " (41.43166, -81.68160999999999),\n",
              " (40.6664, -80.227514),\n",
              " (40.67137, -80.22581),\n",
              " (41.305199, -81.438626),\n",
              " (40.354252, -85.843032),\n",
              " (40.402251, -85.842969),\n",
              " (41.267520000000005, -85.85673),\n",
              " (39.97307, -82.98405),\n",
              " (39.9672, -81.28699999999999),\n",
              " (39.96392, -81.27197),\n",
              " (41.526309999999995, -83.62123000000001),\n",
              " (39.93292, -82.83025),\n",
              " (39.08272, -84.52264),\n",
              " (39.8552, -84.32502),\n",
              " (41.65404, -85.70526),\n",
              " (41.654579999999996, -85.58601),\n",
              " (41.39465, -81.65326),\n",
              " (41.06211, -81.53053),\n",
              " (41.09598, -81.49976),\n",
              " (41.85222, -85.67843),\n",
              " (38.148808, -80.929665),\n",
              " (41.52447, -85.57791),\n",
              " (41.5105, -85.57781),\n",
              " (39.90524, -82.89541),\n",
              " (41.23598, -81.49325999999999),\n",
              " (38.70101, -80.66483000000001),\n",
              " (39.22498, -84.38094),\n",
              " (40.776022999999995, -80.12718100000001),\n",
              " (38.86027, -80.65729),\n",
              " (39.88203, -83.04748000000001),\n",
              " (39.892534000000005, -83.038786),\n",
              " (39.89698, -83.03428000000001),\n",
              " (41.67439, -83.693727),\n",
              " (41.12999, -85.15503000000001),\n",
              " (39.098890000000004, -84.52118),\n",
              " (41.526309999999995, -83.62123000000001),\n",
              " (39.088552, -84.522724),\n",
              " (39.954229999999995, -82.98879000000001),\n",
              " (39.21018, -84.46345),\n",
              " (39.95369, -82.96403000000001),\n",
              " (40.40934, -80.19247),\n",
              " (40.44126, -80.19314),\n",
              " (39.161609999999996, -84.51375),\n",
              " (39.161609999999996, -84.51375),\n",
              " (39.15141, -84.54061),\n",
              " (39.75855, -85.13715),\n",
              " (41.675709999999995, -83.69385),\n",
              " (41.675709999999995, -83.69385),\n",
              " (39.28805, -84.37462),\n",
              " (41.53618, -83.6176),\n",
              " (39.07202, -84.51907),\n",
              " (38.259133, -85.752672),\n",
              " (40.44425, -80.02821),\n",
              " (40.44278, -80.02468),\n",
              " (38.30155, -85.85499),\n",
              " (40.35405, -80.13756),\n",
              " (40.354490000000006, -80.13835999999999),\n",
              " (38.30344, -85.88893),\n",
              " (41.08789, -83.66011),\n",
              " (41.02454, -80.92163000000001),\n",
              " (41.02413, -80.90579),\n",
              " (39.08168, -84.7069),\n",
              " (38.185390000000005, -85.81793),\n",
              " (39.27734, -84.86438000000001),\n",
              " (39.16437, -84.43731),\n",
              " (39.748585, -84.226084),\n",
              " (39.4728, -80.11963),\n",
              " (41.187807, -80.149019),\n",
              " (41.19242, -80.15860500000001),\n",
              " (38.233483, -85.62671800000001),\n",
              " (38.33954, -81.609895),\n",
              " (40.07297, -83.1347),\n",
              " (40.08402, -83.13046),\n",
              " (38.346309999999995, -83.40449),\n",
              " (38.35382, -83.40553),\n",
              " (39.04416, -84.46656),\n",
              " (38.41807, -81.54525),\n",
              " (38.309401, -85.847643),\n",
              " (41.64679, -83.54913),\n",
              " (38.198747999999995, -85.733953),\n",
              " (39.97401, -82.99355),\n",
              " (39.173970000000004, -84.49031),\n",
              " (41.68843, -83.56258000000001),\n",
              " (41.67904, -83.5732),\n",
              " (39.25249, -84.36493),\n",
              " (38.310736, -85.590395),\n",
              " (41.469409999999996, -81.80535),\n",
              " (38.20674, -85.74846),\n",
              " (39.226317, -84.37107900000001),\n",
              " (41.68721, -83.55579),\n",
              " (40.09775, -84.22926),\n",
              " (41.42147, -81.70682),\n",
              " (38.294146000000005, -85.756847),\n",
              " (39.17304, -84.47589),\n",
              " (38.15982, -84.67308),\n",
              " (39.11675, -84.53355),\n",
              " (39.24943, -84.36541),\n",
              " (41.06146, -81.5049),\n",
              " (39.183640000000004, -84.48373000000001),\n",
              " (41.06228, -81.50986999999999),\n",
              " (39.98793, -82.98568),\n",
              " (39.95971, -83.04811),\n",
              " (39.1479, -84.53929000000001),\n",
              " (39.89555, -83.84997),\n",
              " (39.992259999999995, -82.98517),\n",
              " (39.40983, -82.97548),\n",
              " (40.6126, -80.09494000000001),\n",
              " (39.224790000000006, -84.27783000000001),\n",
              " (39.11675, -84.53355),\n",
              " (41.43869, -81.80554000000001),\n",
              " (40.016819, -82.90411),\n",
              " (39.097570000000005, -84.51666),\n",
              " (41.062470000000005, -81.52405),\n",
              " (39.13219, -84.49464),\n",
              " (39.097654, -84.516019),\n",
              " (41.34965, -81.51146),\n",
              " (41.37717, -81.5139),\n",
              " (40.125890000000005, -80.13661),\n",
              " (40.131890000000006, -80.132407),\n",
              " (40.00507, -83.1186),\n",
              " (39.437940000000005, -82.53893000000001),\n",
              " (39.12627, -84.53509),\n",
              " (38.07759, -84.45711999999999),\n",
              " (40.090790000000005, -82.90783),\n",
              " (39.64731, -85.91696999999999),\n",
              " (39.08927, -84.5227),\n",
              " (38.26109, -85.73695),\n",
              " (38.19785, -85.70445),\n",
              " (39.056540000000005, -84.54283000000001),\n",
              " (41.42413, -81.64519),\n",
              " (39.28638, -84.42706),\n",
              " (41.374990000000004, -83.61635),\n",
              " (41.06228, -81.50986999999999),\n",
              " (41.06146, -81.5049),\n",
              " (41.53907, -81.63354),\n",
              " (40.04916, -83.03336),\n",
              " (41.13613, -81.72196),\n",
              " (39.09891, -84.49181999999999),\n",
              " (39.96268, -82.84305),\n",
              " (39.173970000000004, -84.49031),\n",
              " (39.169109999999996, -84.42104),\n",
              " (39.003821, -80.391285),\n",
              " (39.17736, -84.4873),\n",
              " (39.143159999999995, -84.47069),\n",
              " (39.2696, -84.34894),\n",
              " (40.521732, -81.64755),\n",
              " (40.513360999999996, -81.651599),\n",
              " (41.526309999999995, -83.62123000000001),\n",
              " (38.992607, -80.195782),\n",
              " (38.839151, -82.152877),\n",
              " (40.27675, -85.49916),\n",
              " (40.521679999999996, -80.13163),\n",
              " (39.837109999999996, -84.54392),\n",
              " (39.02296, -84.51784),\n",
              " (38.455787, -81.88205),\n",
              " (39.02397, -84.48039),\n",
              " (38.22433, -85.751),\n",
              " (39.05973, -84.42438),\n",
              " (39.27734, -84.86438000000001),\n",
              " (41.47965, -81.66758),\n",
              " (39.02257, -84.48631),\n",
              " (40.44846, -80.00755),\n",
              " (39.09891, -84.28556999999999),\n",
              " (41.06026, -81.55485999999999),\n",
              " (41.802758000000004, -83.684687),\n",
              " (38.0791, -83.94591),\n",
              " (38.01846, -84.15159),\n",
              " (38.30344, -85.88893),\n",
              " (38.84109, -85.81618),\n",
              " (41.14181, -80.72015999999999),\n",
              " (39.14648, -84.45455),\n",
              " (41.042629999999996, -81.50543),\n",
              " (38.21089, -85.82606),\n",
              " (39.75067, -84.14148),\n",
              " (38.28581, -85.50792),\n",
              " (39.152733000000005, -84.541403),\n",
              " (38.23585, -85.658849),\n",
              " (38.202490000000004, -85.68697),\n",
              " (40.534909999999996, -83.10678),\n",
              " (40.52035, -83.10043),\n",
              " (39.12965, -84.49555),\n",
              " (38.22811, -85.7514),\n",
              " (40.41233, -80.07815),\n",
              " (39.7504, -84.20561),\n",
              " (39.08272, -84.52264),\n",
              " (39.781457, -85.839651),\n",
              " (39.781457, -85.839651),\n",
              " (41.060759999999995, -81.45923),\n",
              " (39.688148, -83.88431),\n",
              " (39.693164, -83.882745),\n",
              " (39.9488, -83.02845),\n",
              " (41.115840000000006, -81.61428000000001),\n",
              " (39.797697, -84.189677),\n",
              " (39.20326, -85.95763000000001),\n",
              " (39.244640000000004, -84.44835),\n",
              " (39.73733, -84.25733000000001),\n",
              " (39.969853, -85.972976),\n",
              " (41.11889, -81.65406999999999),\n",
              " (39.13219, -84.49464),\n",
              " (41.458, -83.62201999999999),\n",
              " (40.09268, -83.03726),\n",
              " (40.066965, -83.289888),\n",
              " (40.045608, -83.29660799999999),\n",
              " (39.97307, -82.98405),\n",
              " (39.982479999999995, -85.123922),\n",
              " (39.981095, -85.11027299999999),\n",
              " (40.430209999999995, -80.02554),\n",
              " (40.432190000000006, -80.02781999999999),\n",
              " (39.976566999999996, -83.128639),\n",
              " (41.256658, -85.363439),\n",
              " (41.374990000000004, -83.61635),\n",
              " (41.252653, -85.347328),\n",
              " (39.93658, -83.00941999999999),\n",
              " (39.14014, -84.53495),\n",
              " (40.153014, -82.970316),\n",
              " (39.90524, -82.89541),\n",
              " (39.13219, -84.49464),\n",
              " (40.42581, -80.4294),\n",
              " (41.08789, -83.65977),\n",
              " (39.9488, -83.02845),\n",
              " (41.47585, -81.87980999999999),\n",
              " (39.1079, -84.50284),\n",
              " (38.340803, -81.680728),\n",
              " (40.964729999999996, -85.28862),\n",
              " (38.441, -82.12679),\n",
              " (38.4413, -82.01529000000001),\n",
              " (38.441, -82.12679),\n",
              " (38.18977, -83.48379),\n",
              " (41.194131, -80.201982),\n",
              " (40.09601, -83.13626),\n",
              " (41.23632, -83.65401999999999),\n",
              " (38.1737, -84.81473000000001),\n",
              " (38.19016, -85.7616),\n",
              " (39.25249, -84.36493),\n",
              " (39.137217, -84.04718299999999),\n",
              " (39.141453999999996, -84.016543),\n",
              " (38.344424, -81.613662),\n",
              " (41.931129999999996, -83.35857),\n",
              " (40.89268, -84.61808),\n",
              " (40.46013, -80.19126),\n",
              " (41.119341999999996, -80.698025),\n",
              " (41.117872, -80.693898),\n",
              " (39.15267, -84.5395),\n",
              " (38.27362, -85.80906),\n",
              " (41.458, -83.62201999999999),\n",
              " (39.35655, -84.26419),\n",
              " (38.4062, -81.54054000000001),\n",
              " (41.025259000000005, -81.5042),\n",
              " (38.27362, -85.80906),\n",
              " (38.119690000000006, -85.77235),\n",
              " (38.275406, -85.81314300000001),\n",
              " (38.275079999999996, -85.81517099999999),\n",
              " (41.397690000000004, -81.939),\n",
              " (39.46513, -80.13559000000001),\n",
              " (38.217994, -81.426024),\n",
              " (38.215401, -81.42437199999999),\n",
              " (39.042851, -84.612615),\n",
              " (38.26109, -85.73695),\n",
              " (39.056540000000005, -84.54283000000001),\n",
              " (41.840758, -84.361657),\n",
              " (41.841122999999996, -84.361652),\n",
              " (41.63316, -83.54203000000001),\n",
              " (40.02874, -81.04368000000001),\n",
              " (41.43891, -81.80258),\n",
              " (41.0811, -81.50348000000001),\n",
              " (38.35575, -81.65420999999999),\n",
              " (39.94585, -82.94293),\n",
              " (41.69017, -83.5181),\n",
              " (40.112120000000004, -83.03905999999999),\n",
              " (41.502590000000005, -81.66974),\n",
              " (39.989994, -83.02512),\n",
              " (41.480458, -81.692932),\n",
              " (39.22461, -84.45364000000001),\n",
              " (40.04376, -82.99708000000001),\n",
              " (39.936209999999996, -82.88318000000001),\n",
              " (39.167788, -82.524172),\n",
              " (39.20655, -82.48212),\n",
              " (41.365759999999995, -81.51602),\n",
              " (39.977321999999994, -81.183327),\n",
              " (39.961933, -81.175436),\n",
              " (39.68292, -84.23004),\n",
              " (40.02664, -82.9944),\n",
              " (38.583372, -81.994824),\n",
              " (38.581196000000006, -82.004356),\n",
              " (40.07297, -83.1347),\n",
              " (41.586890000000004, -83.56234),\n",
              " (38.31714, -85.57677),\n",
              " (40.07297, -83.1347),\n",
              " (39.07202, -84.51907),\n",
              " (41.46747, -81.75909),\n",
              " (40.82645, -81.39675),\n",
              " (40.82645, -81.39675),\n",
              " (39.056540000000005, -84.54283000000001),\n",
              " (39.06272, -84.65728),\n",
              " (39.03368, -84.59527),\n",
              " (40.021209999999996, -82.99503),\n",
              " (39.866695, -84.9305),\n",
              " (39.056540000000005, -84.54283000000001),\n",
              " (39.03232, -84.59137),\n",
              " (41.04058, -81.61256999999999),\n",
              " (40.98884, -83.64875),\n",
              " (39.956579999999995, -83.37075),\n",
              " (39.89857, -83.72139),\n",
              " (39.896448, -83.72312099999999),\n",
              " (41.47965, -81.66758),\n",
              " (39.71548, -84.22033),\n",
              " (40.0389, -85.71828000000001),\n",
              " (41.17516, -81.23116999999999),\n",
              " (41.151070000000004, -81.21375),\n",
              " (40.0389, -85.71828000000001),\n",
              " (39.993359999999996, -85.83861999999999),\n",
              " (40.46013, -80.19126),\n",
              " (41.68976, -83.666),\n",
              " (39.973259999999996, -83.00690999999999),\n",
              " (39.48572, -83.94191),\n",
              " (39.83355, -85.99635),\n",
              " (39.83355, -85.99635),\n",
              " (39.79721, -85.97153),\n",
              " (39.79721, -85.97153),\n",
              " (39.98056, -83.11924),\n",
              " (41.458, -83.62243000000001),\n",
              " (39.905352, -82.995352),\n",
              " (39.99921, -83.02875),\n",
              " (40.869049, -81.95845600000001),\n",
              " (41.419021, -81.519515),\n",
              " (39.343920000000004, -84.39043000000001),\n",
              " (39.9454, -82.60271),\n",
              " (38.353957, -81.73513100000001),\n",
              " (38.354504999999996, -81.731585),\n",
              " (41.501622999999995, -81.479519),\n",
              " (39.86477, -83.99871),\n",
              " (38.737813, -85.250959),\n",
              " (40.00507, -83.1186),\n",
              " (39.919779999999996, -82.93149),\n",
              " (39.097570000000005, -84.51666),\n",
              " (41.07995, -81.50389),\n",
              " (41.63316, -83.54203000000001),\n",
              " (39.82529, -83.03175999999999),\n",
              " (39.83209, -82.99884),\n",
              " (39.83208, -83.000447),\n",
              " (39.83214, -82.99838000000001),\n",
              " (38.416631, -84.861968),\n",
              " (40.55549, -80.11634000000001),\n",
              " (39.17736, -84.4873),\n",
              " (41.484589, -81.691778),\n",
              " (41.227340000000005, -81.62705),\n",
              " (39.04695, -84.57498000000001),\n",
              " (39.25595, -84.44287),\n",
              " (39.8888, -82.88181999999999),\n",
              " (39.74729, -84.21426),\n",
              " (39.97415, -83.09486),\n",
              " (39.08272, -84.52264),\n",
              " (39.949808000000004, -83.02289300000001),\n",
              " (39.951409999999996, -83.0137),\n",
              " (38.7056, -80.66107),\n",
              " (39.1479, -84.53929000000001),\n",
              " (41.7573, -83.48075),\n",
              " (39.98946, -85.9299),\n",
              " (39.98894, -83.025012),\n",
              " (41.110996, -80.82384),\n",
              " (41.686859000000005, -83.554005),\n",
              " (41.53907, -81.63354),\n",
              " (39.300562, -84.518869),\n",
              " (41.202543, -85.7011),\n",
              " (39.19288, -84.47723),\n",
              " (40.07297, -83.1347),\n",
              " (39.140991, -84.483618),\n",
              " (41.121598999999996, -80.789503),\n",
              " (41.31438, -81.51286),\n",
              " (39.85922, -84.27762),\n",
              " (40.42005, -80.03531),\n",
              " (39.9589, -82.98257),\n",
              " (39.89087, -83.85382),\n",
              " (39.89862, -83.85353),\n",
              " (40.03938, -83.050567),\n",
              " (41.41218, -81.61371),\n",
              " (38.306159, -80.833765),\n",
              " (40.104, -82.94154),\n",
              " (38.24178, -85.62212),\n",
              " (41.552640000000004, -81.60032),\n",
              " (39.992259999999995, -82.98517),\n",
              " (38.315529999999995, -85.58313000000001),\n",
              " (38.400331, -85.371049),\n",
              " (38.312509999999996, -85.57741999999999),\n",
              " (38.400331, -85.371049),\n",
              " (39.889379999999996, -82.88316),\n",
              " (38.15873, -80.90504),\n",
              " (38.155136999999996, -80.912154),\n",
              " (39.9745, -83.09654),\n",
              " (41.47487, -81.72095),\n",
              " (39.26931, -84.4307),\n",
              " (38.2201, -85.82223),\n",
              " (41.48339, -81.66297),\n",
              " (39.161609999999996, -84.51375),\n",
              " (41.42734, -82.08322),\n",
              " (41.526309999999995, -83.62123000000001),\n",
              " (39.917320000000004, -83.012335),\n",
              " (41.608670000000004, -81.48891),\n",
              " (41.20554, -85.17116),\n",
              " (41.1787, -85.16594),\n",
              " (41.507189000000004, -81.67124),\n",
              " (39.97415, -83.09486),\n",
              " (39.97043, -83.01961999999999),\n",
              " (39.93849, -82.84849),\n",
              " (39.89698, -83.03428000000001),\n",
              " (39.71452, -84.22281),\n",
              " (40.11468, -83.01644),\n",
              " (38.34244, -85.80447),\n",
              " (41.47036, -81.65984),\n",
              " (38.30056, -85.84703),\n",
              " (39.169389, -84.50389),\n",
              " (39.936838, -83.042661),\n",
              " (39.937567, -83.04209200000001),\n",
              " (39.9425, -82.53536),\n",
              " (39.27125, -84.35176),\n",
              " (41.398877, -83.616108),\n",
              " (39.24422, -84.30224),\n",
              " (40.412997, -80.07973299999999),\n",
              " (39.021521, -84.50784300000001),\n",
              " (41.123670000000004, -80.76913),\n",
              " (41.073876, -83.66091999999999),\n",
              " (39.01992, -83.65886),\n",
              " (38.97914, -83.65465),\n",
              " (40.099270000000004, -83.15793000000001),\n",
              " (39.93658, -83.00941999999999),\n",
              " (39.115429999999996, -84.50003000000001),\n",
              " (41.474552, -81.711522),\n",
              " (39.78517, -84.18457),\n",
              " (41.47974, -81.6667),\n",
              " (38.277190000000004, -85.69383),\n",
              " (38.495124, -85.771118),\n",
              " (39.73277, -84.20522),\n",
              " (41.458, -83.62243000000001),\n",
              " (39.045381, -84.462312),\n",
              " (41.526, -81.65974),\n",
              " (40.78725, -81.38592),\n",
              " (38.3657, -85.75495),\n",
              " (39.02575, -84.61272),\n",
              " (40.90923, -81.79765),\n",
              " (40.91649, -81.78869),\n",
              " (39.10051, -80.39199),\n",
              " (40.082643, -82.91367199999999),\n",
              " (41.47162, -81.90626),\n",
              " (40.08155, -82.91859000000001),\n",
              " (40.07976, -82.92689),\n",
              " (38.27511, -85.81238),\n",
              " (39.02908, -84.53565),\n",
              " (39.04455, -84.57798000000001),\n",
              " (39.830259999999996, -81.45434),\n",
              " (39.81436, -81.46898),\n",
              " (38.41336, -82.3483),\n",
              " (38.20674, -85.74846),\n",
              " (38.10937, -85.70123000000001),\n",
              " (40.26758, -82.92745),\n",
              " (38.22285, -85.57436),\n",
              " (40.43827, -80.00527),\n",
              " (39.08272, -84.52264),\n",
              " (40.046599, -85.99359),\n",
              " (41.67904, -83.5732),\n",
              " (40.52225, -80.06666),\n",
              " (41.041763, -81.3932),\n",
              " (39.02541, -85.88784),\n",
              " (39.887572, -84.047499),\n",
              " (39.90803, -84.03969000000001),\n",
              " (39.8181, -81.45925),\n",
              " (39.8181, -81.45925),\n",
              " (39.8181, -81.45925),\n",
              " (39.81447, -81.46769),\n",
              " (41.47307, -80.36586),\n",
              " (41.460561, -80.366376),\n",
              " (39.75022, -84.19668),\n",
              " (39.161609999999996, -84.51375),\n",
              " (39.82329, -84.166569),\n",
              " (39.818751, -84.167637),\n",
              " (39.15267, -84.5395),\n",
              " (40.480209, -85.719799),\n",
              " (39.026759999999996, -84.61421),\n",
              " (40.480209, -85.719799),\n",
              " (40.480129999999996, -85.72942900000001),\n",
              " (38.24863, -85.70467),\n",
              " (39.24907, -84.44561999999999),\n",
              " (39.183640000000004, -84.48373000000001),\n",
              " (41.420898, -81.69322),\n",
              " (39.18976, -84.26285),\n",
              " (40.009209999999996, -83.03149),\n",
              " (41.12369, -80.75595),\n",
              " (41.09705, -81.50012),\n",
              " (41.03011, -81.40292099999999),\n",
              " (39.9533, -83.0032),\n",
              " (39.91404, -83.01729),\n",
              " (39.118109999999994, -84.49975),\n",
              " (39.73277, -84.20522),\n",
              " (41.47379, -81.69592),\n",
              " (41.47395, -81.69931),\n",
              " (39.62334, -81.83577),\n",
              " (39.98233, -82.98449000000001),\n",
              " (40.15106, -80.03243),\n",
              " (41.66332, -83.56385999999999),\n",
              " (39.35245, -84.37507),\n",
              " (41.67178, -83.6939),\n",
              " (38.380179999999996, -82.60993),\n",
              " (39.03347, -84.603),\n",
              " (40.42116, -80.0438),\n",
              " (41.341147, -83.347543),\n",
              " (41.34131, -83.376561),\n",
              " (40.26758, -82.92745),\n",
              " (40.432459, -80.023538),\n",
              " (39.9912, -85.9188),\n",
              " (39.056540000000005, -84.54283000000001),\n",
              " (38.39328, -85.76223),\n",
              " (39.971658000000005, -80.017133),\n",
              " (39.98381, -80.01011),\n",
              " (39.844570000000004, -85.51639399999999),\n",
              " (38.399528000000004, -85.76430500000001),\n",
              " (38.38981, -81.76937),\n",
              " (41.47965, -81.66758),\n",
              " (39.978590000000004, -82.9763),\n",
              " (40.681090000000005, -80.24616999999999),\n",
              " (40.681090000000005, -80.24616999999999),\n",
              " (41.47487, -81.72095),\n",
              " ...]"
            ]
          },
          "metadata": {},
          "execution_count": 43
        }
      ]
    },
    {
      "cell_type": "code",
      "source": [
        "from folium.plugins import HeatMap"
      ],
      "metadata": {
        "id": "243wY6RyZLQh"
      },
      "execution_count": 44,
      "outputs": []
    },
    {
      "cell_type": "code",
      "source": [
        "sample_df = df.sample(int(0.003* len(df)))\n",
        "lat_lon_pairs = list(zip(list(sample_df.Start_Lat), list(sample_df.Start_Lng)))  "
      ],
      "metadata": {
        "id": "NRBkwQtbZbZ1"
      },
      "execution_count": 45,
      "outputs": []
    },
    {
      "cell_type": "code",
      "source": [
        "map = folium.Map()\n",
        "HeatMap(lat_lon_pairs).add_to(map)\n",
        "map\n"
      ],
      "metadata": {
        "colab": {
          "base_uri": "https://localhost:8080/",
          "height": 764
        },
        "id": "i5gOwdv2WQmV",
        "outputId": "89fa247f-22f6-40d1-e666-4fdd9e5207a4"
      },
      "execution_count": 46,
      "outputs": [
        {
          "output_type": "execute_result",
          "data": {
            "text/html": [
              "<div style=\"width:100%;\"><div style=\"position:relative;width:100%;height:0;padding-bottom:60%;\"><span style=\"color:#565656\">Make this Notebook Trusted to load map: File -> Trust Notebook</span><iframe src=\"about:blank\" style=\"position:absolute;width:100%;height:100%;left:0;top:0;border:none !important;\" data-html=%3C%21DOCTYPE%20html%3E%0A%3Chead%3E%20%20%20%20%0A%20%20%20%20%3Cmeta%20http-equiv%3D%22content-type%22%20content%3D%22text/html%3B%20charset%3DUTF-8%22%20/%3E%0A%20%20%20%20%3Cscript%3EL_PREFER_CANVAS%3Dfalse%3B%20L_NO_TOUCH%3Dfalse%3B%20L_DISABLE_3D%3Dfalse%3B%3C/script%3E%0A%20%20%20%20%3Cscript%20src%3D%22https%3A//cdn.jsdelivr.net/npm/leaflet%401.4.0/dist/leaflet.js%22%3E%3C/script%3E%0A%20%20%20%20%3Cscript%20src%3D%22https%3A//code.jquery.com/jquery-1.12.4.min.js%22%3E%3C/script%3E%0A%20%20%20%20%3Cscript%20src%3D%22https%3A//maxcdn.bootstrapcdn.com/bootstrap/3.2.0/js/bootstrap.min.js%22%3E%3C/script%3E%0A%20%20%20%20%3Cscript%20src%3D%22https%3A//cdnjs.cloudflare.com/ajax/libs/Leaflet.awesome-markers/2.0.2/leaflet.awesome-markers.js%22%3E%3C/script%3E%0A%20%20%20%20%3Clink%20rel%3D%22stylesheet%22%20href%3D%22https%3A//cdn.jsdelivr.net/npm/leaflet%401.4.0/dist/leaflet.css%22/%3E%0A%20%20%20%20%3Clink%20rel%3D%22stylesheet%22%20href%3D%22https%3A//maxcdn.bootstrapcdn.com/bootstrap/3.2.0/css/bootstrap.min.css%22/%3E%0A%20%20%20%20%3Clink%20rel%3D%22stylesheet%22%20href%3D%22https%3A//maxcdn.bootstrapcdn.com/bootstrap/3.2.0/css/bootstrap-theme.min.css%22/%3E%0A%20%20%20%20%3Clink%20rel%3D%22stylesheet%22%20href%3D%22https%3A//maxcdn.bootstrapcdn.com/font-awesome/4.6.3/css/font-awesome.min.css%22/%3E%0A%20%20%20%20%3Clink%20rel%3D%22stylesheet%22%20href%3D%22https%3A//cdnjs.cloudflare.com/ajax/libs/Leaflet.awesome-markers/2.0.2/leaflet.awesome-markers.css%22/%3E%0A%20%20%20%20%3Clink%20rel%3D%22stylesheet%22%20href%3D%22https%3A//rawcdn.githack.com/python-visualization/folium/master/folium/templates/leaflet.awesome.rotate.css%22/%3E%0A%20%20%20%20%3Cstyle%3Ehtml%2C%20body%20%7Bwidth%3A%20100%25%3Bheight%3A%20100%25%3Bmargin%3A%200%3Bpadding%3A%200%3B%7D%3C/style%3E%0A%20%20%20%20%3Cstyle%3E%23map%20%7Bposition%3Aabsolute%3Btop%3A0%3Bbottom%3A0%3Bright%3A0%3Bleft%3A0%3B%7D%3C/style%3E%0A%20%20%20%20%0A%20%20%20%20%3Cmeta%20name%3D%22viewport%22%20content%3D%22width%3Ddevice-width%2C%0A%20%20%20%20%20%20%20%20initial-scale%3D1.0%2C%20maximum-scale%3D1.0%2C%20user-scalable%3Dno%22%20/%3E%0A%20%20%20%20%3Cstyle%3E%23map_be181c30c3cc459cbc835e232030db90%20%7B%0A%20%20%20%20%20%20%20%20position%3A%20relative%3B%0A%20%20%20%20%20%20%20%20width%3A%20100.0%25%3B%0A%20%20%20%20%20%20%20%20height%3A%20100.0%25%3B%0A%20%20%20%20%20%20%20%20left%3A%200.0%25%3B%0A%20%20%20%20%20%20%20%20top%3A%200.0%25%3B%0A%20%20%20%20%20%20%20%20%7D%0A%20%20%20%20%3C/style%3E%0A%20%20%20%20%3Cscript%20src%3D%22https%3A//leaflet.github.io/Leaflet.heat/dist/leaflet-heat.js%22%3E%3C/script%3E%0A%3C/head%3E%0A%3Cbody%3E%20%20%20%20%0A%20%20%20%20%0A%20%20%20%20%3Cdiv%20class%3D%22folium-map%22%20id%3D%22map_be181c30c3cc459cbc835e232030db90%22%20%3E%3C/div%3E%0A%3C/body%3E%0A%3Cscript%3E%20%20%20%20%0A%20%20%20%20%0A%20%20%20%20%0A%20%20%20%20%20%20%20%20var%20bounds%20%3D%20null%3B%0A%20%20%20%20%0A%0A%20%20%20%20var%20map_be181c30c3cc459cbc835e232030db90%20%3D%20L.map%28%0A%20%20%20%20%20%20%20%20%27map_be181c30c3cc459cbc835e232030db90%27%2C%20%7B%0A%20%20%20%20%20%20%20%20center%3A%20%5B0%2C%200%5D%2C%0A%20%20%20%20%20%20%20%20zoom%3A%201%2C%0A%20%20%20%20%20%20%20%20maxBounds%3A%20bounds%2C%0A%20%20%20%20%20%20%20%20layers%3A%20%5B%5D%2C%0A%20%20%20%20%20%20%20%20worldCopyJump%3A%20false%2C%0A%20%20%20%20%20%20%20%20crs%3A%20L.CRS.EPSG3857%2C%0A%20%20%20%20%20%20%20%20zoomControl%3A%20true%2C%0A%20%20%20%20%20%20%20%20%7D%29%3B%0A%0A%0A%20%20%20%20%0A%20%20%20%20var%20tile_layer_e6a84d9878ee419da33dc5b1b6ba2fbb%20%3D%20L.tileLayer%28%0A%20%20%20%20%20%20%20%20%27https%3A//%7Bs%7D.tile.openstreetmap.org/%7Bz%7D/%7Bx%7D/%7By%7D.png%27%2C%0A%20%20%20%20%20%20%20%20%7B%0A%20%20%20%20%20%20%20%20%22attribution%22%3A%20null%2C%0A%20%20%20%20%20%20%20%20%22detectRetina%22%3A%20false%2C%0A%20%20%20%20%20%20%20%20%22maxNativeZoom%22%3A%2018%2C%0A%20%20%20%20%20%20%20%20%22maxZoom%22%3A%2018%2C%0A%20%20%20%20%20%20%20%20%22minZoom%22%3A%200%2C%0A%20%20%20%20%20%20%20%20%22noWrap%22%3A%20false%2C%0A%20%20%20%20%20%20%20%20%22opacity%22%3A%201%2C%0A%20%20%20%20%20%20%20%20%22subdomains%22%3A%20%22abc%22%2C%0A%20%20%20%20%20%20%20%20%22tms%22%3A%20false%0A%7D%29.addTo%28map_be181c30c3cc459cbc835e232030db90%29%3B%0A%20%20%20%20%0A%20%20%20%20%20%20%20%20%20%20%20%20var%20heat_map_78efc6b4d8924dbf850462d5f3b5b063%20%3D%20L.heatLayer%28%0A%20%20%20%20%20%20%20%20%20%20%20%20%20%20%20%20%5B%5B30.136879999999998%2C%20-81.536%5D%2C%20%5B45.37915%2C%20-122.04507%5D%2C%20%5B34.150059999999996%2C%20-118.46843999999999%5D%2C%20%5B40.690172%2C%20-73.57079300000001%5D%2C%20%5B40.51209%2C%20-80.05041%5D%2C%20%5B30.744286%2C%20-86.114896%5D%2C%20%5B39.17777%2C%20-84.48708%5D%2C%20%5B30.6433%2C%20-90.928788%5D%2C%20%5B25.839902%2C%20-80.315701%5D%2C%20%5B45.590011%2C%20-122.68189199999999%5D%2C%20%5B41.587345%2C%20-87.680704%5D%2C%20%5B34.030440999999996%2C%20-117.672854%5D%2C%20%5B38.8705%2C%20-77.63494%5D%2C%20%5B33.901878%2C%20-118.28689399999999%5D%2C%20%5B32.62422%2C%20-97.41269%5D%2C%20%5B33.82615%2C%20-118.20504%5D%2C%20%5B34.00046%2C%20-118.17511%5D%2C%20%5B35.10068%2C%20-80.88117%5D%2C%20%5B36.06224%2C%20-79.81546%5D%2C%20%5B42.8761%2C%20-78.0227%5D%2C%20%5B35.21438%2C%20-80.83801%5D%2C%20%5B41.56961%2C%20-87.37576%5D%2C%20%5B37.68983%2C%20-122.062275%5D%2C%20%5B35.33867%2C%20-96.91212%5D%2C%20%5B45.689531%2C%20-111.046304%5D%2C%20%5B44.861823%2C%20-93.270825%5D%2C%20%5B33.961684000000005%2C%20-118.36928999999999%5D%2C%20%5B44.29486%2C%20-121.394703%5D%2C%20%5B43.14891%2C%20-123.36498999999999%5D%2C%20%5B42.490041999999995%2C%20-83.05358199999999%5D%2C%20%5B37.733096%2C%20-122.405622%5D%2C%20%5B28.53847%2C%20-81.34357%5D%2C%20%5B27.852412%2C%20-82.664147%5D%2C%20%5B36.14386%2C%20-95.96708000000001%5D%2C%20%5B39.51667%2C%20-107.31747%5D%2C%20%5B42.15141%2C%20-87.96009000000001%5D%2C%20%5B36.14148%2C%20-86.67041%5D%2C%20%5B36.10437%2C%20-95.92228%5D%2C%20%5B44.79102%2C%20-93.63163%5D%2C%20%5B36.793617%2C%20-119.5196%5D%2C%20%5B44.291115000000005%2C%20-120.878904%5D%2C%20%5B40.56138%2C%20-111.93867%5D%2C%20%5B40.901757%2C%20-74.137373%5D%2C%20%5B33.951029999999996%2C%20-117.30333%5D%2C%20%5B26.166388%2C%20-80.151555%5D%2C%20%5B27.298859000000004%2C%20-82.514246%5D%2C%20%5B37.7011%2C%20-122.4714%5D%2C%20%5B43.12384%2C%20-123.3633%5D%2C%20%5B38.877927%2C%20-77.272196%5D%2C%20%5B33.567898%2C%20-117.21048%5D%2C%20%5B33.683601%2C%20-117.85935%5D%2C%20%5B42.810592%2C%20-73.335042%5D%2C%20%5B37.541877%2C%20-122.29096000000001%5D%2C%20%5B40.35372%2C%20-75.48185%5D%2C%20%5B33.85985%2C%20-118.30998999999998%5D%2C%20%5B34.147318%2C%20-81.195225%5D%2C%20%5B37.199052%2C%20-77.458966%5D%2C%20%5B34.102717%2C%20-118.19783000000001%5D%2C%20%5B41.54953%2C%20-81.60681%5D%2C%20%5B33.91369%2C%20-118.11368%5D%2C%20%5B34.0692%2C%20-80.97619%5D%2C%20%5B37.198895%2C%20-93.274924%5D%2C%20%5B25.657548000000002%2C%20-80.41592800000001%5D%2C%20%5B47.56686%2C%20-122.32048%5D%2C%20%5B39.12535%2C%20-105.90688%5D%2C%20%5B40.042192%2C%20-75.475601%5D%2C%20%5B38.025349%2C%20-122.11518000000001%5D%2C%20%5B42.58132%2C%20-71.15496%5D%2C%20%5B39.93942%2C%20-104.98778999999999%5D%2C%20%5B38.93549%2C%20-94.53097%5D%2C%20%5B40.682672%2C%20-73.687209%5D%2C%20%5B43.47838%2C%20-123.32117%5D%2C%20%5B28.975956%2C%20-82.016902%5D%2C%20%5B40.332867%2C%20-74.636438%5D%2C%20%5B41.151265%2C%20-111.935151%5D%2C%20%5B33.740811%2C%20-117.833808%5D%2C%20%5B38.058952000000005%2C%20-120.201097%5D%2C%20%5B40.262414%2C%20-74.842461%5D%2C%20%5B37.522940000000006%2C%20-122.26619%5D%2C%20%5B33.95778%2C%20-117.85988%5D%2C%20%5B38.220768%2C%20-122.13175700000001%5D%2C%20%5B41.03235%2C%20-73.75262%5D%2C%20%5B38.707389%2C%20-121.38335900000001%5D%2C%20%5B38.94205%2C%20-94.81315%5D%2C%20%5B41.783559000000004%2C%20-87.66431999999999%5D%2C%20%5B41.79673%2C%20-87.8075%5D%2C%20%5B33.68653%2C%20-117.86811999999999%5D%2C%20%5B44.046734%2C%20-94.172228%5D%2C%20%5B41.82602%2C%20-71.42199000000001%5D%2C%20%5B44.13071%2C%20-122.37993999999999%5D%2C%20%5B42.46633%2C%20-83.23241999999999%5D%2C%20%5B36.69552%2C%20-119.7628%5D%2C%20%5B30.244690000000002%2C%20-81.599589%5D%2C%20%5B30.192009000000002%2C%20-97.794199%5D%2C%20%5B28.512859999999996%2C%20-81.37631%5D%2C%20%5B38.376736%2C%20-81.66595600000001%5D%2C%20%5B48.559188%2C%20-122.34944099999998%5D%2C%20%5B30.2209%2C%20-81.57652399999999%5D%2C%20%5B41.117629%2C%20-85.179472%5D%2C%20%5B29.784086%2C%20-95.20124799999999%5D%2C%20%5B33.687203000000004%2C%20-117.872472%5D%2C%20%5B44.787021%2C%20-93.410278%5D%2C%20%5B39.653332%2C%20-105.2021%5D%2C%20%5B40.78086%2C%20-73.6391%5D%2C%20%5B41.856970000000004%2C%20-88.16093000000001%5D%2C%20%5B32.83662%2C%20-97.14093000000001%5D%2C%20%5B25.64558%2C%20-80.371376%5D%2C%20%5B30.201837%2C%20-97.792794%5D%2C%20%5B45.185603%2C%20-122.84521699999999%5D%2C%20%5B30.2714%2C%20-90.9843%5D%2C%20%5B37.362045%2C%20-120.850049%5D%2C%20%5B32.30832%2C%20-110.8924%5D%2C%20%5B41.901272999999996%2C%20-87.621862%5D%2C%20%5B46.4277%2C%20-116.80556999999999%5D%2C%20%5B40.32189%2C%20-111.72703%5D%2C%20%5B37.40497%2C%20-120.74733%5D%2C%20%5B26.546389%2C%20-81.869895%5D%2C%20%5B39.885439%2C%20-104.98767%5D%2C%20%5B32.17783%2C%20-110.97758999999999%5D%2C%20%5B41.83741%2C%20-72.66547%5D%2C%20%5B39.049009999999996%2C%20-84.57203%5D%2C%20%5B34.178094%2C%20-79.826898%5D%2C%20%5B33.881170000000004%2C%20-117.61765%5D%2C%20%5B39.034983000000004%2C%20-84.59899300000001%5D%2C%20%5B35.408553999999995%2C%20-119.038762%5D%2C%20%5B33.828545%2C%20-84.486869%5D%2C%20%5B45.556129999999996%2C%20-122.67946%5D%2C%20%5B38.348645%2C%20-119.452771%5D%2C%20%5B32.84859%2C%20-83.62759%5D%2C%20%5B25.74824%2C%20-80.390815%5D%2C%20%5B40.830262%2C%20-73.935119%5D%2C%20%5B36.493889%2C%20-121.4275%5D%2C%20%5B39.7617%2C%20-82.4526%5D%2C%20%5B39.78119%2C%20-104.99408000000001%5D%2C%20%5B44.00756%2C%20-121.32423999999999%5D%2C%20%5B41.672371000000005%2C%20-86.63638%5D%2C%20%5B41.882459999999995%2C%20-87.91957%5D%2C%20%5B29.853824%2C%20-95.517325%5D%2C%20%5B39.038103%2C%20-94.335876%5D%2C%20%5B30.385037%2C%20-87.098298%5D%2C%20%5B40.240018%2C%20-75.660512%5D%2C%20%5B34.012578000000005%2C%20-118.490649%5D%2C%20%5B32.39614%2C%20-110.95929%5D%2C%20%5B25.187727%2C%20-80.392629%5D%2C%20%5B34.153071000000004%2C%20-118.369542%5D%2C%20%5B34.078012%2C%20-118.2859%5D%2C%20%5B47.5277%2C%20-122.69993000000001%5D%2C%20%5B35.073890000000006%2C%20-106.55031000000001%5D%2C%20%5B37.628463%2C%20-102.62038299999999%5D%2C%20%5B32.874543%2C%20-117.107524%5D%2C%20%5B45.49074%2C%20-122.7921%5D%2C%20%5B41.102845%2C%20-73.432707%5D%2C%20%5B43.1252%2C%20-124.36726000000002%5D%2C%20%5B37.101101%2C%20-76.46818%5D%2C%20%5B26.409019%2C%20-81.782172%5D%2C%20%5B41.73148%2C%20-87.62443%5D%2C%20%5B38.112767%2C%20-122.10598600000002%5D%2C%20%5B41.714563%2C%20-87.641072%5D%2C%20%5B29.120917%2C%20-82.174915%5D%2C%20%5B44.760767%2C%20-93.379633%5D%2C%20%5B32.134045%2C%20-110.93678%5D%2C%20%5B38.962293%2C%20-76.929262%5D%2C%20%5B33.76685%2C%20-117.97599%5D%2C%20%5B40.152075%2C%20-82.970049%5D%2C%20%5B33.61789%2C%20-117.71116%5D%2C%20%5B45.54489%2C%20-122.390115%5D%2C%20%5B38.62853%2C%20-121.22164%5D%2C%20%5B41.88726%2C%20-88.01828%5D%2C%20%5B41.03823%2C%20-73.81546%5D%2C%20%5B37.326605%2C%20-77.22535500000001%5D%2C%20%5B32.75971%2C%20-97.13479%5D%2C%20%5B27.447753999999996%2C%20-82.57080699999999%5D%2C%20%5B39.21497%2C%20-84.68422%5D%2C%20%5B37.27468%2C%20-122.00362%5D%2C%20%5B28.638123999999998%2C%20-81.387579%5D%2C%20%5B36.775597999999995%2C%20-119.784852%5D%2C%20%5B44.137908%2C%20-124.122708%5D%2C%20%5B43.71907%2C%20-89.8966%5D%2C%20%5B38.126045%2C%20-85.609771%5D%2C%20%5B28.421082000000002%2C%20-81.63314100000001%5D%2C%20%5B37.3679%2C%20-77.41735%5D%2C%20%5B33.23141%2C%20-80.44355%5D%2C%20%5B42.27152%2C%20-84.40701999999999%5D%2C%20%5B35.207797%2C%20-80.783559%5D%2C%20%5B33.77673%2C%20-117.84065%5D%2C%20%5B25.926631%2C%20-80.22802%5D%2C%20%5B32.93479%2C%20-80.68744000000001%5D%2C%20%5B34.065489%2C%20-117.544784%5D%2C%20%5B37.868179%2C%20-122.303676%5D%2C%20%5B43.0481%2C%20-88.2809%5D%2C%20%5B44.450334000000005%2C%20-90.1306%5D%2C%20%5B42.58706%2C%20-71.1609%5D%2C%20%5B34.217611%2C%20-119.051598%5D%2C%20%5B34.028211%2C%20-118.448025%5D%2C%20%5B33.98808%2C%20-84.54624%5D%2C%20%5B37.57379%2C%20-122.26231999999999%5D%2C%20%5B30.341008000000002%2C%20-97.699023%5D%2C%20%5B34.136291%2C%20-117.45840600000001%5D%2C%20%5B43.597387%2C%20-116.346148%5D%2C%20%5B27.606163000000002%2C%20-82.497803%5D%2C%20%5B42.87128%2C%20-122.463172%5D%2C%20%5B33.974039000000005%2C%20-118.080118%5D%2C%20%5B38.12053%2C%20-122.565354%5D%2C%20%5B33.98927%2C%20-118.28067%5D%2C%20%5B27.099690000000002%2C%20-82.254152%5D%2C%20%5B33.38612%2C%20-111.79487900000001%5D%2C%20%5B40.585981%2C%20-124.153426%5D%2C%20%5B39.384125%2C%20-120.083474%5D%2C%20%5B37.083974%2C%20-76.453959%5D%2C%20%5B38.31457%2C%20-122.69465%5D%2C%20%5B32.909224%2C%20-96.746361%5D%2C%20%5B36.965163000000004%2C%20-76.515022%5D%2C%20%5B25.7307%2C%20-80.317718%5D%2C%20%5B34.00444%2C%20-118.4122%5D%2C%20%5B41.42052%2C%20-81.7967%5D%2C%20%5B40.487590000000004%2C%20-111.89551000000002%5D%2C%20%5B36.76245%2C%20-119.77538500000001%5D%2C%20%5B40.14737%2C%20-84.21929%5D%2C%20%5B42.982933%2C%20-85.74689599999999%5D%2C%20%5B37.915757%2C%20-78.549786%5D%2C%20%5B34.1362%2C%20-117.47773000000001%5D%2C%20%5B41.58334%2C%20-90.36909%5D%2C%20%5B33.916319%2C%20-118.189847%5D%2C%20%5B25.659734%2C%20-80.416025%5D%2C%20%5B41.34234%2C%20-112.03611000000001%5D%2C%20%5B45.144203999999995%2C%20-123.968851%5D%2C%20%5B29.901118%2C%20-90.402589%5D%2C%20%5B45.5356%2C%20-122.68583000000001%5D%2C%20%5B30.422998%2C%20-91.13909100000001%5D%2C%20%5B34.08191%2C%20-117.71568%5D%2C%20%5B25.90025%2C%20-80.38377%5D%2C%20%5B39.023523%2C%20-77.38828199999999%5D%2C%20%5B41.423544%2C%20-73.383062%5D%2C%20%5B34.90848%2C%20-81.829883%5D%2C%20%5B42.36544%2C%20-83.1334%5D%2C%20%5B39.492478000000006%2C%20-75.042672%5D%2C%20%5B41.84527%2C%20-88.49875%5D%2C%20%5B33.764643%2C%20-79.073584%5D%2C%20%5B47.902707%2C%20-122.213755%5D%2C%20%5B45.574709999999996%2C%20-122.67856%5D%2C%20%5B33.77134%2C%20-117.99788999999998%5D%2C%20%5B25.967451%2C%20-80.165643%5D%2C%20%5B41.93739%2C%20-87.70408%5D%2C%20%5B35.061089%2C%20-119.953544%5D%2C%20%5B41.5516%2C%20-81.58162%5D%2C%20%5B32.262689%2C%20-111.02076799999999%5D%2C%20%5B45.720038%2C%20-123.92271000000001%5D%2C%20%5B25.714009%2C%20-80.431177%5D%2C%20%5B38.228097999999996%2C%20-85.751283%5D%2C%20%5B37.80812%2C%20-121.9914%5D%2C%20%5B35.39141%2C%20-97.45441%5D%2C%20%5B34.038070000000005%2C%20-118.27273999999998%5D%2C%20%5B39.905658%2C%20-86.04549%5D%2C%20%5B35.87672%2C%20-78.62385400000001%5D%2C%20%5B36.985209999999995%2C%20-122.02685%5D%2C%20%5B38.070428%2C%20-84.504543%5D%2C%20%5B38.820541999999996%2C%20-77.46464499999999%5D%2C%20%5B38.20337%2C%20-81.47997099999999%5D%2C%20%5B44.67413%2C%20-93.62635999999999%5D%2C%20%5B38.554557%2C%20-121.372464%5D%2C%20%5B35.798871999999996%2C%20-78.494288%5D%2C%20%5B37.475615999999995%2C%20-76.61167900000001%5D%2C%20%5B42.28213%2C%20-85.3718%5D%2C%20%5B26.02809%2C%20-80.16566999999999%5D%2C%20%5B41.57216%2C%20-81.52656%5D%2C%20%5B35.19675%2C%20-80.79128%5D%2C%20%5B33.862013%2C%20-118.04154299999999%5D%2C%20%5B36.543903%2C%20-121.155895%5D%2C%20%5B43.07135%2C%20-73.98867%5D%2C%20%5B43.207190000000004%2C%20-78.38792%5D%2C%20%5B33.420139%2C%20-99.819132%5D%2C%20%5B43.93331%2C%20-91.91508%5D%2C%20%5B32.86821%2C%20-96.66776999999999%5D%2C%20%5B39.69746%2C%20-86.18113000000001%5D%2C%20%5B41.146952%2C%20-96.22851899999999%5D%2C%20%5B33.695293%2C%20-117.934552%5D%2C%20%5B33.81528%2C%20-118.18508%5D%2C%20%5B28.4698%2C%20-81.45744%5D%2C%20%5B45.03328%2C%20-93.40069%5D%2C%20%5B41.690829%2C%20-74.077838%5D%2C%20%5B37.01717%2C%20-121.56401000000001%5D%2C%20%5B39.92445%2C%20-105.1112%5D%2C%20%5B46.18436%2C%20-92.85374399999999%5D%2C%20%5B29.940278000000003%2C%20-90.10108699999999%5D%2C%20%5B45.903511%2C%20-89.300735%5D%2C%20%5B40.13834%2C%20-75.36303000000001%5D%2C%20%5B38.50874%2C%20-81.6444%5D%2C%20%5B36.923848%2C%20-120.05600700000001%5D%2C%20%5B34.055962%2C%20-118.45148400000001%5D%2C%20%5B36.841606%2C%20-76.164586%5D%2C%20%5B33.513785%2C%20-117.580598%5D%2C%20%5B36.82441%2C%20-77.95571%5D%2C%20%5B36.29456%2C%20-119.383%5D%2C%20%5B35.235525%2C%20-80.879899%5D%2C%20%5B40.765240000000006%2C%20-111.95321000000001%5D%2C%20%5B30.508844%2C%20-83.393214%5D%2C%20%5B31.66617%2C%20-84.82643399999999%5D%2C%20%5B40.8372%2C%20-121.92628%5D%2C%20%5B34.48684%2C%20-118.61692%5D%2C%20%5B42.79935%2C%20-76.12374%5D%2C%20%5B35.26105%2C%20-80.83989%5D%2C%20%5B40.67948%2C%20-73.70213000000001%5D%2C%20%5B34.07265%2C%20-118.05681000000001%5D%2C%20%5B38.496178%2C%20-121.436801%5D%2C%20%5B37.78928%2C%20-122.2538%5D%2C%20%5B42.138837%2C%20-83.24149%5D%2C%20%5B33.497074%2C%20-117.14846999999999%5D%2C%20%5B28.449934999999996%2C%20-81.478525%5D%2C%20%5B35.818208%2C%20-78.60819599999999%5D%2C%20%5B34.261089%2C%20-117.44960900000001%5D%2C%20%5B35.23558%2C%20-80.880208%5D%2C%20%5B28.347843%2C%20-81.383215%5D%2C%20%5B33.774254%2C%20-118.07513999999999%5D%2C%20%5B39.85183%2C%20-104.98631%5D%2C%20%5B33.88366%2C%20-118.10408000000001%5D%2C%20%5B45.63388%2C%20-121.21181999999999%5D%2C%20%5B35.9768%2C%20-90.86013%5D%2C%20%5B44.89335%2C%20-93.25307%5D%2C%20%5B35.782156%2C%20-78.584314%5D%2C%20%5B38.737777%2C%20-77.53189%5D%2C%20%5B33.71611%2C%20-84.30637%5D%2C%20%5B45.124666999999995%2C%20-93.188401%5D%2C%20%5B41.6541%2C%20-72.67234%5D%2C%20%5B33.748196%2C%20-117.843053%5D%2C%20%5B35.10427%2C%20-106.59933999999998%5D%2C%20%5B38.565596%2C%20-121.47041599999999%5D%2C%20%5B37.416189%2C%20-122.103284%5D%2C%20%5B29.700124%2C%20-95.379917%5D%2C%20%5B32.16335%2C%20-110.95616000000001%5D%2C%20%5B30.447996999999997%2C%20-84.288606%5D%2C%20%5B37.28535%2C%20-121.80955%5D%2C%20%5B42.31095%2C%20-83.09804%5D%2C%20%5B25.80702%2C%20-80.20572%5D%2C%20%5B33.97867%2C%20-118.07803%5D%2C%20%5B39.096005%2C%20-94.57993499999999%5D%2C%20%5B40.115728999999995%2C%20-80.430704%5D%2C%20%5B33.823909%2C%20-84.152958%5D%2C%20%5B36.235332%2C%20-115.108106%5D%2C%20%5B40.15982%2C%20-75.11184%5D%2C%20%5B34.899288%2C%20-92.40180500000001%5D%2C%20%5B35.847869%2C%20-78.592474%5D%2C%20%5B32.802039%2C%20-96.714179%5D%2C%20%5B41.597535%2C%20-106.20176399999998%5D%2C%20%5B30.433931%2C%20-91.00755600000001%5D%2C%20%5B25.731815%2C%20-80.31824399999999%5D%2C%20%5B33.979586%2C%20-118.39246999999999%5D%2C%20%5B37.653017999999996%2C%20-122.11034699999999%5D%2C%20%5B32.81231%2C%20-117.155896%5D%2C%20%5B32.862435%2C%20-96.658626%5D%2C%20%5B45.367849%2C%20-122.008926%5D%2C%20%5B42.84876%2C%20-85.68709%5D%2C%20%5B33.807590000000005%2C%20-84.41696%5D%2C%20%5B33.982358000000005%2C%20-118.286454%5D%2C%20%5B40.72446%2C%20-74.09088%5D%2C%20%5B34.032114%2C%20-117.135919%5D%2C%20%5B40.70685%2C%20-74.25463%5D%2C%20%5B26.766679999999997%2C%20-80.09435%5D%2C%20%5B33.991015999999995%2C%20-117.550296%5D%2C%20%5B33.999198%2C%20-117.85176799999999%5D%2C%20%5B35.46255%2C%20-97.48071999999999%5D%2C%20%5B42.1628%2C%20-123.64685%5D%2C%20%5B40.885847%2C%20-73.896849%5D%2C%20%5B25.796823%2C%20-80.32386%5D%2C%20%5B37.715206%2C%20-122.17263200000001%5D%2C%20%5B42.81921%2C%20-88.92616%5D%2C%20%5B30.529237%2C%20-87.130063%5D%2C%20%5B32.92409%2C%20-96.77748000000001%5D%2C%20%5B46.282364%2C%20-95.935417%5D%2C%20%5B36.866673%2C%20-119.71534%5D%2C%20%5B32.17783%2C%20-110.96829%5D%2C%20%5B43.735359%2C%20-93.320386%5D%2C%20%5B28.564318%2C%20-81.207224%5D%2C%20%5B42.69341%2C%20-73.63486999999999%5D%2C%20%5B43.11643%2C%20-77.55733000000001%5D%2C%20%5B38.32676%2C%20-77.50104%5D%2C%20%5B32.74477%2C%20-96.61219%5D%2C%20%5B33.87445%2C%20-118.19519%5D%2C%20%5B32.272059999999996%2C%20-110.961024%5D%2C%20%5B33.69882%2C%20-84.26119399999999%5D%2C%20%5B38.82673%2C%20-104.81889%5D%2C%20%5B34.19854%2C%20-117.41750800000001%5D%2C%20%5B32.91722%2C%20-96.76663%5D%2C%20%5B30.417977%2C%20-81.565836%5D%2C%20%5B32.94895%2C%20-96.82330999999999%5D%2C%20%5B33.550402000000005%2C%20-84.567611%5D%2C%20%5B32.740629999999996%2C%20-117.11627%5D%2C%20%5B43.21842%2C%20-77.79251%5D%2C%20%5B38.515240000000006%2C%20-104.62949%5D%2C%20%5B40.899318%2C%20-124.07964799999999%5D%2C%20%5B45.644803%2C%20-120.985877%5D%2C%20%5B39.69515%2C%20-78.64434%5D%2C%20%5B47.33165%2C%20-94.04182%5D%2C%20%5B34.077201%2C%20-117.52402099999999%5D%2C%20%5B47.390128000000004%2C%20-122.279294%5D%2C%20%5B33.754988%2C%20-84.378315%5D%2C%20%5B33.115299%2C%20-117.09906200000002%5D%2C%20%5B40.9053%2C%20-74.19039000000001%5D%2C%20%5B35.73205%2C%20-118.54628000000001%5D%2C%20%5B30.435336%2C%20-91.177242%5D%2C%20%5B33.523203%2C%20-117.16368%5D%2C%20%5B35.14841%2C%20-80.83091999999999%5D%2C%20%5B41.4383%2C%20-81.68326%5D%2C%20%5B32.941321%2C%20-97.313055%5D%2C%20%5B45.59823%2C%20-122.68432%5D%2C%20%5B37.6524%2C%20-122.09886999999999%5D%2C%20%5B42.92951%2C%20-76.59551%5D%2C%20%5B32.87535%2C%20-96.7701%5D%2C%20%5B47.582240000000006%2C%20-122.18773%5D%2C%20%5B41.87339%2C%20-71.38517%5D%2C%20%5B33.467086%2C%20-117.66963100000001%5D%2C%20%5B32.309128%2C%20-111.041767%5D%2C%20%5B39.752959999999995%2C%20-86.14399%5D%2C%20%5B27.290478000000004%2C%20-80.420211%5D%2C%20%5B36.170071%2C%20-86.596738%5D%2C%20%5B40.60175%2C%20-74.06044%5D%2C%20%5B33.989995%2C%20-117.359597%5D%2C%20%5B27.70761%2C%20-82.38772%5D%2C%20%5B38.31817%2C%20-122.7143%5D%2C%20%5B39.26272%2C%20-103.64661%5D%2C%20%5B28.640232%2C%20-81.441633%5D%2C%20%5B41.76078%2C%20-87.94481%5D%2C%20%5B44.516526%2C%20-95.077947%5D%2C%20%5B38.589526%2C%20-121.50458700000001%5D%2C%20%5B40.70835%2C%20-111.90396000000001%5D%2C%20%5B40.619799%2C%20-79.63537099999999%5D%2C%20%5B37.88171%2C%20-122.51676%5D%2C%20%5B35.0111%2C%20-85.27172%5D%2C%20%5B37.32614%2C%20-122.05093000000001%5D%2C%20%5B47.712219%2C%20-121.3526%5D%2C%20%5B37.70171%2C%20-121.76941000000001%5D%2C%20%5B42.1903%2C%20-88.10172%5D%2C%20%5B36.779363000000004%2C%20-119.7003%5D%2C%20%5B45.59553%2C%20-118.61463%5D%2C%20%5B33.486940000000004%2C%20-117.14278999999999%5D%2C%20%5B33.89269%2C%20-117.88081000000001%5D%2C%20%5B39.885439%2C%20-104.98767%5D%2C%20%5B34.029792%2C%20-117.71233400000001%5D%2C%20%5B33.831798%2C%20-117.283322%5D%2C%20%5B28.61308%2C%20-81.36532%5D%2C%20%5B44.803224%2C%20-123.22771200000001%5D%2C%20%5B36.80449%2C%20-76.19686999999999%5D%2C%20%5B41.79487%2C%20-88.37549%5D%2C%20%5B36.77556%2C%20-76.37188%5D%2C%20%5B36.355078999999996%2C%20-119.42806999999999%5D%2C%20%5B32.84662%2C%20-96.63736%5D%2C%20%5B34.028558000000004%2C%20-117.33103700000001%5D%2C%20%5B34.310022%2C%20-117.47252399999999%5D%2C%20%5B42.49641%2C%20-83.35094000000001%5D%2C%20%5B33.87719%2C%20-118.145824%5D%2C%20%5B39.15082%2C%20-76.64319%5D%2C%20%5B39.50909%2C%20-119.77966200000002%5D%2C%20%5B28.57358%2C%20-81.37586999999999%5D%2C%20%5B35.687186%2C%20-86.994375%5D%2C%20%5B43.082807%2C%20-77.544108%5D%2C%20%5B41.80275%2C%20-71.40383%5D%2C%20%5B40.588409999999996%2C%20-73.65834%5D%2C%20%5B44.2687%2C%20-92.65252%5D%2C%20%5B33.810179999999995%2C%20-81.006799%5D%2C%20%5B39.753218%2C%20-84.230047%5D%2C%20%5B39.309459999999994%2C%20-76.95798%5D%2C%20%5B33.896148%2C%20-118.194322%5D%2C%20%5B34.342012%2C%20-79.534465%5D%2C%20%5B42.94801%2C%20-123.30803%5D%2C%20%5B42.1882%2C%20-83.38826999999999%5D%2C%20%5B40.21647%2C%20-76.09055%5D%2C%20%5B40.78392%2C%20-73.65253%5D%2C%20%5B33.88861%2C%20-118.35795%5D%2C%20%5B35.61308%2C%20-78.549423%5D%2C%20%5B27.0497%2C%20-82.35849%5D%2C%20%5B42.25477%2C%20-88.02043%5D%2C%20%5B37.629308%2C%20-118.86423700000002%5D%2C%20%5B37.581911%2C%20-121.322198%5D%2C%20%5B40.525064%2C%20-74.316732%5D%2C%20%5B27.596770000000003%2C%20-82.53967%5D%2C%20%5B45.159086%2C%20-122.82423500000002%5D%2C%20%5B38.496158%2C%20-121.42918300000001%5D%2C%20%5B37.41932%2C%20-121.94406000000001%5D%2C%20%5B34.03051%2C%20-117.65587%5D%2C%20%5B33.983416999999996%2C%20-118.444381%5D%2C%20%5B40.541107000000004%2C%20-104.996145%5D%2C%20%5B44.965013%2C%20-93.28273399999999%5D%2C%20%5B38.91596%2C%20-77.21788000000001%5D%2C%20%5B41.161590000000004%2C%20-112.0645%5D%2C%20%5B28.478132000000002%2C%20-81.28525400000001%5D%2C%20%5B36.846140000000005%2C%20-76.18573%5D%2C%20%5B38.93887%2C%20-94.53524%5D%2C%20%5B34.741018%2C%20-113.61561200000001%5D%2C%20%5B33.661283000000005%2C%20-117.873108%5D%2C%20%5B25.69898%2C%20-80.382134%5D%2C%20%5B25.795091%2C%20-80.239915%5D%2C%20%5B27.641465999999998%2C%20-82.670748%5D%2C%20%5B42.699963000000004%2C%20-73.844352%5D%2C%20%5B25.94241%2C%20-80.32389%5D%2C%20%5B34.067322999999995%2C%20-117.554317%5D%2C%20%5B35.73972%2C%20-78.56825%5D%2C%20%5B47.31178%2C%20-122.29863%5D%2C%20%5B38.5782%2C%20-121.30883%5D%2C%20%5B35.18112%2C%20-80.83651%5D%2C%20%5B33.88893%2C%20-117.883775%5D%2C%20%5B43.154961%2C%20-124.17615%5D%2C%20%5B44.992470000000004%2C%20-93.237259%5D%2C%20%5B41.534209999999995%2C%20-81.44864%5D%2C%20%5B43.79953%2C%20-84.3817%5D%2C%20%5B32.576361%2C%20-117.082146%5D%2C%20%5B47.58955%2C%20-122.25168000000001%5D%2C%20%5B39.196658%2C%20-122.03714199999999%5D%2C%20%5B38.061221%2C%20-75.545114%5D%2C%20%5B44.89147%2C%20-122.99371000000001%5D%2C%20%5B37.926431%2C%20-122.06079%5D%2C%20%5B41.63159%2C%20-72.87469%5D%2C%20%5B32.800227%2C%20-79.94839499999999%5D%2C%20%5B38.93564%2C%20-94.75078%5D%2C%20%5B39.382413%2C%20-76.446057%5D%2C%20%5B40.72765%2C%20-112.167%5D%2C%20%5B35.891808000000005%2C%20-84.202405%5D%2C%20%5B34.030495%2C%20-118.27453700000001%5D%2C%20%5B30.247649%2C%20-92.20680899999999%5D%2C%20%5B39.88467%2C%20-75.10392%5D%2C%20%5B39.541940000000004%2C%20-104.86899%5D%2C%20%5B34.92155%2C%20-81.98979%5D%2C%20%5B25.684099%2C%20-80.400543%5D%2C%20%5B25.83865%2C%20-80.20626%5D%2C%20%5B34.121549%2C%20-118.07930900000001%5D%2C%20%5B33.70644%2C%20-117.779%5D%2C%20%5B34.15483%2C%20-118.39648000000001%5D%2C%20%5B38.964395%2C%20-84.63583299999999%5D%2C%20%5B40.99072%2C%20-74.31273%5D%2C%20%5B43.22305%2C%20-77.86301%5D%2C%20%5B33.993369%2C%20-118.069134%5D%2C%20%5B41.514831%2C%20-111.94148700000001%5D%2C%20%5B33.56556%2C%20-86.524897%5D%2C%20%5B34.647583000000004%2C%20-118.375456%5D%2C%20%5B33.91089%2C%20-118.16892%5D%2C%20%5B37.732833%2C%20-120.84876100000001%5D%2C%20%5B36.167775%2C%20-120.66568400000001%5D%2C%20%5B38.133990000000004%2C%20-122.4763%5D%2C%20%5B37.185839%2C%20-120.56161599999999%5D%2C%20%5B33.782515000000004%2C%20-117.213916%5D%2C%20%5B40.76788%2C%20-73.71458%5D%2C%20%5B45.50365%2C%20-122.67455%5D%2C%20%5B37.60358%2C%20-77.47158%5D%2C%20%5B33.695904999999996%2C%20-117.93561100000001%5D%2C%20%5B39.869009000000005%2C%20-75.10068199999999%5D%2C%20%5B41.608270000000005%2C%20-72.90091%5D%2C%20%5B45.506704%2C%20-122.671201%5D%2C%20%5B33.449861%2C%20-112.37540800000001%5D%2C%20%5B37.03485%2C%20-76.35653%5D%2C%20%5B32.793033%2C%20-117.207489%5D%2C%20%5B36.753122%2C%20-119.69490900000001%5D%2C%20%5B45.308976%2C%20-121.792202%5D%2C%20%5B36.911744%2C%20-121.78531299999999%5D%2C%20%5B38.94665%2C%20-76.84466%5D%2C%20%5B28.636956%2C%20-81.38747099999999%5D%2C%20%5B33.135969%2C%20-84.01895400000001%5D%2C%20%5B39.996145%2C%20-75.082894%5D%2C%20%5B32.304919%2C%20-95.27896700000001%5D%2C%20%5B28.66943%2C%20-81.45021%5D%2C%20%5B43.132282000000004%2C%20-124.340892%5D%2C%20%5B34.4886%2C%20-118.28648999999999%5D%2C%20%5B33.68205%2C%20-117.87741000000001%5D%2C%20%5B36.880455%2C%20-76.208086%5D%2C%20%5B33.92852%2C%20-118.24949%5D%2C%20%5B34.019717%2C%20-117.542427%5D%2C%20%5B37.78131%2C%20-122.17383999999998%5D%2C%20%5B33.916359%2C%20-118.25433899999999%5D%2C%20%5B47.46817%2C%20-115.77977%5D%2C%20%5B28.45338%2C%20-81.28602%5D%2C%20%5B38.6855%2C%20-121.53141000000001%5D%2C%20%5B42.39215%2C%20-87.88383%5D%2C%20%5B47.50458%2C%20-121.88453999999999%5D%2C%20%5B33.479712%2C%20-80.90474%5D%2C%20%5B28.300759999999997%2C%20-81.57529%5D%2C%20%5B28.571344%2C%20-81.377083%5D%2C%20%5B32.810109999999995%2C%20-96.803444%5D%2C%20%5B36.735917%2C%20-119.556397%5D%2C%20%5B36.3911%2C%20-98.015034%5D%2C%20%5B40.889907%2C%20-74.001363%5D%2C%20%5B36.923848%2C%20-120.05600700000001%5D%2C%20%5B33.95463%2C%20-118.36931200000001%5D%2C%20%5B33.756040000000006%2C%20-118.01796999999999%5D%2C%20%5B30.798858000000003%2C%20-86.695171%5D%2C%20%5B34.634388%2C%20-82.540204%5D%2C%20%5B47.103770000000004%2C%20-122.29345%5D%2C%20%5B35.178917999999996%2C%20-80.78716%5D%2C%20%5B42.43724%2C%20-122.878681%5D%2C%20%5B43.91404%2C%20-121.35003999999999%5D%2C%20%5B41.002381%2C%20-73.691153%5D%2C%20%5B42.096109999999996%2C%20-71.22636999999999%5D%2C%20%5B40.628910999999995%2C%20-74.183818%5D%2C%20%5B32.85621%2C%20-96.77023%5D%2C%20%5B32.864388%2C%20-117.110021%5D%2C%20%5B40.018991%2C%20-75.16493299999999%5D%2C%20%5B34.06185%2C%20-117.545156%5D%2C%20%5B40.89264%2C%20-74.66229%5D%2C%20%5B34.004992%2C%20-117.39463400000001%5D%2C%20%5B32.7984%2C%20-96.792687%5D%2C%20%5B33.90436%2C%20-84.43535%5D%2C%20%5B28.690487%2C%20-81.388852%5D%2C%20%5B35.115171000000004%2C%20-118.186171%5D%2C%20%5B46.943740999999996%2C%20-95.07936%5D%2C%20%5B33.875598%2C%20-118.18611899999999%5D%2C%20%5B40.961059000000006%2C%20-111.89133000000001%5D%2C%20%5B43.126796999999996%2C%20-95.033091%5D%2C%20%5B36.12532%2C%20-86.84711999999999%5D%2C%20%5B32.413909999999994%2C%20-80.65029%5D%2C%20%5B40.645314%2C%20-111.80838999999999%5D%2C%20%5B38.355470000000004%2C%20-81.65374%5D%2C%20%5B40.58791%2C%20-111.97313%5D%2C%20%5B32.766627%2C%20-96.597193%5D%2C%20%5B40.35597%2C%20-83.07392%5D%2C%20%5B40.587179%2C%20-112.027833%5D%2C%20%5B34.023139%2C%20-117.81166699999999%5D%2C%20%5B41.10092%2C%20-73.972761%5D%2C%20%5B28.61492%2C%20-81.42534%5D%2C%20%5B45.03602%2C%20-93.0791%5D%2C%20%5B37.322390000000006%2C%20-121.89855%5D%2C%20%5B33.75609%2C%20-84.23243000000001%5D%2C%20%5B25.686308%2C%20-80.41669%5D%2C%20%5B33.812149%2C%20-84.368162%5D%2C%20%5B38.809321999999995%2C%20-76.966234%5D%2C%20%5B30.610207%2C%20-87.16126899999999%5D%2C%20%5B44.11073%2C%20-121.29428%5D%2C%20%5B45.007709999999996%2C%20-93.20436%5D%2C%20%5B25.765710000000002%2C%20-80.372784%5D%2C%20%5B33.963913%2C%20-117.324977%5D%2C%20%5B34.083290999999996%2C%20-118.228522%5D%2C%20%5B34.067443%2C%20-117.567617%5D%2C%20%5B34.83213%2C%20-92.17716999999999%5D%2C%20%5B34.316342%2C%20-118.439921%5D%2C%20%5B41.93947%2C%20-87.70834%5D%2C%20%5B38.621331%2C%20-77.296017%5D%2C%20%5B39.159143%2C%20-111.75390700000001%5D%2C%20%5B25.899632999999998%2C%20-80.18226999999999%5D%2C%20%5B37.373509999999996%2C%20-121.92643999999999%5D%2C%20%5B48.23633%2C%20-122.26981%5D%2C%20%5B32.76758%2C%20-96.89079%5D%2C%20%5B44.860552%2C%20-93.322376%5D%2C%20%5B34.067384000000004%2C%20-117.567625%5D%2C%20%5B43.147604%2C%20-77.709287%5D%2C%20%5B40.574003000000005%2C%20-111.89998999999999%5D%2C%20%5B25.700704%2C%20-80.383193%5D%2C%20%5B40.741028%2C%20-82.023524%5D%2C%20%5B30.320578%2C%20-97.657764%5D%2C%20%5B41.026561%2C%20-81.538577%5D%2C%20%5B45.069469%2C%20-93.28595200000001%5D%2C%20%5B34.032821999999996%2C%20-81.12418000000001%5D%2C%20%5B30.306762%2C%20-97.757667%5D%2C%20%5B37.739290000000004%2C%20-121.12052%5D%2C%20%5B33.973440000000004%2C%20-118.380646%5D%2C%20%5B32.80155%2C%20-96.67276%5D%2C%20%5B36.199647999999996%2C%20-119.32842099999999%5D%2C%20%5B39.699579%2C%20-86.149989%5D%2C%20%5B29.941191999999997%2C%20-90.096691%5D%2C%20%5B42.10925%2C%20-87.8765%5D%2C%20%5B41.570040000000006%2C%20-87.40981%5D%2C%20%5B45.682423%2C%20-108.705347%5D%2C%20%5B33.975346%2C%20-117.879411%5D%2C%20%5B30.22505%2C%20-93.30009%5D%2C%20%5B34.016495%2C%20-118.15951499999998%5D%2C%20%5B44.80471%2C%20-93.10635%5D%2C%20%5B33.71443%2C%20-84.26864%5D%2C%20%5B38.570704%2C%20-121.46851200000002%5D%2C%20%5B37.667177%2C%20-122.09923400000001%5D%2C%20%5B32.902499%2C%20-96.721361%5D%2C%20%5B33.866111%2C%20-117.711118%5D%2C%20%5B37.015589%2C%20-76.453717%5D%2C%20%5B39.921690000000005%2C%20-74.94755%5D%2C%20%5B42.349676%2C%20-87.85579%5D%2C%20%5B42.0548%2C%20-87.82862%5D%2C%20%5B34.281690000000005%2C%20-117.45206%5D%2C%20%5B45.55905%2C%20-122.67867%5D%2C%20%5B44.319809%2C%20-121.163423%5D%2C%20%5B38.672378%2C%20-121.35659199999999%5D%2C%20%5B30.471608000000003%2C%20-91.0891%5D%2C%20%5B32.793508%2C%20-96.773136%5D%2C%20%5B34.028849%2C%20-117.71658799999999%5D%2C%20%5B33.49629%2C%20-82.31039%5D%2C%20%5B34.223581%2C%20-119.15281100000001%5D%2C%20%5B35.27041%2C%20-80.85794%5D%2C%20%5B37.229226000000004%2C%20-119.763048%5D%2C%20%5B36.766144%2C%20-77.47795699999999%5D%2C%20%5B37.551429%2C%20-121.066703%5D%2C%20%5B34.092240000000004%2C%20-118.20629%5D%2C%20%5B33.640370000000004%2C%20-111.94287%5D%2C%20%5B33.75777%2C%20-117.85779%5D%2C%20%5B25.915279%2C%20-80.292721%5D%2C%20%5B42.41048%2C%20-88.0339%5D%2C%20%5B34.499792%2C%20-118.22516200000001%5D%2C%20%5B26.18241%2C%20-80.15254%5D%2C%20%5B38.67344%2C%20-121.63376000000001%5D%2C%20%5B34.024729%2C%20-118.239231%5D%2C%20%5B34.17822%2C%20-117.44076799999999%5D%2C%20%5B41.773526000000004%2C%20-87.946324%5D%2C%20%5B47.27677%2C%20-122.31241999999999%5D%2C%20%5B37.487634%2C%20-122.206018%5D%2C%20%5B42.46779%2C%20-71.24880999999999%5D%2C%20%5B37.104446%2C%20-121.014054%5D%2C%20%5B41.52779%2C%20-81.61554%5D%2C%20%5B39.874266%2C%20-75.017877%5D%2C%20%5B33.901953000000006%2C%20-118.27838100000001%5D%2C%20%5B38.725401%2C%20-76.990138%5D%2C%20%5B41.541340000000005%2C%20-73.0896%5D%2C%20%5B38.89541%2C%20-77.04346%5D%2C%20%5B42.901509999999995%2C%20-83.69077%5D%2C%20%5B40.827678999999996%2C%20-73.930966%5D%2C%20%5B43.249829999999996%2C%20-122.39628%5D%2C%20%5B29.715320000000002%2C%20-95.50076999999999%5D%2C%20%5B40.11707%2C%20-77.0374%5D%2C%20%5B37.793715%2C%20-122.20059099999999%5D%2C%20%5B33.75983%2C%20-117.83118999999999%5D%2C%20%5B34.683718%2C%20-92.30983%5D%2C%20%5B40.630327%2C%20-111.902328%5D%2C%20%5B25.9259%2C%20-80.162784%5D%2C%20%5B42.04375%2C%20-87.76231%5D%2C%20%5B37.98349%2C%20-122.04161%5D%2C%20%5B38.6345%2C%20-90.45002%5D%2C%20%5B43.589132%2C%20-70.387529%5D%2C%20%5B32.236408000000004%2C%20-90.16427900000001%5D%2C%20%5B39.88685%2C%20-75.2152%5D%2C%20%5B42.17734%2C%20-119.91063%5D%2C%20%5B38.95486%2C%20-77.19462%5D%2C%20%5B37.700407%2C%20-122.47127900000001%5D%2C%20%5B35.080944%2C%20-89.875491%5D%2C%20%5B44.058576%2C%20-93.25707%5D%2C%20%5B39.564534%2C%20-77.616393%5D%2C%20%5B36.19232%2C%20-83.17666%5D%2C%20%5B45.295575%2C%20-93.55288900000001%5D%2C%20%5B35.151311%2C%20-85.218358%5D%2C%20%5B34.005559999999996%2C%20-117.82873000000001%5D%2C%20%5B30.215769%2C%20-81.51868499999999%5D%2C%20%5B33.864612%2C%20-117.995122%5D%2C%20%5B32.915434999999995%2C%20-84.694583%5D%2C%20%5B34.388013%2C%20-82.692941%5D%2C%20%5B40.480990000000006%2C%20-104.70008%5D%2C%20%5B37.52466%2C%20-121.99233000000001%5D%2C%20%5B37.361125%2C%20-79.961247%5D%2C%20%5B38.510321999999995%2C%20-121.466862%5D%2C%20%5B32.58177%2C%20-80.829738%5D%2C%20%5B25.748356%2C%20-80.335763%5D%2C%20%5B34.030317%2C%20-117.69748999999999%5D%2C%20%5B37.22712%2C%20-80.2481%5D%2C%20%5B32.64885%2C%20-96.77620999999999%5D%2C%20%5B34.384355%2C%20-118.571771%5D%2C%20%5B40.813769%2C%20-74.05537199999999%5D%2C%20%5B35.223464%2C%20-120.69171599999999%5D%2C%20%5B32.729958%2C%20-117.107669%5D%2C%20%5B33.77678%2C%20-84.60206%5D%2C%20%5B37.79423%2C%20-122.205552%5D%2C%20%5B37.377334000000005%2C%20-121.925276%5D%2C%20%5B42.74743%2C%20-71.49280999999999%5D%2C%20%5B35.912648%2C%20-78.781931%5D%2C%20%5B30.08564%2C%20-90.43104%5D%2C%20%5B35.8182%2C%20-78.68918000000001%5D%2C%20%5B37.71951%2C%20-122.44821999999999%5D%2C%20%5B34.06827%2C%20-117.400621%5D%2C%20%5B33.67876%2C%20-117.84836000000001%5D%2C%20%5B34.15314%2C%20-118.65293%5D%2C%20%5B33.989734999999996%2C%20-118.280149%5D%2C%20%5B38.807288%2C%20-77.497765%5D%2C%20%5B33.751834%2C%20-117.845975%5D%2C%20%5B29.7932%2C%20-95.37156999999999%5D%2C%20%5B40.41775%2C%20-75.249708%5D%2C%20%5B33.9638%2C%20-118.37012%5D%2C%20%5B34.752241%2C%20-86.749271%5D%2C%20%5B43.7563%2C%20-123.09683999999999%5D%2C%20%5B38.663471%2C%20-121.31512%5D%2C%20%5B40.270196999999996%2C%20-80.017161%5D%2C%20%5B37.715709999999994%2C%20-79.446269%5D%2C%20%5B29.0131%2C%20-81.2358%5D%2C%20%5B38.78332%2C%20-77.17933000000001%5D%2C%20%5B38.595165%2C%20-121.444301%5D%2C%20%5B42.2276%2C%20-87.97713%5D%2C%20%5B33.895%2C%20-117.558399%5D%2C%20%5B34.185562%2C%20-118.317908%5D%2C%20%5B33.276953000000006%2C%20-84.050087%5D%2C%20%5B37.53011%2C%20-121.94325%5D%2C%20%5B38.89168%2C%20-76.95625%5D%2C%20%5B44.210597%2C%20-121.221172%5D%2C%20%5B33.628267%2C%20-117.720776%5D%2C%20%5B33.80449%2C%20-117.50631000000001%5D%2C%20%5B34.51578%2C%20-112.02223000000001%5D%2C%20%5B33.912874%2C%20-118.145867%5D%2C%20%5B38.87301%2C%20-77.24606%5D%2C%20%5B34.682615000000006%2C%20-77.94810799999999%5D%2C%20%5B34.506663%2C%20-117.399521%5D%2C%20%5B45.067006%2C%20-93.18621800000001%5D%2C%20%5B35.96359%2C%20-79.889%5D%2C%20%5B32.67951%2C%20-96.82267%5D%2C%20%5B30.381586%2C%20-87.306058%5D%2C%20%5B34.204273%2C%20-117.087672%5D%2C%20%5B39.093939%2C%20-123.481936%5D%2C%20%5B38.33915%2C%20-120.915999%5D%2C%20%5B32.3382%2C%20-86.17941%5D%2C%20%5B39.97421%2C%20-83.09558%5D%2C%20%5B33.987947%2C%20-118.061116%5D%2C%20%5B38.01011%2C%20-122.02126200000001%5D%2C%20%5B42.37256%2C%20-87.904678%5D%2C%20%5B41.30669%2C%20-112.02266100000001%5D%2C%20%5B45.56045%2C%20-122.17233999999999%5D%2C%20%5B44.977129999999995%2C%20-93.08881%5D%2C%20%5B45.97222%2C%20-119.00511000000002%5D%2C%20%5B43.13127%2C%20-123.36411000000001%5D%2C%20%5B34.024733000000005%2C%20-117.73581100000001%5D%2C%20%5B37.75898%2C%20-77.4619%5D%2C%20%5B42.952154%2C%20-78.76634%5D%2C%20%5B34.022304999999996%2C%20-117.81310500000001%5D%2C%20%5B32.64633%2C%20-96.78418%5D%2C%20%5B34.826681%2C%20-82.293037%5D%2C%20%5B45.735983000000004%2C%20-93.71002800000001%5D%2C%20%5B34.025741%2C%20-80.943607%5D%2C%20%5B45.203987%2C%20-93.351484%5D%2C%20%5B40.851656%2C%20-73.952996%5D%2C%20%5B36.29306%2C%20-86.71937%5D%2C%20%5B34.411958%2C%20-117.590124%5D%2C%20%5B45.526410999999996%2C%20-122.57702900000001%5D%2C%20%5B34.066486%2C%20-117.215855%5D%2C%20%5B33.57354%2C%20-112.1172%5D%2C%20%5B39.821244%2C%20-85.762485%5D%2C%20%5B39.320609999999995%2C%20-120.56106000000001%5D%2C%20%5B40.480920000000005%2C%20-81.679305%5D%2C%20%5B40.11031%2C%20-75.320089%5D%2C%20%5B42.90517%2C%20-71.46348%5D%2C%20%5B45.25142%2C%20-122.77087%5D%2C%20%5B33.97862%2C%20-117.54903999999999%5D%2C%20%5B43.02568%2C%20-77.66843%5D%2C%20%5B30.4312%2C%20-91.17433%5D%2C%20%5B34.05502%2C%20-118.16408%5D%2C%20%5B36.802031%2C%20-118.93269199999999%5D%2C%20%5B27.965009999999996%2C%20-82.44511999999999%5D%2C%20%5B41.25846%2C%20-82.30283%5D%2C%20%5B36.672717%2C%20-121.811231%5D%2C%20%5B38.790141%2C%20-77.17661%5D%2C%20%5B45.766594%2C%20-122.66747099999999%5D%2C%20%5B40.901084000000004%2C%20-74.14131%5D%2C%20%5B40.995176%2C%20-109.433291%5D%2C%20%5B28.4951%2C%20-81.33078%5D%2C%20%5B40.23993%2C%20-76.98299%5D%2C%20%5B45.04322%2C%20-123.20711000000001%5D%2C%20%5B37.712559000000006%2C%20-81.151482%5D%2C%20%5B33.79179%2C%20-117.83107%5D%2C%20%5B34.10375%2C%20-117.98352%5D%2C%20%5B42.400925%2C%20-88.130411%5D%2C%20%5B42.972159999999995%2C%20-85.97893%5D%2C%20%5B42.272985%2C%20-83.67628%5D%2C%20%5B40.31177%2C%20-111.72491000000001%5D%2C%20%5B37.433170000000004%2C%20-77.33722%5D%2C%20%5B33.89389%2C%20-84.46381%5D%2C%20%5B28.176741999999997%2C%20-82.740375%5D%2C%20%5B44.852253000000005%2C%20-93.4842%5D%2C%20%5B40.34513%2C%20-74.47585%5D%2C%20%5B32.87908%2C%20-80.02465%5D%2C%20%5B33.461723%2C%20-112.11729%5D%2C%20%5B29.651158000000002%2C%20-97.674126%5D%2C%20%5B35.154990000000005%2C%20-80.82443%5D%2C%20%5B37.701366%2C%20-121.87741100000001%5D%2C%20%5B34.070465000000006%2C%20-117.396026%5D%2C%20%5B34.050565%2C%20-118.214083%5D%2C%20%5B40.603962%2C%20-74.05296899999999%5D%2C%20%5B37.935140000000004%2C%20-122.44559%5D%2C%20%5B37.509958000000005%2C%20-122.251476%5D%2C%20%5B34.156659999999995%2C%20-118.41377%5D%2C%20%5B43.083%2C%20-89.07553%5D%2C%20%5B32.290775%2C%20-90.167422%5D%2C%20%5B30.283621000000004%2C%20-97.75201%5D%2C%20%5B39.90163%2C%20-82.89898000000001%5D%2C%20%5B36.060340000000004%2C%20-79.66313000000001%5D%2C%20%5B34.088499%2C%20-83.839016%5D%2C%20%5B32.74841%2C%20-97.30449%5D%2C%20%5B38.49601%2C%20-121.44306999999999%5D%2C%20%5B33.955121000000005%2C%20-78.71106800000001%5D%2C%20%5B40.871741%2C%20-73.979675%5D%2C%20%5B38.956920000000004%2C%20-76.870649%5D%2C%20%5B37.685668%2C%20-113.07951499999999%5D%2C%20%5B42.71934%2C%20-84.50439%5D%2C%20%5B41.152375%2C%20-112.02549099999999%5D%2C%20%5B37.578623%2C%20-113.17827199999999%5D%2C%20%5B34.02537%2C%20-118.42875%5D%2C%20%5B37.31474%2C%20-121.91031000000001%5D%2C%20%5B28.552632%2C%20-81.446161%5D%2C%20%5B39.419041%2C%20-76.635636%5D%2C%20%5B39.699665%2C%20-75.437364%5D%2C%20%5B34.069109999999995%2C%20-117.60705%5D%2C%20%5B42.24055%2C%20-87.97705%5D%2C%20%5B34.15283%2C%20-118.33566%5D%2C%20%5B38.39078%2C%20-81.76955%5D%2C%20%5B38.02962%2C%20-122.53765%5D%2C%20%5B36.29456%2C%20-119.383%5D%2C%20%5B33.946943%2C%20-118.291882%5D%2C%20%5B37.400752000000004%2C%20-122.035634%5D%2C%20%5B36.060315%2C%20-79.3952%5D%2C%20%5B40.70995%2C%20-73.83927%5D%2C%20%5B34.07078%2C%20-117.95731%5D%2C%20%5B34.004011%2C%20-117.83018899999999%5D%2C%20%5B34.03338%2C%20-118.11443200000001%5D%2C%20%5B25.733242999999998%2C%20-80.333047%5D%2C%20%5B32.66603%2C%20-96.71846%5D%2C%20%5B40.120709999999995%2C%20-111.6612%5D%2C%20%5B33.789833%2C%20-118.207746%5D%2C%20%5B37.63023%2C%20-122.42473999999999%5D%2C%20%5B39.7834%2C%20-105.06586999999999%5D%2C%20%5B29.020020000000002%2C%20-82.15576%5D%2C%20%5B39.365674%2C%20-75.654916%5D%2C%20%5B24.954420000000002%2C%20-80.582759%5D%2C%20%5B34.06815%2C%20-117.38959399999999%5D%2C%20%5B41.032140000000005%2C%20-102.19005%5D%2C%20%5B36.24859%2C%20-86.7286%5D%2C%20%5B40.715986%2C%20-73.975785%5D%2C%20%5B40.82885%2C%20-73.24835999999999%5D%2C%20%5B36.134215999999995%2C%20-86.801245%5D%2C%20%5B37.715073%2C%20-122.39823%5D%2C%20%5B40.72433%2C%20-111.90463000000001%5D%2C%20%5B28.567519%2C%20-81.213797%5D%2C%20%5B33.87701%2C%20-118.1339%5D%2C%20%5B41.078061%2C%20-111.723942%5D%2C%20%5B34.161826%2C%20-118.46961999999999%5D%2C%20%5B47.4626%2C%20-122.24523%5D%2C%20%5B26.561135999999998%2C%20-80.069971%5D%2C%20%5B32.845968%2C%20-97.062589%5D%2C%20%5B25.733229%2C%20-80.33374%5D%2C%20%5B26.04269%2C%20-80.16289%5D%2C%20%5B37.187836%2C%20-121.688818%5D%2C%20%5B34.19239%2C%20-118.40236000000002%5D%2C%20%5B37.31048%2C%20-121.94046999999999%5D%2C%20%5B37.57371%2C%20-122.26222%5D%2C%20%5B40.26348%2C%20-75.35345%5D%2C%20%5B41.38433%2C%20-73.16377%5D%2C%20%5B33.93913%2C%20-117.87666999999999%5D%2C%20%5B36.646376000000004%2C%20-119.699896%5D%2C%20%5B35.22484%2C%20-80.86165%5D%2C%20%5B37.25047%2C%20-121.90659%5D%2C%20%5B37.972357%2C%20-122.319824%5D%2C%20%5B38.218887%2C%20-122.23066100000001%5D%2C%20%5B41.147220000000004%2C%20-112.02606000000002%5D%2C%20%5B40.165209999999995%2C%20-111.64684%5D%2C%20%5B35.320991%2C%20-93.18666800000001%5D%2C%20%5B37.48761%2C%20-122.21396999999999%5D%2C%20%5B35.797885%2C%20-78.577725%5D%2C%20%5B40.646753000000004%2C%20-121.16664499999999%5D%2C%20%5B37.709315999999994%2C%20-122.467303%5D%2C%20%5B33.941178%2C%20-118.09671100000001%5D%2C%20%5B44.516338%2C%20-95.89904%5D%2C%20%5B27.264064%2C%20-82.44922700000001%5D%2C%20%5B41.87299%2C%20-88.59971%5D%2C%20%5B45.4972%2C%20-92.99486%5D%2C%20%5B46.11848%2C%20-123.22733999999998%5D%2C%20%5B40.437057%2C%20-78.412371%5D%2C%20%5B38.687979999999996%2C%20-90.24967%5D%2C%20%5B43.60156%2C%20-122.03918%5D%2C%20%5B41.0891%2C%20-112.015864%5D%2C%20%5B37.638279%2C%20-120.903043%5D%2C%20%5B41.139185%2C%20-81.649486%5D%2C%20%5B25.769482999999997%2C%20-80.33749399999999%5D%2C%20%5B45.440490000000004%2C%20-118.37077%5D%2C%20%5B38.354689%2C%20-104.837709%5D%2C%20%5B37.83265%2C%20-122.26661999999999%5D%2C%20%5B34.222972999999996%2C%20-118.365845%5D%2C%20%5B34.137733000000004%2C%20-80.927278%5D%2C%20%5B45.48677%2C%20-122.79279%5D%2C%20%5B33.106336%2C%20-80.128677%5D%2C%20%5B39.69716%2C%20-75.61551999999999%5D%2C%20%5B42.29967%2C%20-83.1222%5D%2C%20%5B40.33133%2C%20-74.63823000000001%5D%2C%20%5B34.08874%2C%20-118.60271999999999%5D%2C%20%5B38.018370000000004%2C%20-122.26642%5D%2C%20%5B38.63592%2C%20-121.49613000000001%5D%2C%20%5B33.9112%2C%20-118.16568999999998%5D%2C%20%5B33.901888%2C%20-118.287144%5D%2C%20%5B33.916344%2C%20-118.37008999999999%5D%2C%20%5B39.394161%2C%20-77.40916%5D%2C%20%5B34.027452000000004%2C%20-118.274482%5D%2C%20%5B34.015253%2C%20-118.04394199999999%5D%2C%20%5B41.077977000000004%2C%20-73.921068%5D%2C%20%5B34.024668%2C%20-117.75093899999999%5D%2C%20%5B26.426571000000003%2C%20-80.089849%5D%2C%20%5B40.500240000000005%2C%20-76.1825%5D%2C%20%5B40.76675%2C%20-73.95071999999999%5D%2C%20%5B27.999847999999997%2C%20-82.335716%5D%2C%20%5B29.591920000000002%2C%20-95.38624%5D%2C%20%5B42.912681%2C%20-85.632605%5D%2C%20%5B45.303909999999995%2C%20-93.56718000000001%5D%2C%20%5B40.70835%2C%20-111.90396000000001%5D%2C%20%5B34.04133%2C%20-118.06008%5D%2C%20%5B40.299493%2C%20-75.585171%5D%2C%20%5B25.840730999999998%2C%20-80.33363100000001%5D%2C%20%5B37.725582%2C%20-120.84845700000001%5D%2C%20%5B42.87656%2C%20-78.78506999999999%5D%2C%20%5B37.14435%2C%20-121.98468000000001%5D%2C%20%5B47.109609000000006%2C%20-122.43478%5D%2C%20%5B40.653079999999996%2C%20-111.97695300000001%5D%2C%20%5B40.71618%2C%20-73.82598%5D%2C%20%5B38.660775%2C%20-121.346852%5D%2C%20%5B35.08331%2C%20-90.01858%5D%2C%20%5B39.430121%2C%20-76.349453%5D%2C%20%5B42.20643%2C%20-71.06130999999999%5D%2C%20%5B34.092797%2C%20-117.98978400000001%5D%2C%20%5B37.948781%2C%20-121.230842%5D%2C%20%5B39.008789%2C%20-77.360411%5D%2C%20%5B34.224398%2C%20-117.402603%5D%2C%20%5B37.40607%2C%20-121.91017%5D%2C%20%5B37.625856%2C%20-120.98688%5D%2C%20%5B40.83307%2C%20-111.94123%5D%2C%20%5B32.504181%2C%20-93.747065%5D%2C%20%5B41.10483%2C%20-73.56259%5D%2C%20%5B38.558170000000004%2C%20-121.38583999999999%5D%2C%20%5B33.851682000000004%2C%20-117.534586%5D%2C%20%5B37.763529999999996%2C%20-121.41872%5D%2C%20%5B45.25046%2C%20-93.02443000000001%5D%2C%20%5B33.377759999999995%2C%20-112.09823%5D%2C%20%5B47.564772999999995%2C%20-114.198734%5D%2C%20%5B35.058659999999996%2C%20-119.14336000000002%5D%2C%20%5B34.079002%2C%20-117.297101%5D%2C%20%5B39.17665%2C%20-94.56266%5D%2C%20%5B45.38085%2C%20-122.58032%5D%2C%20%5B34.40364%2C%20-119.52797%5D%2C%20%5B39.203289%2C%20-121.169547%5D%2C%20%5B33.275733%2C%20-117.154106%5D%2C%20%5B40.76535%2C%20-73.71809%5D%2C%20%5B30.441270000000003%2C%20-84.33155%5D%2C%20%5B36.921107%2C%20-120.018409%5D%2C%20%5B25.915663000000002%2C%20-80.178795%5D%2C%20%5B28.56008%2C%20-81.47589%5D%2C%20%5B39.27619%2C%20-76.47416%5D%2C%20%5B38.629389%2C%20-77.313929%5D%2C%20%5B41.272118%2C%20-111.9694%5D%2C%20%5B45.709883000000005%2C%20-118.987867%5D%2C%20%5B32.33732%2C%20-111.02944%5D%2C%20%5B34.02187%2C%20-117.99054%5D%2C%20%5B33.927143%2C%20-117.288826%5D%2C%20%5B33.258207%2C%20-111.638322%5D%2C%20%5B44.786421000000004%2C%20-93.412767%5D%2C%20%5B29.78458%2C%20-95.64303000000001%5D%2C%20%5B39.243432%2C%20-94.50659300000001%5D%2C%20%5B32.999452000000005%2C%20-117.25728600000001%5D%2C%20%5B33.931695%2C%20-117.555953%5D%2C%20%5B40.68701%2C%20-111.88828000000001%5D%2C%20%5B40.6903%2C%20-73.57137%5D%2C%20%5B38.61067%2C%20-90.20791%5D%2C%20%5B28.293770000000002%2C%20-82.7092%5D%2C%20%5B33.940923%2C%20-117.24923799999999%5D%2C%20%5B43.014152%2C%20-87.91620999999999%5D%2C%20%5B32.261193%2C%20-110.94381899999999%5D%2C%20%5B40.87149%2C%20-73.97938%5D%2C%20%5B42.36544%2C%20-83.1334%5D%2C%20%5B25.793312%2C%20-80.38600799999999%5D%2C%20%5B40.345079999999996%2C%20-74.11256999999999%5D%2C%20%5B34.880437%2C%20-117.101359%5D%2C%20%5B40.727740000000004%2C%20-73.88713%5D%2C%20%5B38.563218%2C%20-121.47144399999999%5D%2C%20%5B42.26937%2C%20-83.214%5D%2C%20%5B35.59967%2C%20-82.62222%5D%2C%20%5B30.48978%2C%20-91.16554000000001%5D%2C%20%5B40.064795000000004%2C%20-75.33059899999999%5D%2C%20%5B38.665054%2C%20-121.359755%5D%2C%20%5B34.1459%2C%20-118.16498999999999%5D%2C%20%5B37.213538%2C%20-119.70853899999999%5D%2C%20%5B34.066175%2C%20-117.488772%5D%2C%20%5B34.025905%2C%20-117.778152%5D%2C%20%5B41.89164%2C%20-87.6483%5D%2C%20%5B34.526364%2C%20-117.317227%5D%2C%20%5B40.551%2C%20-112.30282%5D%2C%20%5B26.528056%2C%20-81.869772%5D%2C%20%5B28.597579999999997%2C%20-81.218571%5D%2C%20%5B47.278719%2C%20-122.25855%5D%2C%20%5B34.100984000000004%2C%20-80.856895%5D%2C%20%5B39.877678%2C%20-75.009659%5D%2C%20%5B34.795068%2C%20-82.197801%5D%2C%20%5B35.899409999999996%2C%20-84.172601%5D%2C%20%5B34.272104999999996%2C%20-117.30345%5D%2C%20%5B35.10468%2C%20-80.70406%5D%2C%20%5B41.78177%2C%20-88.05405%5D%2C%20%5B32.960904%2C%20-97.039672%5D%2C%20%5B35.225770000000004%2C%20-80.85073%5D%2C%20%5B33.084109999999995%2C%20-117.29893999999999%5D%2C%20%5B35.25253%2C%20-80.98329%5D%2C%20%5B42.47703%2C%20-82.91636%5D%2C%20%5B30.475859999999997%2C%20-97.59658%5D%2C%20%5B39.874015%2C%20-75.350587%5D%2C%20%5B38.1939%2C%20-85.7329%5D%2C%20%5B35.60239%2C%20-78.80296%5D%2C%20%5B28.272409999999997%2C%20-81.33488%5D%2C%20%5B40.807140000000004%2C%20-74.07686%5D%2C%20%5B25.81156%2C%20-80.2522%5D%2C%20%5B44.064584%2C%20-84.780582%5D%2C%20%5B45.338634000000006%2C%20-121.14225900000001%5D%2C%20%5B39.236684999999994%2C%20-120.067857%5D%2C%20%5B42.433844%2C%20-123.17355%5D%2C%20%5B45.54659%2C%20-122.53738999999999%5D%2C%20%5B40.644401%2C%20-111.930746%5D%2C%20%5B32.963709%2C%20-117.095598%5D%2C%20%5B32.844546%2C%20-117.118931%5D%2C%20%5B47.79681%2C%20-122.21835%5D%2C%20%5B36.728981%2C%20-119.79706999999999%5D%2C%20%5B37.996762%2C%20-122.28573899999999%5D%2C%20%5B29.7271%2C%20-95.464575%5D%2C%20%5B29.47995%2C%20-98.36166%5D%2C%20%5B30.160835%2C%20-81.632749%5D%2C%20%5B37.718928999999996%2C%20-122.39945900000001%5D%2C%20%5B40.13328%2C%20-74.97045%5D%2C%20%5B28.365239000000003%2C%20-81.373114%5D%2C%20%5B39.89759%2C%20-84.18781%5D%2C%20%5B33.77908%2C%20-117.88103000000001%5D%2C%20%5B37.924914%2C%20-122.32071599999999%5D%2C%20%5B38.23915%2C%20-85.75329%5D%2C%20%5B41.87556%2C%20-87.66337%5D%2C%20%5B32.71682%2C%20-117.14757%5D%2C%20%5B37.43768%2C%20-79.90341%5D%2C%20%5B33.945303%2C%20-118.094349%5D%2C%20%5B43.14257%2C%20-76.11833399999999%5D%2C%20%5B37.942389%2C%20-78.11301800000001%5D%2C%20%5B37.370806%2C%20-121.91313400000001%5D%2C%20%5B45.377959000000004%2C%20-93.56356099999999%5D%2C%20%5B39.271026%2C%20-76.55675699999999%5D%2C%20%5B28.494552000000002%2C%20-81.395985%5D%2C%20%5B36.977908%2C%20-121.910367%5D%2C%20%5B38.574040000000004%2C%20-121.383648%5D%2C%20%5B39.890209999999996%2C%20-76.23798000000001%5D%2C%20%5B39.711209999999994%2C%20-104.9989%5D%2C%20%5B34.06488%2C%20-117.31541200000001%5D%2C%20%5B33.94828%2C%20-117.30131999999999%5D%2C%20%5B39.30934%2C%20-74.61916%5D%2C%20%5B25.691983999999998%2C%20-80.43423299999999%5D%2C%20%5B35.47826%2C%20-82.55468%5D%2C%20%5B33.87592%2C%20-118.16354%5D%2C%20%5B34.777859%2C%20-92.234204%5D%2C%20%5B45.518178999999996%2C%20-122.66684%5D%2C%20%5B34.961881%2C%20-82.003383%5D%2C%20%5B34.0725%2C%20-118.06679299999999%5D%2C%20%5B41.308662%2C%20-72.91458%5D%2C%20%5B32.704999%2C%20-96.83272%5D%2C%20%5B28.566451%2C%20-81.20342099999999%5D%2C%20%5B43.978097999999996%2C%20-122.960203%5D%2C%20%5B25.89385%2C%20-80.162314%5D%2C%20%5B39.680884999999996%2C%20-105.89434299999999%5D%2C%20%5B37.89687%2C%20-122.10223%5D%2C%20%5B36.259648999999996%2C%20-77.293261%5D%2C%20%5B29.867040000000003%2C%20-95.54120999999999%5D%2C%20%5B44.946870000000004%2C%20-93.0791%5D%2C%20%5B42.065058%2C%20-71.05516999999999%5D%2C%20%5B33.726042%2C%20-117.834994%5D%2C%20%5B25.825678%2C%20-80.20669000000001%5D%2C%20%5B42.47759%2C%20-71.11303000000001%5D%2C%20%5B45.002179999999996%2C%20-93.08969%5D%2C%20%5B42.34496%2C%20-71.5754%5D%2C%20%5B34.249794%2C%20-85.457769%5D%2C%20%5B41.403296999999995%2C%20-81.50752299999999%5D%2C%20%5B37.808253%2C%20-122.366974%5D%2C%20%5B32.1954%2C%20-110.89265%5D%2C%20%5B40.210041%2C%20-79.962523%5D%2C%20%5B39.679176%2C%20-105.90375700000001%5D%2C%20%5B33.53888%2C%20-84.26599%5D%2C%20%5B33.876957%2C%20-118.147722%5D%2C%20%5B37.401538%2C%20-113.23971100000001%5D%2C%20%5B33.909155%2C%20-118.269649%5D%2C%20%5B47.23485%2C%20-122.47201000000001%5D%2C%20%5B36.546417%2C%20-119.44861499999999%5D%2C%20%5B38.080369%2C%20-88.91575%5D%2C%20%5B40.624997%2C%20-77.563201%5D%2C%20%5B45.50789%2C%20-122.7439%5D%2C%20%5B37.794299%2C%20-122.206051%5D%2C%20%5B43.20507%2C%20-77.47462%5D%2C%20%5B25.775833%2C%20-80.353713%5D%2C%20%5B39.13017%2C%20-84.48%5D%2C%20%5B36.881387%2C%20-119.54783799999998%5D%2C%20%5B40.93074%2C%20-73.87847%5D%2C%20%5B32.330027%2C%20-88.57204499999999%5D%2C%20%5B37.620602000000005%2C%20-77.584417%5D%2C%20%5B37.08743%2C%20-76.45702%5D%2C%20%5B26.720840999999997%2C%20-81.494277%5D%2C%20%5B43.372957%2C%20-71.610316%5D%2C%20%5B26.546128000000003%2C%20-81.883852%5D%2C%20%5B25.924436%2C%20-80.30994799999999%5D%2C%20%5B43.00056%2C%20-71.47499%5D%2C%20%5B37.36061%2C%20-121.90502%5D%2C%20%5B33.672436%2C%20-86.82988399999999%5D%2C%20%5B39.341159999999995%2C%20-76.64754%5D%2C%20%5B41.78994%2C%20-75.68566%5D%2C%20%5B34.04116%2C%20-117.99816000000001%5D%2C%20%5B41.37579%2C%20-88.84075%5D%2C%20%5B40.98352%2C%20-75.62955%5D%2C%20%5B42.532468%2C%20-84.719061%5D%2C%20%5B30.373176%2C%20-97.725507%5D%2C%20%5B40.69531%2C%20-111.79593%5D%2C%20%5B34.137307%2C%20-117.239883%5D%2C%20%5B35.216159999999995%2C%20-80.83219%5D%2C%20%5B33.011404999999996%2C%20-117.079932%5D%2C%20%5B40.16905%2C%20-74.89948000000001%5D%2C%20%5B40.608198%2C%20-74.13210500000001%5D%2C%20%5B42.661770000000004%2C%20-84.2042%5D%2C%20%5B28.5183%2C%20-81.50344%5D%2C%20%5B32.96828%2C%20-117.09346000000001%5D%2C%20%5B39.09875%2C%20-76.62821%5D%2C%20%5B36.658941%2C%20-77.55704899999999%5D%2C%20%5B39.829297%2C%20-75.546676%5D%2C%20%5B33.465169%2C%20-112.03818999999999%5D%2C%20%5B38.870892%2C%20-77.297976%5D%2C%20%5B33.677236%2C%20-117.323784%5D%2C%20%5B39.771582%2C%20-104.81889699999999%5D%2C%20%5B44.114340000000006%2C%20-121.29186000000001%5D%2C%20%5B37.89808%2C%20-122.30921000000001%5D%2C%20%5B38.524757%2C%20-121.46745%5D%2C%20%5B35.53386%2C%20-97.58345%5D%2C%20%5B40.744808%2C%20-74.213571%5D%2C%20%5B38.011761%2C%20-121.86622%5D%2C%20%5B39.136635999999996%2C%20-121.0714%5D%2C%20%5B28.089832%2C%20-81.270269%5D%2C%20%5B35.41946%2C%20-78.52831%5D%2C%20%5B33.930175%2C%20-118.326416%5D%2C%20%5B37.50099%2C%20-77.37939%5D%2C%20%5B43.986740000000005%2C%20-90.44036%5D%2C%20%5B25.8588%2C%20-80.20801999999999%5D%2C%20%5B37.270415%2C%20-84.252217%5D%2C%20%5B44.84134%2C%20-92.975442%5D%2C%20%5B32.70986%2C%20-96.92919%5D%2C%20%5B30.477223%2C%20-86.574199%5D%2C%20%5B28.410420000000002%2C%20-81.42437%5D%2C%20%5B38.021997%2C%20-78.540498%5D%2C%20%5B42.3698%2C%20-83.14409%5D%2C%20%5B28.377464%2C%20-81.504458%5D%2C%20%5B29.77259%2C%20-95.57585999999999%5D%2C%20%5B28.569629%2C%20-81.232277%5D%2C%20%5B45.276385999999995%2C%20-111.34030200000001%5D%2C%20%5B26.24765%2C%20-80.16676%5D%2C%20%5B38.883781%2C%20-121.975%5D%2C%20%5B44.308751%2C%20-93.30918199999999%5D%2C%20%5B41.48709%2C%20-87.57735%5D%2C%20%5B42.961338%2C%20-77.040177%5D%2C%20%5B32.7596%2C%20-117.18437%5D%2C%20%5B36.853196999999994%2C%20-80.862818%5D%2C%20%5B37.11119%2C%20-76.48075%5D%2C%20%5B25.687934%2C%20-80.350774%5D%2C%20%5B40.30531%2C%20-105.07415%5D%2C%20%5B34.148224%2C%20-117.481871%5D%2C%20%5B39.394909999999996%2C%20-76.54515%5D%2C%20%5B47.9492%2C%20-122.10125%5D%2C%20%5B25.742458%2C%20-80.384505%5D%2C%20%5B32.66438%2C%20-97.33218000000001%5D%2C%20%5B39.375310999999996%2C%20-76.452387%5D%2C%20%5B41.78968%2C%20-71.4184%5D%2C%20%5B34.9841%2C%20-81.97334000000001%5D%2C%20%5B30.032039%2C%20-90.33653100000001%5D%2C%20%5B33.939194%2C%20-117.13679099999999%5D%2C%20%5B37.70107%2C%20-121.8441%5D%2C%20%5B38.87639%2C%20-94.52615%5D%2C%20%5B33.92575%2C%20-118.17795%5D%2C%20%5B34.00078%2C%20-117.35221000000001%5D%2C%20%5B32.731390000000005%2C%20-83.65552%5D%2C%20%5B44.99457%2C%20-93.06594%5D%2C%20%5B39.7764%2C%20-104.872624%5D%2C%20%5B42.35118%2C%20-83.09626999999999%5D%2C%20%5B33.987704%2C%20-118.399174%5D%2C%20%5B33.45778%2C%20-82.19383%5D%2C%20%5B46.123587%2C%20-123.360836%5D%2C%20%5B37.7014%2C%20-121.87685%5D%2C%20%5B35.839263%2C%20-78.611811%5D%2C%20%5B37.148613%2C%20-122.15723%5D%2C%20%5B33.67876%2C%20-117.84836000000001%5D%2C%20%5B28.538694%2C%20-81.340843%5D%2C%20%5B28.389504%2C%20-82.66926099999999%5D%2C%20%5B32.83695%2C%20-96.92558000000001%5D%2C%20%5B34.01559%2C%20-118.043181%5D%2C%20%5B35.054907%2C%20-118.17448%5D%2C%20%5B30.655372999999997%2C%20-81.45863299999999%5D%2C%20%5B40.64845%2C%20-111.90222%5D%2C%20%5B39.919709999999995%2C%20-86.10597%5D%2C%20%5B35.352222%2C%20-119.021111%5D%2C%20%5B39.005109999999995%2C%20-77.08173000000001%5D%2C%20%5B45.073331%2C%20-93.286532%5D%2C%20%5B25.941566%2C%20-80.306811%5D%2C%20%5B30.425520000000002%2C%20-87.27473%5D%2C%20%5B39.32662%2C%20-84.42002%5D%2C%20%5B41.11955%2C%20-73.42092%5D%2C%20%5B34.638915999999995%2C%20-82.428306%5D%2C%20%5B38.559518%2C%20-121.46916999999999%5D%2C%20%5B33.49477%2C%20-112.20818999999999%5D%2C%20%5B41.57765%2C%20-87.56348%5D%2C%20%5B36.211143%2C%20-119.70855%5D%2C%20%5B39.928445%2C%20-75.196524%5D%2C%20%5B33.8267%2C%20-118.20787%5D%2C%20%5B45.236290000000004%2C%20-123.06371999999999%5D%2C%20%5B44.55427%2C%20-123.26488%5D%2C%20%5B41.386259%2C%20-73.60001899999999%5D%2C%20%5B25.88975%2C%20-80.32381%5D%2C%20%5B35.81706%2C%20-78.599531%5D%2C%20%5B33.968445%2C%20-117.849131%5D%2C%20%5B35.049848%2C%20-90.010317%5D%2C%20%5B41.307761%2C%20-92.885177%5D%2C%20%5B41.75009%2C%20-72.729265%5D%2C%20%5B38.090207%2C%20-77.517292%5D%2C%20%5B43.581485%2C%20-70.395925%5D%2C%20%5B34.0069%2C%20-118.28113%5D%2C%20%5B43.41575%2C%20-84.05212%5D%2C%20%5B45.54104%2C%20-122.69858%5D%2C%20%5B38.935320000000004%2C%20-94.72041999999999%5D%2C%20%5B47.599309999999996%2C%20-122.18173%5D%2C%20%5B25.81156%2C%20-80.2522%5D%2C%20%5B45.35938%2C%20-94.76648%5D%2C%20%5B38.649878%2C%20-121.069069%5D%2C%20%5B45.26488%2C%20-123.84966999999999%5D%2C%20%5B46.169869%2C%20-123.47420100000001%5D%2C%20%5B33.941%2C%20-117.27020800000001%5D%2C%20%5B39.247679999999995%2C%20-77.2961%5D%2C%20%5B32.710622%2C%20-83.731623%5D%2C%20%5B40.711742%2C%20-73.822728%5D%2C%20%5B40.72412%2C%20-74.22946%5D%2C%20%5B38.236681%2C%20-122.46003600000002%5D%2C%20%5B38.89772%2C%20-77.17768000000001%5D%2C%20%5B34.889346%2C%20-82.171987%5D%2C%20%5B25.925188000000002%2C%20-80.155876%5D%2C%20%5B34.065688%2C%20-117.50036599999999%5D%2C%20%5B39.596517999999996%2C%20-76.058167%5D%2C%20%5B39.871629999999996%2C%20-75.03383000000001%5D%2C%20%5B34.291874%2C%20-118.411406%5D%2C%20%5B40.574003000000005%2C%20-111.89998999999999%5D%2C%20%5B34.310746%2C%20-83.788201%5D%2C%20%5B30.415540999999997%2C%20-91.062612%5D%2C%20%5B40.218887%2C%20-74.032199%5D%2C%20%5B30.4172%2C%20-91.08986%5D%2C%20%5B28.17202%2C%20-80.67206%5D%2C%20%5B38.464218%2C%20-122.726844%5D%2C%20%5B34.022175%2C%20-118.165727%5D%2C%20%5B31.731216999999997%2C%20-106.364382%5D%2C%20%5B34.885247%2C%20-81.944165%5D%2C%20%5B44.8905%2C%20-93.29899%5D%2C%20%5B34.363831%2C%20-117.432075%5D%2C%20%5B41.256273%2C%20-77.009024%5D%2C%20%5B43.05894%2C%20-123.33963%5D%2C%20%5B25.780260000000002%2C%20-80.31251999999999%5D%2C%20%5B36.739377000000005%2C%20-80.769364%5D%2C%20%5B36.626518%2C%20-121.67883%5D%2C%20%5B39.82354%2C%20-104.96412%5D%2C%20%5B37.386619%2C%20-121.905526%5D%2C%20%5B26.08248%2C%20-80.17299%5D%2C%20%5B42.96685%2C%20-76.85564000000001%5D%2C%20%5B39.796009999999995%2C%20-86.2744%5D%2C%20%5B33.767025%2C%20-117.921314%5D%2C%20%5B30.375685999999998%2C%20-97.673109%5D%2C%20%5B42.867940000000004%2C%20-78.82951%5D%2C%20%5B39.96128%2C%20-75.18244%5D%2C%20%5B45.36459%2C%20-122.75952%5D%2C%20%5B32.798320000000004%2C%20-96.79315%5D%2C%20%5B25.782055%2C%20-80.20053%5D%2C%20%5B37.00887%2C%20-80.7496%5D%2C%20%5B37.50492%2C%20-121.96423999999999%5D%2C%20%5B25.694817%2C%20-80.306124%5D%2C%20%5B47.57906%2C%20-122.189577%5D%2C%20%5B38.705420000000004%2C%20-77.22377%5D%2C%20%5B41.692240000000005%2C%20-72.31482%5D%2C%20%5B38.6375%2C%20-90.45229%5D%2C%20%5B41.81498%2C%20-70.55419%5D%2C%20%5B41.86854%2C%20-71.42522%5D%2C%20%5B34.05308%2C%20-117.5481%5D%2C%20%5B39.113806%2C%20-76.778436%5D%2C%20%5B39.80963%2C%20-104.98308%5D%2C%20%5B47.73607%2C%20-122.18784%5D%2C%20%5B35.0321%2C%20-85.317789%5D%2C%20%5B36.769577000000005%2C%20-119.74950600000001%5D%2C%20%5B38.867708%2C%20-77.315586%5D%2C%20%5B25.90939%2C%20-80.20987%5D%2C%20%5B45.716121%2C%20-108.51331%5D%2C%20%5B34.117697%2C%20-117.84633000000001%5D%2C%20%5B44.72786%2C%20-93.28245%5D%2C%20%5B38.12546%2C%20-85.89301999999999%5D%2C%20%5B34.10808%2C%20-118.18562%5D%2C%20%5B33.770140000000005%2C%20-84.64537%5D%2C%20%5B30.474324%2C%20-88.400159%5D%2C%20%5B36.042390000000005%2C%20-79.77779%5D%2C%20%5B39.02245%2C%20-77.40741%5D%2C%20%5B37.258619%2C%20-120.48793500000001%5D%2C%20%5B39.752708%2C%20-122.205294%5D%2C%20%5B25.632127%2C%20-80.392257%5D%2C%20%5B39.269989%2C%20-76.648646%5D%2C%20%5B32.941520000000004%2C%20-117.21771000000001%5D%2C%20%5B28.182029999999997%2C%20-81.74365999999999%5D%2C%20%5B47.6396%2C%20-122.34577%5D%2C%20%5B32.85113%2C%20-96.56788%5D%2C%20%5B45.55104%2C%20-118.46441999999999%5D%2C%20%5B34.1482%2C%20-118.08587%5D%2C%20%5B40.0194%2C%20-82.90439%5D%2C%20%5B43.118738%2C%20-71.481149%5D%2C%20%5B40.61659%2C%20-73.75178000000001%5D%2C%20%5B33.8231%2C%20-118.20669%5D%2C%20%5B35.22156%2C%20-80.83035%5D%2C%20%5B38.505534000000004%2C%20-121.45588300000001%5D%2C%20%5B37.660209%2C%20-122.10372%5D%2C%20%5B35.880736%2C%20-84.232252%5D%2C%20%5B43.003%2C%20-76.19211%5D%2C%20%5B33.85541%2C%20-118.09533400000001%5D%2C%20%5B47.579544%2C%20-122.319277%5D%2C%20%5B40.902303%2C%20-74.195963%5D%2C%20%5B41.900058%2C%20-112.170679%5D%2C%20%5B28.553131%2C%20-81.360955%5D%2C%20%5B41.87124%2C%20-87.83788%5D%2C%20%5B33.891232%2C%20-117.554776%5D%2C%20%5B36.11476%2C%20-115.14636999999999%5D%2C%20%5B40.18893%2C%20-121.53328%5D%2C%20%5B44.89535%2C%20-93.4444%5D%2C%20%5B37.824159%2C%20-122.267384%5D%2C%20%5B40.680582%2C%20-111.465879%5D%2C%20%5B28.015726%2C%20-82.45504%5D%2C%20%5B34.28257%2C%20-118.41591000000001%5D%2C%20%5B29.819253999999997%2C%20-95.474672%5D%2C%20%5B45.21798%2C%20-93.59595999999999%5D%2C%20%5B34.03759%2C%20-118.08625%5D%2C%20%5B33.77758%2C%20-84.39076%5D%2C%20%5B42.348058%2C%20-87.890105%5D%2C%20%5B42.384491%2C%20-87.96333%5D%2C%20%5B39.093962%2C%20-104.862951%5D%2C%20%5B41.75354%2C%20-71.11787%5D%2C%20%5B44.878351%2C%20-120.047132%5D%2C%20%5B39.919959999999996%2C%20-82.82552%5D%2C%20%5B34.15315%2C%20-118.36151000000001%5D%2C%20%5B33.870195%2C%20-117.703818%5D%2C%20%5B39.790152%2C%20-77.711995%5D%2C%20%5B42.494440000000004%2C%20-82.93203000000001%5D%2C%20%5B25.68855%2C%20-80.47833%5D%2C%20%5B38.880629%2C%20-77.39610400000001%5D%2C%20%5B43.231151000000004%2C%20-73.691959%5D%2C%20%5B40.59843%2C%20-111.90338999999999%5D%2C%20%5B36.17357%2C%20-86.86968%5D%2C%20%5B41.8925%2C%20-87.64962%5D%2C%20%5B25.8128%2C%20-80.21117%5D%2C%20%5B26.547152%2C%20-81.871628%5D%2C%20%5B25.94559%2C%20-80.18654000000001%5D%2C%20%5B27.508235%2C%20-82.56302%5D%2C%20%5B33.839403000000004%2C%20-92.544289%5D%2C%20%5B37.706235%2C%20-122.394653%5D%2C%20%5B39.66772%2C%20-105.08147%5D%2C%20%5B33.49855%2C%20-112.11305%5D%2C%20%5B46.36166%2C%20-94.64353%5D%2C%20%5B40.262091999999996%2C%20-74.51218399999999%5D%2C%20%5B32.791379%2C%20-96.738977%5D%2C%20%5B45.340129%2C%20-118.086502%5D%2C%20%5B41.895540000000004%2C%20-87.65714100000001%5D%2C%20%5B33.06745%2C%20-97.016904%5D%2C%20%5B34.362466999999995%2C%20-118.55503999999999%5D%2C%20%5B45.89018%2C%20-86.53746%5D%2C%20%5B39.88534%2C%20-104.88172%5D%2C%20%5B33.989339%2C%20-118.256022%5D%2C%20%5B33.847640000000006%2C%20-117.87588999999998%5D%2C%20%5B36.973812%2C%20-113.707324%5D%2C%20%5B27.3909%2C%20-81.41402%5D%2C%20%5B34.336816999999996%2C%20-110.73803600000001%5D%2C%20%5B39.806338000000004%2C%20-76.987941%5D%2C%20%5B40.7416%2C%20-73.83748%5D%2C%20%5B37.02598%2C%20-76.33145%5D%2C%20%5B38.65795%2C%20-121.36358999999999%5D%2C%20%5B39.22606%2C%20-84.55328%5D%2C%20%5B29.43862%2C%20-98.47728000000001%5D%2C%20%5B27.20668%2C%20-82.00978%5D%2C%20%5B32.810766%2C%20-97.209292%5D%2C%20%5B39.81517%2C%20-85.92732%5D%2C%20%5B36.258833%2C%20-86.713404%5D%2C%20%5B33.191203%2C%20-117.12200800000001%5D%2C%20%5B35.10374%2C%20-81.62153%5D%2C%20%5B37.884153000000005%2C%20-121.14691599999999%5D%2C%20%5B34.04965%2C%20-118.44876000000001%5D%2C%20%5B47.64428%2C%20-122.20168000000001%5D%2C%20%5B43.588015000000006%2C%20-93.307999%5D%2C%20%5B41.47208%2C%20-81.84044%5D%2C%20%5B40.160740000000004%2C%20-104.992411%5D%2C%20%5B25.988148000000002%2C%20-80.165745%5D%2C%20%5B32.80046%2C%20-97.05476999999999%5D%2C%20%5B27.099079999999997%2C%20-82.20127%5D%2C%20%5B40.749759999999995%2C%20-111.90975%5D%2C%20%5B33.237404999999995%2C%20-86.804079%5D%2C%20%5B41.87608%2C%20-87.66223000000001%5D%2C%20%5B36.699174%2C%20-81.96982%5D%2C%20%5B35.25499%2C%20-80.82419%5D%2C%20%5B47.945237%2C%20-119.494923%5D%2C%20%5B29.600140000000003%2C%20-95.33236%5D%2C%20%5B29.627712%2C%20-95.234153%5D%2C%20%5B34.129519%2C%20-117.93425900000001%5D%2C%20%5B32.699936%2C%20-117.12068400000001%5D%2C%20%5B33.502320000000005%2C%20-111.93056000000001%5D%2C%20%5B45.19995%2C%20-91.57131%5D%2C%20%5B42.46498%2C%20-83.10772%5D%2C%20%5B33.877019%2C%20-118.14268600000001%5D%2C%20%5B37.847511%2C%20-122.02763200000001%5D%2C%20%5B42.19916%2C%20-85.9671%5D%2C%20%5B32.712992%2C%20-96.68361800000001%5D%2C%20%5B33.67088%2C%20-117.82654%5D%2C%20%5B34.068776%2C%20-117.9732%5D%2C%20%5B44.70453%2C%20-117.71797%5D%2C%20%5B39.166313%2C%20-76.642051%5D%2C%20%5B29.7844%2C%20-95.57326%5D%2C%20%5B43.18307%2C%20-90.34993%5D%2C%20%5B34.730482%2C%20-92.306717%5D%2C%20%5B38.664126%2C%20-76.87480699999999%5D%2C%20%5B41.90033%2C%20-87.66023%5D%2C%20%5B33.916421%2C%20-118.28603000000001%5D%2C%20%5B37.145716%2C%20-121.98504799999999%5D%2C%20%5B34.44181%2C%20-119.80575%5D%2C%20%5B39.703913%2C%20-86.089736%5D%2C%20%5B32.839475%2C%20-97.31750600000001%5D%2C%20%5B37.582136%2C%20-122.25266699999999%5D%2C%20%5B26.517359000000003%2C%20-81.794811%5D%2C%20%5B33.670491%2C%20-117.17081999999999%5D%2C%20%5B40.534%2C%20-122.141126%5D%2C%20%5B37.104939%2C%20-77.54048399999999%5D%2C%20%5B34.144690000000004%2C%20-118.16824%5D%2C%20%5B38.932790000000004%2C%20-104.8139%5D%2C%20%5B43.12123%2C%20-89.28904%5D%2C%20%5B37.69554%2C%20-122.0739%5D%2C%20%5B36.7727%2C%20-119.74913000000001%5D%2C%20%5B38.410707%2C%20-82.379688%5D%2C%20%5B42.966909%2C%20-71.4139%5D%2C%20%5B34.0531%2C%20-118.2284%5D%2C%20%5B27.10248%2C%20-80.25784%5D%2C%20%5B29.991034000000003%2C%20-90.061937%5D%2C%20%5B28.427466%2C%20-81.404616%5D%2C%20%5B47.627759999999995%2C%20-95.86983000000001%5D%2C%20%5B34.064992%2C%20-118.000215%5D%2C%20%5B39.03136%2C%20-120.97638%5D%2C%20%5B40.03451%2C%20-82.99625%5D%2C%20%5B26.6521%2C%20-80.23231%5D%2C%20%5B34.392394%2C%20-118.47247800000001%5D%2C%20%5B34.499012%2C%20-118.625751%5D%2C%20%5B35.76847%2C%20-78.73058%5D%2C%20%5B40.55011%2C%20-111.89631000000001%5D%2C%20%5B39.577289%2C%20-76.25836899999999%5D%2C%20%5B33.88286%2C%20-118.34998%5D%2C%20%5B29.497320000000002%2C%20-98.48392%5D%2C%20%5B34.174937%2C%20-118.588711%5D%2C%20%5B36.352717999999996%2C%20-121.26753799999999%5D%2C%20%5B34.559940999999995%2C%20-111.906399%5D%2C%20%5B45.235494%2C%20-93.645289%5D%2C%20%5B32.257668%2C%20-110.96340900000001%5D%2C%20%5B36.707093%2C%20-76.33595799999999%5D%2C%20%5B42.93438%2C%20-78.71731%5D%2C%20%5B37.59558%2C%20-122.05859%5D%2C%20%5B29.773819%2C%20-95.244552%5D%2C%20%5B39.570204%2C%20-75.23817700000001%5D%2C%20%5B34.145582%2C%20-117.30286299999999%5D%2C%20%5B37.367857%2C%20-79.92161999999999%5D%2C%20%5B37.31649%2C%20-121.9673%5D%2C%20%5B36.967123%2C%20-76.296145%5D%2C%20%5B28.092556%2C%20-82.73944499999999%5D%2C%20%5B30.46071%2C%20-97.695162%5D%2C%20%5B30.2201%2C%20-97.62229%5D%2C%20%5B41.004668%2C%20-111.93045500000001%5D%2C%20%5B39.15318%2C%20-76.64036999999999%5D%2C%20%5B34.068881%2C%20-118.042177%5D%2C%20%5B37.36458%2C%20-121.90176000000001%5D%2C%20%5B37.340057%2C%20-120.58928600000002%5D%2C%20%5B44.0812%2C%20-123.17261%5D%2C%20%5B30.226148%2C%20-97.706246%5D%2C%20%5B34.558006%2C%20-118.11421499999999%5D%2C%20%5B36.988209999999995%2C%20-122.00348000000001%5D%2C%20%5B36.10095%2C%20-115.17284599999999%5D%2C%20%5B34.02657%2C%20-118.234%5D%2C%20%5B40.6039%2C%20-74.06918%5D%2C%20%5B28.250288%2C%20-81.32924799999999%5D%2C%20%5B34.437046%2C%20-119.857092%5D%2C%20%5B42.96301%2C%20-123.33017%5D%2C%20%5B37.668957%2C%20-122.10938600000001%5D%2C%20%5B34.065490000000004%2C%20-117.54478%5D%2C%20%5B35.44457%2C%20-97.48607%5D%2C%20%5B42.4796%2C%20-83.11216999999999%5D%2C%20%5B44.51023%2C%20-122.00091%5D%2C%20%5B34.15295%2C%20-118.27973%5D%2C%20%5B38.546658%2C%20-77.344254%5D%2C%20%5B41.342017999999996%2C%20-84.119248%5D%2C%20%5B34.05134%2C%20-118.00608999999999%5D%2C%20%5B37.424664%2C%20-122.097627%5D%2C%20%5B34.890229999999995%2C%20-82.46849%5D%2C%20%5B44.37757%2C%20-121.64511999999999%5D%2C%20%5B34.134547%2C%20-117.65283400000001%5D%2C%20%5B33.813427000000004%2C%20-118.16767%5D%2C%20%5B29.476%2C%20-95.40590999999999%5D%2C%20%5B42.337589%2C%20-87.835921%5D%2C%20%5B41.772009999999995%2C%20-71.954527%5D%2C%20%5B44.09765%2C%20-123.11458%5D%2C%20%5B29.991636%2C%20-81.465299%5D%2C%20%5B37.93197%2C%20-122.32563%5D%2C%20%5B32.918052%2C%20-96.76661700000001%5D%2C%20%5B33.872064%2C%20-117.665251%5D%2C%20%5B33.94583%2C%20-118.09411999999999%5D%2C%20%5B33.567878%2C%20-86.78363399999999%5D%2C%20%5B43.6176%2C%20-122.082771%5D%2C%20%5B38.234874%2C%20-122.62024699999999%5D%2C%20%5B45.29477%2C%20-118.03743%5D%2C%20%5B38.617943%2C%20-121.401381%5D%2C%20%5B41.89972%2C%20-87.66085%5D%2C%20%5B33.862331%2C%20-110.414869%5D%2C%20%5B25.8023%2C%20-80.20557%5D%2C%20%5B38.900420000000004%2C%20-76.94624%5D%2C%20%5B34.00801%2C%20-117.96824%5D%2C%20%5B45.06628%2C%20-93.1973%5D%2C%20%5B30.214879999999997%2C%20-97.75241%5D%2C%20%5B30.191340999999998%2C%20-81.69559100000001%5D%2C%20%5B33.60018%2C%20-91.33606999999999%5D%2C%20%5B25.570268%2C%20-80.341498%5D%2C%20%5B38.854939%2C%20-77.433279%5D%2C%20%5B38.62888%2C%20-121.4056%5D%2C%20%5B32.218270000000004%2C%20-81.53356%5D%2C%20%5B41.163808%2C%20-73.238972%5D%2C%20%5B38.903499%2C%20-121.05518400000001%5D%2C%20%5B32.78778%2C%20-97.26035%5D%2C%20%5B40.701675%2C%20-73.99158%5D%2C%20%5B39.116839%2C%20-121.569799%5D%2C%20%5B32.911101%2C%20-117.227994%5D%2C%20%5B34.06745%2C%20-117.58863999999998%5D%2C%20%5B26.409329999999997%2C%20-80.090128%5D%2C%20%5B40.423786%2C%20-76.528568%5D%2C%20%5B40.306090000000005%2C%20-85.36877%5D%2C%20%5B30.472495000000002%2C%20-84.23254200000001%5D%2C%20%5B39.169633000000005%2C%20-76.640202%5D%2C%20%5B42.32914%2C%20-120.30093000000001%5D%2C%20%5B28.56806%2C%20-81.37566%5D%2C%20%5B37.860921000000005%2C%20-122.210559%5D%2C%20%5B34.581439%2C%20-118.133858%5D%2C%20%5B37.529951000000004%2C%20-122.00196100000001%5D%2C%20%5B32.766529999999996%2C%20-96.90511%5D%2C%20%5B33.60515%2C%20-112.29876999999999%5D%2C%20%5B34.027215999999996%2C%20-118.17241499999999%5D%2C%20%5B34.221944%2C%20-119.134722%5D%2C%20%5B42.48605%2C%20-71.19529%5D%2C%20%5B32.295128999999996%2C%20-106.805227%5D%2C%20%5B45.01155%2C%20-93.02604000000001%5D%2C%20%5B38.49655%2C%20-121.260823%5D%2C%20%5B37.727863%2C%20-121.10621299999998%5D%2C%20%5B33.195527%2C%20-87.525903%5D%2C%20%5B41.23532%2C%20-75.84607%5D%2C%20%5B28.04087%2C%20-80.66075%5D%2C%20%5B38.67167%2C%20-90.36186%5D%2C%20%5B37.544802000000004%2C%20-120.90171399999998%5D%2C%20%5B25.81711%2C%20-80.20644%5D%2C%20%5B33.86557%2C%20-118.35248999999999%5D%2C%20%5B41.62697%2C%20-87.67585%5D%2C%20%5B33.431509999999996%2C%20-112.59683999999999%5D%2C%20%5B41.750890000000005%2C%20-72.703174%5D%2C%20%5B30.503259999999997%2C%20-97.68349%5D%2C%20%5B37.61696%2C%20-122.15545300000001%5D%2C%20%5B38.018570000000004%2C%20-121.89513000000001%5D%2C%20%5B35.128598%2C%20-89.867837%5D%2C%20%5B37.84857%2C%20-122.23405%5D%2C%20%5B34.99049%2C%20-111.68688999999999%5D%2C%20%5B45.52213%2C%20-122.68565%5D%2C%20%5B41.90424%2C%20-88.03249%5D%2C%20%5B33.567608%2C%20-83.898545%5D%2C%20%5B34.904540999999995%2C%20-82.320122%5D%2C%20%5B32.812576%2C%20-117.114574%5D%2C%20%5B35.29356%2C%20-80.74016999999999%5D%2C%20%5B37.410070000000005%2C%20-121.87921000000001%5D%2C%20%5B34.128729%2C%20-117.93815900000001%5D%2C%20%5B32.826809999999995%2C%20-117.1176%5D%2C%20%5B34.354107%2C%20-117.438041%5D%2C%20%5B41.580740000000006%2C%20-93.09714%5D%2C%20%5B34.08741%2C%20-117.66528000000001%5D%2C%20%5B43.108633000000005%2C%20-75.248293%5D%2C%20%5B47.46206%2C%20-122.251028%5D%2C%20%5B34.033741%2C%20-117.73143700000001%5D%2C%20%5B39.01036%2C%20-77.04721500000001%5D%2C%20%5B33.772219%2C%20-117.830804%5D%2C%20%5B45.696329%2C%20-118.94503700000001%5D%2C%20%5B29.80844%2C%20-95.33012%5D%2C%20%5B33.91272%2C%20-118.18027%5D%2C%20%5B35.756609999999995%2C%20-78.61237%5D%2C%20%5B29.846635%2C%20-95.563641%5D%2C%20%5B40.24403%2C%20-111.16933%5D%2C%20%5B45.760353%2C%20-118.56288700000002%5D%2C%20%5B40.909919%2C%20-77.28234%5D%2C%20%5B39.913257%2C%20-74.982141%5D%2C%20%5B42.55636%2C%20-88.97523000000001%5D%2C%20%5B33.629191%2C%20-117.716968%5D%2C%20%5B38.798320000000004%2C%20-77.56365%5D%2C%20%5B44.04757%2C%20-70.25648000000001%5D%2C%20%5B40.77109%2C%20-112.07506299999999%5D%2C%20%5B39.92615%2C%20-75.24740200000001%5D%2C%20%5B37.920652000000004%2C%20-122.062321%5D%2C%20%5B40.077839000000004%2C%20-76.76256%5D%2C%20%5B40.76551%2C%20-73.68990500000001%5D%2C%20%5B37.529063%2C%20-77.358068%5D%2C%20%5B33.774268%2C%20-118.08211299999999%5D%2C%20%5B25.863028%2C%20-80.322622%5D%2C%20%5B36.964605999999996%2C%20-76.413227%5D%2C%20%5B33.931044%2C%20-118.368524%5D%2C%20%5B30.189764%2C%20-81.659467%5D%2C%20%5B34.036878%2C%20-118.43848500000001%5D%2C%20%5B44.156956%2C%20-121.34496200000001%5D%2C%20%5B40.362964%2C%20-121.49826399999999%5D%2C%20%5B32.762598%2C%20-117.16318999999999%5D%2C%20%5B28.597540000000002%2C%20-81.22465%5D%2C%20%5B25.963255%2C%20-80.178246%5D%2C%20%5B25.850687%2C%20-80.241838%5D%2C%20%5B41.735640000000004%2C%20-84.98805%5D%2C%20%5B33.364738%2C%20-117.093797%5D%2C%20%5B44.86165%2C%20-93.27828000000001%5D%2C%20%5B37.36339%2C%20-121.906554%5D%2C%20%5B38.780419%2C%20-90.51696899999999%5D%2C%20%5B40.78485%2C%20-73.64901%5D%2C%20%5B45.677859999999995%2C%20-123.92396000000001%5D%2C%20%5B35.893541%2C%20-78.560478%5D%2C%20%5B41.95639%2C%20-86.37494000000001%5D%2C%20%5B34.008453%2C%20-117.88937800000001%5D%2C%20%5B35.62798%2C%20-120.68643300000001%5D%2C%20%5B33.56195%2C%20-111.88349%5D%2C%20%5B37.595042%2C%20-121.03029%5D%2C%20%5B42.84664%2C%20-70.91904%5D%2C%20%5B33.853769%2C%20-117.92433100000001%5D%2C%20%5B30.43641%2C%20-87.278325%5D%2C%20%5B28.3862%2C%20-81.314258%5D%2C%20%5B34.492205%2C%20-118.194022%5D%2C%20%5B29.931729999999998%2C%20-95.41203%5D%2C%20%5B40.267432%2C%20-75.37643800000001%5D%2C%20%5B47.545819%2C%20-122.327881%5D%2C%20%5B29.701615999999998%2C%20-95.15342%5D%2C%20%5B37.57245%2C%20-77.39909%5D%2C%20%5B38.57985%2C%20-121.5054%5D%2C%20%5B47.14508%2C%20-122.50811000000002%5D%2C%20%5B36.972674%2C%20-120.074075%5D%2C%20%5B33.99406%2C%20-117.905331%5D%2C%20%5B39.88473%2C%20-104.98743999999999%5D%2C%20%5B37.511590000000005%2C%20-77.6971%5D%2C%20%5B39.64192%2C%20-75.80866%5D%2C%20%5B34.033858%2C%20-118.02718%5D%2C%20%5B42.803779999999996%2C%20-96.135375%5D%2C%20%5B32.864388%2C%20-117.110021%5D%2C%20%5B27.163005%2C%20-80.30578299999999%5D%2C%20%5B40.43545%2C%20-74.2533%5D%2C%20%5B42.647696999999994%2C%20-124.408578%5D%2C%20%5B43.01692%2C%20-74.81392%5D%2C%20%5B36.37253%2C%20-121.90278%5D%2C%20%5B45.812401%2C%20-119.495125%5D%2C%20%5B33.856359999999995%2C%20-117.7856%5D%2C%20%5B41.193353%2C%20-74.181827%5D%2C%20%5B35.591871999999995%2C%20-78.618238%5D%2C%20%5B25.784266%2C%20-80.217712%5D%2C%20%5B38.248761%2C%20-122.631229%5D%2C%20%5B28.539382%2C%20-81.522977%5D%2C%20%5B38.61023%2C%20-90.21038%5D%2C%20%5B39.122981%2C%20-122.84574099999999%5D%2C%20%5B33.463572%2C%20-112.18649199999999%5D%2C%20%5B37.739509999999996%2C%20-121.58998999999999%5D%2C%20%5B28.570286%2C%20-81.45906%5D%2C%20%5B38.849940000000004%2C%20-76.88629%5D%2C%20%5B33.9455%2C%20-118.279518%5D%2C%20%5B25.6739%2C%20-80.3203%5D%2C%20%5B34.15955%2C%20-118.46168999999999%5D%2C%20%5B47.20065%2C%20-122.46157%5D%2C%20%5B39.46273%2C%20-75.72142%5D%2C%20%5B41.41708%2C%20-73.42823%5D%2C%20%5B34.514826%2C%20-117.940518%5D%2C%20%5B25.924654999999998%2C%20-80.315304%5D%2C%20%5B32.794951%2C%20-96.661051%5D%2C%20%5B34.287929%2C%20-118.407529%5D%2C%20%5B41.80928%2C%20-87.62284%5D%2C%20%5B36.088145000000004%2C%20-86.701515%5D%2C%20%5B34.063957%2C%20-117.79721799999999%5D%2C%20%5B33.92853%2C%20-118.23042%5D%2C%20%5B28.196657000000002%2C%20-81.709731%5D%2C%20%5B34.299434000000005%2C%20-80.60791%5D%2C%20%5B34.207958000000005%2C%20-114.61676499999999%5D%2C%20%5B40.057563%2C%20-80.595004%5D%2C%20%5B41.318234999999994%2C%20-122.34134099999999%5D%2C%20%5B45.572582000000004%2C%20-93.203717%5D%2C%20%5B32.872040000000005%2C%20-96.67942%5D%2C%20%5B32.8273%2C%20-96.62285%5D%2C%20%5B45.508041999999996%2C%20-122.776969%5D%2C%20%5B45.06653%2C%20-93.16941%5D%2C%20%5B43.03252%2C%20-87.97272%5D%2C%20%5B38.663628%2C%20-121.30855%5D%2C%20%5B47.45133%2C%20-122.82694%5D%2C%20%5B28.60499%2C%20-82.20179%5D%2C%20%5B41.98353%2C%20-87.81836%5D%2C%20%5B47.792584000000005%2C%20-122.209521%5D%2C%20%5B34.035204%2C%20-118.328401%5D%2C%20%5B39.020539%2C%20-83.431496%5D%2C%20%5B34.006555999999996%2C%20-117.96358799999999%5D%2C%20%5B33.616318%2C%20-93.79334399999999%5D%2C%20%5B38.89907%2C%20-121.07615600000001%5D%2C%20%5B37.704525%2C%20-121.887905%5D%2C%20%5B37.618699%2C%20-77.543681%5D%2C%20%5B41.07039%2C%20-73.80355%5D%2C%20%5B40.006725%2C%20-75.193511%5D%2C%20%5B37.952818%2C%20-122.327996%5D%2C%20%5B41.673491999999996%2C%20-72.847563%5D%2C%20%5B41.359266%2C%20-72.21175%5D%2C%20%5B39.85729%2C%20-75.36565999999999%5D%2C%20%5B44.951640000000005%2C%20-93.13388%5D%2C%20%5B32.163176%2C%20-110.992227%5D%2C%20%5B33.620329999999996%2C%20-84.46925%5D%2C%20%5B47.243148%2C%20-122.435472%5D%2C%20%5B33.850534%2C%20-117.53466200000001%5D%2C%20%5B38.055704999999996%2C%20-122.129772%5D%2C%20%5B38.126217%2C%20-122.228404%5D%2C%20%5B43.19735%2C%20-89.34764%5D%2C%20%5B38.2121%2C%20-122.14432%5D%2C%20%5B38.671225%2C%20-77.250114%5D%2C%20%5B41.536425%2C%20-72.11333499999999%5D%2C%20%5B42.191590000000005%2C%20-71.85762%5D%2C%20%5B38.479714%2C%20-122.733741%5D%2C%20%5B37.261236%2C%20-76.64891800000001%5D%2C%20%5B40.926854%2C%20-73.857469%5D%2C%20%5B26.715477000000003%2C%20-80.085471%5D%2C%20%5B33.945467%2C%20-118.368526%5D%2C%20%5B35.779807%2C%20-78.620719%5D%2C%20%5B44.75614%2C%20-93.01225%5D%2C%20%5B27.967963%2C%20-82.733138%5D%2C%20%5B29.97758%2C%20-90.0611%5D%2C%20%5B33.027573%2C%20-117.07897%5D%2C%20%5B44.10256%2C%20-124.12047%5D%2C%20%5B35.780440000000006%2C%20-80.508651%5D%2C%20%5B39.69853%2C%20-86.13847%5D%2C%20%5B27.422978999999998%2C%20-82.54671%5D%2C%20%5B33.873376%2C%20-118.266002%5D%2C%20%5B39.102841%2C%20-94.48625200000001%5D%2C%20%5B40.08231%2C%20-76.30827%5D%2C%20%5B29.844490000000004%2C%20-95.49781999999999%5D%2C%20%5B39.80016%2C%20-86.01567%5D%2C%20%5B37.164343%2C%20-121.99038999999999%5D%2C%20%5B38.5289%2C%20-122.79307%5D%2C%20%5B41.324678999999996%2C%20-75.737339%5D%2C%20%5B45.521024%2C%20-122.665754%5D%2C%20%5B42.1138%2C%20-71.46509%5D%2C%20%5B29.811169%2C%20-94.943402%5D%2C%20%5B39.03855%2C%20-84.59148%5D%2C%20%5B28.1637%2C%20-82.756877%5D%2C%20%5B37.47817%2C%20-120.859714%5D%2C%20%5B40.116436%2C%20-75.348922%5D%2C%20%5B38.134147999999996%2C%20-84.630575%5D%2C%20%5B40.43605%2C%20-79.99906999999999%5D%2C%20%5B33.876349%2C%20-118.189434%5D%2C%20%5B30.6847%2C%20-88.12695%5D%2C%20%5B37.703393%2C%20-121.736852%5D%2C%20%5B40.16967%2C%20-118.48121%5D%2C%20%5B34.46693%2C%20-118.32603%5D%2C%20%5B41.87065%2C%20-87.76884%5D%2C%20%5B34.266659999999995%2C%20-85.15554%5D%2C%20%5B34.032856%2C%20-118.135526%5D%2C%20%5B32.92286%2C%20-96.84411%5D%2C%20%5B39.72546%2C%20-105.02535%5D%2C%20%5B27.388188%2C%20-82.460909%5D%2C%20%5B42.86043%2C%20-84.9163%5D%2C%20%5B35.47876%2C%20-97.58335%5D%2C%20%5B42.087379999999996%2C%20-87.86688000000001%5D%2C%20%5B45.5105%2C%20-93.01133%5D%2C%20%5B38.538242%2C%20-121.473675%5D%2C%20%5B38.665502000000004%2C%20-121.382971%5D%2C%20%5B42.97153%2C%20-85.59073000000001%5D%2C%20%5B34.120675%2C%20-117.90758799999999%5D%2C%20%5B32.778681%2C%20-117.10488000000001%5D%2C%20%5B40.912293%2C%20-73.875224%5D%2C%20%5B34.053215%2C%20-118.229226%5D%2C%20%5B33.45748%2C%20-112.71222%5D%2C%20%5B41.77106%2C%20-72.67819%5D%2C%20%5B26.547537%2C%20-81.784631%5D%2C%20%5B36.819229%2C%20-76.19501600000001%5D%2C%20%5B35.29356%2C%20-80.74016999999999%5D%2C%20%5B33.79551%2C%20-84.39255%5D%2C%20%5B35.431177000000005%2C%20-119.109974%5D%2C%20%5B42.67268%2C%20-85.66122%5D%2C%20%5B33.669389%2C%20-117.82283500000001%5D%2C%20%5B27.7131%2C%20-82.43405%5D%2C%20%5B39.959903000000004%2C%20-75.179024%5D%2C%20%5B35.879565%2C%20-78.696176%5D%2C%20%5B42.631623%2C%20-73.775778%5D%2C%20%5B39.053016%2C%20-76.841286%5D%2C%20%5B38.275529999999996%2C%20-122.04802%5D%2C%20%5B33.901115000000004%2C%20-117.469393%5D%2C%20%5B35.257670000000005%2C%20-80.89695999999999%5D%2C%20%5B36.75758%2C%20-76.287892%5D%2C%20%5B34.239129999999996%2C%20-118.47313%5D%2C%20%5B28.098391999999997%2C%20-82.502179%5D%2C%20%5B33.76804%2C%20-117.192144%5D%2C%20%5B29.791895%2C%20-95.37187%5D%2C%20%5B38.29248%2C%20-85.61021%5D%2C%20%5B34.16499%2C%20-118.47483000000001%5D%2C%20%5B35.84362%2C%20-81.0102%5D%2C%20%5B37.361937%2C%20-121.903449%5D%2C%20%5B40.127919%2C%20-75.147571%5D%2C%20%5B35.77191%2C%20-78.59286%5D%2C%20%5B33.698451%2C%20-117.861378%5D%2C%20%5B39.53979%2C%20-84.29816%5D%2C%20%5B33.746660999999996%2C%20-118.006922%5D%2C%20%5B41.795471%2C%20-112.29024199999999%5D%2C%20%5B38.637651%2C%20-77.289209%5D%2C%20%5B33.920685%2C%20-117.43175600000001%5D%2C%20%5B44.74118%2C%20-123.05212%5D%2C%20%5B46.891461%2C%20-114.101396%5D%2C%20%5B37.749174%2C%20-121.13770600000001%5D%2C%20%5B42.29996%2C%20-85.0775%5D%2C%20%5B44.9716%2C%20-93.417745%5D%2C%20%5B28.511429999999997%2C%20-81.396739%5D%2C%20%5B32.8705%2C%20-117.19541000000001%5D%2C%20%5B33.980765999999996%2C%20-117.34064599999999%5D%2C%20%5B37.457409999999996%2C%20-76.84123000000001%5D%2C%20%5B33.638636%2C%20-112.394002%5D%2C%20%5B35.669809%2C%20-80.858624%5D%2C%20%5B25.835713000000002%2C%20-80.206214%5D%2C%20%5B40.706971%2C%20-111.90363%5D%2C%20%5B47.219328999999995%2C%20-122.463199%5D%2C%20%5B35.55708%2C%20-82.53809%5D%2C%20%5B45.54466%2C%20-122.39811%5D%2C%20%5B35.731320000000004%2C%20-78.58694399999999%5D%2C%20%5B39.09479%2C%20-94.59018%5D%2C%20%5B42.66194%2C%20-73.72353000000001%5D%2C%20%5B45.729521000000005%2C%20-123.25002099999999%5D%2C%20%5B40.70861%2C%20-73.7274%5D%2C%20%5B40.40348%2C%20-104.99318000000001%5D%2C%20%5B44.969974%2C%20-93.287661%5D%2C%20%5B38.70225%2C%20-121.31498%5D%2C%20%5B41.099940000000004%2C%20-112.00053999999999%5D%2C%20%5B33.854021%2C%20-117.915862%5D%2C%20%5B38.89074%2C%20-104.7571%5D%2C%20%5B45.25019%2C%20-92.77203%5D%2C%20%5B47.049979%2C%20-114.402883%5D%2C%20%5B40.665409999999994%2C%20-73.51453000000001%5D%2C%20%5B30.371564000000003%2C%20-97.679668%5D%2C%20%5B43.1121%2C%20-75.205203%5D%2C%20%5B30.402471999999996%2C%20-81.564254%5D%2C%20%5B42.296637%2C%20-71.146535%5D%2C%20%5B38.765173%2C%20-76.898358%5D%2C%20%5B34.023365999999996%2C%20-117.749567%5D%2C%20%5B43.10548%2C%20-89.34046%5D%2C%20%5B33.872370000000004%2C%20-81.43598%5D%2C%20%5B39.137409999999996%2C%20-85.95826%5D%2C%20%5B34.020674%2C%20-117.81441699999999%5D%2C%20%5B30.441132%2C%20-91.057384%5D%2C%20%5B29.858739%2C%20-95.333334%5D%2C%20%5B33.983678999999995%2C%20-118.07301899999999%5D%2C%20%5B29.170972999999996%2C%20-82.10322099999999%5D%2C%20%5B42.311578000000004%2C%20-87.906407%5D%2C%20%5B34.019647%2C%20-117.48516399999998%5D%2C%20%5B33.77344%2C%20-117.48507%5D%2C%20%5B34.146223%2C%20-118.073453%5D%2C%20%5B40.13284%2C%20-74.97509000000001%5D%2C%20%5B34.08699%2C%20-117.68592%5D%2C%20%5B27.472308%2C%20-82.546642%5D%2C%20%5B47.407531%2C%20-122.29196999999999%5D%2C%20%5B44.858290000000004%2C%20-93.53638000000001%5D%2C%20%5B33.983559%2C%20-117.36646100000002%5D%2C%20%5B32.67161%2C%20-96.96503%5D%2C%20%5B33.726746%2C%20-84.32383399999999%5D%2C%20%5B38.581633000000004%2C%20-121.415327%5D%2C%20%5B38.898182%2C%20-121.219422%5D%2C%20%5B43.04574%2C%20-77.65904%5D%2C%20%5B38.861853%2C%20-76.960003%5D%2C%20%5B41.49648%2C%20-81.67763000000001%5D%2C%20%5B39.20636%2C%20-76.64224%5D%2C%20%5B33.651434%2C%20-78.983513%5D%2C%20%5B29.666354%2C%20-95.586062%5D%2C%20%5B40.614626%2C%20-77.317145%5D%2C%20%5B26.295902%2C%20-81.742728%5D%2C%20%5B37.989886%2C%20-121.326353%5D%2C%20%5B45.037776%2C%20-93.400901%5D%2C%20%5B33.69891%2C%20-84.26978000000001%5D%2C%20%5B38.610484%2C%20-121.510267%5D%2C%20%5B33.939437%2C%20-116.99829%5D%2C%20%5B38.653208%2C%20-121.225546%5D%2C%20%5B38.405796%2C%20-121.386724%5D%2C%20%5B40.69656%2C%20-112.02486%5D%2C%20%5B33.113776%2C%20-117.101623%5D%2C%20%5B45.333602%2C%20-122.76955%5D%2C%20%5B35.33286%2C%20-81.08995999999999%5D%2C%20%5B34.13731%2C%20-80.92578%5D%2C%20%5B45.69648%2C%20-121.29088%5D%2C%20%5B39.417753999999995%2C%20-76.797384%5D%2C%20%5B36.84122%2C%20-121.5087%5D%2C%20%5B31.18645%2C%20-89.25119000000001%5D%2C%20%5B48.519002%2C%20-121.70705900000002%5D%2C%20%5B30.444646999999996%2C%20-91.05755%5D%2C%20%5B34.078333%2C%20-118.288953%5D%2C%20%5B34.14776%2C%20-118.22873999999999%5D%2C%20%5B34.370144%2C%20-118.560569%5D%2C%20%5B31.358309999999996%2C%20-89.34789%5D%2C%20%5B37.85027%2C%20-122.0325%5D%2C%20%5B44.061288%2C%20-123.17358%5D%2C%20%5B45.053340000000006%2C%20-123.49694%5D%2C%20%5B33.1184%2C%20-117.31998%5D%2C%20%5B38.503476%2C%20-121.442052%5D%2C%20%5B27.521657%2C%20-80.451116%5D%2C%20%5B42.197499%2C%20-88.057833%5D%2C%20%5B27.444072%2C%20-82.46893%5D%2C%20%5B34.069959999999995%2C%20-118.2617%5D%2C%20%5B28.552970000000002%2C%20-81.395938%5D%2C%20%5B40.41053%2C%20-104.99313000000001%5D%2C%20%5B34.983259999999994%2C%20-85.46688%5D%2C%20%5B34.03049%2C%20-117.66272%5D%2C%20%5B33.932404999999996%2C%20-118.17824499999999%5D%2C%20%5B42.909620000000004%2C%20-85.5312%5D%2C%20%5B34.129588%2C%20-118.473977%5D%2C%20%5B40.854216%2C%20-73.966001%5D%2C%20%5B38.288716%2C%20-77.50862%5D%2C%20%5B28.373415%2C%20-82.68454399999999%5D%2C%20%5B35.088429999999995%2C%20-85.06278%5D%2C%20%5B36.045609999999996%2C%20-86.65845%5D%2C%20%5B40.724603%2C%20-80.155536%5D%2C%20%5B40.16148%2C%20-74.90029%5D%2C%20%5B44.439192999999996%2C%20-117.32423100000001%5D%2C%20%5B29.203542%2C%20-95.475373%5D%2C%20%5B37.7392%2C%20-121.59158000000001%5D%2C%20%5B34.153401%2C%20-79.834827%5D%2C%20%5B34.008829%2C%20-118.158775%5D%2C%20%5B37.891463%2C%20-122.51666399999999%5D%2C%20%5B43.035466%2C%20-88.033547%5D%2C%20%5B45.38797%2C%20-122.75063%5D%2C%20%5B35.01494%2C%20-85.25301999999999%5D%2C%20%5B35.7666%2C%20-78.73516%5D%2C%20%5B38.499755%2C%20-121.390576%5D%2C%20%5B33.914629999999995%2C%20-84.28825%5D%2C%20%5B39.09279%2C%20-76.80544%5D%2C%20%5B30.32116%2C%20-81.7018%5D%2C%20%5B33.54591%2C%20-84.27963000000001%5D%2C%20%5B26.518259999999998%2C%20-81.92352%5D%2C%20%5B33.82652%2C%20-118.20772%5D%2C%20%5B34.362933%2C%20-119.039433%5D%2C%20%5B32.235479999999995%2C%20-110.82387%5D%2C%20%5B33.596759999999996%2C%20-117.176004%5D%2C%20%5B37.32846%2C%20-121.87191999999999%5D%2C%20%5B29.847107%2C%20-95.394082%5D%2C%20%5B26.66682%2C%20-81.88932%5D%2C%20%5B41.23053%2C%20-112.01296%5D%2C%20%5B40.846965000000004%2C%20-73.933709%5D%2C%20%5B40.174045%2C%20-75.32645%5D%2C%20%5B37.238126%2C%20-121.76195700000001%5D%2C%20%5B37.015855%2C%20-120.12540200000001%5D%2C%20%5B34.0098%2C%20-117.42713799999999%5D%2C%20%5B35.27132%2C%20-80.85425%5D%2C%20%5B33.524029999999996%2C%20-112.11692%5D%2C%20%5B38.896473%2C%20-104.734296%5D%2C%20%5B39.400459000000005%2C%20-77.407833%5D%2C%20%5B34.029999%2C%20-117.712369%5D%2C%20%5B38.835366%2C%20-77.454072%5D%2C%20%5B42.323029999999996%2C%20-88.16473%5D%2C%20%5B42.417970000000004%2C%20-83.21895%5D%2C%20%5B34.15443%2C%20-118.31416000000002%5D%2C%20%5B39.32372%2C%20-77.35722%5D%2C%20%5B35.13743%2C%20-80.90630999999999%5D%2C%20%5B41.94327%2C%20-87.71621%5D%2C%20%5B25.923504%2C%20-80.260602%5D%2C%20%5B37.847970000000004%2C%20-122.02766000000001%5D%2C%20%5B38.115371%2C%20-121.4749%5D%2C%20%5B26.16725%2C%20-80.11681999999999%5D%2C%20%5B45.21468%2C%20-93.03433000000001%5D%2C%20%5B41.99903%2C%20-87.86596999999999%5D%2C%20%5B43.105336%2C%20-75.169974%5D%2C%20%5B25.89805%2C%20-80.336128%5D%2C%20%5B37.559037%2C%20-77.419951%5D%2C%20%5B44.061479999999996%2C%20-123.08865%5D%2C%20%5B37.61365%2C%20-77.49675%5D%2C%20%5B30.515116%2C%20-91.15397%5D%2C%20%5B33.43135%2C%20-86.82441999999999%5D%2C%20%5B34.266409%2C%20-118.639472%5D%2C%20%5B34.14111%2C%20-118.27651000000002%5D%2C%20%5B38.678421%2C%20-121.22556100000001%5D%2C%20%5B38.581742%2C%20-121.5041%5D%2C%20%5B39.818220000000004%2C%20-104.98177%5D%2C%20%5B27.944388%2C%20-82.787515%5D%2C%20%5B40.88329%2C%20-81.43184000000001%5D%2C%20%5B34.96387%2C%20-120.42048100000001%5D%2C%20%5B39.94577%2C%20-83.03586%5D%2C%20%5B38.49601%2C%20-121.429%5D%2C%20%5B40.699143%2C%20-74.238887%5D%2C%20%5B25.444109%2C%20-80.485313%5D%2C%20%5B27.864846000000004%2C%20-82.78693299999999%5D%2C%20%5B41.102675%2C%20-74.028056%5D%2C%20%5B41.688952%2C%20-88.04738%5D%2C%20%5B37.98922%2C%20-122.31265%5D%2C%20%5B38.631001%2C%20-121.52003300000001%5D%2C%20%5B33.804439%2C%20-118.20751000000001%5D%2C%20%5B32.883093%2C%20-117.202101%5D%2C%20%5B39.296797%2C%20-76.818391%5D%2C%20%5B34.025481%2C%20-118.20572299999999%5D%2C%20%5B38.94507%2C%20-76.86405%5D%2C%20%5B44.5665%2C%20-121.12363%5D%2C%20%5B40.84522%2C%20-73.91188000000001%5D%2C%20%5B32.366118%2C%20-86.147049%5D%2C%20%5B37.663509999999995%2C%20-122.10606999999999%5D%2C%20%5B39.875296999999996%2C%20-77.135707%5D%2C%20%5B33.699284000000006%2C%20-117.862604%5D%2C%20%5B33.977509999999995%2C%20-84.55026%5D%2C%20%5B33.822990000000004%2C%20-84.35743000000001%5D%2C%20%5B41.22511%2C%20-112.01148%5D%2C%20%5B40.563761%2C%20-122.23865900000001%5D%2C%20%5B37.670027000000005%2C%20-79.50753%5D%2C%20%5B45.71519%2C%20-119.00292900000001%5D%2C%20%5B38.689741999999995%2C%20-121.54026299999998%5D%2C%20%5B33.406698999999996%2C%20-112.07287600000001%5D%2C%20%5B33.945865999999995%2C%20-118.02093%5D%2C%20%5B42.30596%2C%20-87.96064%5D%2C%20%5B35.20256%2C%20-80.72606999999999%5D%2C%20%5B40.79675%2C%20-111.94918999999999%5D%2C%20%5B34.030359999999995%2C%20-118.27438300000001%5D%2C%20%5B40.0373%2C%20-75.24707%5D%2C%20%5B40.71674%2C%20-111.95348%5D%2C%20%5B38.439347999999995%2C%20-78.848158%5D%2C%20%5B38.662901%2C%20-123.227977%5D%2C%20%5B47.670190000000005%2C%20-122.32233000000001%5D%2C%20%5B36.90787%2C%20-121.40392%5D%2C%20%5B38.07649%2C%20-104.70708%5D%2C%20%5B34.008842%2C%20-118.158573%5D%2C%20%5B37.158394%2C%20-121.98231799999999%5D%2C%20%5B34.180704999999996%2C%20-118.140274%5D%2C%20%5B35.185687%2C%20-80.730006%5D%2C%20%5B47.225%2C%20-122.4635%5D%2C%20%5B26.365194%2C%20-80.119348%5D%2C%20%5B32.366871%2C%20-86.138149%5D%2C%20%5B40.55393%2C%20-112.29768%5D%2C%20%5B38.456958%2C%20-121.94226100000002%5D%2C%20%5B40.108757000000004%2C%20-83.112321%5D%2C%20%5B33.980765999999996%2C%20-117.34064599999999%5D%2C%20%5B45.02709%2C%20-122.78969%5D%2C%20%5B34.06811%2C%20-118.02873999999998%5D%2C%20%5B38.271895%2C%20-122.671219%5D%2C%20%5B39.745598%2C%20-86.138369%5D%2C%20%5B38.649189%2C%20-121.382856%5D%2C%20%5B34.06654%2C%20-117.23451999999999%5D%2C%20%5B37.824709000000006%2C%20-122.27042%5D%2C%20%5B38.679834%2C%20-121.339404%5D%2C%20%5B35.890083000000004%2C%20-84.694653%5D%2C%20%5B33.875609999999995%2C%20-118.06421%5D%2C%20%5B33.912833%2C%20-118.17951200000002%5D%2C%20%5B30.437516%2C%20-91.02660999999999%5D%2C%20%5B36.170068%2C%20-86.596756%5D%2C%20%5B40.681090000000005%2C%20-80.24616999999999%5D%2C%20%5B38.417054%2C%20-121.953434%5D%2C%20%5B32.580859999999994%2C%20-83.86334000000001%5D%2C%20%5B45.49788%2C%20-122.67285%5D%2C%20%5B25.988878%2C%20-80.16583%5D%2C%20%5B38.901565000000005%2C%20-76.696188%5D%2C%20%5B34.031657%2C%20-118.42665600000001%5D%2C%20%5B32.734190000000005%2C%20-96.68297%5D%2C%20%5B27.937714%2C%20-82.188804%5D%2C%20%5B39.849761%2C%20-123.71097900000001%5D%2C%20%5B37.781729999999996%2C%20-122.39725200000001%5D%2C%20%5B39.54453%2C%20-76.66646%5D%2C%20%5B40.65882%2C%20-73.985309%5D%2C%20%5B39.165859999999995%2C%20-84.50673%5D%2C%20%5B29.81405%2C%20-95.36061%5D%2C%20%5B34.01158%2C%20-118.41808999999999%5D%2C%20%5B41.63276%2C%20-83.542%5D%2C%20%5B40.757537%2C%20-124.182098%5D%2C%20%5B34.088591%2C%20-117.994376%5D%2C%20%5B36.806847%2C%20-97.342999%5D%2C%20%5B38.811840000000004%2C%20-76.89556999999999%5D%2C%20%5B41.80896%2C%20-88.11726999999999%5D%2C%20%5B33.94135%2C%20-118.36823700000001%5D%2C%20%5B40.44601%2C%20-111.47707%5D%2C%20%5B38.880269%2C%20-77.23944200000001%5D%2C%20%5B40.06617%2C%20-111.72214%5D%2C%20%5B39.78%2C%20-104.95549%5D%2C%20%5B33.952762%2C%20-118.23286200000001%5D%2C%20%5B40.73852%2C%20-73.80653000000001%5D%2C%20%5B38.621990000000004%2C%20-90.12437%5D%2C%20%5B33.511315%2C%20-86.820799%5D%2C%20%5B33.478681%2C%20-81.268375%5D%2C%20%5B40.63006%2C%20-111.860619%5D%2C%20%5B36.089659999999995%2C%20-86.68845999999999%5D%2C%20%5B34.01258%2C%20-117.07393%5D%2C%20%5B37.500989000000004%2C%20-77.063792%5D%2C%20%5B37.309670000000004%2C%20-76.6881%5D%2C%20%5B39.30616%2C%20-76.73586%5D%2C%20%5B40.659971999999996%2C%20-74.001678%5D%2C%20%5B29.70212%2C%20-95.29549%5D%2C%20%5B37.701997999999996%2C%20-121.917096%5D%2C%20%5B28.531284999999997%2C%20-81.364639%5D%2C%20%5B38.64132%2C%20-121.47345%5D%2C%20%5B43.091902000000005%2C%20-73.750559%5D%2C%20%5B33.602517999999996%2C%20-112.289107%5D%2C%20%5B37.688959999999994%2C%20-122.13561100000001%5D%2C%20%5B33.82165%2C%20-117.87626999999999%5D%2C%20%5B32.74828%2C%20-96.76929%5D%2C%20%5B38.538940000000004%2C%20-121.51273%5D%2C%20%5B30.334139%2C%20-97.607712%5D%2C%20%5B37.538432%2C%20-121.927219%5D%2C%20%5B30.393168%2C%20-91.110607%5D%2C%20%5B45.57926%2C%20-122.122231%5D%2C%20%5B32.83984%2C%20-97.28577%5D%2C%20%5B38.560503000000004%2C%20-121.466431%5D%2C%20%5B41.499299%2C%20-81.67271099999999%5D%2C%20%5B38.56338%2C%20-121.49158999999999%5D%2C%20%5B35.150809%2C%20-90.385826%5D%2C%20%5B41.95942%2C%20-83.67251999999999%5D%2C%20%5B40.965174%2C%20-78.112438%5D%2C%20%5B35.793749%2C%20-78.68515699999999%5D%2C%20%5B41.705909999999996%2C%20-72.64499%5D%2C%20%5B37.390636%2C%20-77.422062%5D%2C%20%5B38.581478999999995%2C%20-121.40149%5D%2C%20%5B37.681888%2C%20-120.79278500000001%5D%2C%20%5B35.32271%2C%20-80.90196999999999%5D%2C%20%5B40.89622%2C%20-74.63835999999999%5D%2C%20%5B37.534518%2C%20-77.429839%5D%2C%20%5B35.122242%2C%20-120.58693500000001%5D%2C%20%5B38.61455%2C%20-78.707481%5D%2C%20%5B40.843486999999996%2C%20-74.003874%5D%2C%20%5B40.708508%2C%20-111.90397%5D%2C%20%5B33.99103%2C%20-85.24866999999999%5D%2C%20%5B34.055001000000004%2C%20-117.29907299999999%5D%2C%20%5B45.715387%2C%20-95.38907900000001%5D%2C%20%5B33.778883%2C%20-117.87728700000001%5D%2C%20%5B39.250682%2C%20-121.023121%5D%2C%20%5B37.77957%2C%20-122.39806999999999%5D%2C%20%5B30.274418%2C%20-97.800442%5D%2C%20%5B33.916421%2C%20-118.28603000000001%5D%2C%20%5B29.8677%2C%20-95.64515%5D%2C%20%5B32.32996%2C%20-109.51356000000001%5D%2C%20%5B39.1319%2C%20-76.58714%5D%2C%20%5B37.429284%2C%20-120.774569%5D%2C%20%5B37.144202%2C%20-121.98472%5D%2C%20%5B28.58912%2C%20-81.25381%5D%2C%20%5B28.5385%2C%20-81.3315%5D%2C%20%5B45.41856%2C%20-122.96078999999999%5D%2C%20%5B29.7135%2C%20-95.26606600000001%5D%2C%20%5B33.432159999999996%2C%20-117.61536000000001%5D%2C%20%5B39.288540000000005%2C%20-76.74088%5D%2C%20%5B36.289566%2C%20-84.21409200000001%5D%2C%20%5B33.77752%2C%20-84.60663000000001%5D%2C%20%5B39.847640999999996%2C%20-84.290357%5D%2C%20%5B39.98668%2C%20-104.99723999999999%5D%2C%20%5B30.011122999999998%2C%20-90.021036%5D%2C%20%5B42.10504%2C%20-72.59951%5D%2C%20%5B43.087109999999996%2C%20-77.62472%5D%2C%20%5B45.68932%2C%20-121.43703000000001%5D%2C%20%5B25.687938%2C%20-80.41644000000001%5D%2C%20%5B33.204390000000004%2C%20-84.0599%5D%2C%20%5B32.87535%2C%20-96.7701%5D%2C%20%5B38.09725%2C%20-122.73348700000001%5D%2C%20%5B38.59605%2C%20-121.415231%5D%2C%20%5B41.982029%2C%20-77.34334399999999%5D%2C%20%5B40.733731%2C%20-73.864334%5D%2C%20%5B34.157117%2C%20-118.448678%5D%2C%20%5B41.754659000000004%2C%20-124.166098%5D%2C%20%5B33.52244%2C%20-117.162722%5D%2C%20%5B40.718835%2C%20-74.235352%5D%2C%20%5B41.97206%2C%20-88.11965%5D%2C%20%5B37.923282%2C%20-122.061272%5D%2C%20%5B29.77716%2C%20-95.5628%5D%2C%20%5B33.869194%2C%20-117.75666799999999%5D%2C%20%5B37.473952000000004%2C%20-120.848923%5D%2C%20%5B40.438320000000004%2C%20-80.0123%5D%2C%20%5B35.20167%2C%20-80.76059000000001%5D%2C%20%5B35.121726%2C%20-111.702956%5D%2C%20%5B32.129329999999996%2C%20-106.64137%5D%2C%20%5B36.571402%2C%20-119.40946299999999%5D%2C%20%5B35.27991%2C%20-80.89671%5D%2C%20%5B30.181279999999997%2C%20-81.513%5D%2C%20%5B41.73148%2C%20-87.62443%5D%2C%20%5B40.994820000000004%2C%20-73.65921%5D%2C%20%5B40.067612%2C%20-75.34265699999999%5D%2C%20%5B39.931540000000005%2C%20-74.95253000000001%5D%2C%20%5B34.018679999999996%2C%20-117.5155%5D%2C%20%5B34.067529%2C%20-117.557529%5D%2C%20%5B38.597351%2C%20-121.42279199999999%5D%2C%20%5B34.149%2C%20-118.46901000000001%5D%2C%20%5B37.150771999999996%2C%20-88.68296%5D%2C%20%5B37.712355%2C%20-122.12871799999999%5D%2C%20%5B32.31047%2C%20-90.16299000000001%5D%2C%20%5B33.954726%2C%20-117.305097%5D%2C%20%5B39.974340000000005%2C%20-75.19488%5D%2C%20%5B41.900449%2C%20-88.70980300000001%5D%2C%20%5B38.67367%2C%20-121.73279%5D%2C%20%5B39.721009%2C%20-76.33865%5D%2C%20%5B38.60006%2C%20-121.44006999999999%5D%2C%20%5B25.884092000000003%2C%20-80.343195%5D%2C%20%5B25.899142%2C%20-80.383454%5D%2C%20%5B34.159414%2C%20-118.637293%5D%2C%20%5B44.884512%2C%20-124.029324%5D%2C%20%5B37.701279%2C%20-121.920616%5D%2C%20%5B41.858109999999996%2C%20-71.40483%5D%2C%20%5B42.862987%2C%20-73.78099499999999%5D%2C%20%5B45.567793%2C%20-123.940891%5D%2C%20%5B33.85053%2C%20-117.53466%5D%2C%20%5B40.83618%2C%20-73.87646%5D%2C%20%5B34.59049%2C%20-87.02965%5D%2C%20%5B38.50462%2C%20-76.98499%5D%2C%20%5B37.82608%2C%20-121.99587%5D%2C%20%5B26.023922%2C%20-80.167283%5D%2C%20%5B33.972873%2C%20-117.69468300000001%5D%2C%20%5B37.413071%2C%20-122.08116100000001%5D%2C%20%5B40.77378%2C%20-73.67067%5D%2C%20%5B39.29705%2C%20-84.3115%5D%2C%20%5B26.161908%2C%20-81.686735%5D%2C%20%5B37.781328%2C%20-122.23863899999999%5D%2C%20%5B28.063277000000003%2C%20-80.693623%5D%2C%20%5B33.535539%2C%20-92.46987800000001%5D%2C%20%5B47.59362%2C%20-122.18146000000002%5D%2C%20%5B40.69661%2C%20-111.9389%5D%2C%20%5B37.199073999999996%2C%20-77.423433%5D%2C%20%5B38.566117%2C%20-121.62315600000001%5D%2C%20%5B46.607227%2C%20-93.410252%5D%2C%20%5B33.842797999999995%2C%20-118.26694199999999%5D%2C%20%5B36.75922%2C%20-76.31524%5D%2C%20%5B35.113721000000005%2C%20-118.52538899999999%5D%2C%20%5B34.00315%2C%20-117.83135%5D%2C%20%5B39.63387%2C%20-104.90285%5D%2C%20%5B38.659526%2C%20-121.535321%5D%2C%20%5B37.76095%2C%20-122.40623000000001%5D%2C%20%5B42.3366%2C%20-88.03181%5D%2C%20%5B32.76794%2C%20-117.14471999999999%5D%2C%20%5B40.88635%2C%20-84.58925%5D%2C%20%5B37.59998%2C%20-121.00272%5D%2C%20%5B27.80643%2C%20-82.70014%5D%2C%20%5B32.78739%2C%20-96.76597%5D%2C%20%5B38.857494%2C%20-76.993764%5D%2C%20%5B34.766058%2C%20-92.31451700000001%5D%2C%20%5B32.962921%2C%20-117.10034399999999%5D%2C%20%5B43.87146%2C%20-71.67135999999999%5D%2C%20%5B37.41062%2C%20-121.99274%5D%2C%20%5B38.296278%2C%20-122.301652%5D%2C%20%5B38.550088%2C%20-121.474048%5D%2C%20%5B39.387069%2C%20-76.52721%5D%2C%20%5B32.919779999999996%2C%20-96.8523%5D%2C%20%5B37.70688%2C%20-121.92665%5D%2C%20%5B37.127202000000004%2C%20-122.1229%5D%2C%20%5B44.85886%2C%20-93.32881%5D%2C%20%5B33.85375%2C%20-117.96321999999999%5D%2C%20%5B38.92452%2C%20-76.93041%5D%2C%20%5B40.98637%2C%20-73.83870999999999%5D%2C%20%5B34.717620000000004%2C%20-114.4812%5D%2C%20%5B38.089612%2C%20-77.807633%5D%2C%20%5B36.874333%2C%20-76.379109%5D%2C%20%5B39.197019%2C%20-76.766463%5D%2C%20%5B34.169357%2C%20-118.59744599999999%5D%2C%20%5B40.830426%2C%20-73.93221199999999%5D%2C%20%5B27.752074%2C%20-82.65686600000001%5D%2C%20%5B42.386148%2C%20-123.46524%5D%2C%20%5B44.10931%2C%20-121.29516000000001%5D%2C%20%5B41.569846999999996%2C%20-87.378726%5D%2C%20%5B33.718472%2C%20-78.931606%5D%2C%20%5B42.903171%2C%20-122.30125%5D%2C%20%5B38.47833%2C%20-121.42725%5D%2C%20%5B33.817988%2C%20-118.081301%5D%2C%20%5B40.859559999999995%2C%20-73.97537%5D%2C%20%5B25.972601%2C%20-80.178612%5D%2C%20%5B32.19786%2C%20-110.92731%5D%2C%20%5B45.76341%2C%20-92.99003%5D%2C%20%5B39.61708%2C%20-77.78473000000001%5D%2C%20%5B38.524770000000004%2C%20-121.46745%5D%2C%20%5B45.53363%2C%20-122.59281999999999%5D%2C%20%5B39.08927%2C%20-84.5227%5D%2C%20%5B43.19338%2C%20-124.31896%5D%2C%20%5B39.491976%2C%20-76.238958%5D%2C%20%5B44.78893%2C%20-93.40673000000001%5D%2C%20%5B33.995540000000005%2C%20-118.17705%5D%2C%20%5B41.592096000000005%2C%20-93.68624%5D%2C%20%5B35.39348%2C%20-120.60491%5D%2C%20%5B34.029792%2C%20-117.71233400000001%5D%2C%20%5B28.494709999999998%2C%20-81.4358%5D%2C%20%5B37.22296%2C%20-79.46986%5D%2C%20%5B42.941645%2C%20-85.682052%5D%2C%20%5B42.263220000000004%2C%20-71.57216%5D%2C%20%5B39.691289000000005%2C%20-75.580751%5D%2C%20%5B42.02192%2C%20-83.34414%5D%2C%20%5B36.799439%2C%20-121.66425100000001%5D%2C%20%5B45.010040000000004%2C%20-93.17631999999999%5D%2C%20%5B28.486835%2C%20-81.41856999999999%5D%2C%20%5B28.05463%2C%20-82.45373000000001%5D%2C%20%5B44.951640000000005%2C%20-93.13388%5D%2C%20%5B36.331829%2C%20-121.246977%5D%2C%20%5B34.50611%2C%20-117.8354%5D%2C%20%5B32.93483%2C%20-96.75197%5D%2C%20%5B37.75625%2C%20-122.14871000000001%5D%2C%20%5B32.85266%2C%20-117.1814%5D%2C%20%5B37.19801%2C%20-121.99304%5D%2C%20%5B33.815425%2C%20-118.18496699999999%5D%2C%20%5B47.55531%2C%20-122.30308000000001%5D%2C%20%5B25.97053%2C%20-80.16575999999999%5D%2C%20%5B32.878679999999996%2C%20-96.68818%5D%2C%20%5B33.965759000000006%2C%20-118.164984%5D%2C%20%5B25.625360999999998%2C%20-80.448275%5D%2C%20%5B33.673835%2C%20-117.88575700000001%5D%2C%20%5B44.799209999999995%2C%20-117.30898%5D%2C%20%5B45.52749%2C%20-122.68677%5D%2C%20%5B30.501091%2C%20-97.682214%5D%2C%20%5B44.966033%2C%20-93.26254200000001%5D%2C%20%5B34.136445%2C%20-117.48841599999999%5D%2C%20%5B27.713040999999997%2C%20-82.427676%5D%2C%20%5B34.23823%2C%20-93.00459000000001%5D%2C%20%5B38.018741%2C%20-121.942884%5D%2C%20%5B47.464074%2C%20-122.26756599999999%5D%2C%20%5B40.671620000000004%2C%20-74.35767%5D%2C%20%5B32.11537%2C%20-111.21665%5D%2C%20%5B32.96828%2C%20-117.09346000000001%5D%2C%20%5B37.897394%2C%20-122.081878%5D%2C%20%5B41.672565999999996%2C%20-72.845443%5D%2C%20%5B42.224194%2C%20-71.070649%5D%2C%20%5B25.625151000000002%2C%20-80.41441400000001%5D%2C%20%5B40.724077%2C%20-111.94350700000001%5D%2C%20%5B38.947165999999996%2C%20-77.297283%5D%2C%20%5B43.91299%2C%20-91.57072%5D%2C%20%5B34.030345000000004%2C%20-117.63626200000002%5D%2C%20%5B37.74146%2C%20-121.57978%5D%2C%20%5B39.084915%2C%20-75.457323%5D%2C%20%5B40.450103999999996%2C%20-78.84021800000001%5D%2C%20%5B33.928583%2C%20-118.23021299999999%5D%2C%20%5B34.049306%2C%20-117.305245%5D%2C%20%5B33.69325%2C%20-117.86691%5D%2C%20%5B36.022677%2C%20-115.11867%5D%2C%20%5B42.51852%2C%20-83.64536%5D%2C%20%5B33.874123%2C%20-117.88050600000001%5D%2C%20%5B35.040051%2C%20-81.826707%5D%2C%20%5B37.704171%2C%20-121.735605%5D%2C%20%5B42.980394%2C%20-121.82645%5D%2C%20%5B32.2431%2C%20-110.87555%5D%2C%20%5B37.32846%2C%20-121.87191999999999%5D%2C%20%5B32.93955%2C%20-96.81487299999999%5D%2C%20%5B34.066787%2C%20-117.445167%5D%2C%20%5B38.314529%2C%20-77.504006%5D%2C%20%5B34.15315%2C%20-118.36151000000001%5D%2C%20%5B39.10253%2C%20-84.4984%5D%2C%20%5B32.232194%2C%20-110.982602%5D%2C%20%5B29.937790999999997%2C%20-90.05135600000001%5D%2C%20%5B33.94976%2C%20-117.38598999999999%5D%2C%20%5B38.792966%2C%20-77.040883%5D%2C%20%5B37.82184%2C%20-122.2924%5D%2C%20%5B25.971317000000003%2C%20-80.229725%5D%2C%20%5B40.007526%2C%20-82.867559%5D%2C%20%5B41.19726%2C%20-74.80251%5D%2C%20%5B33.822086999999996%2C%20-84.171527%5D%2C%20%5B43.168926%2C%20-77.628019%5D%2C%20%5B34.038429%2C%20-118.27382800000001%5D%2C%20%5B37.839220000000005%2C%20-122.29693999999999%5D%2C%20%5B32.168040000000005%2C%20-110.98578%5D%2C%20%5B44.89235%2C%20-93.42595%5D%2C%20%5B46.972634%2C%20-123.742616%5D%2C%20%5B29.75045%2C%20-95.36879%5D%2C%20%5B44.689053%2C%20-95.808461%5D%2C%20%5B26.166710000000002%2C%20-80.13157%5D%2C%20%5B34.155496%2C%20-118.40101999999999%5D%2C%20%5B36.1305%2C%20-86.72765%5D%2C%20%5B29.93825%2C%20-90.04113000000001%5D%2C%20%5B38.952831%2C%20-94.360467%5D%2C%20%5B47.53178%2C%20-122.32961999999999%5D%2C%20%5B34.814622%2C%20-82.514728%5D%2C%20%5B40.243028%2C%20-75.691023%5D%2C%20%5B41.837340000000005%2C%20-87.91901999999999%5D%2C%20%5B27.435959999999998%2C%20-82.45926%5D%2C%20%5B34.140859999999996%2C%20-118.22783999999999%5D%2C%20%5B33.771914%2C%20-118.280022%5D%2C%20%5B34.080711%2C%20-117.628468%5D%2C%20%5B33.85837%2C%20-118.31152%5D%2C%20%5B40.855568%2C%20-74.178174%5D%2C%20%5B29.181371000000002%2C%20-81.089862%5D%2C%20%5B46.268502000000005%2C%20-92.825385%5D%2C%20%5B33.94661%2C%20-117.29843000000001%5D%2C%20%5B40.247588%2C%20-75.624227%5D%2C%20%5B38.944998%2C%20-94.771609%5D%2C%20%5B39.9688%2C%20-111.78126%5D%2C%20%5B40.7606%2C%20-111.95107%5D%2C%20%5B47.62451%2C%20-122.34756000000002%5D%2C%20%5B37.862790000000004%2C%20-122.20918%5D%2C%20%5B25.7866%2C%20-80.21251%5D%2C%20%5B39.445409999999995%2C%20-104.87551%5D%2C%20%5B28.79937%2C%20-81.34934399999999%5D%2C%20%5B25.94061%2C%20-80.19046%5D%2C%20%5B41.73155%2C%20-70.45968%5D%2C%20%5B28.42118%2C%20-81.45352%5D%2C%20%5B36.245540000000005%2C%20-86.74592%5D%2C%20%5B33.87679%2C%20-118.10739%5D%2C%20%5B25.762983%2C%20-80.307479%5D%2C%20%5B39.95361%2C%20-82.96103000000001%5D%2C%20%5B29.813576%2C%20-95.429312%5D%2C%20%5B37.928290999999994%2C%20-122.322667%5D%2C%20%5B40.665%2C%20-73.82521%5D%2C%20%5B34.15085%2C%20-118.6599%5D%2C%20%5B33.871482%2C%20-117.68551399999998%5D%2C%20%5B39.99944%2C%20-75.23025%5D%2C%20%5B40.634679999999996%2C%20-111.89657199999999%5D%2C%20%5B41.5473%2C%20-72.80462%5D%2C%20%5B37.626529999999995%2C%20-122.12574%5D%2C%20%5B33.3631%2C%20-112.11763%5D%2C%20%5B28.337190000000003%2C%20-81.40365%5D%2C%20%5B37.70637%2C%20-77.768912%5D%2C%20%5B27.102929999999997%2C%20-80.258%5D%2C%20%5B38.55075%2C%20-121.42342%5D%2C%20%5B34.167288%2C%20-118.61389399999999%5D%2C%20%5B33.945040000000006%2C%20-118.0993%5D%2C%20%5B28.971451000000002%2C%20-80.96118%5D%2C%20%5B33.00119%2C%20-80.03813000000001%5D%2C%20%5B34.023863%2C%20-117.764219%5D%2C%20%5B33.934509999999996%2C%20-118.35269199999999%5D%2C%20%5B44.97163%2C%20-93.2507%5D%2C%20%5B40.572918%2C%20-74.329929%5D%2C%20%5B42.35212%2C%20-83.21625%5D%2C%20%5B33.95232%2C%20-117.30341000000001%5D%2C%20%5B38.865629%2C%20-77.05469000000001%5D%2C%20%5B39.384607%2C%20-77.41223199999999%5D%2C%20%5B33.628585%2C%20-78.963363%5D%2C%20%5B43.15729%2C%20-77.68876%5D%2C%20%5B34.593368%2C%20-118.040801%5D%2C%20%5B33.740320000000004%2C%20-84.23062%5D%2C%20%5B32.2361%2C%20-110.9096%5D%2C%20%5B33.93626%2C%20-117.11894%5D%2C%20%5B40.773471%2C%20-73.675271%5D%2C%20%5B28.491421999999996%2C%20-81.40922900000001%5D%2C%20%5B32.92348%2C%20-96.75969%5D%2C%20%5B39.79954%2C%20-105.03023999999999%5D%2C%20%5B40.24519%2C%20-76.80873000000001%5D%2C%20%5B40.304771%2C%20-121.144062%5D%2C%20%5B37.993402%2C%20-122.531741%5D%2C%20%5B34.136527%2C%20-117.418406%5D%2C%20%5B41.92688%2C%20-73.91258%5D%2C%20%5B34.0171%2C%20-118.48253999999999%5D%2C%20%5B35.26443%2C%20-80.84297%5D%2C%20%5B34.242593%2C%20-118.838242%5D%2C%20%5B39.151322%2C%20-77.24651800000001%5D%2C%20%5B42.99033%2C%20-88.03815%5D%2C%20%5B41.78322%2C%20-87.63155%5D%2C%20%5B40.74545%2C%20-111.94911%5D%2C%20%5B33.957828000000006%2C%20-118.11183600000001%5D%2C%20%5B35.052405%2C%20-118.359371%5D%2C%20%5B38.343239000000004%2C%20-120.76243400000001%5D%2C%20%5B28.81643%2C%20-81.33565%5D%2C%20%5B38.4204%2C%20-82.29361999999999%5D%2C%20%5B41.42491%2C%20-81.54595%5D%2C%20%5B37.360457000000004%2C%20-120.72417800000001%5D%2C%20%5B43.162459999999996%2C%20-83.826938%5D%2C%20%5B34.821612%2C%20-82.284743%5D%2C%20%5B42.47443%2C%20-83.18258%5D%2C%20%5B40.703938%2C%20-111.93893899999999%5D%2C%20%5B38.870218%2C%20-77.04605600000001%5D%2C%20%5B42.24025%2C%20-87.922859%5D%2C%20%5B34.028259999999996%2C%20-117.55006000000002%5D%2C%20%5B37.66199%2C%20-79.7959%5D%2C%20%5B30.174947999999997%2C%20-85.783752%5D%2C%20%5B41.15855%2C%20-81.78565%5D%2C%20%5B38.553615%2C%20-121.47423300000001%5D%2C%20%5B45.042159999999996%2C%20-122.79331%5D%2C%20%5B30.0935%2C%20-97.6939%5D%2C%20%5B36.137370000000004%2C%20-86.77585%5D%2C%20%5B32.939640000000004%2C%20-96.821726%5D%2C%20%5B40.794585%2C%20-74.19205699999999%5D%2C%20%5B32.775673%2C%20-97.21257%5D%2C%20%5B40.58255%2C%20-111.89995%5D%2C%20%5B38.995259999999995%2C%20-94.69625%5D%2C%20%5B33.44437%2C%20-112.10828000000001%5D%2C%20%5B35.431021%2C%20-118.932845%5D%2C%20%5B34.122125%2C%20-117.695843%5D%2C%20%5B34.03007%2C%20-117.70245%5D%2C%20%5B34.07176%2C%20-118.07266000000001%5D%2C%20%5B41.88107%2C%20-87.6963%5D%2C%20%5B37.8189%2C%20-122.20487%5D%2C%20%5B40.371190000000006%2C%20-122.28453999999999%5D%2C%20%5B38.600392%2C%20-121.505023%5D%2C%20%5B42.378505%2C%20-83.222948%5D%2C%20%5B32.797565999999996%2C%20-96.781065%5D%2C%20%5B43.055440000000004%2C%20-88.04771%5D%2C%20%5B26.795839%2C%20-80.131617%5D%2C%20%5B44.757145%2C%20-122.309901%5D%2C%20%5B39.77953%2C%20-86.27320999999999%5D%2C%20%5B43.52863%2C%20-71.61246%5D%2C%20%5B38.94647%2C%20-76.84464%5D%2C%20%5B41.192409999999995%2C%20-79.42560999999999%5D%2C%20%5B34.0273%2C%20-118.45763000000001%5D%2C%20%5B37.882309%2C%20-78.549378%5D%2C%20%5B42.265012%2C%20-122.797623%5D%2C%20%5B41.031089%2C%20-111.94763%5D%2C%20%5B39.940391999999996%2C%20-76.717658%5D%2C%20%5B37.47785%2C%20-76.9142%5D%2C%20%5B25.883378%2C%20-80.20918%5D%2C%20%5B38.13642%2C%20-122.25851000000002%5D%2C%20%5B33.856113%2C%20-118.217203%5D%2C%20%5B36.14575%2C%20-86.77750999999999%5D%2C%20%5B39.17665%2C%20-94.56266%5D%2C%20%5B37.81478%2C%20-122.29991000000001%5D%2C%20%5B27.93962%2C%20-82.32731%5D%2C%20%5B25.540502%2C%20-80.392365%5D%2C%20%5B34.02635%2C%20-117.56703999999999%5D%2C%20%5B35.20985%2C%20-80.75718%5D%2C%20%5B38.652812%2C%20-90.50681999999999%5D%2C%20%5B33.837043%2C%20-118.261009%5D%2C%20%5B42.152724%2C%20-120.34168000000001%5D%2C%20%5B28.418364%2C%20-81.40460300000001%5D%2C%20%5B33.99612%2C%20-84.55899000000001%5D%2C%20%5B33.34452%2C%20-111.97209%5D%2C%20%5B34.071459999999995%2C%20-118.12511%5D%2C%20%5B34.997183%2C%20-81.785156%5D%2C%20%5B41.75045%2C%20-88.03625%5D%2C%20%5B40.754751%2C%20-73.54974%5D%2C%20%5B41.918420000000005%2C%20-87.63606%5D%2C%20%5B37.802104%2C%20-122.298758%5D%2C%20%5B37.325168%2C%20-121.88623899999999%5D%2C%20%5B42.296601%2C%20-83.99569%5D%2C%20%5B33.873344%2C%20-118.060573%5D%2C%20%5B40.71772%2C%20-111.95335%5D%2C%20%5B37.806470000000004%2C%20-121.99071%5D%2C%20%5B41.83242%2C%20-71.41703000000001%5D%2C%20%5B38.470076%2C%20-77.404035%5D%2C%20%5B44.901841%2C%20-93.747292%5D%2C%20%5B39.72542%2C%20-105.02212%5D%2C%20%5B42.10865%2C%20-70.76708%5D%2C%20%5B37.688755%2C%20-122.135329%5D%2C%20%5B26.304609999999997%2C%20-80.17954%5D%2C%20%5B33.789707%2C%20-84.391511%5D%2C%20%5B34.13097%2C%20-118.34943%5D%2C%20%5B35.635663%2C%20-79.99936%5D%2C%20%5B25.80591%2C%20-80.32101%5D%2C%20%5B45.436772%2C%20-122.74409399999999%5D%2C%20%5B40.56929%2C%20-75.964888%5D%2C%20%5B25.94121%2C%20-80.18975%5D%2C%20%5B40.853058000000004%2C%20-73.960092%5D%2C%20%5B25.899987%2C%20-80.161937%5D%2C%20%5B35.201858%2C%20-80.786987%5D%2C%20%5B41.324744%2C%20-76.973353%5D%2C%20%5B40.10386%2C%20-82.94086%5D%2C%20%5B44.623296999999994%2C%20-94.056525%5D%2C%20%5B30.454828999999997%2C%20-91.180826%5D%2C%20%5B47.19475%2C%20-122.46247%5D%2C%20%5B30.453636%2C%20-84.281906%5D%2C%20%5B36.1676%2C%20-86.7622%5D%2C%20%5B44.983470000000004%2C%20-93.20368%5D%2C%20%5B34.83618%2C%20-82.28036999999999%5D%2C%20%5B39.542315%2C%20-76.234587%5D%2C%20%5B28.66436%2C%20-81.38871999999999%5D%2C%20%5B42.988096%2C%20-83.73658%5D%2C%20%5B43.506854%2C%20-121.662244%5D%2C%20%5B37.901722%2C%20-121.46787900000001%5D%2C%20%5B45.042159999999996%2C%20-122.79331%5D%2C%20%5B27.462490999999996%2C%20-82.584775%5D%2C%20%5B33.785977%2C%20-118.20772%5D%2C%20%5B25.97948%2C%20-80.16581%5D%2C%20%5B40.170165999999995%2C%20-75.466882%5D%2C%20%5B41.75173%2C%20-71.48170999999999%5D%2C%20%5B45.167122%2C%20-121.113247%5D%2C%20%5B32.745554999999996%2C%20-117.119804%5D%2C%20%5B33.462270000000004%2C%20-112.22652%5D%2C%20%5B38.183603999999995%2C%20-121.80618899999999%5D%2C%20%5B39.78275%2C%20-86.15946%5D%2C%20%5B42.725538%2C%20-84.547771%5D%2C%20%5B32.77772%2C%20-96.783403%5D%2C%20%5B35.90297%2C%20-120.972494%5D%2C%20%5B30.423448999999998%2C%20-91.144627%5D%2C%20%5B41.825807%2C%20-87.918111%5D%2C%20%5B29.806779%2C%20-95.21667099999999%5D%2C%20%5B40.468070000000004%2C%20-74.291045%5D%2C%20%5B34.050409%2C%20-117.93002%5D%2C%20%5B32.74732%2C%20-96.74611999999999%5D%2C%20%5B47.30278%2C%20-94.62275%5D%2C%20%5B25.950259%2C%20-80.148865%5D%2C%20%5B37.969919%2C%20-122.32043600000002%5D%2C%20%5B33.391909999999996%2C%20-111.89155%5D%2C%20%5B38.957434%2C%20-94.540643%5D%2C%20%5B42.99584%2C%20-77.36845%5D%2C%20%5B41.79115%2C%20-87.63089000000001%5D%2C%20%5B37.807990000000004%2C%20-121.2971%5D%2C%20%5B43.361511%2C%20-86.165939%5D%2C%20%5B34.058611%2C%20-118.45458799999999%5D%2C%20%5B39.879373%2C%20-86.476124%5D%2C%20%5B38.044579%2C%20-78.752775%5D%2C%20%5B42.4751%2C%20-96.21356999999999%5D%2C%20%5B25.94559%2C%20-80.18654000000001%5D%2C%20%5B42.427929999999996%2C%20-83.18353%5D%2C%20%5B40.63844%2C%20-74.89435999999999%5D%2C%20%5B37.502206%2C%20-77.281554%5D%2C%20%5B44.102565000000006%2C%20-123.17153300000001%5D%2C%20%5B42.416013%2C%20-122.857114%5D%2C%20%5B44.97726%2C%20-122.99123%5D%2C%20%5B42.306127000000004%2C%20-88.054837%5D%2C%20%5B48.555834999999995%2C%20-122.35013899999998%5D%2C%20%5B27.981309999999997%2C%20-82.48674%5D%2C%20%5B36.5314%2C%20-86.007807%5D%2C%20%5B33.945445%2C%20-118.36823000000001%5D%2C%20%5B38.14405%2C%20-85.85205%5D%2C%20%5B33.921409999999995%2C%20-118.08277%5D%2C%20%5B41.54266%2C%20-109.79946000000001%5D%2C%20%5B39.080009999999994%2C%20-76.901324%5D%2C%20%5B41.685559999999995%2C%20-87.66197%5D%2C%20%5B34.811690000000006%2C%20-82.27767%5D%2C%20%5B40.845721999999995%2C%20-73.929606%5D%2C%20%5B39.334841%2C%20-120.179282%5D%2C%20%5B27.492210999999998%2C%20-82.478528%5D%2C%20%5B38.606311%2C%20-90.450836%5D%2C%20%5B39.10009%2C%20-104.78978000000001%5D%2C%20%5B47.734140000000004%2C%20-122.3451%5D%2C%20%5B33.586778%2C%20-117.611075%5D%2C%20%5B37.551353000000006%2C%20-77.44024399999999%5D%2C%20%5B41.068709999999996%2C%20-111.97207%5D%2C%20%5B38.663992%2C%20-121.224674%5D%2C%20%5B32.297384%2C%20-110.995167%5D%2C%20%5B41.94325%2C%20-71.47194%5D%2C%20%5B33.671521000000006%2C%20-80.875268%5D%2C%20%5B37.689197%2C%20-122.13564199999999%5D%2C%20%5B40.869215000000004%2C%20-74.330116%5D%2C%20%5B44.95094%2C%20-93.10525%5D%2C%20%5B35.224564%2C%20-80.839961%5D%2C%20%5B40.85002%2C%20-73.94399%5D%2C%20%5B39.220009999999995%2C%20-76.70283%5D%2C%20%5B35.522568%2C%20-120.704131%5D%2C%20%5B30.002722%2C%20-90.04434599999999%5D%2C%20%5B39.9572%2C%20-82.93854%5D%2C%20%5B37.827096999999995%2C%20-122.29615%5D%2C%20%5B42.137619%2C%20-88.48719%5D%2C%20%5B38.529478999999995%2C%20-121.75519399999999%5D%2C%20%5B40.73195%2C%20-111.94991%5D%2C%20%5B45.530671000000005%2C%20-122.634796%5D%2C%20%5B40.008977%2C%20-75.068045%5D%2C%20%5B34.265246999999995%2C%20-118.472268%5D%2C%20%5B33.320609999999995%2C%20-111.824%5D%2C%20%5B43.666888%2C%20-116.354495%5D%2C%20%5B40.154044%2C%20-79.46968199999999%5D%2C%20%5B33.05305%2C%20-96.69606%5D%2C%20%5B25.941563000000002%2C%20-80.189584%5D%2C%20%5B40.610479%2C%20-74.119337%5D%2C%20%5B28.802895%2C%20-82.576409%5D%2C%20%5B35.11468%2C%20-80.748751%5D%2C%20%5B37.963819%2C%20-122.37377%5D%2C%20%5B41.597390000000004%2C%20-87.58348000000001%5D%2C%20%5B42.97229%2C%20-85.77633%5D%2C%20%5B32.829862%2C%20-96.781995%5D%2C%20%5B43.104184000000004%2C%20-89.31641%5D%2C%20%5B25.899691%2C%20-80.180812%5D%2C%20%5B29.831459999999996%2C%20-95.3831%5D%2C%20%5B43.637512%2C%20-95.398567%5D%2C%20%5B40.603827%2C%20-75.30596800000001%5D%2C%20%5B33.97435%2C%20-118.12408799999999%5D%2C%20%5B44.091912%2C%20-117.02893600000002%5D%2C%20%5B34.071343%2C%20-118.23539699999999%5D%2C%20%5B40.0223%2C%20-79.08622%5D%2C%20%5B40.27406%2C%20-74.21976%5D%2C%20%5B40.166140000000006%2C%20-75.1252%5D%2C%20%5B33.928594%2C%20-118.367636%5D%2C%20%5B34.989412%2C%20-81.94649100000001%5D%2C%20%5B37.765840000000004%2C%20-122.21937%5D%2C%20%5B25.62635%2C%20-80.41441%5D%2C%20%5B43.411999%2C%20-71.59591999999999%5D%2C%20%5B34.110525%2C%20-118.48178100000001%5D%2C%20%5B34.017157%2C%20-81.152804%5D%2C%20%5B28.621754%2C%20-81.529986%5D%2C%20%5B37.424015999999995%2C%20-77.47112800000001%5D%2C%20%5B35.98973%2C%20-83.90344%5D%2C%20%5B38.572725%2C%20-79.840562%5D%2C%20%5B39.29405%2C%20-76.67274%5D%2C%20%5B39.395931%2C%20-76.688379%5D%2C%20%5B29.776878999999997%2C%20-95.384017%5D%2C%20%5B34.06966%2C%20-118.04561000000001%5D%2C%20%5B34.605340000000005%2C%20-81.01826%5D%2C%20%5B41.78652%2C%20-88.07423%5D%2C%20%5B34.343256%2C%20-81.90265699999999%5D%2C%20%5B33.955618%2C%20-118.25401399999998%5D%2C%20%5B39.53097%2C%20-104.86809%5D%2C%20%5B37.509142%2C%20-121.962926%5D%2C%20%5B40.6903%2C%20-73.99865%5D%2C%20%5B32.855973999999996%2C%20-96.55583399999999%5D%2C%20%5B35.830490000000005%2C%20-78.61879%5D%2C%20%5B32.73465%2C%20-97.63277%5D%2C%20%5B33.942609000000004%2C%20-117.27958400000001%5D%2C%20%5B38.66843%2C%20-90.44884%5D%2C%20%5B34.311751%2C%20-117.476345%5D%2C%20%5B40.846940000000004%2C%20-73.93365%5D%2C%20%5B39.69488%2C%20-106.667171%5D%2C%20%5B43.177535%2C%20-83.771861%5D%2C%20%5B38.548434%2C%20-76.985252%5D%2C%20%5B40.02155%2C%20-75.05178000000001%5D%2C%20%5B37.82277%2C%20-122.26897%5D%2C%20%5B38.913153%2C%20-76.992351%5D%2C%20%5B38.75353%2C%20-120.82742900000001%5D%2C%20%5B36.773503000000005%2C%20-121.60333%5D%2C%20%5B44.17033%2C%20-93.94881%5D%2C%20%5B38.97152%2C%20-123.027573%5D%2C%20%5B37.685514000000005%2C%20-122.129853%5D%2C%20%5B39.958490999999995%2C%20-74.93656800000001%5D%2C%20%5B39.411467%2C%20-76.582206%5D%2C%20%5B44.25935%2C%20-121.17943799999999%5D%2C%20%5B36.17592%2C%20-121.15301299999999%5D%2C%20%5B28.54583%2C%20-81.31058%5D%2C%20%5B40.830489%2C%20-76.84031%5D%2C%20%5B27.98723%2C%20-82.3262%5D%2C%20%5B42.66815%2C%20-121.96713999999999%5D%2C%20%5B38.949891%2C%20-94.539016%5D%2C%20%5B34.12104%2C%20-117.88325%5D%2C%20%5B40.575115999999994%2C%20-77.773922%5D%2C%20%5B41.889701%2C%20-72.267811%5D%2C%20%5B41.855579999999996%2C%20-87.64455%5D%2C%20%5B33.55571%2C%20-117.67281000000001%5D%2C%20%5B31.780711%2C%20-106.441158%5D%2C%20%5B33.91261%2C%20-118.15387%5D%2C%20%5B40.576404%2C%20-74.544156%5D%2C%20%5B44.862109999999994%2C%20-93.24743000000001%5D%2C%20%5B28.331509999999998%2C%20-82.64213000000001%5D%2C%20%5B25.96371%2C%20-80.165722%5D%2C%20%5B34.13743%2C%20-117.32683999999999%5D%2C%20%5B36.733549%2C%20-119.497851%5D%2C%20%5B42.037092%2C%20-121.873558%5D%2C%20%5B37.76282%2C%20-121.427798%5D%2C%20%5B33.891715000000005%2C%20-117.64681100000001%5D%2C%20%5B33.735033%2C%20-117.833572%5D%2C%20%5B34.047885%2C%20-118.266682%5D%2C%20%5B38.265591%2C%20-85.501327%5D%2C%20%5B32.893004%2C%20-79.97570999999999%5D%2C%20%5B40.74834%2C%20-77.20943%5D%2C%20%5B39.03707%2C%20-84.60562%5D%2C%20%5B40.76463%2C%20-111.97157%5D%2C%20%5B34.200649%2C%20-79.768398%5D%2C%20%5B29.529644%2C%20-98.39211800000001%5D%2C%20%5B37.554390999999995%2C%20-77.446264%5D%2C%20%5B40.84917%2C%20-73.93944%5D%2C%20%5B38.901221%2C%20-77.046322%5D%2C%20%5B28.04585%2C%20-82.39356%5D%2C%20%5B35.939269%2C%20-78.566263%5D%2C%20%5B33.74348%2C%20-84.37865%5D%2C%20%5B41.638409%2C%20-87.57836999999999%5D%2C%20%5B42.315661999999996%2C%20-88.004417%5D%2C%20%5B26.533790000000003%2C%20-80.07359%5D%2C%20%5B34.03474%2C%20-118.34277%5D%2C%20%5B40.66214%2C%20-74.28716999999999%5D%2C%20%5B33.741899%2C%20-117.837713%5D%2C%20%5B27.87172%2C%20-82.32676%5D%2C%20%5B47.79551%2C%20-122.3154%5D%2C%20%5B33.998619%2C%20-117.85529299999999%5D%2C%20%5B39.8304%2C%20-75.08816%5D%2C%20%5B45.56539%2C%20-118.45886000000002%5D%2C%20%5B41.9243%2C%20-87.63059%5D%2C%20%5B30.2758%2C%20-97.59999%5D%2C%20%5B26.002229999999997%2C%20-80.1671%5D%2C%20%5B40.641740000000006%2C%20-80.09754000000001%5D%2C%20%5B34.456565000000005%2C%20-82.053957%5D%2C%20%5B41.322520000000004%2C%20-73.97609%5D%2C%20%5B37.550959999999996%2C%20-77.44325%5D%2C%20%5B39.09708%2C%20-94.54791999999999%5D%2C%20%5B32.67642%2C%20-117.03683000000001%5D%2C%20%5B39.788121000000004%2C%20-86.131967%5D%2C%20%5B47.653909999999996%2C%20-117.33485%5D%2C%20%5B42.6742%2C%20-73.72626%5D%2C%20%5B36.984182000000004%2C%20-122.14816699999999%5D%2C%20%5B38.73133%2C%20-90.33763%5D%2C%20%5B33.920685%2C%20-117.43175600000001%5D%2C%20%5B42.715769%2C%20-123.369419%5D%2C%20%5B34.382913%2C%20-117.41556499999999%5D%2C%20%5B27.856213%2C%20-82.695925%5D%2C%20%5B32.9259%2C%20-96.80529%5D%2C%20%5B34.062208%2C%20-118.000598%5D%2C%20%5B25.740314%2C%20-80.33809699999999%5D%2C%20%5B26.572603000000004%2C%20-80.069292%5D%2C%20%5B37.93145%2C%20-122.5161%5D%2C%20%5B39.72932%2C%20-121.811869%5D%2C%20%5B34.488687%2C%20-118.16204599999999%5D%2C%20%5B38.93439%2C%20-94.681398%5D%2C%20%5B41.476825%2C%20-72.771488%5D%2C%20%5B33.854046000000004%2C%20-86.30408%5D%2C%20%5B37.451277000000005%2C%20-122.12541399999999%5D%2C%20%5B38.58639%2C%20-121.448472%5D%2C%20%5B35.91219%2C%20-78.65511%5D%2C%20%5B38.631264%2C%20-90.375385%5D%2C%20%5B34.056092%2C%20-118.18292199999999%5D%2C%20%5B37.923633%2C%20-121.293208%5D%2C%20%5B47.26115%2C%20-122.32641000000001%5D%2C%20%5B40.801590999999995%2C%20-74.07222%5D%2C%20%5B34.05635%2C%20-118.24127%5D%2C%20%5B42.37623%2C%20-87.883122%5D%2C%20%5B45.52565%2C%20-122.6607%5D%2C%20%5B33.048387%2C%20-117.28706000000001%5D%2C%20%5B39.020057%2C%20-123.3185%5D%2C%20%5B42.18265%2C%20-87.98945%5D%2C%20%5B42.34089%2C%20-87.96363000000001%5D%2C%20%5B27.916809999999998%2C%20-82.33619%5D%2C%20%5B37.37263%2C%20-121.92334%5D%2C%20%5B39.2221%2C%20-84.35663000000001%5D%2C%20%5B44.05488%2C%20-122.83698000000001%5D%2C%20%5B33.825417%2C%20-118.228404%5D%2C%20%5B36.963798%2C%20-121.551804%5D%2C%20%5B32.672961%2C%20-117.07631299999998%5D%2C%20%5B33.740320000000004%2C%20-84.23062%5D%2C%20%5B34.203038%2C%20-117.09356799999999%5D%2C%20%5B37.869479999999996%2C%20-122.30474%5D%2C%20%5B32.632902%2C%20-117.097467%5D%2C%20%5B34.053717999999996%2C%20-118.23658300000001%5D%2C%20%5B34.15595%2C%20-118.25498999999999%5D%2C%20%5B40.86188%2C%20-73.91256%5D%2C%20%5B41.805093%2C%20-88.18812199999999%5D%2C%20%5B32.85378%2C%20-117.18208%5D%2C%20%5B34.063802%2C%20-118.15943500000002%5D%2C%20%5B25.769482999999997%2C%20-80.33749399999999%5D%2C%20%5B41.506840000000004%2C%20-72.11484%5D%2C%20%5B40.588678%2C%20-80.099183%5D%2C%20%5B33.807369%2C%20-84.395163%5D%2C%20%5B33.844837%2C%20-117.536207%5D%2C%20%5B40.182033000000004%2C%20-75.481771%5D%2C%20%5B34.026792%2C%20-118.20977099999999%5D%2C%20%5B39.87012%2C%20-75.32661999999999%5D%2C%20%5B27.351094%2C%20-82.46396%5D%2C%20%5B35.91782%2C%20-86.82392%5D%2C%20%5B47.58313%2C%20-122.17561%5D%2C%20%5B37.307034%2C%20-121.82065800000001%5D%2C%20%5B37.850640000000006%2C%20-122.29200900000001%5D%2C%20%5B40.732079999999996%2C%20-73.87064000000001%5D%2C%20%5B40.804821000000004%2C%20-73.91181999999999%5D%2C%20%5B33.874534999999995%2C%20-117.54513%5D%2C%20%5B37.398687%2C%20-77.708208%5D%2C%20%5B44.06219%2C%20-123.04913%5D%2C%20%5B44.76827%2C%20-94.13144%5D%2C%20%5B37.52279%2C%20-122.2663%5D%2C%20%5B34.037307%2C%20-118.03846599999999%5D%2C%20%5B42.408031%2C%20-83.0821%5D%2C%20%5B44.587990999999995%2C%20-123.430334%5D%2C%20%5B37.68504%2C%20-113.10645%5D%2C%20%5B38.576785%2C%20-77.326809%5D%2C%20%5B44.22157%2C%20-87.762%5D%2C%20%5B38.722597%2C%20-121.27203300000001%5D%2C%20%5B45.302446%2C%20-92.765211%5D%2C%20%5B32.713146%2C%20-96.814631%5D%2C%20%5B25.6952%2C%20-80.31725%5D%2C%20%5B26.336599%2C%20-81.751102%5D%2C%20%5B34.019154%2C%20-118.151374%5D%2C%20%5B39.0459%2C%20-94.41054%5D%2C%20%5B44.00138%2C%20-85.10629%5D%2C%20%5B37.82277%2C%20-122.26897%5D%2C%20%5B38.95516%2C%20-77.19374%5D%2C%20%5B35.20837%2C%20-80.83965%5D%2C%20%5B48.188619%2C%20-122.18234199999999%5D%2C%20%5B33.77758%2C%20-84.39076%5D%2C%20%5B43.0894%2C%20-87.917237%5D%2C%20%5B34.066489000000004%2C%20-117.234474%5D%2C%20%5B28.53117%2C%20-81.37653%5D%2C%20%5B40.26312%2C%20-75.31929000000001%5D%2C%20%5B33.83155%2C%20-118.29921000000002%5D%2C%20%5B45.715499%2C%20-120.24055%5D%2C%20%5B39.35637%2C%20-76.76562%5D%2C%20%5B37.638298999999996%2C%20-121.269411%5D%2C%20%5B39.700784000000006%2C%20-86.123361%5D%2C%20%5B40.483615%2C%20-111.427912%5D%2C%20%5B42.16333%2C%20-88.05511%5D%2C%20%5B37.884747%2C%20-122.308659%5D%2C%20%5B32.875984%2C%20-96.68431600000001%5D%2C%20%5B34.06395%2C%20-117.26703799999999%5D%2C%20%5B34.91075%2C%20-82.11233%5D%2C%20%5B33.953268%2C%20-118.238551%5D%2C%20%5B41.8767%2C%20-87.64548%5D%2C%20%5B45.3653%2C%20-122.678463%5D%2C%20%5B28.598155%2C%20-81.299079%5D%2C%20%5B33.8698%2C%20-118.28568999999999%5D%2C%20%5B32.715189%2C%20-117.11773400000001%5D%2C%20%5B41.83849%2C%20-87.9193%5D%2C%20%5B31.534682%2C%20-97.111315%5D%2C%20%5B34.249921%2C%20-118.427654%5D%2C%20%5B34.06377%2C%20-117.81950800000001%5D%2C%20%5B35.768789%2C%20-78.617345%5D%2C%20%5B26.72375%2C%20-80.09163000000001%5D%2C%20%5B38.528331%2C%20-90.34897099999999%5D%2C%20%5B32.227953%2C%20-110.927935%5D%2C%20%5B42.493781%2C%20-87.886827%5D%2C%20%5B25.944813%2C%20-80.17284000000001%5D%2C%20%5B39.284420000000004%2C%20-84.44097%5D%2C%20%5B37.76967%2C%20-122.41598%5D%2C%20%5B33.91294%2C%20-118.13128%5D%2C%20%5B32.87024%2C%20-96.81097%5D%2C%20%5B33.50945%2C%20-112.0997%5D%2C%20%5B33.72665%2C%20-117.83474%5D%2C%20%5B34.12842%2C%20-117.96183%5D%2C%20%5B30.814747999999998%2C%20-85.173784%5D%2C%20%5B39.87064%2C%20-84.37913%5D%2C%20%5B34.04181%2C%20-118.5676%5D%2C%20%5B40.63073%2C%20-111.847283%5D%2C%20%5B35.267497999999996%2C%20-119.252431%5D%2C%20%5B34.03031%2C%20-117.65104099999999%5D%2C%20%5B34.751664%2C%20-118.79548999999999%5D%2C%20%5B34.072283%2C%20-117.931505%5D%2C%20%5B27.07902%2C%20-82.42492%5D%2C%20%5B28.28683%2C%20-81.58883%5D%2C%20%5B34.120678000000005%2C%20-117.82468100000001%5D%2C%20%5B42.6742%2C%20-73.72626%5D%2C%20%5B30.502394%2C%20-87.190224%5D%2C%20%5B35.00633%2C%20-85.20756%5D%2C%20%5B40.75292%2C%20-74.19440999999999%5D%2C%20%5B34.1211%2C%20-118.47972%5D%2C%20%5B41.871632%2C%20-87.895634%5D%2C%20%5B39.212759999999996%2C%20-94.47917%5D%2C%20%5B39.63545%2C%20-86.12661999999999%5D%2C%20%5B36.145540999999994%2C%20-119.072197%5D%2C%20%5B34.449546000000005%2C%20-81.90441%5D%2C%20%5B29.7312%2C%20-95.399796%5D%2C%20%5B39.62016%2C%20-104.89931999999999%5D%2C%20%5B41.817668%2C%20-80.866321%5D%2C%20%5B38.564721%2C%20-121.497745%5D%2C%20%5B41.86013%2C%20-87.76414%5D%2C%20%5B29.62847%2C%20-95.59267%5D%2C%20%5B40.10978%2C%20-79.92009%5D%2C%20%5B38.5412%2C%20-90.41925%5D%2C%20%5B44.793822999999996%2C%20-93.19892%5D%2C%20%5B31.784940000000002%2C%20-106.33618999999999%5D%2C%20%5B39.61252%2C%20-74.82581%5D%2C%20%5B30.3751%2C%20-89.05674%5D%2C%20%5B47.771879999999996%2C%20-122.32031%5D%2C%20%5B25.945992%2C%20-80.148599%5D%2C%20%5B41.050783%2C%20-76.24440899999999%5D%2C%20%5B36.162239%2C%20-86.768979%5D%2C%20%5B34.103753999999995%2C%20-117.983506%5D%2C%20%5B44.7597%2C%20-93.21786999999999%5D%2C%20%5B37.419301000000004%2C%20-121.94413%5D%2C%20%5B40.95047%2C%20-111.8914%5D%2C%20%5B36.168262%2C%20-86.657234%5D%2C%20%5B32.9886%2C%20-96.93902%5D%2C%20%5B37.634171%2C%20-122.414828%5D%2C%20%5B33.967290999999996%2C%20-80.953284%5D%2C%20%5B39.663769%2C%20-75.627803%5D%2C%20%5B42.56834%2C%20-113.787967%5D%2C%20%5B29.78475%2C%20-95.68309%5D%2C%20%5B34.07274%2C%20-117.78323999999999%5D%2C%20%5B33.8769%2C%20-118.18723999999999%5D%2C%20%5B26.527949%2C%20-81.87135%5D%2C%20%5B41.464119000000004%2C%20-112.05499099999999%5D%2C%20%5B29.909339000000003%2C%20-90.192612%5D%2C%20%5B39.93054%2C%20-86.14809%5D%2C%20%5B39.722066999999996%2C%20-75.153104%5D%2C%20%5B28.012079999999997%2C%20-82.27771%5D%2C%20%5B40.4758%2C%20-75.45741%5D%2C%20%5B43.57901%2C%20-121.57855%5D%2C%20%5B40.7271%2C%20-73.92931%5D%2C%20%5B39.510751%2C%20-119.658054%5D%2C%20%5B37.53532%2C%20-77.42987%5D%2C%20%5B39.189101%2C%20-78.13479699999999%5D%2C%20%5B42.37747%2C%20-123.49566999999999%5D%2C%20%5B37.560458000000004%2C%20-122.30259199999999%5D%2C%20%5B27.821105%2C%20-82.697841%5D%2C%20%5B41.805679999999995%2C%20-71.44088%5D%2C%20%5B33.94811%2C%20-84.23601%5D%2C%20%5B30.578470000000003%2C%20-87.3495%5D%2C%20%5B44.389537%2C%20-88.160821%5D%2C%20%5B30.141122999999997%2C%20-81.540538%5D%2C%20%5B34.072990000000004%2C%20-118.46688%5D%2C%20%5B41.908313%2C%20-93.570825%5D%2C%20%5B33.87362%2C%20-118.2426%5D%2C%20%5B32.72703%2C%20-117.167418%5D%2C%20%5B32.75995%2C%20-117.19981999999999%5D%2C%20%5B37.441340000000004%2C%20-121.89022%5D%2C%20%5B37.491524%2C%20-122.219604%5D%2C%20%5B27.94251%2C%20-82.45569%5D%2C%20%5B35.666773%2C%20-78.258575%5D%2C%20%5B37.631951%2C%20-77.61632%5D%2C%20%5B30.856126%2C%20-88.072131%5D%2C%20%5B33.75119%2C%20-84.4963%5D%2C%20%5B32.88427%2C%20-117.20211%5D%2C%20%5B33.46223%2C%20-112.0477%5D%2C%20%5B36.984856%2C%20-120.08715%5D%2C%20%5B44.738323%2C%20-70.142246%5D%2C%20%5B43.16182%2C%20-77.62002%5D%2C%20%5B45.37542%2C%20-122.75555%5D%2C%20%5B34.08726%2C%20-117.646955%5D%2C%20%5B41.865809999999996%2C%20-87.92173000000001%5D%2C%20%5B38.768842%2C%20-120.924479%5D%2C%20%5B34.707334%2C%20-82.242662%5D%2C%20%5B38.68381%2C%20-122.88095%5D%2C%20%5B40.653040000000004%2C%20-112.02548999999999%5D%2C%20%5B30.400385999999997%2C%20-97.745097%5D%2C%20%5B36.906437%2C%20-121.613571%5D%2C%20%5B40.42845%2C%20-111.88805%5D%2C%20%5B37.5663%2C%20-122.041293%5D%2C%20%5B33.857997%2C%20-118.276432%5D%2C%20%5B32.842420000000004%2C%20-97.34704%5D%2C%20%5B33.66478%2C%20-84.41932%5D%2C%20%5B37.758223%2C%20-121.513194%5D%2C%20%5B36.527102%2C%20-119.57248799999999%5D%2C%20%5B26.93054%2C%20-80.14881%5D%2C%20%5B34.030409999999996%2C%20-117.68082%5D%2C%20%5B37.085390999999994%2C%20-76.45537%5D%2C%20%5B27.80227%2C%20-82.66289%5D%2C%20%5B33.79651%2C%20-117.23098%5D%2C%20%5B39.15218%2C%20-104.85793999999999%5D%2C%20%5B34.037048999999996%2C%20-118.37914199999999%5D%2C%20%5B26.685209999999998%2C%20-80.06889%5D%2C%20%5B33.703138%2C%20-84.14909%5D%2C%20%5B35.275873%2C%20-119.01413000000001%5D%2C%20%5B40.129459999999995%2C%20-75.20206999999999%5D%2C%20%5B44.3843%2C%20-93.667%5D%2C%20%5B28.449914%2C%20-81.481045%5D%2C%20%5B29.867420000000003%2C%20-95.54097%5D%2C%20%5B46.23506%2C%20-123.87196000000002%5D%2C%20%5B34.8957%2C%20-82.155321%5D%2C%20%5B25.661584%2C%20-80.385664%5D%2C%20%5B32.893728%2C%20-80.01869%5D%2C%20%5B29.702261%2C%20-95.37655500000001%5D%2C%20%5B40.141564%2C%20-75.806962%5D%2C%20%5B39.579657%2C%20-76.606944%5D%2C%20%5B39.048768%2C%20-94.64238399999999%5D%2C%20%5B38.581377%2C%20-121.46339499999999%5D%2C%20%5B33.76774%2C%20-84.5322%5D%2C%20%5B34.156627%2C%20-118.40729499999999%5D%2C%20%5B33.815296999999994%2C%20-117.51176000000001%5D%2C%20%5B34.825168%2C%20-119.01159799999999%5D%2C%20%5B43.813935%2C%20-95.268056%5D%2C%20%5B30.451912%2C%20-91.10415400000001%5D%2C%20%5B40.612429999999996%2C%20-74.13231%5D%2C%20%5B38.98212%2C%20-122.853595%5D%2C%20%5B33.927690000000005%2C%20-118.26762%5D%2C%20%5B33.45633%2C%20-111.67458%5D%2C%20%5B42.38113%2C%20-83.03182%5D%2C%20%5B29.496509999999997%2C%20-98.19816999999999%5D%2C%20%5B34.11602%2C%20-118.23893999999999%5D%2C%20%5B41.78967%2C%20-87.63064%5D%2C%20%5B40.53781%2C%20-74.34146%5D%2C%20%5B32.83741%2C%20-96.97793%5D%2C%20%5B36.05839%2C%20-79.89686999999999%5D%2C%20%5B43.794496%2C%20-70.315373%5D%2C%20%5B33.072601%2C%20-117.07001100000001%5D%2C%20%5B34.14925%2C%20-118.80426999999999%5D%2C%20%5B37.30829%2C%20-77.22238399999999%5D%2C%20%5B33.37822%2C%20-111.9828%5D%2C%20%5B37.627371000000004%2C%20-122.08124299999999%5D%2C%20%5B45.391521000000004%2C%20-122.461075%5D%2C%20%5B30.228773999999998%2C%20-97.700998%5D%2C%20%5B40.142167%2C%20-75.091487%5D%2C%20%5B25.78875%2C%20-80.20004%5D%2C%20%5B25.717728%2C%20-80.32006%5D%2C%20%5B38.758263%2C%20-121.26137%5D%2C%20%5B33.783388%2C%20-117.49113100000001%5D%2C%20%5B30.385725%2C%20-82.872949%5D%2C%20%5B35.054594%2C%20-81.992393%5D%2C%20%5B33.34973%2C%20-111.8591%5D%2C%20%5B45.53277%2C%20-122.63261000000001%5D%2C%20%5B28.526978000000003%2C%20-81.42609300000001%5D%2C%20%5B43.31855%2C%20-70.99549%5D%2C%20%5B33.877176%2C%20-118.147641%5D%2C%20%5B33.941459%2C%20-118.361337%5D%2C%20%5B34.135525%2C%20-117.986401%5D%2C%20%5B34.145539%2C%20-117.285629%5D%2C%20%5B36.443971000000005%2C%20-119.39482199999999%5D%2C%20%5B37.907599%2C%20-88.16246600000001%5D%2C%20%5B34.015246000000005%2C%20-117.086897%5D%2C%20%5B35.614948999999996%2C%20-119.86765600000001%5D%2C%20%5B44.951609999999995%2C%20-93.146501%5D%2C%20%5B45.5411%2C%20-122.29698%5D%2C%20%5B45.41408%2C%20-122.46793000000001%5D%2C%20%5B34.025763%2C%20-117.564021%5D%2C%20%5B26.432378999999997%2C%20-81.810778%5D%2C%20%5B41.92195%2C%20-87.67775999999999%5D%2C%20%5B32.502109999999995%2C%20-82.92613%5D%2C%20%5B38.62575%2C%20-77.294599%5D%2C%20%5B31.761670000000002%2C%20-106.44448%5D%2C%20%5B32.857915000000006%2C%20-96.87379%5D%2C%20%5B29.785099%2C%20-95.69308000000001%5D%2C%20%5B41.759516%2C%20-72.641097%5D%2C%20%5B37.95049%2C%20-122.53373%5D%2C%20%5B40.090990000000005%2C%20-82.90783%5D%2C%20%5B36.027879999999996%2C%20-79.77019%5D%2C%20%5B29.771082%2C%20-95.20222700000001%5D%2C%20%5B32.754740000000005%2C%20-117.23561000000001%5D%2C%20%5B37.43031%2C%20-122.10368000000001%5D%2C%20%5B41.68933%2C%20-83.51687%5D%2C%20%5B33.602759999999996%2C%20-112.00963999999999%5D%2C%20%5B31.688035%2C%20-86.749538%5D%2C%20%5B28.546979999999998%2C%20-81.26572%5D%2C%20%5B37.776925%2C%20-121.97521499999999%5D%2C%20%5B39.10047%2C%20-121.08498300000001%5D%2C%20%5B30.303122%2C%20-85.826532%5D%2C%20%5B40.82933%2C%20-73.01383%5D%2C%20%5B38.222137%2C%20-121.273224%5D%2C%20%5B39.559172%2C%20-119.82653%5D%2C%20%5B29.973840000000003%2C%20-90.08008000000001%5D%2C%20%5B39.644261%2C%20-84.163137%5D%2C%20%5B35.2364%2C%20-80.85779000000001%5D%2C%20%5B44.287332%2C%20-117.219103%5D%2C%20%5B25.685157999999998%2C%20-80.419893%5D%2C%20%5B34.08644%2C%20-118.30304%5D%2C%20%5B30.280766999999997%2C%20-97.754391%5D%2C%20%5B38.589687%2C%20-78.728185%5D%2C%20%5B36.210883%2C%20-119.242397%5D%2C%20%5B34.0304%2C%20-117.6234%5D%2C%20%5B43.365851%2C%20-71.93112099999999%5D%2C%20%5B35.163158%2C%20-80.739818%5D%2C%20%5B41.81928%2C%20-71.38756%5D%2C%20%5B33.8738%2C%20-118.10101999999999%5D%2C%20%5B30.304552%2C%20-97.795218%5D%2C%20%5B35.28867%2C%20-80.7298%5D%2C%20%5B33.92737%2C%20-84.35776%5D%2C%20%5B30.421234000000002%2C%20-87.316263%5D%2C%20%5B39.69661%2C%20-104.9219%5D%2C%20%5B43.17565%2C%20-77.58296%5D%2C%20%5B33.585229999999996%2C%20-117.6718%5D%2C%20%5B43.435639%2C%20-123.40226000000001%5D%2C%20%5B34.39846%2C%20-118.46193000000001%5D%2C%20%5B38.760672%2C%20-121.260074%5D%2C%20%5B34.16695%2C%20-118.29989099999999%5D%2C%20%5B34.13841%2C%20-118.27656999999999%5D%2C%20%5B44.965626%2C%20-93.268671%5D%2C%20%5B32.759640000000005%2C%20-97.02034%5D%2C%20%5B44.9292%2C%20-123.22845%5D%2C%20%5B38.290935%2C%20-122.034745%5D%2C%20%5B47.463229999999996%2C%20-122.28335%5D%2C%20%5B35.24539%2C%20-81.0059%5D%2C%20%5B25.748667%2C%20-80.367903%5D%2C%20%5B47.61246%2C%20-122.32801%5D%2C%20%5B40.96477%2C%20-76.84477%5D%2C%20%5B42.642815999999996%2C%20-83.23852%5D%2C%20%5B36.05539%2C%20-79.9027%5D%2C%20%5B38.84261%2C%20-76.86494%5D%2C%20%5B45.678957000000004%2C%20-121.288947%5D%2C%20%5B39.63541%2C%20-104.90133%5D%2C%20%5B29.8346%2C%20-95.38534%5D%2C%20%5B34.18606%2C%20-118.47396%5D%2C%20%5B38.263853000000005%2C%20-122.65898200000001%5D%2C%20%5B40.72875%2C%20-73.90911%5D%2C%20%5B29.68073%2C%20-95.37089%5D%2C%20%5B25.748716%2C%20-80.33578399999999%5D%2C%20%5B40.522881%2C%20-111.89098%5D%2C%20%5B40.83833%2C%20-73.88243%5D%2C%20%5B39.90018%2C%20-74.84403%5D%2C%20%5B29.41784%2C%20-98.657659%5D%2C%20%5B39.365429999999996%2C%20-76.7474%5D%2C%20%5B41.83267%2C%20-87.69532%5D%2C%20%5B34.882162%2C%20-114.756603%5D%2C%20%5B41.81904%2C%20-87.73663%5D%2C%20%5B42.49175%2C%20-83.30685%5D%2C%20%5B33.785509999999995%2C%20-117.87981%5D%2C%20%5B34.08166%2C%20-117.704204%5D%2C%20%5B43.06951%2C%20-76.23524%5D%2C%20%5B38.53825%2C%20-121.47365%5D%2C%20%5B34.129725%2C%20-117.30421100000001%5D%2C%20%5B40.82248%2C%20-74.12548000000001%5D%2C%20%5B38.437181%2C%20-122.718154%5D%2C%20%5B26.89902%2C%20-82.00631%5D%2C%20%5B35.28078%2C%20-81.54887%5D%2C%20%5B33.76804%2C%20-117.192144%5D%2C%20%5B37.863062%2C%20-122.57753500000001%5D%2C%20%5B34.179140000000004%2C%20-118.16592%5D%2C%20%5B33.854001000000004%2C%20-117.959244%5D%2C%20%5B33.93777%2C%20-117.5558%5D%2C%20%5B41.539229999999996%2C%20-81.63096999999999%5D%2C%20%5B37.510699%2C%20-120.87976299999998%5D%2C%20%5B37.979938%2C%20-122.31705900000001%5D%2C%20%5B34.7469%2C%20-92.36704%5D%2C%20%5B29.138693%2C%20-82.443201%5D%2C%20%5B36.090523%2C%20-86.802518%5D%2C%20%5B34.873104999999995%2C%20-92.121101%5D%2C%20%5B42.44652%2C%20-83.20545%5D%2C%20%5B39.223459999999996%2C%20-84.45481600000001%5D%2C%20%5B39.900221%2C%20-104.988178%5D%2C%20%5B33.912308%2C%20-118.1413%5D%2C%20%5B33.904357%2C%20-117.460408%5D%2C%20%5B39.74631%2C%20-84.30963%5D%2C%20%5B43.09649%2C%20-83.75676%5D%2C%20%5B34.96387%2C%20-120.42048100000001%5D%2C%20%5B39.273592%2C%20-120.717401%5D%2C%20%5B29.99871%2C%20-90.17716999999999%5D%2C%20%5B40.732572999999995%2C%20-123.02203700000001%5D%2C%20%5B43.18271%2C%20-83.76898%5D%2C%20%5B33.206195%2C%20-117.362447%5D%2C%20%5B33.645109999999995%2C%20-112.00153%5D%2C%20%5B33.860809%2C%20-117.53745500000001%5D%2C%20%5B34.139070000000004%2C%20-84.52045%5D%2C%20%5B39.634570000000004%2C%20-86.20558%5D%2C%20%5B28.511734000000004%2C%20-81.401176%5D%2C%20%5B34.049366%2C%20-118.22236399999998%5D%2C%20%5B34.081621999999996%2C%20-117.71925300000001%5D%2C%20%5B45.556129999999996%2C%20-122.67946%5D%2C%20%5B38.825837%2C%20-104.835502%5D%2C%20%5B41.903999999999996%2C%20-88.03976999999999%5D%2C%20%5B37.973471999999994%2C%20-122.30191599999999%5D%2C%20%5B40.66444%2C%20-73.84532%5D%2C%20%5B30.019610999999998%2C%20-95.376502%5D%2C%20%5B39.308485%2C%20-120.54154%5D%2C%20%5B33.11547%2C%20-117.0988%5D%2C%20%5B30.314390000000003%2C%20-81.657125%5D%2C%20%5B33.85864%2C%20-118.03329%5D%2C%20%5B35.273740000000004%2C%20-80.96728399999999%5D%2C%20%5B34.110009999999996%2C%20-118.33386000000002%5D%2C%20%5B38.97064%2C%20-78.429604%5D%2C%20%5B34.864377000000005%2C%20-118.16713700000001%5D%2C%20%5B32.677279999999996%2C%20-97.0703%5D%2C%20%5B34.031897%2C%20-118.41816399999999%5D%2C%20%5B40.81947%2C%20-74.13573000000001%5D%2C%20%5B29.65577%2C%20-95.28877%5D%2C%20%5B45.11919%2C%20-93.20574%5D%2C%20%5B39.62829%2C%20-84.22606%5D%2C%20%5B38.924063000000004%2C%20-77.210566%5D%2C%20%5B34.282668%2C%20-118.788137%5D%2C%20%5B37.70262%2C%20-122.11261999999999%5D%2C%20%5B39.24739%2C%20-76.68415999999999%5D%2C%20%5B41.58876%2C%20-73.9078%5D%2C%20%5B43.182879%2C%20-71.574077%5D%2C%20%5B34.084817%2C%20-117.208739%5D%2C%20%5B39.698485%2C%20-110.867774%5D%2C%20%5B34.26838%2C%20-118.43548%5D%2C%20%5B37.569342999999996%2C%20-120.11936999999999%5D%2C%20%5B43.16468%2C%20-77.66688%5D%2C%20%5B33.667699%2C%20-84.415887%5D%2C%20%5B39.973259999999996%2C%20-83.00647%5D%2C%20%5B33.523825%2C%20-111.891535%5D%2C%20%5B44.922505%2C%20-93.27496500000001%5D%2C%20%5B40.974114%2C%20-76.800315%5D%2C%20%5B33.879870000000004%2C%20-117.55181999999999%5D%2C%20%5B37.99047%2C%20-121.25402%5D%2C%20%5B33.828449%2C%20-117.92821799999999%5D%2C%20%5B37.710659%2C%20-104.90941799999999%5D%2C%20%5B35.37312%2C%20-118.967293%5D%2C%20%5B33.59172%2C%20-83.62608%5D%2C%20%5B41.474552%2C%20-81.711522%5D%2C%20%5B45.50837%2C%20-122.77856000000001%5D%2C%20%5B40.75699%2C%20-74.0542%5D%2C%20%5B38.498121999999995%2C%20-121.409031%5D%2C%20%5B34.03119%2C%20-118.03068%5D%2C%20%5B30.42073%2C%20-84.22889%5D%2C%20%5B35.15317%2C%20-90.144442%5D%2C%20%5B42.23356%2C%20-71.12218%5D%2C%20%5B33.182605%2C%20-117.300156%5D%2C%20%5B28.645965999999998%2C%20-81.388267%5D%2C%20%5B48.03133%2C%20-122.75656000000001%5D%2C%20%5B32.337485%2C%20-111.04783400000001%5D%2C%20%5B35.024473%2C%20-85.297892%5D%2C%20%5B41.550024%2C%20-90.52141%5D%2C%20%5B42.90027%2C%20-73.58556%5D%2C%20%5B36.016314%2C%20-94.192334%5D%2C%20%5B39.35257%2C%20-123.32137%5D%2C%20%5B37.550670000000004%2C%20-77.4458%5D%2C%20%5B36.279913%2C%20-86.802603%5D%2C%20%5B38.610015999999995%2C%20-121.345941%5D%2C%20%5B37.76676%2C%20-121.3349%5D%2C%20%5B38.89168%2C%20-76.95625%5D%2C%20%5B43.016892%2C%20-78.25680600000001%5D%2C%20%5B38.155343%2C%20-121.313194%5D%2C%20%5B42.98062%2C%20-85.6048%5D%2C%20%5B37.741409999999995%2C%20-121.58025%5D%2C%20%5B30.533165000000004%2C%20-87.26840899999999%5D%2C%20%5B35.649339000000005%2C%20-119.22053500000001%5D%2C%20%5B36.1305%2C%20-86.72765%5D%2C%20%5B40.610659999999996%2C%20-74.03171999999999%5D%2C%20%5B34.135490000000004%2C%20-117.584767%5D%2C%20%5B33.98746%2C%20-118.398728%5D%2C%20%5B39.92423%2C%20-86.1934%5D%2C%20%5B41.71715%2C%20-112.22091999999999%5D%2C%20%5B34.063922999999996%2C%20-117.268293%5D%2C%20%5B40.76876%2C%20-73.88205%5D%2C%20%5B33.51079%2C%20-86.79238000000001%5D%2C%20%5B39.316533%2C%20-76.744805%5D%2C%20%5B33.36931%2C%20-117.251028%5D%2C%20%5B38.249362%2C%20-122.63238700000001%5D%2C%20%5B36.566802%2C%20-121.183544%5D%2C%20%5B32.813393%2C%20-97.314374%5D%2C%20%5B37.60877%2C%20-122.06828%5D%2C%20%5B43.16279%2C%20-77.60728399999999%5D%2C%20%5B35.219570000000004%2C%20-80.82481%5D%2C%20%5B39.943670000000004%2C%20-75.19236%5D%2C%20%5B45.52301%2C%20-122.66543%5D%2C%20%5B28.569049%2C%20-81.22719599999999%5D%2C%20%5B39.344362%2C%20-77.07709799999999%5D%2C%20%5B29.77041%2C%20-95.45594%5D%2C%20%5B26.13501%2C%20-80.16923%5D%2C%20%5B43.56304%2C%20-93.35925999999999%5D%2C%20%5B29.55762%2C%20-98.34527%5D%2C%20%5B35.006953%2C%20-117.839399%5D%2C%20%5B37.578803%2C%20-122.326291%5D%2C%20%5B26.30198%2C%20-80.24371%5D%2C%20%5B41.611408000000004%2C%20-87.477473%5D%2C%20%5B36.36333%2C%20-103.005843%5D%2C%20%5B45.516212%2C%20-122.66723999999999%5D%2C%20%5B34.064859000000006%2C%20-118.245323%5D%2C%20%5B39.68672%2C%20-79.09309%5D%2C%20%5B43.08619%2C%20-88.0575%5D%2C%20%5B34.0287%2C%20-118.00293%5D%2C%20%5B40.72495%2C%20-112.03967%5D%2C%20%5B33.461726%2C%20-112.117291%5D%2C%20%5B40.866213%2C%20-73.909104%5D%2C%20%5B40.067921000000005%2C%20-76.30340600000001%5D%2C%20%5B45.372839%2C%20-122.739259%5D%2C%20%5B36.139534000000005%2C%20-86.700338%5D%2C%20%5B38.01967%2C%20-121.25825%5D%2C%20%5B37.53584%2C%20-122.07437%5D%2C%20%5B41.541740000000004%2C%20-112.06693%5D%2C%20%5B33.042631%2C%20-80.215655%5D%2C%20%5B33.744927000000004%2C%20-84.39648199999999%5D%2C%20%5B30.447429%2C%20-86.638487%5D%2C%20%5B36.844698%2C%20-119.77478899999998%5D%2C%20%5B44.40242%2C%20-88.909522%5D%2C%20%5B34.02899%2C%20-118.01313799999998%5D%2C%20%5B37.364358%2C%20-121.9018%5D%2C%20%5B36.06512%2C%20-79.38107%5D%2C%20%5B30.3164%2C%20-81.52484%5D%2C%20%5B39.21982%2C%20-76.83818000000001%5D%2C%20%5B44.26737%2C%20-121.15761%5D%2C%20%5B37.597840999999995%2C%20-121.94690800000001%5D%2C%20%5B44.697691999999996%2C%20-93.28814399999999%5D%2C%20%5B44.67368%2C%20-117.99531%5D%2C%20%5B25.925542%2C%20-80.29089499999999%5D%2C%20%5B42.31913%2C%20-83.16642%5D%2C%20%5B33.00243%2C%20-117.25781%5D%2C%20%5B42.1687%2C%20-71.51234000000001%5D%2C%20%5B37.790294%2C%20-121.29106599999999%5D%2C%20%5B39.140714%2C%20-77.212396%5D%2C%20%5B41.87604%2C%20-87.66665%5D%2C%20%5B34.45187%2C%20-118.61508%5D%2C%20%5B39.802040000000005%2C%20-75.45091%5D%2C%20%5B33.745059999999995%2C%20-84.42693%5D%2C%20%5B33.66283%2C%20-117.78948000000001%5D%2C%20%5B44.562081%2C%20-123.06164799999999%5D%2C%20%5B40.180335%2C%20-75.086527%5D%2C%20%5B45.03198%2C%20-84.68978%5D%2C%20%5B28.39848%2C%20-81.52599000000001%5D%2C%20%5B42.2062%2C%20-121.81629%5D%2C%20%5B33.611758%2C%20-83.81949300000001%5D%2C%20%5B33.969842%2C%20-79.749162%5D%2C%20%5B42.31912%2C%20-71.19609%5D%2C%20%5B26.083810999999997%2C%20-80.203385%5D%2C%20%5B43.22575%2C%20-123.36052%5D%2C%20%5B42.370129999999996%2C%20-120.29708000000001%5D%2C%20%5B34.32366%2C%20-118.46422%5D%2C%20%5B47.51195%2C%20-121.85271999999999%5D%2C%20%5B41.244471000000004%2C%20-111.99551699999999%5D%2C%20%5B34.230339%2C%20-79.684848%5D%2C%20%5B40.931518%2C%20-73.856628%5D%2C%20%5B26.106788%2C%20-80.168791%5D%2C%20%5B39.115538%2C%20-76.775834%5D%2C%20%5B30.18695%2C%20-81.51387%5D%2C%20%5B27.9719%2C%20-82.79596%5D%2C%20%5B39.03855%2C%20-84.59148%5D%2C%20%5B33.77664%2C%20-117.90086000000001%5D%2C%20%5B40.61538%2C%20-74.25367%5D%2C%20%5B48.02383%2C%20-123.01123%5D%2C%20%5B48.37975%2C%20-122.33471999999999%5D%2C%20%5B41.387988%2C%20-83.041825%5D%2C%20%5B35.69205%2C%20-93.81409000000001%5D%2C%20%5B41.59148%2C%20-90.37221%5D%2C%20%5B37.26645%2C%20-121.94846000000001%5D%2C%20%5B38.524871999999995%2C%20-122.78906%5D%2C%20%5B38.276182%2C%20-122.675422%5D%2C%20%5B34.046958000000004%2C%20-118.446773%5D%2C%20%5B28.184244%2C%20-81.303922%5D%2C%20%5B34.020790000000005%2C%20-118.19448999999999%5D%2C%20%5B43.079056%2C%20-77.451709%5D%2C%20%5B42.192088%2C%20-121.59571499999998%5D%2C%20%5B32.791106%2C%20-96.750644%5D%2C%20%5B41.73069%2C%20-72.75434%5D%2C%20%5B25.657228%2C%20-80.388002%5D%2C%20%5B34.49944%2C%20-82.99764%5D%2C%20%5B26.363978999999997%2C%20-80.11963%5D%2C%20%5B42.78318%2C%20-86.07191999999999%5D%2C%20%5B47.306422999999995%2C%20-122.577651%5D%2C%20%5B45.497409999999995%2C%20-122.57874%5D%2C%20%5B37.992591%2C%20-122.039625%5D%2C%20%5B38.933326%2C%20-94.674865%5D%2C%20%5B37.431156%2C%20-77.431318%5D%2C%20%5B40.84887%2C%20-74.1781%5D%2C%20%5B34.037432%2C%20-118.29876599999999%5D%2C%20%5B42.32589%2C%20-83.64296%5D%2C%20%5B41.39355%2C%20-73.60044%5D%2C%20%5B35.866828999999996%2C%20-78.71815600000001%5D%2C%20%5B29.78394%2C%20-95.46016%5D%2C%20%5B35.77814%2C%20-78.70689%5D%2C%20%5B39.203294%2C%20-121.16956%5D%2C%20%5B33.67771%2C%20-84.41282%5D%2C%20%5B26.071017%2C%20-80.166667%5D%2C%20%5B25.78203%2C%20-80.30909%5D%2C%20%5B43.619393%2C%20-116.35858%5D%2C%20%5B34.1287%2C%20-116.39523%5D%2C%20%5B39.321458%2C%20-76.506524%5D%2C%20%5B28.876140000000003%2C%20-81.28299%5D%2C%20%5B28.69786%2C%20-81.31949%5D%2C%20%5B40.23437%2C%20-74.0774%5D%2C%20%5B38.776452%2C%20-120.26650500000001%5D%2C%20%5B33.868328999999996%2C%20-117.72770600000001%5D%2C%20%5B40.71151%2C%20-74.00263000000001%5D%2C%20%5B33.654920000000004%2C%20-84.36503%5D%2C%20%5B43.435062%2C%20-76.56387%5D%2C%20%5B33.81633%2C%20-117.91601000000001%5D%2C%20%5B38.004791%2C%20-121.841338%5D%2C%20%5B29.991871000000003%2C%20-90.05880400000001%5D%2C%20%5B33.876053000000006%2C%20-117.92434399999999%5D%2C%20%5B30.260071000000003%2C%20-97.736168%5D%2C%20%5B38.92326%2C%20-76.93093%5D%2C%20%5B43.29857%2C%20-122.93491499999999%5D%2C%20%5B34.509383%2C%20-118.11211200000001%5D%2C%20%5B34.27816%2C%20-118.50126999999999%5D%2C%20%5B33.68346%2C%20-85.26639%5D%2C%20%5B43.36165%2C%20-73.7033%5D%2C%20%5B41.90522%2C%20-87.98835%5D%2C%20%5B38.330678000000006%2C%20-77.50020400000001%5D%2C%20%5B25.861953%2C%20-80.208225%5D%2C%20%5B40.791774%2C%20-74.085992%5D%2C%20%5B39.812090000000005%2C%20-111.50572%5D%2C%20%5B42.182865%2C%20-70.92172099999999%5D%2C%20%5B25.928795%2C%20-80.211691%5D%2C%20%5B41.7643%2C%20-73.1181%5D%2C%20%5B34.08139%2C%20-117.71921%5D%2C%20%5B42.66751%2C%20-71.196%5D%2C%20%5B27.94176%2C%20-82.54831999999999%5D%2C%20%5B34.145261%2C%20-118.20773%5D%2C%20%5B34.174184999999994%2C%20-118.85034399999999%5D%2C%20%5B41.768029999999996%2C%20-87.90495%5D%2C%20%5B32.714659999999995%2C%20-117.12652%5D%2C%20%5B30.48145%2C%20-84.30561%5D%2C%20%5B39.907809%2C%20-122.09389099999999%5D%2C%20%5B32.83931%2C%20-97.277%5D%2C%20%5B32.898509999999995%2C%20-96.71481%5D%2C%20%5B27.903817%2C%20-82.635302%5D%2C%20%5B38.8187%2C%20-76.91388%5D%2C%20%5B28.092983%2C%20-82.502217%5D%2C%20%5B33.88872%2C%20-118.03716999999999%5D%2C%20%5B34.07785%2C%20-118.28493999999999%5D%2C%20%5B37.340695000000004%2C%20-79.997618%5D%2C%20%5B38.293684000000006%2C%20-122.489072%5D%2C%20%5B32.617134%2C%20-117.09133700000001%5D%2C%20%5B35.09845%2C%20-80.93214%5D%2C%20%5B33.924932%2C%20-118.254244%5D%2C%20%5B41.293434999999995%2C%20-111.96898%5D%2C%20%5B35.420790000000004%2C%20-118.967699%5D%2C%20%5B30.393168%2C%20-91.110607%5D%2C%20%5B34.16345%2C%20-118.62635%5D%2C%20%5B35.23831%2C%20-80.89713%5D%2C%20%5B44.9489%2C%20-92.92586%5D%2C%20%5B47.22997%2C%20-122.44698000000001%5D%2C%20%5B33.903079%2C%20-84.12154%5D%2C%20%5B34.027801000000004%2C%20-118.036841%5D%2C%20%5B26.10304%2C%20-80.16926%5D%2C%20%5B32.8375%2C%20-97.10735%5D%2C%20%5B41.579082%2C%20-87.25384100000001%5D%2C%20%5B45.547829%2C%20-122.560674%5D%2C%20%5B40.488676%2C%20-123.62937600000001%5D%2C%20%5B34.165503%2C%20-118.492347%5D%2C%20%5B44.98748%2C%20-93.08896999999999%5D%2C%20%5B31.777403000000003%2C%20-106.442577%5D%2C%20%5B33.876490000000004%2C%20-118.09591999999999%5D%2C%20%5B34.027609999999996%2C%20-117.57053%5D%2C%20%5B33.490949%2C%20-112.112975%5D%2C%20%5B41.29482%2C%20-74.02824%5D%2C%20%5B38.970943%2C%20-94.776555%5D%2C%20%5B36.83352%2C%20-76.1333%5D%2C%20%5B39.717282%2C%20-86.124905%5D%2C%20%5B30.88737%2C%20-85.36752%5D%2C%20%5B30.163412%2C%20-97.691288%5D%2C%20%5B44.86217%2C%20-93.2195%5D%2C%20%5B37.961465999999994%2C%20-122.50767900000001%5D%2C%20%5B36.15863%2C%20-95.96713000000001%5D%2C%20%5B26.165964000000002%2C%20-80.158568%5D%2C%20%5B38.65795%2C%20-121.36358999999999%5D%2C%20%5B34.017888%2C%20-117.534624%5D%2C%20%5B26.34587%2C%20-80.118%5D%2C%20%5B37.026468%2C%20-121.56901%5D%2C%20%5B38.057681%2C%20-121.25945%5D%2C%20%5B42.6848%2C%20-124.4272%5D%2C%20%5B38.712706%2C%20-120.83846100000001%5D%2C%20%5B43.87593%2C%20-95.11322%5D%2C%20%5B35.80362%2C%20-78.20289%5D%2C%20%5B41.48468%2C%20-87.3212%5D%2C%20%5B38.223592%2C%20-122.61180900000001%5D%2C%20%5B37.703594%2C%20-121.075043%5D%2C%20%5B25.788339999999998%2C%20-80.20831%5D%2C%20%5B41.082428%2C%20-74.081051%5D%2C%20%5B41.371978000000006%2C%20-71.986871%5D%2C%20%5B29.723891%2C%20-82.257853%5D%2C%20%5B41.342622%2C%20-72.339794%5D%2C%20%5B28.037057%2C%20-82.079819%5D%2C%20%5B33.37815%2C%20-111.96858999999999%5D%2C%20%5B39.758221%2C%20-121.852166%5D%2C%20%5B39.052224%2C%20-120.998383%5D%2C%20%5B40.789763%2C%20-103.11365500000001%5D%2C%20%5B38.023340000000005%2C%20-122.10671%5D%2C%20%5B32.748559%2C%20-96.809794%5D%2C%20%5B37.360464%2C%20-120.72283200000001%5D%2C%20%5B32.88152%2C%20-79.93468%5D%2C%20%5B37.784209999999995%2C%20-122.43456%5D%2C%20%5B25.932205%2C%20-80.245094%5D%2C%20%5B33.43586%2C%20-112.10825%5D%2C%20%5B29.708737%2C%20-95.507683%5D%2C%20%5B28.049039%2C%20-82.713472%5D%2C%20%5B38.806382%2C%20-75.737181%5D%2C%20%5B42.589890000000004%2C%20-89.3995%5D%2C%20%5B37.8269%2C%20-122.26725%5D%2C%20%5B34.023726%2C%20-118.037397%5D%2C%20%5B42.76585%2C%20-123.33828999999999%5D%2C%20%5B35.01547%2C%20-85.25375%5D%2C%20%5B28.07279%2C%20-82.4548%5D%2C%20%5B35.00853%2C%20-85.1532%5D%2C%20%5B33.68742%2C%20-117.874054%5D%2C%20%5B33.8229%2C%20-84.49195%5D%2C%20%5B32.898509999999995%2C%20-96.71481%5D%2C%20%5B44.608090000000004%2C%20-121.95642%5D%2C%20%5B28.019424%2C%20-82.735302%5D%2C%20%5B44.18757%2C%20-93.25561%5D%2C%20%5B29.954909999999998%2C%20-95.28895%5D%2C%20%5B41.82498%2C%20-87.71865%5D%2C%20%5B41.983990000000006%2C%20-87.82336%5D%2C%20%5B34.27062%2C%20-109.645775%5D%2C%20%5B30.314390000000003%2C%20-89.82956%5D%2C%20%5B39.958643%2C%20-75.17144499999999%5D%2C%20%5B30.230446999999998%2C%20-97.934822%5D%2C%20%5B33.181574%2C%20-117.32688300000001%5D%2C%20%5B29.746856%2C%20-95.557703%5D%2C%20%5B42.033465%2C%20-123.722348%5D%2C%20%5B34.04012%2C%20-118.57928000000001%5D%2C%20%5B35.50107%2C%20-86.08979000000001%5D%2C%20%5B43.74986%2C%20-123.12161%5D%2C%20%5B46.06436%2C%20-92.90693%5D%2C%20%5B40.80966%2C%20-73.90284%5D%2C%20%5B43.987101%2C%20-121.106489%5D%2C%20%5B41.188751%2C%20-111.983179%5D%2C%20%5B38.26104%2C%20-85.73658%5D%2C%20%5B42.31913%2C%20-83.16642%5D%2C%20%5B39.15178%2C%20-76.68002%5D%2C%20%5B40.836490000000005%2C%20-73.87673000000001%5D%2C%20%5B30.39535%2C%20-91.05809%5D%2C%20%5B34.045381%2C%20-117.310832%5D%2C%20%5B38.554362%2C%20-77.34135699999999%5D%2C%20%5B34.26034%2C%20-118.43873%5D%2C%20%5B39.106809999999996%2C%20-94.58524%5D%2C%20%5B38.1567%2C%20-85.67144%5D%2C%20%5B42.18273%2C%20-122.66418999999999%5D%2C%20%5B26.057326999999997%2C%20-80.16233299999999%5D%2C%20%5B32.806194%2C%20-117.11360800000001%5D%2C%20%5B43.59867%2C%20-116.52635%5D%2C%20%5B39.94726%2C%20-104.98803999999998%5D%2C%20%5B32.791786%2C%20-96.737409%5D%2C%20%5B43.727740000000004%2C%20-70.3035%5D%2C%20%5B41.573809999999995%2C%20-73.77998000000001%5D%2C%20%5B35.984246999999996%2C%20-119.96320300000001%5D%2C%20%5B38.246559000000005%2C%20-122.41705300000001%5D%2C%20%5B36.218198%2C%20-86.803492%5D%2C%20%5B25.963024%2C%20-80.15508100000001%5D%2C%20%5B37.75848%2C%20-121.49223%5D%2C%20%5B37.465378%2C%20-122.290833%5D%2C%20%5B25.729794000000002%2C%20-80.257336%5D%2C%20%5B41.90412%2C%20-88.04294%5D%2C%20%5B34.131201000000004%2C%20-117.208082%5D%2C%20%5B32.757842%2C%20-117.20218200000001%5D%2C%20%5B41.22033%2C%20-73.25497%5D%2C%20%5B47.96747%2C%20-122.19863000000001%5D%2C%20%5B43.635373%2C%20-122.166595%5D%2C%20%5B41.78517%2C%20-74.72901%5D%2C%20%5B28.200155%2C%20-82.380648%5D%2C%20%5B26.19993%2C%20-80.29613%5D%2C%20%5B35.444644%2C%20-119.09088600000001%5D%2C%20%5B29.936290000000003%2C%20-95.381%5D%2C%20%5B36.1512%2C%20-86.85363000000001%5D%2C%20%5B34.029428%2C%20-117.32979499999999%5D%2C%20%5B33.879870000000004%2C%20-117.65541999999999%5D%2C%20%5B25.626145%2C%20-80.41645%5D%2C%20%5B47.97885%2C%20-122.10278000000001%5D%2C%20%5B35.29612%2C%20-118.91435%5D%2C%20%5B35.789409%2C%20-78.6971%5D%2C%20%5B44.48702%2C%20-121.19346999999999%5D%2C%20%5B37.710562%2C%20-121.452882%5D%2C%20%5B44.053705%2C%20-123.36093999999999%5D%2C%20%5B38.637218%2C%20-121.38308300000001%5D%2C%20%5B43.06787%2C%20-87.9208%5D%2C%20%5B37.41152%2C%20-122.07663000000001%5D%2C%20%5B45.556446%2C%20-118.78714%5D%2C%20%5B36.807688%2C%20-120.01652%5D%2C%20%5B45.58493%2C%20-92.99306999999999%5D%2C%20%5B42.42658%2C%20-123.108061%5D%2C%20%5B41.80038%2C%20-73.75769%5D%2C%20%5B37.427844%2C%20-113.235527%5D%2C%20%5B32.90894%2C%20-96.89251%5D%2C%20%5B27.727635999999997%2C%20-82.382858%5D%2C%20%5B39.447666%2C%20-120.214902%5D%2C%20%5B28.277038%2C%20-81.598109%5D%2C%20%5B40.85476%2C%20-73.91875999999999%5D%2C%20%5B33.853125%2C%20-118.28040700000001%5D%2C%20%5B47.407531%2C%20-122.29196999999999%5D%2C%20%5B34.03089%2C%20-118.19426000000001%5D%2C%20%5B37.463291%2C%20-122.145904%5D%2C%20%5B35.343064%2C%20-119.023436%5D%2C%20%5B47.637158%2C%20-122.186797%5D%2C%20%5B36.95394%2C%20-76.52911999999999%5D%2C%20%5B33.71715%2C%20-117.79135%5D%2C%20%5B44.874268%2C%20-93.079036%5D%2C%20%5B43.638221%2C%20-95.729166%5D%2C%20%5B43.070024%2C%20-86.219362%5D%2C%20%5B43.73046%2C%20-122.38501000000001%5D%2C%20%5B38.77064%2C%20-90.24265%5D%2C%20%5B25.761814%2C%20-80.338151%5D%2C%20%5B41.98234%2C%20-87.7926%5D%2C%20%5B40.09465%2C%20-75.36275%5D%2C%20%5B45.20438%2C%20-93.365523%5D%2C%20%5B33.958187%2C%20-81.231806%5D%2C%20%5B45.557643%2C%20-122.541379%5D%2C%20%5B36.507915999999994%2C%20-121.936109%5D%2C%20%5B34.355074%2C%20-117.371494%5D%2C%20%5B29.804959999999998%2C%20-95.45335%5D%2C%20%5B45.190543%2C%20-93.545395%5D%2C%20%5B40.78407%2C%20-73.43928000000001%5D%2C%20%5B39.97957%2C%20-77.23526%5D%2C%20%5B44.907173%2C%20-120.353923%5D%2C%20%5B34.13349%2C%20-117.90754%5D%2C%20%5B45.844102%2C%20-122.83474%5D%2C%20%5B33.987739000000005%2C%20-118.398953%5D%2C%20%5B45.29522%2C%20-116.35845%5D%2C%20%5B34.004412%2C%20-118.17311799999999%5D%2C%20%5B37.560606%2C%20-122.30273799999999%5D%2C%20%5B26.16219%2C%20-80.16230999999999%5D%2C%20%5B38.521218%2C%20-77.372047%5D%2C%20%5B25.884153%2C%20-80.35084%5D%2C%20%5B37.18196%2C%20-93.27662%5D%2C%20%5B40.52127%2C%20-111.89098%5D%2C%20%5B37.00666%2C%20-76.4005%5D%2C%20%5B41.19055%2C%20-111.97117%5D%2C%20%5B39.800145%2C%20-104.985532%5D%2C%20%5B33.8861%2C%20-118.26526000000001%5D%2C%20%5B41.79902%2C%20-88.27512%5D%2C%20%5B38.369494%2C%20-122.74379099999999%5D%2C%20%5B25.733105%2C%20-80.315919%5D%2C%20%5B34.470073%2C%20-119.77738000000001%5D%2C%20%5B28.344226000000003%2C%20-81.36269899999999%5D%2C%20%5B33.46215%2C%20-112.25683000000001%5D%2C%20%5B36.037690000000005%2C%20-79.82391%5D%2C%20%5B39.77636%2C%20-75.34151999999999%5D%2C%20%5B40.85024%2C%20-73.94506%5D%2C%20%5B45.276358%2C%20-122.77233000000001%5D%2C%20%5B38.41956%2C%20-122.7157%5D%2C%20%5B33.487612%2C%20-111.887978%5D%2C%20%5B34.24034%2C%20-111.32298999999999%5D%2C%20%5B33.840111%2C%20-117.249923%5D%2C%20%5B34.228375%2C%20-117.414552%5D%2C%20%5B40.680946%2C%20-111.93888999999999%5D%2C%20%5B32.855832%2C%20-96.648999%5D%2C%20%5B43.61953%2C%20-116.351918%5D%2C%20%5B41.78322%2C%20-87.63155%5D%2C%20%5B37.706179999999996%2C%20-122.11843%5D%2C%20%5B35.22364%2C%20-80.85395%5D%2C%20%5B34.07504%2C%20-118.46846000000001%5D%2C%20%5B38.81913%2C%20-76.91499%5D%2C%20%5B47.8171%2C%20-122.0675%5D%2C%20%5B34.071940000000005%2C%20-118.084391%5D%2C%20%5B37.390879999999996%2C%20-77.42755%5D%2C%20%5B29.84085%2C%20-95.542828%5D%2C%20%5B37.898081%2C%20-122.309198%5D%2C%20%5B34.242571000000005%2C%20-117.433108%5D%2C%20%5B28.49448%2C%20-81.39692%5D%2C%20%5B45.71263%2C%20-121.53243300000001%5D%2C%20%5B37.9511%2C%20-121.30568999999998%5D%2C%20%5B37.764753999999996%2C%20-121.38813300000001%5D%2C%20%5B32.558948%2C%20-117.06296%5D%2C%20%5B35.050971999999994%2C%20-89.110017%5D%2C%20%5B36.141528%2C%20-86.671234%5D%2C%20%5B31.739541%2C%20-106.324047%5D%2C%20%5B33.68572%2C%20-84.06567%5D%2C%20%5B25.563788%2C%20-80.334631%5D%2C%20%5B30.45147%2C%20-91.11693000000001%5D%2C%20%5B41.57432%2C%20-87.47536%5D%2C%20%5B37.76377%2C%20-121.96798000000001%5D%2C%20%5B40.66087%2C%20-73.56098%5D%2C%20%5B39.78696%2C%20-86.13484%5D%2C%20%5B41.721379999999996%2C%20-71.18369%5D%2C%20%5B43.127109999999995%2C%20-77.56534%5D%2C%20%5B33.92516%2C%20-117.88006000000001%5D%2C%20%5B44.008357000000004%2C%20-92.873059%5D%2C%20%5B41.00707%2C%20-73.647661%5D%2C%20%5B42.479501%2C%20-73.708428%5D%2C%20%5B25.924444%2C%20-80.30929%5D%2C%20%5B37.332991%2C%20-121.93816699999999%5D%2C%20%5B46.693063%2C%20-92.449961%5D%2C%20%5B25.880992000000003%2C%20-80.24292700000001%5D%2C%20%5B44.258381%2C%20-124.10922%5D%2C%20%5B35.092874%2C%20-118.899654%5D%2C%20%5B33.445964000000004%2C%20-111.891%5D%2C%20%5B43.878009999999996%2C%20-93.276833%5D%2C%20%5B41.01746%2C%20-73.71575%5D%2C%20%5B45.56397%2C%20-122.92584%5D%2C%20%5B42.168128%2C%20-88.067276%5D%2C%20%5B25.684034%2C%20-80.45904%5D%2C%20%5B43.89202%2C%20-92.66756%5D%2C%20%5B33.916332000000004%2C%20-118.370148%5D%2C%20%5B32.27664%2C%20-90.178258%5D%2C%20%5B37.99194%2C%20-122.12588999999998%5D%2C%20%5B40.80901%2C%20-73.19754%5D%2C%20%5B33.74858%2C%20-78.95886%5D%2C%20%5B40.244797%2C%20-78.84944499999999%5D%2C%20%5B38.430122%2C%20-121.488028%5D%2C%20%5B33.8286%2C%20-118.28725%5D%2C%20%5B37.23972%2C%20-76.6331%5D%2C%20%5B37.70078%2C%20-122.02651999999999%5D%2C%20%5B35.129869%2C%20-80.94304100000001%5D%2C%20%5B37.36187%2C%20-121.90348999999999%5D%2C%20%5B39.630035%2C%20-104.90527800000001%5D%2C%20%5B37.85185%2C%20-121.28288%5D%2C%20%5B34.066421999999996%2C%20-117.990881%5D%2C%20%5B36.91272%2C%20-76.26298%5D%2C%20%5B37.55458%2C%20-77.6655%5D%2C%20%5B34.204796%2C%20-118.85160900000001%5D%2C%20%5B33.950179%2C%20-118.089725%5D%2C%20%5B42.277594%2C%20-88.155664%5D%2C%20%5B32.861169%2C%20-96.902064%5D%2C%20%5B47.513399%2C%20-95.055296%5D%2C%20%5B45.97558%2C%20-94.33854000000001%5D%2C%20%5B42.74033%2C%20-73.911536%5D%2C%20%5B29.81845%2C%20-95.56383000000001%5D%2C%20%5B41.54017%2C%20-73.77216%5D%2C%20%5B38.469705%2C%20-121.41658100000001%5D%2C%20%5B40.05551%2C%20-112.3027%5D%2C%20%5B34.172117%2C%20-118.46771000000001%5D%2C%20%5B28.759356%2C%20-82.293203%5D%2C%20%5B25.926882%2C%20-80.207441%5D%2C%20%5B30.5218%2C%20-91.14527%5D%2C%20%5B42.987590999999995%2C%20-73.85294%5D%2C%20%5B28.252637%2C%20-81.462537%5D%2C%20%5B34.981359999999995%2C%20-81.86692%5D%2C%20%5B34.694179999999996%2C%20-111.74393%5D%2C%20%5B39.233759%2C%20-85.750608%5D%2C%20%5B44.097822%2C%20-123.15104099999999%5D%2C%20%5B32.997308000000004%2C%20-96.709002%5D%2C%20%5B37.487634%2C%20-122.206018%5D%2C%20%5B34.00325%2C%20-118.06505%5D%2C%20%5B35.486709999999995%2C%20-86.07122%5D%2C%20%5B33.814229%2C%20-118.171976%5D%2C%20%5B32.79168%2C%20-96.74289%5D%2C%20%5B34.13315%2C%20-117.229853%5D%2C%20%5B41.739351%2C%20-75.797313%5D%2C%20%5B41.96308%2C%20-87.7566%5D%2C%20%5B34.1347%2C%20-117.62911000000001%5D%2C%20%5B27.082214%2C%20-82.425551%5D%2C%20%5B34.169140000000006%2C%20-118.10562%5D%2C%20%5B30.362064%2C%20-97.69491500000001%5D%2C%20%5B43.689246999999995%2C%20-94.73428100000001%5D%2C%20%5B32.76386%2C%20-96.80524%5D%2C%20%5B37.33415%2C%20-122.046343%5D%2C%20%5B30.403376%2C%20-87.341876%5D%2C%20%5B47.97067%2C%20-117.34957%5D%2C%20%5B38.650966%2C%20-121.37125%5D%2C%20%5B45.57185%2C%20-94.20575%5D%2C%20%5B32.930440000000004%2C%20-96.75804000000001%5D%2C%20%5B41.65617%2C%20-83.55783000000001%5D%2C%20%5B35.265225%2C%20-80.881455%5D%2C%20%5B39.464743%2C%20-121.745943%5D%2C%20%5B38.879020000000004%2C%20-77.25445%5D%2C%20%5B44.06219%2C%20-123.04913%5D%2C%20%5B34.880520000000004%2C%20-82.2054%5D%2C%20%5B37.762809999999995%2C%20-121.43038899999999%5D%2C%20%5B30.314062%2C%20-81.659122%5D%2C%20%5B33.542759999999994%2C%20-112.11243999999999%5D%2C%20%5B36.11898%2C%20-86.701189%5D%2C%20%5B41.80896%2C%20-88.11726999999999%5D%2C%20%5B38.70238%2C%20-90.45031999999999%5D%2C%20%5B45.108909999999995%2C%20-93.39144%5D%2C%20%5B33.941178%2C%20-118.09671100000001%5D%2C%20%5B34.273883000000005%2C%20-82.376464%5D%2C%20%5B37.652575%2C%20-77.61144200000001%5D%2C%20%5B32.312968%2C%20-86.345447%5D%2C%20%5B34.119658%2C%20-117.80720500000001%5D%2C%20%5B34.128658%2C%20-118.347027%5D%2C%20%5B37.554494%2C%20-77.44613100000001%5D%2C%20%5B44.269044%2C%20-121.177523%5D%2C%20%5B33.887399%2C%20-117.30206899999999%5D%2C%20%5B42.023492%2C%20-88.31205%5D%2C%20%5B36.84572%2C%20-76.1824%5D%2C%20%5B35.969671999999996%2C%20-79.891487%5D%2C%20%5B38.558496000000005%2C%20-121.382931%5D%2C%20%5B39.81222%2C%20-104.98281999999999%5D%2C%20%5B45.58486%2C%20-122.67958999999999%5D%2C%20%5B39.858113%2C%20-75.099158%5D%2C%20%5B39.27762%2C%20-76.60628%5D%2C%20%5B26.17284%2C%20-80.8793%5D%2C%20%5B32.870092%2C%20-117.24224%5D%2C%20%5B30.507127%2C%20-87.206687%5D%2C%20%5B34.02483%2C%20-84.32225%5D%2C%20%5B40.766605%2C%20-73.89590600000001%5D%2C%20%5B40.95117%2C%20-73.85305100000001%5D%2C%20%5B35.956975%2C%20-82.558897%5D%2C%20%5B25.910063%2C%20-80.210076%5D%2C%20%5B34.126196%2C%20-117.916106%5D%2C%20%5B38.11829%2C%20-79.06515999999999%5D%2C%20%5B41.22286%2C%20-95.98183%5D%2C%20%5B38.112401%2C%20-78.371526%5D%2C%20%5B40.751948999999996%2C%20-122.32054299999999%5D%2C%20%5B33.738729%2C%20-117.091916%5D%2C%20%5B33.87989%2C%20-117.60745%5D%2C%20%5B40.603524%2C%20-74.315885%5D%2C%20%5B38.865949%2C%20-77.056768%5D%2C%20%5B32.812773%2C%20-96.806749%5D%2C%20%5B34.1607%2C%20-118.38095%5D%2C%20%5B29.777526%2C%20-95.56303%5D%2C%20%5B37.377356%2C%20-121.94543999999999%5D%2C%20%5B46.917825%2C%20-113.43895400000001%5D%2C%20%5B44.65207%2C%20-117.57399%5D%2C%20%5B32.769295%2C%20-96.682774%5D%2C%20%5B42.163235%2C%20-123.64679699999999%5D%2C%20%5B43.220054%2C%20-75.462477%5D%2C%20%5B40.12898%2C%20-74.69447%5D%2C%20%5B39.445906%2C%20-87.243643%5D%2C%20%5B37.821591999999995%2C%20-121.993144%5D%2C%20%5B37.33388%2C%20-122.04951000000001%5D%2C%20%5B38.189890000000005%2C%20-85.73823%5D%2C%20%5B39.098611%2C%20-94.603613%5D%2C%20%5B32.924068%2C%20-96.842111%5D%2C%20%5B44.960335%2C%20-93.269194%5D%2C%20%5B48.177999%2C%20-122.19398000000001%5D%2C%20%5B34.892520000000005%2C%20-82.28988000000001%5D%2C%20%5B40.88586%2C%20-111.89675%5D%2C%20%5B39.779990000000005%2C%20-104.9519%5D%2C%20%5B41.9737%2C%20-88.1503%5D%2C%20%5B44.388574%2C%20-121.18815500000001%5D%2C%20%5B33.466912%2C%20-117.66986100000001%5D%2C%20%5B30.3486%2C%20-97.55924%5D%2C%20%5B34.28145%2C%20-118.716733%5D%2C%20%5B33.557771%2C%20-117.19715900000001%5D%2C%20%5B39.09669%2C%20-94.59546999999999%5D%2C%20%5B38.185990000000004%2C%20-121.40216000000001%5D%2C%20%5B36.609918%2C%20-119.304818%5D%2C%20%5B38.103756%2C%20-122.229802%5D%2C%20%5B39.187509999999996%2C%20-76.75839%5D%2C%20%5B42.14798%2C%20-71.20057%5D%2C%20%5B34.249376%2C%20-117.442305%5D%2C%20%5B33.984286%2C%20-117.842712%5D%2C%20%5B44.235440000000004%2C%20-121.46726000000001%5D%2C%20%5B34.145468%2C%20-117.29427199999999%5D%2C%20%5B44.564040000000006%2C%20-123.19836000000001%5D%2C%20%5B34.146505%2C%20-118.36995%5D%2C%20%5B40.286615999999995%2C%20-75.397103%5D%2C%20%5B33.417629999999996%2C%20-111.89116999999999%5D%2C%20%5B29.784470000000002%2C%20-95.58766999999999%5D%2C%20%5B37.08569%2C%20-121.59746000000001%5D%2C%20%5B45.07457%2C%20-93.28657%5D%2C%20%5B36.042590000000004%2C%20-86.6063%5D%2C%20%5B33.881332%2C%20-117.618981%5D%2C%20%5B33.77385%2C%20-117.99268000000001%5D%2C%20%5B32.14867%2C%20-110.97757%5D%2C%20%5B40.66527%2C%20-73.8021%5D%2C%20%5B36.140588%2C%20-86.723102%5D%2C%20%5B32.435207%2C%20-93.76308399999999%5D%2C%20%5B25.789845%2C%20-80.336905%5D%2C%20%5B38.961999%2C%20-77.187339%5D%2C%20%5B40.562671%2C%20-111.89887399999999%5D%2C%20%5B38.310157000000004%2C%20-122.497584%5D%2C%20%5B35.148790000000005%2C%20-80.89699%5D%2C%20%5B26.01657%2C%20-80.16736999999999%5D%2C%20%5B38.978451%2C%20-76.874143%5D%2C%20%5B45.74515%2C%20-122.66118%5D%2C%20%5B34.186451%2C%20-79.81079799999999%5D%2C%20%5B33.92321%2C%20-118.20573%5D%2C%20%5B35.19469%2C%20-80.76642%5D%2C%20%5B25.97053%2C%20-80.16575999999999%5D%2C%20%5B39.659006%2C%20-104.921158%5D%2C%20%5B25.796851999999998%2C%20-80.353022%5D%2C%20%5B36.976139%2C%20-121.90669399999999%5D%2C%20%5B41.160761%2C%20-74.184783%5D%2C%20%5B41.031089%2C%20-111.94763%5D%2C%20%5B35.03161%2C%20-80.96271999999999%5D%2C%20%5B33.86146%2C%20-84.29186999999999%5D%2C%20%5B42.0585%2C%20-71.0606%5D%2C%20%5B28.54955%2C%20-81.382266%5D%2C%20%5B28.382377%2C%20-82.31956%5D%2C%20%5B45.038323999999996%2C%20-120.717104%5D%2C%20%5B30.548111%2C%20-84.271843%5D%2C%20%5B42.446895%2C%20-87.958449%5D%2C%20%5B33.862817%2C%20-118.199257%5D%2C%20%5B38.819835999999995%2C%20-77.15169300000001%5D%2C%20%5B38.610201%2C%20-121.364522%5D%2C%20%5B30.19145%2C%20-81.69124000000001%5D%2C%20%5B29.728920000000002%2C%20-95.37246%5D%2C%20%5B35.788534000000006%2C%20-78.64283%5D%2C%20%5B41.82031%2C%20-88.47287%5D%2C%20%5B34.857775%2C%20-82.440432%5D%2C%20%5B25.68887%2C%20-80.35042800000001%5D%2C%20%5B29.744165000000002%2C%20-95.37634200000001%5D%2C%20%5B30.44953%2C%20-91.18101999999999%5D%2C%20%5B41.71332%2C%20-87.53529%5D%2C%20%5B37.890281%2C%20-121.569702%5D%2C%20%5B41.307984000000005%2C%20-73.03313299999999%5D%2C%20%5B45.144391%2C%20-93.498787%5D%2C%20%5B34.120852%2C%20-117.87978999999999%5D%2C%20%5B30.144177000000003%2C%20-97.696727%5D%2C%20%5B33.71332%2C%20-117.78638000000001%5D%2C%20%5B46.33972%2C%20-94.146727%5D%2C%20%5B27.462338%2C%20-82.564908%5D%2C%20%5B25.762175%2C%20-80.331523%5D%2C%20%5B42.4044%2C%20-83.21845%5D%2C%20%5B37.891811%2C%20-122.062951%5D%2C%20%5B42.350936%2C%20-87.854523%5D%2C%20%5B44.964909999999996%2C%20-93.28318%5D%2C%20%5B40.193801%2C%20-74.87880899999999%5D%2C%20%5B34.688156%2C%20-118.78678700000002%5D%2C%20%5B26.012219%2C%20-80.24834%5D%2C%20%5B42.691697999999995%2C%20-84.50291999999999%5D%2C%20%5B40.151348999999996%2C%20-79.001559%5D%2C%20%5B34.08874%2C%20-117.99432%5D%2C%20%5B35.915661%2C%20-84.10250699999999%5D%2C%20%5B33.93096%2C%20-118.291913%5D%2C%20%5B34.035552%2C%20-118.03036399999999%5D%2C%20%5B39.456223%2C%20-112.00990700000001%5D%2C%20%5B45.383331%2C%20-120.78908100000001%5D%2C%20%5B42.473112%2C%20-73.806034%5D%2C%20%5B35.47164%2C%20-97.50261%5D%2C%20%5B37.5103%2C%20-77.47465%5D%2C%20%5B38.941481%2C%20-121.079489%5D%2C%20%5B45.58011%2C%20-122.43638899999999%5D%2C%20%5B33.141112%2C%20-117.18525700000001%5D%2C%20%5B45.47929%2C%20-122.79166000000001%5D%2C%20%5B38.377302%2C%20-121.362733%5D%2C%20%5B32.78553%2C%20-96.62459%5D%2C%20%5B38.67002%2C%20-90.20211%5D%2C%20%5B37.780026%2C%20-121.18668899999999%5D%2C%20%5B35.292695%2C%20-80.85691800000001%5D%2C%20%5B32.8396%2C%20-80.02043%5D%2C%20%5B39.769277%2C%20-76.960645%5D%2C%20%5B25.700616%2C%20-80.382111%5D%2C%20%5B34.095884000000005%2C%20-117.925381%5D%2C%20%5B38.754024%2C%20-121.26438799999998%5D%2C%20%5B33.515208%2C%20-117.158318%5D%2C%20%5B33.437686%2C%20-112.113%5D%2C%20%5B34.047075%2C%20-81.10254%5D%2C%20%5B47.28309%2C%20-122.30861499999999%5D%2C%20%5B34.14748%2C%20-118.7986%5D%2C%20%5B32.462644%2C%20-93.82471899999999%5D%2C%20%5B32.32036%2C%20-81.915278%5D%2C%20%5B41.780590000000004%2C%20-87.587827%5D%2C%20%5B34.1629%2C%20-118.47211999999999%5D%2C%20%5B35.285973%2C%20-81.062828%5D%2C%20%5B41.097804%2C%20-123.69288999999999%5D%2C%20%5B33.947331%2C%20-118.279698%5D%2C%20%5B43.593582%2C%20-116.42513400000001%5D%2C%20%5B38.208259999999996%2C%20-122.15016000000001%5D%2C%20%5B27.96661%2C%20-82.45345400000001%5D%2C%20%5B44.8681%2C%20-93.35033%5D%2C%20%5B36.775597999999995%2C%20-119.784852%5D%2C%20%5B40.68874%2C%20-73.80891%5D%2C%20%5B43.84369%2C%20-122.62906000000001%5D%2C%20%5B37.1503%2C%20-113.48302%5D%2C%20%5B43.261959999999995%2C%20-112.30866999999999%5D%2C%20%5B34.063708%2C%20-117.794381%5D%2C%20%5B38.496484%2C%20-121.098831%5D%2C%20%5B42.64228%2C%20-83.23825%5D%2C%20%5B34.058521%2C%20-118.17767099999999%5D%2C%20%5B34.072038%2C%20-117.90750200000001%5D%2C%20%5B32.869956%2C%20-96.671729%5D%2C%20%5B28.59504%2C%20-81.38455%5D%2C%20%5B34.018862%2C%20-118.18921399999999%5D%2C%20%5B37.49608%2C%20-120.871987%5D%2C%20%5B33.807590000000005%2C%20-84.41696%5D%2C%20%5B33.917727%2C%20-118.10458799999999%5D%2C%20%5B37.7862%2C%20-122.39068999999999%5D%2C%20%5B39.019542%2C%20-77.10412099999999%5D%2C%20%5B42.48892%2C%20-83.08129%5D%2C%20%5B38.59278%2C%20-77.33421%5D%2C%20%5B32.129509999999996%2C%20-110.98635%5D%2C%20%5B43.0727%2C%20-70.78013%5D%2C%20%5B40.415076%2C%20-120.724999%5D%2C%20%5B34.05664%2C%20-84.59952%5D%2C%20%5B32.84641%2C%20-117.17111000000001%5D%2C%20%5B32.95203%2C%20-117.10338999999999%5D%2C%20%5B36.138999%2C%20-86.72855600000001%5D%2C%20%5B37.385859%2C%20-120.74143899999999%5D%2C%20%5B38.593537%2C%20-121.283354%5D%2C%20%5B37.07108%2C%20-121.58948999999998%5D%2C%20%5B40.71107%2C%20-111.8018%5D%2C%20%5B35.145759999999996%2C%20-106.59071999999999%5D%2C%20%5B43.09858%2C%20-124.15363%5D%2C%20%5B42.12593%2C%20-122.52655%5D%2C%20%5B40.664578999999996%2C%20-73.996888%5D%2C%20%5B40.230084999999995%2C%20-75.520416%5D%2C%20%5B40.721070000000005%2C%20-73.9747%5D%2C%20%5B48.005390000000006%2C%20-97.859596%5D%2C%20%5B41.600085%2C%20-72.671974%5D%2C%20%5B33.895313%2C%20-98.493214%5D%2C%20%5B32.925802000000004%2C%20-96.826192%5D%2C%20%5B44.03857%2C%20-121.30663600000001%5D%2C%20%5B37.55214%2C%20-122.30846000000001%5D%2C%20%5B39.93877%2C%20-83.00936%5D%2C%20%5B39.224790000000006%2C%20-84.27783000000001%5D%2C%20%5B34.02404%2C%20-117.77093%5D%2C%20%5B33.446940000000005%2C%20-111.89098%5D%2C%20%5B34.067091999999995%2C%20-117.44171200000001%5D%2C%20%5B34.02548%2C%20-117.11583%5D%2C%20%5B39.35351%2C%20-85.942429%5D%2C%20%5B29.396079999999998%2C%20-98.51548000000001%5D%2C%20%5B41.59424%2C%20-83.64398%5D%2C%20%5B32.869795%2C%20-117.195099%5D%2C%20%5B40.88517%2C%20-74.06735%5D%2C%20%5B45.41768%2C%20-122.44841000000001%5D%2C%20%5B38.2741%2C%20-122.049232%5D%2C%20%5B30.3208%2C%20-81.70904%5D%2C%20%5B42.450909%2C%20-88.305782%5D%2C%20%5B41.799146%2C%20-93.570235%5D%2C%20%5B47.777640000000005%2C%20-122.32996999999999%5D%2C%20%5B39.24183%2C%20-76.67045999999999%5D%2C%20%5B38.693794%2C%20-76.872035%5D%2C%20%5B37.609275%2C%20-120.90183200000001%5D%2C%20%5B34.028859999999995%2C%20-118.21285%5D%2C%20%5B43.511709%2C%20-123.31594%5D%2C%20%5B34.088840000000005%2C%20-118.305181%5D%2C%20%5B39.31788%2C%20-77.19808%5D%2C%20%5B32.983055%2C%20-96.712448%5D%2C%20%5B29.870815999999998%2C%20-95.329931%5D%2C%20%5B41.778999999999996%2C%20-87.63046999999999%5D%2C%20%5B29.785%2C%20-95.60438%5D%2C%20%5B25.939923%2C%20-80.273687%5D%2C%20%5B38.18405%2C%20-83.55066%5D%2C%20%5B37.334270000000004%2C%20-122.03215800000001%5D%2C%20%5B33.926992999999996%2C%20-118.214339%5D%2C%20%5B34.064522%2C%20-118.250881%5D%2C%20%5B39.26684%2C%20-77.30563000000001%5D%2C%20%5B33.983022%2C%20-117.34296599999999%5D%2C%20%5B33.989533%2C%20-118.40071299999998%5D%2C%20%5B32.77243%2C%20-117.00191000000001%5D%2C%20%5B39.10261%2C%20-84.49826%5D%2C%20%5B27.907235999999997%2C%20-82.745901%5D%2C%20%5B28.565379999999998%2C%20-81.1927%5D%2C%20%5B36.965635999999996%2C%20-120.883335%5D%2C%20%5B33.963159999999995%2C%20-118.28106000000001%5D%2C%20%5B39.092690000000005%2C%20-94.59094%5D%2C%20%5B33.471942%2C%20-112.112422%5D%2C%20%5B40.79898%2C%20-73.91903%5D%2C%20%5B43.98506%2C%20-124.10131000000001%5D%2C%20%5B38.52854%2C%20-121.46971%5D%2C%20%5B37.440191999999996%2C%20-120.78696299999999%5D%2C%20%5B35.21539%2C%20-80.83298%5D%2C%20%5B47.111711%2C%20-117.379053%5D%2C%20%5B40.689859999999996%2C%20-73.56777%5D%2C%20%5B45.539885%2C%20-122.69854099999999%5D%2C%20%5B37.63689%2C%20-121.88416000000001%5D%2C%20%5B39.939609999999995%2C%20-74.74341%5D%2C%20%5B43.258368%2C%20-124.222822%5D%2C%20%5B42.34081%2C%20-122.91333700000001%5D%2C%20%5B28.547079999999998%2C%20-81.27017%5D%2C%20%5B39.461558000000004%2C%20-75.20680899999999%5D%2C%20%5B37.348045%2C%20-122.05978300000001%5D%2C%20%5B34.120767%2C%20-117.89013999999999%5D%2C%20%5B38.47415%2C%20-121.42257%5D%2C%20%5B46.64389%2C%20-122.95464%5D%2C%20%5B44.970890000000004%2C%20-93.42829%5D%2C%20%5B40.96707%2C%20-80.39997%5D%2C%20%5B43.071411%2C%20-73.751121%5D%2C%20%5B29.476%2C%20-95.40590999999999%5D%2C%20%5B34.340804%2C%20-117.458385%5D%2C%20%5B42.912737%2C%20-85.639189%5D%2C%20%5B35.87993%2C%20-78.57297%5D%2C%20%5B37.86497%2C%20-121.66731000000001%5D%2C%20%5B47.019%2C%20-122.90587%5D%2C%20%5B39.899006%2C%20-75.109913%5D%2C%20%5B33.662313%2C%20-84.395202%5D%2C%20%5B45.065384%2C%20-94.114363%5D%2C%20%5B27.278834000000003%2C%20-80.361331%5D%2C%20%5B41.72804%2C%20-72.61339%5D%2C%20%5B44.262091%2C%20-121.119124%5D%2C%20%5B47.462340000000005%2C%20-122.25001%5D%2C%20%5B32.64488%2C%20-96.85063000000001%5D%2C%20%5B41.486209%2C%20-88.197537%5D%2C%20%5B39.60127%2C%20-86.51544%5D%2C%20%5B25.780831%2C%20-80.320893%5D%2C%20%5B37.227712%2C%20-121.97874499999999%5D%2C%20%5B39.144597999999995%2C%20-94.669393%5D%2C%20%5B38.756184000000005%2C%20-76.993312%5D%2C%20%5B33.663251%2C%20-117.79512199999999%5D%2C%20%5B38.882212%2C%20-77.028604%5D%2C%20%5B31.745838%2C%20-106.28468400000001%5D%2C%20%5B37.78523%2C%20-121.30605%5D%2C%20%5B32.707309%2C%20-117.14766999999999%5D%2C%20%5B30.151594%2C%20-82.03288%5D%2C%20%5B37.810520000000004%2C%20-122.36465%5D%2C%20%5B37.966256%2C%20-122.309405%5D%2C%20%5B34.0368%2C%20-118.377555%5D%2C%20%5B34.02469%2C%20-117.75713999999999%5D%2C%20%5B30.26101%2C%20-82.7513%5D%2C%20%5B34.0286%2C%20-118.25403999999999%5D%2C%20%5B41.4758%2C%20-81.66036%5D%2C%20%5B33.750628000000006%2C%20-84.381023%5D%2C%20%5B42.7495%2C%20-73.77192%5D%2C%20%5B30.33486%2C%20-97.3617%5D%2C%20%5B40.727037%2C%20-73.888818%5D%2C%20%5B47.33054%2C%20-122.15916999999999%5D%2C%20%5B33.814203000000006%2C%20-118.176322%5D%2C%20%5B34.04626%2C%20-118.16923%5D%2C%20%5B35.849815%2C%20-78.580396%5D%2C%20%5B35.278240000000004%2C%20-80.83452%5D%2C%20%5B42.75577%2C%20-73.61898000000001%5D%2C%20%5B38.082991%2C%20-122.233205%5D%2C%20%5B25.92825%2C%20-80.208931%5D%2C%20%5B38.105058%2C%20-81.385711%5D%2C%20%5B42.27551%2C%20-83.16015%5D%2C%20%5B34.135556%2C%20-117.994977%5D%2C%20%5B39.735440000000004%2C%20-119.6881%5D%2C%20%5B46.163164%2C%20-93.759276%5D%2C%20%5B40.13565%2C%20-74.98945%5D%2C%20%5B25.811613%2C%20-80.313412%5D%2C%20%5B30.6794%2C%20-84.70923499999999%5D%2C%20%5B34.171267%2C%20-118.52210600000001%5D%2C%20%5B28.551696999999997%2C%20-81.364434%5D%2C%20%5B42.736505%2C%20-83.38025400000001%5D%2C%20%5B34.110419%2C%20-118.33440700000001%5D%2C%20%5B38.25165%2C%20-85.63999%5D%2C%20%5B42.350253%2C%20-83.21625999999999%5D%2C%20%5B34.0111%2C%20-117.43173999999999%5D%2C%20%5B42.31913%2C%20-83.16642%5D%2C%20%5B39.091190000000005%2C%20-77.522739%5D%2C%20%5B37.166685%2C%20-122.36111000000001%5D%2C%20%5B34.01079%2C%20-117.96286%5D%2C%20%5B30.27849%2C%20-97.73%5D%2C%20%5B29.705121000000002%2C%20-95.27456%5D%2C%20%5B33.50911%2C%20-84.23495%5D%2C%20%5B38.871806%2C%20-76.98214300000001%5D%2C%20%5B40.56227%2C%20-111.9578%5D%2C%20%5B40.593477%2C%20-74.322529%5D%2C%20%5B30.28707%2C%20-81.52082%5D%2C%20%5B33.90437%2C%20-117.46042%5D%2C%20%5B44.590379999999996%2C%20-123.06177%5D%2C%20%5B39.096140999999996%2C%20-94.58483299999999%5D%2C%20%5B43.219925%2C%20-77.914084%5D%2C%20%5B29.63144%2C%20-95.38728%5D%2C%20%5B47.59203%2C%20-122.32808999999999%5D%2C%20%5B37.354277%2C%20-121.837896%5D%2C%20%5B40.437794%2C%20-79.73940400000001%5D%2C%20%5B33.971861%2C%20-118.28098600000001%5D%2C%20%5B34.04012%2C%20-81.1139%5D%2C%20%5B25.989091000000002%2C%20-80.16596899999999%5D%2C%20%5B33.7428%2C%20-118.00271000000001%5D%2C%20%5B35.17201%2C%20-80.96082%5D%2C%20%5B34.365010999999996%2C%20-118.50346599999999%5D%2C%20%5B38.543845000000005%2C%20-121.473781%5D%2C%20%5B29.73286%2C%20-95.37476%5D%2C%20%5B43.83977%2C%20-120.69819%5D%2C%20%5B37.814799%2C%20-120.311724%5D%2C%20%5B45.06483%2C%20-93.22716%5D%2C%20%5B41.88262%2C%20-93.57131%5D%2C%20%5B39.19735%2C%20-84.3762%5D%2C%20%5B44.269599%2C%20-121.17646299999998%5D%2C%20%5B28.4846%2C%20-81.24114%5D%2C%20%5B33.825357000000004%2C%20-118.21844899999999%5D%2C%20%5B40.65047%2C%20-73.86824%5D%2C%20%5B33.94477%2C%20-80.87304%5D%2C%20%5B41.93103%2C%20-88.12018%5D%2C%20%5B28.48991%2C%20-81.429389%5D%2C%20%5B34.147335999999996%2C%20-118.161308%5D%2C%20%5B34.643014%2C%20-92.438396%5D%2C%20%5B35.23957%2C%20-80.82731%5D%2C%20%5B35.722038%2C%20-120.697718%5D%2C%20%5B34.271570000000004%2C%20-118.34903999999999%5D%2C%20%5B43.662986%2C%20-116.35315800000001%5D%2C%20%5B47.5776%2C%20-122.17388999999999%5D%2C%20%5B27.037813%2C%20-82.238357%5D%2C%20%5B37.991231%2C%20-122.529724%5D%2C%20%5B44.99924%2C%20-93.34947%5D%2C%20%5B33.64655%2C%20-117.73676%5D%2C%20%5B40.227%2C%20-111.67826000000001%5D%2C%20%5B38.749303000000005%2C%20-77.184998%5D%2C%20%5B39.278420000000004%2C%20-76.72592%5D%2C%20%5B33.94745%2C%20-118.27932%5D%2C%20%5B34.8905%2C%20-82.4073%5D%2C%20%5B34.135%2C%20-117.63073999999999%5D%2C%20%5B32.74821%2C%20-96.76959000000001%5D%2C%20%5B38.33497%2C%20-81.59615%5D%2C%20%5B41.85886%2C%20-88.102518%5D%2C%20%5B35.25327%2C%20-82.217742%5D%2C%20%5B36.06463%2C%20-79.46540999999999%5D%2C%20%5B42.48664%2C%20-90.74682%5D%2C%20%5B37.54343%2C%20-122.0203%5D%2C%20%5B36.105183000000004%2C%20-119.043484%5D%2C%20%5B40.010011999999996%2C%20-75.063731%5D%2C%20%5B41.760529999999996%2C%20-72.65326999999999%5D%2C%20%5B39.115429999999996%2C%20-84.50003000000001%5D%2C%20%5B34.239979999999996%2C%20-119.182%5D%2C%20%5B29.72523%2C%20-95.46021999999999%5D%2C%20%5B39.933997999999995%2C%20-75.08224200000001%5D%2C%20%5B33.071892999999996%2C%20-116.900318%5D%2C%20%5B47.643409999999996%2C%20-122.30838%5D%2C%20%5B42.344838%2C%20-122.87483799999998%5D%2C%20%5B41.738465999999995%2C%20-72.62901600000001%5D%2C%20%5B40.40797%2C%20-74.23572%5D%2C%20%5B40.605933%2C%20-111.904829%5D%2C%20%5B41.744045%2C%20-87.837098%5D%2C%20%5B41.83247%2C%20-87.69394%5D%2C%20%5B34.21678%2C%20-118.40892%5D%2C%20%5B37.98774%2C%20-121.75091%5D%2C%20%5B34.40994%2C%20-118.72605%5D%2C%20%5B37.32519%2C%20-80.03276%5D%2C%20%5B32.528259999999996%2C%20-84.97584%5D%2C%20%5B34.11681%2C%20-118.26903999999999%5D%2C%20%5B35.170077%2C%20-80.744579%5D%2C%20%5B45.542509%2C%20-122.48646200000002%5D%2C%20%5B34.069109999999995%2C%20-117.60705%5D%2C%20%5B35.0878%2C%20-80.84525%5D%2C%20%5B43.6849%2C%20-93.34475%5D%2C%20%5B29.439078000000002%2C%20-98.451071%5D%2C%20%5B42.973397%2C%20-73.802429%5D%2C%20%5B37.720067%2C%20-121.65861299999999%5D%2C%20%5B40.731003%2C%20-74.111628%5D%2C%20%5B25.930574%2C%20-80.298108%5D%2C%20%5B36.714765%2C%20-79.91566800000001%5D%2C%20%5B34.047022%2C%20-118.446575%5D%2C%20%5B47.924777%2C%20-122.20370600000001%5D%2C%20%5B39.01708%2C%20-77.10181999999999%5D%2C%20%5B37.750153000000005%2C%20-121.13865700000001%5D%2C%20%5B39.770872999999995%2C%20-104.94048000000001%5D%2C%20%5B31.357308000000003%2C%20-89.346195%5D%2C%20%5B39.779990000000005%2C%20-104.96556299999999%5D%2C%20%5B38.777956%2C%20-77.079961%5D%2C%20%5B35.018601000000004%2C%20-85.249484%5D%2C%20%5B33.00432%2C%20-96.70415%5D%2C%20%5B43.01843%2C%20-83.65468%5D%2C%20%5B38.49299%2C%20-121.44256999999999%5D%2C%20%5B28.08799%2C%20-82.45137%5D%2C%20%5B33.985125%2C%20-118.278299%5D%2C%20%5B38.337113%2C%20-122.97740300000001%5D%2C%20%5B40.72417%2C%20-111.94255%5D%2C%20%5B41.80986%2C%20-88.04486%5D%2C%20%5B39.90801%2C%20-104.82624%5D%2C%20%5B33.550402000000005%2C%20-84.567611%5D%2C%20%5B37.823427%2C%20-122.20881499999999%5D%2C%20%5B30.423693%2C%20-87.344787%5D%2C%20%5B40.74194%2C%20-73.72838%5D%2C%20%5B44.734789%2C%20-122.15031299999998%5D%2C%20%5B41.122541999999996%2C%20-73.353615%5D%2C%20%5B38.68338%2C%20-90.22561%5D%2C%20%5B39.777623%2C%20-86.141059%5D%2C%20%5B32.797544%2C%20-96.68613%5D%2C%20%5B30.443841%2C%20-87.250447%5D%2C%20%5B36.26923%2C%20-86.75572%5D%2C%20%5B34.030609999999996%2C%20-117.62383%5D%2C%20%5B43.099297%2C%20-75.304294%5D%2C%20%5B25.728759%2C%20-80.429688%5D%2C%20%5B29.7843%2C%20-95.56055%5D%2C%20%5B28.552970000000002%2C%20-81.3956%5D%2C%20%5B30.340020000000003%2C%20-83.09628000000001%5D%2C%20%5B42.24481%2C%20-83.19341%5D%2C%20%5B42.932122%2C%20-85.66691%5D%2C%20%5B34.183611%2C%20-118.89138899999999%5D%2C%20%5B46.008407%2C%20-92.933081%5D%2C%20%5B32.65084%2C%20-117.104198%5D%2C%20%5B35.348009000000005%2C%20-80.84580600000001%5D%2C%20%5B33.88043%2C%20-118.10388%5D%2C%20%5B33.61958%2C%20-111.87357%5D%2C%20%5B29.73276%2C%20-95.3868%5D%2C%20%5B43.017715%2C%20-83.692214%5D%2C%20%5B45.435140999999994%2C%20-122.761788%5D%2C%20%5B28.568399%2C%20-81.282596%5D%2C%20%5B34.07948%2C%20-84.65964%5D%2C%20%5B42.47672%2C%20-83.111897%5D%2C%20%5B40.2033%2C%20-105.14482%5D%2C%20%5B43.034952000000004%2C%20-124.02910800000001%5D%2C%20%5B38.642742%2C%20-121.42823500000002%5D%2C%20%5B34.459171000000005%2C%20-117.355122%5D%2C%20%5B33.581331%2C%20-117.67186699999999%5D%2C%20%5B40.00032%2C%20-75.08377%5D%2C%20%5B34.09547%2C%20-81.17067%5D%2C%20%5B44.799929999999996%2C%20-122.74351000000001%5D%2C%20%5B33.463572%2C%20-112.18649199999999%5D%2C%20%5B35.794053000000005%2C%20-78.787185%5D%2C%20%5B33.973984%2C%20-81.156811%5D%2C%20%5B39.920311%2C%20-83.013139%5D%2C%20%5B39.7042%2C%20-86.09976%5D%2C%20%5B41.81413%2C%20-71.3671%5D%2C%20%5B32.839774%2C%20-117.162075%5D%2C%20%5B42.78353%2C%20-84.41396999999999%5D%2C%20%5B42.92705%2C%20-85.59928000000001%5D%2C%20%5B37.82745%2C%20-85.7211%5D%2C%20%5B44.056333%2C%20-121.278724%5D%2C%20%5B38.617746000000004%2C%20-121.383078%5D%2C%20%5B42.05687%2C%20-88.00295%5D%2C%20%5B35.840001%2C%20-78.677142%5D%2C%20%5B33.63136%2C%20-84.41223000000001%5D%2C%20%5B39.83899%2C%20-82.56864%5D%2C%20%5B25.810437%2C%20-80.142889%5D%2C%20%5B41.664089000000004%2C%20-72.84689300000001%5D%2C%20%5B43.970327000000005%2C%20-121.34659199999999%5D%2C%20%5B39.77081%2C%20-104.99113999999999%5D%2C%20%5B39.84495%2C%20-104.98483999999999%5D%2C%20%5B41.38615%2C%20-81.65274000000001%5D%2C%20%5B35.252378%2C%20-118.92764199999999%5D%2C%20%5B34.071849%2C%20-117.88775700000001%5D%2C%20%5B38.727395%2C%20-77.20075600000001%5D%2C%20%5B39.676587%2C%20-76.363342%5D%2C%20%5B37.549323%2C%20-122.292495%5D%2C%20%5B28.449924%2C%20-81.479136%5D%2C%20%5B37.668459999999996%2C%20-77.460868%5D%2C%20%5B44.937739%2C%20-93.274546%5D%2C%20%5B37.364215%2C%20-121.901491%5D%2C%20%5B26.0229%2C%20-80.24876%5D%2C%20%5B40.63043%2C%20-111.87786000000001%5D%2C%20%5B36.05669%2C%20-79.74732%5D%2C%20%5B34.119554%2C%20-117.76623799999999%5D%2C%20%5B38.990140000000004%2C%20-84.64395%5D%2C%20%5B43.661481%2C%20-123.73793%5D%2C%20%5B25.69891%2C%20-80.38217900000001%5D%2C%20%5B26.603053999999997%2C%20-81.629212%5D%2C%20%5B30.22035%2C%20-97.83662%5D%2C%20%5B26.599866%2C%20-81.799276%5D%2C%20%5B37.3172%2C%20-121.93203000000001%5D%2C%20%5B30.281370000000003%2C%20-82.04953%5D%2C%20%5B39.127546%2C%20-121.558578%5D%2C%20%5B44.027564%2C%20-93.246711%5D%2C%20%5B38.978794%2C%20-94.711364%5D%2C%20%5B39.34344%2C%20-76.54401%5D%2C%20%5B37.48372%2C%20-77.121742%5D%2C%20%5B29.012434999999996%2C%20-80.988003%5D%2C%20%5B28.410428000000003%2C%20-81.42633199999999%5D%2C%20%5B41.19256%2C%20-112.00388999999998%5D%2C%20%5B46.54599%2C%20-123.387552%5D%2C%20%5B33.740534000000004%2C%20-117.83381100000001%5D%2C%20%5B32.768749%2C%20-96.805086%5D%2C%20%5B30.460201%2C%20-81.706761%5D%2C%20%5B44.855033%2C%20-117.81613999999999%5D%2C%20%5B40.482362%2C%20-111.89668600000002%5D%2C%20%5B47.535784%2C%20-120.514127%5D%2C%20%5B40.25117%2C%20-76.03606500000001%5D%2C%20%5B32.1352%2C%20-81.24001%5D%2C%20%5B42.10034%2C%20-76.04433%5D%2C%20%5B39.7802%2C%20-104.93225%5D%2C%20%5B33.03154%2C%20-96.70778%5D%2C%20%5B36.1361%2C%20-80.23944%5D%2C%20%5B41.218782%2C%20-73.81069000000001%5D%2C%20%5B43.514874%2C%20-123.51806299999998%5D%2C%20%5B34.145575%2C%20-117.306008%5D%2C%20%5B44.123670000000004%2C%20-121.28537%5D%2C%20%5B43.09288%2C%20-71.47553%5D%2C%20%5B35.057169%2C%20-80.957576%5D%2C%20%5B33.910967%2C%20-118.16896499999999%5D%2C%20%5B29.020020000000002%2C%20-82.15576%5D%2C%20%5B44.862037%2C%20-93.227437%5D%2C%20%5B37.403704%2C%20-77.674708%5D%2C%20%5B33.479997999999995%2C%20-112.11304399999999%5D%2C%20%5B38.5229%2C%20-90.39564%5D%2C%20%5B28.663854999999998%2C%20-82.146266%5D%2C%20%5B38.605252%2C%20-121.47571200000002%5D%2C%20%5B33.826786%2C%20-118.21615800000001%5D%2C%20%5B37.80827%2C%20-122.36701000000001%5D%2C%20%5B34.042435%2C%20-81.086686%5D%2C%20%5B42.951747%2C%20-78.758615%5D%2C%20%5B29.76363%2C%20-95.36994%5D%2C%20%5B39.98935%2C%20-75.20638000000001%5D%2C%20%5B31.771317%2C%20-106.445268%5D%2C%20%5B30.657976%2C%20-81.630651%5D%2C%20%5B39.832665000000006%2C%20-75.42408499999999%5D%2C%20%5B35.834920000000004%2C%20-78.60642%5D%2C%20%5B37.352234%2C%20-122.05096699999999%5D%2C%20%5B34.0734%2C%20-117.29543999999999%5D%2C%20%5B40.783639%2C%20-124.09263600000001%5D%2C%20%5B35.18592%2C%20-80.72998%5D%2C%20%5B33.97862%2C%20-117.70227299999999%5D%2C%20%5B40.73525%2C%20-73.91933%5D%2C%20%5B38.881634000000005%2C%20-78.52189399999999%5D%2C%20%5B25.671776%2C%20-80.384134%5D%2C%20%5B40.430665999999995%2C%20-111.890782%5D%2C%20%5B34.150696999999994%2C%20-118.66023600000001%5D%2C%20%5B37.88178%2C%20-122.30826%5D%2C%20%5B41.82902%2C%20-85.67788%5D%2C%20%5B33.541128%2C%20-116.74348%5D%2C%20%5B40.117883%2C%20-75.351178%5D%2C%20%5B41.96676%2C%20-87.68883000000001%5D%2C%20%5B36.210781%2C%20-119.11814199999999%5D%2C%20%5B43.787094%2C%20-122.54151399999999%5D%2C%20%5B38.385042999999996%2C%20-78.93558399999999%5D%2C%20%5B39.32202%2C%20-76.61448%5D%2C%20%5B42.22617%2C%20-83.39308%5D%2C%20%5B38.6891%2C%20-120.758748%5D%2C%20%5B33.75285%2C%20-117.4563%5D%2C%20%5B38.93439%2C%20-94.681398%5D%2C%20%5B40.66418%2C%20-73.78996%5D%2C%20%5B39.77145%2C%20-84.19169000000001%5D%2C%20%5B38.844769%2C%20-77.077976%5D%2C%20%5B33.70541%2C%20-117.85478%5D%2C%20%5B34.109868%2C%20-118.26185100000001%5D%2C%20%5B33.868759999999995%2C%20-118.19536000000001%5D%2C%20%5B39.306471%2C%20-123.797602%5D%2C%20%5B38.639278999999995%2C%20-121.200322%5D%2C%20%5B40.838831%2C%20-73.933171%5D%2C%20%5B25.686176%2C%20-80.39388199999999%5D%2C%20%5B28.196509999999996%2C%20-81.16366%5D%2C%20%5B42.03516%2C%20-88.31191%5D%2C%20%5B40.914629999999995%2C%20-111.89147%5D%2C%20%5B39.453276%2C%20-111.9079%5D%2C%20%5B32.71983%2C%20-117.11757%5D%2C%20%5B45.29375%2C%20-118.037%5D%2C%20%5B33.835029999999996%2C%20-118.08627%5D%2C%20%5B42.736827000000005%2C%20-121.83976399999999%5D%2C%20%5B38.59391%2C%20-121.44458%5D%2C%20%5B41.38732%2C%20-73.47631%5D%2C%20%5B40.73118%2C%20-113.4738%5D%2C%20%5B45.463303%2C%20-122.699679%5D%2C%20%5B38.629759%2C%20-121.40221799999999%5D%2C%20%5B26.441953%2C%20-81.810356%5D%2C%20%5B33.427040000000005%2C%20-111.97808%5D%2C%20%5B36.844788%2C%20-76.17043199999999%5D%2C%20%5B41.94063%2C%20-88.15043%5D%2C%20%5B38.760267999999996%2C%20-77.05960999999999%5D%2C%20%5B45.50148%2C%20-122.65579699999999%5D%2C%20%5B40.063072%2C%20-76.281327%5D%2C%20%5B45.486540000000005%2C%20-122.79372%5D%2C%20%5B33.847229999999996%2C%20-117.85866999999999%5D%2C%20%5B34.032990000000005%2C%20-118.13831%5D%2C%20%5B42.49641%2C%20-83.35094000000001%5D%2C%20%5B30.183118%2C%20-97.763638%5D%2C%20%5B40.22717%2C%20-111.67805%5D%2C%20%5B35.23527%2C%20-80.84049%5D%2C%20%5B37.15368%2C%20-112.056339%5D%2C%20%5B34.581439%2C%20-118.133858%5D%2C%20%5B34.109053%2C%20-117.89708200000001%5D%2C%20%5B38.42221%2C%20-77.46974%5D%2C%20%5B34.320664%2C%20-118.495922%5D%2C%20%5B29.724176%2C%20-95.266289%5D%2C%20%5B34.103978000000005%2C%20-118.191171%5D%2C%20%5B48.281240000000004%2C%20-95.40098%5D%2C%20%5B34.076415000000004%2C%20-118.27888999999999%5D%2C%20%5B42.70046%2C%20-71.44921%5D%2C%20%5B41.87427%2C%20-87.70957%5D%2C%20%5B45.63272%2C%20-93.98555999999999%5D%2C%20%5B33.931696%2C%20-118.309114%5D%2C%20%5B36.903859000000004%2C%20-121.639155%5D%2C%20%5B40.5643%2C%20-111.89945%5D%2C%20%5B30.188294%2C%20-97.772194%5D%2C%20%5B39.76447%2C%20-105.00153%5D%2C%20%5B33.879870000000004%2C%20-117.65541999999999%5D%2C%20%5B44.968317%2C%20-93.088585%5D%2C%20%5B42.08444%2C%20-124.32555%5D%2C%20%5B35.675528%2C%20-120.34755700000001%5D%2C%20%5B36.57124%2C%20-121.91266999999999%5D%2C%20%5B33.90061%2C%20-118.32651299999999%5D%2C%20%5B41.77347%2C%20-87.98425%5D%2C%20%5B32.920590000000004%2C%20-96.75061%5D%2C%20%5B32.37894%2C%20-93.70614599999999%5D%2C%20%5B43.191359999999996%2C%20-90.204542%5D%2C%20%5B34.04965%2C%20-118.44876000000001%5D%2C%20%5B36.095636%2C%20-86.73773100000001%5D%2C%20%5B37.89687%2C%20-122.10223%5D%2C%20%5B40.464076%2C%20-111.913147%5D%2C%20%5B33.817508000000004%2C%20-118.18920800000001%5D%2C%20%5B29.93951%2C%20-90.06700000000001%5D%2C%20%5B25.920579999999998%2C%20-80.21030999999999%5D%2C%20%5B33.963959%2C%20-117.32493899999999%5D%2C%20%5B33.71134%2C%20-84.21434%5D%2C%20%5B40.6881%2C%20-74.20403%5D%2C%20%5B32.83764%2C%20-117.15793000000001%5D%2C%20%5B28.556913%2C%20-81.407864%5D%2C%20%5B33.985186%2C%20-117.345193%5D%2C%20%5B45.37788%2C%20-94.00008000000001%5D%2C%20%5B28.392874%2C%20-81.37246999999999%5D%2C%20%5B33.805192%2C%20-84.492707%5D%2C%20%5B41.77237%2C%20-88.03665%5D%2C%20%5B33.640570000000004%2C%20-112.0309%5D%2C%20%5B40.534703%2C%20-111.892351%5D%2C%20%5B37.51619%2C%20-77.5295%5D%2C%20%5B37.487619%2C%20-122.206034%5D%2C%20%5B39.9035%2C%20-75.28322%5D%2C%20%5B35.32138%2C%20-80.73396%5D%2C%20%5B41.152694%2C%20-112.025449%5D%2C%20%5B34.98965%2C%20-85.289811%5D%2C%20%5B37.99485%2C%20-122.29106000000002%5D%2C%20%5B46.35472%2C%20-95.32176%5D%2C%20%5B32.92481%2C%20-96.7862%5D%2C%20%5B39.617458%2C%20-76.132408%5D%2C%20%5B40.87168%2C%20-74.19094%5D%2C%20%5B41.915368%2C%20-88.208067%5D%2C%20%5B45.542687%2C%20-122.49575%5D%2C%20%5B36.904486%2C%20-121.75041%5D%2C%20%5B41.88201%2C%20-87.64598000000001%5D%2C%20%5B39.32768%2C%20-76.55474%5D%2C%20%5B40.73359%2C%20-74.12665%5D%2C%20%5B36.706782000000004%2C%20-119.74563799999999%5D%2C%20%5B37.27928%2C%20-121.86451000000001%5D%2C%20%5B37.575070000000004%2C%20-122.0469%5D%2C%20%5B32.185971%2C%20-111.0028%5D%2C%20%5B40.69119%2C%20-74.57374%5D%2C%20%5B28.549228000000003%2C%20-81.468912%5D%2C%20%5B42.498509999999996%2C%20-71.11794%5D%2C%20%5B40.35649%2C%20-111.5767%5D%2C%20%5B41.41393%2C%20-87.32135%5D%2C%20%5B30.466409999999996%2C%20-91.01003%5D%2C%20%5B33.499953999999995%2C%20-86.789412%5D%2C%20%5B37.732288%2C%20-122.41490800000001%5D%2C%20%5B42.931074%2C%20-71.281529%5D%2C%20%5B37.332962%2C%20-119.65093200000001%5D%2C%20%5B34.433539%2C%20-118.38568500000001%5D%2C%20%5B45.010109%2C%20-93.191991%5D%2C%20%5B34.121666%2C%20-117.911172%5D%2C%20%5B32.838512%2C%20-117.2309%5D%2C%20%5B37.32314%2C%20-121.109%5D%2C%20%5B33.99557%2C%20-118.17683000000001%5D%2C%20%5B47.79681%2C%20-122.21835%5D%2C%20%5B33.415059%2C%20-111.89150900000001%5D%2C%20%5B33.469387%2C%20-80.476602%5D%2C%20%5B29.047548%2C%20-81.989294%5D%2C%20%5B34.015819%2C%20-117.74006499999999%5D%2C%20%5B44.796355%2C%20-68.887539%5D%2C%20%5B39.2678%2C%20-84.41318000000001%5D%2C%20%5B32.954159999999995%2C%20-117.24465%5D%2C%20%5B40.981482%2C%20-111.89765%5D%5D%2C%0A%20%20%20%20%20%20%20%20%20%20%20%20%20%20%20%20%7B%0A%20%20%20%20%20%20%20%20%20%20%20%20%20%20%20%20%20%20%20%20minOpacity%3A%200.5%2C%0A%20%20%20%20%20%20%20%20%20%20%20%20%20%20%20%20%20%20%20%20maxZoom%3A%2018%2C%0A%20%20%20%20%20%20%20%20%20%20%20%20%20%20%20%20%20%20%20%20max%3A%201.0%2C%0A%20%20%20%20%20%20%20%20%20%20%20%20%20%20%20%20%20%20%20%20radius%3A%2025%2C%0A%20%20%20%20%20%20%20%20%20%20%20%20%20%20%20%20%20%20%20%20blur%3A%2015%2C%0A%20%20%20%20%20%20%20%20%20%20%20%20%20%20%20%20%20%20%20%20gradient%3A%20null%0A%20%20%20%20%20%20%20%20%20%20%20%20%20%20%20%20%20%20%20%20%7D%29%0A%20%20%20%20%20%20%20%20%20%20%20%20%20%20%20%20.addTo%28map_be181c30c3cc459cbc835e232030db90%29%3B%0A%20%20%20%20%20%20%20%20%0A%3C/script%3E onload=\"this.contentDocument.open();this.contentDocument.write(    decodeURIComponent(this.getAttribute('data-html')));this.contentDocument.close();\" allowfullscreen webkitallowfullscreen mozallowfullscreen></iframe></div></div>"
            ],
            "text/plain": [
              "<folium.folium.Map at 0x7fe83323ca10>"
            ]
          },
          "metadata": {},
          "execution_count": 46
        }
      ]
    },
    {
      "cell_type": "code",
      "source": [
        ""
      ],
      "metadata": {
        "id": "44SiRUb-WQXP"
      },
      "execution_count": null,
      "outputs": []
    },
    {
      "cell_type": "code",
      "source": [
        ""
      ],
      "metadata": {
        "id": "tHtPz4unWQT2"
      },
      "execution_count": null,
      "outputs": []
    },
    {
      "cell_type": "code",
      "source": [
        ""
      ],
      "metadata": {
        "id": "fuMXPewgcLw6"
      },
      "execution_count": null,
      "outputs": []
    },
    {
      "cell_type": "code",
      "source": [
        ""
      ],
      "metadata": {
        "id": "PHYl7ZKScMHW"
      },
      "execution_count": null,
      "outputs": []
    },
    {
      "cell_type": "code",
      "source": [
        ""
      ],
      "metadata": {
        "id": "hdvZOIkgcL2K"
      },
      "execution_count": null,
      "outputs": []
    }
  ],
  "metadata": {
    "kernelspec": {
      "display_name": "Python 3",
      "language": "python",
      "name": "python3"
    },
    "language_info": {
      "codemirror_mode": {
        "name": "ipython",
        "version": 3
      },
      "file_extension": ".py",
      "mimetype": "text/x-python",
      "name": "python",
      "nbconvert_exporter": "python",
      "pygments_lexer": "ipython3",
      "version": "3.7.6"
    },
    "colab": {
      "name": "us-accidents-analysis.ipynb",
      "provenance": []
    }
  },
  "nbformat": 4,
  "nbformat_minor": 0
}